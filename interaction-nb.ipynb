{
 "cells": [
  {
   "cell_type": "code",
   "execution_count": 1,
   "metadata": {},
   "outputs": [
    {
     "name": "stderr",
     "output_type": "stream",
     "text": [
      "/Users/mpandit/Desktop/code/li-projects/darwin-tabular-analysis_trunk/3.7/lib/python3.7/site-packages/pandas/compat/__init__.py:97: UserWarning: Could not import the lzma module. Your installed Python is incomplete. Attempting to use lzma compression will result in a RuntimeError.\n",
      "  warnings.warn(msg)\n"
     ]
    }
   ],
   "source": [
    "from vega_datasets import data\n",
    "\n",
    "source = data.seattle_weather()\n"
   ]
  },
  {
   "cell_type": "code",
   "execution_count": 3,
   "metadata": {},
   "outputs": [],
   "source": [
    "import altair as alt"
   ]
  },
  {
   "cell_type": "code",
   "execution_count": 6,
   "metadata": {},
   "outputs": [
    {
     "data": {
      "text/plain": [
       "RendererRegistry.enable('jupyterlab')"
      ]
     },
     "execution_count": 6,
     "metadata": {},
     "output_type": "execute_result"
    }
   ],
   "source": [
    "alt.renderers.enable('jupyterlab')"
   ]
  },
  {
   "cell_type": "code",
   "execution_count": 7,
   "metadata": {},
   "outputs": [],
   "source": [
    "\n",
    "scale = alt.Scale(domain=['sun', 'fog', 'drizzle', 'rain', 'snow'],\n",
    "                  range=['#e7ba52', '#a7a7a7', '#aec7e8', '#1f77b4', '#9467bd'])\n",
    "color = alt.Color('weather:N', scale=scale)\n",
    "\n",
    "# We create two selections:\n",
    "# - a brush that is active on the top panel\n",
    "# - a multi-click that is active on the bottom panel\n",
    "brush = alt.selection_interval(encodings=['x'])\n",
    "click = alt.selection_multi(encodings=['color'])\n",
    "\n",
    "# Top panel is scatter plot of temperature vs time\n",
    "points = alt.Chart().mark_point().encode(\n",
    "    alt.X('monthdate(date):T', title='Date'),\n",
    "    alt.Y('temp_max:Q',\n",
    "        title='Maximum Daily Temperature (C)',\n",
    "        scale=alt.Scale(domain=[-5, 40])\n",
    "    ),\n",
    "    color=alt.condition(brush, color, alt.value('lightgray')),\n",
    "    size=alt.Size('precipitation:Q', scale=alt.Scale(range=[5, 200]))\n",
    ").properties(\n",
    "    width=550,\n",
    "    height=300\n",
    ").add_selection(\n",
    "    brush\n",
    ").transform_filter(\n",
    "    click\n",
    ")\n",
    "\n"
   ]
  },
  {
   "cell_type": "code",
   "execution_count": 8,
   "metadata": {},
   "outputs": [
    {
     "data": {
      "application/vnd.vegalite.v4+json": {
       "$schema": "https://vega.github.io/schema/vega-lite/v4.8.1.json",
       "config": {
        "view": {
         "continuousHeight": 300,
         "continuousWidth": 400
        }
       },
       "data": {
        "name": "data-830c39fec90146253fb06a06c26374ef"
       },
       "datasets": {
        "data-830c39fec90146253fb06a06c26374ef": [
         {
          "date": "2012-01-01T00:00:00",
          "precipitation": 0,
          "temp_max": 12.8,
          "temp_min": 5,
          "weather": "drizzle",
          "wind": 4.7
         },
         {
          "date": "2012-01-02T00:00:00",
          "precipitation": 10.9,
          "temp_max": 10.6,
          "temp_min": 2.8,
          "weather": "rain",
          "wind": 4.5
         },
         {
          "date": "2012-01-03T00:00:00",
          "precipitation": 0.8,
          "temp_max": 11.7,
          "temp_min": 7.2,
          "weather": "rain",
          "wind": 2.3
         },
         {
          "date": "2012-01-04T00:00:00",
          "precipitation": 20.3,
          "temp_max": 12.2,
          "temp_min": 5.6,
          "weather": "rain",
          "wind": 4.7
         },
         {
          "date": "2012-01-05T00:00:00",
          "precipitation": 1.3,
          "temp_max": 8.9,
          "temp_min": 2.8,
          "weather": "rain",
          "wind": 6.1
         },
         {
          "date": "2012-01-06T00:00:00",
          "precipitation": 2.5,
          "temp_max": 4.4,
          "temp_min": 2.2,
          "weather": "rain",
          "wind": 2.2
         },
         {
          "date": "2012-01-07T00:00:00",
          "precipitation": 0,
          "temp_max": 7.2,
          "temp_min": 2.8,
          "weather": "rain",
          "wind": 2.3
         },
         {
          "date": "2012-01-08T00:00:00",
          "precipitation": 0,
          "temp_max": 10,
          "temp_min": 2.8,
          "weather": "sun",
          "wind": 2
         },
         {
          "date": "2012-01-09T00:00:00",
          "precipitation": 4.3,
          "temp_max": 9.4,
          "temp_min": 5,
          "weather": "rain",
          "wind": 3.4
         },
         {
          "date": "2012-01-10T00:00:00",
          "precipitation": 1,
          "temp_max": 6.1,
          "temp_min": 0.6,
          "weather": "rain",
          "wind": 3.4
         },
         {
          "date": "2012-01-11T00:00:00",
          "precipitation": 0,
          "temp_max": 6.1,
          "temp_min": -1.1,
          "weather": "sun",
          "wind": 5.1
         },
         {
          "date": "2012-01-12T00:00:00",
          "precipitation": 0,
          "temp_max": 6.1,
          "temp_min": -1.7,
          "weather": "sun",
          "wind": 1.9
         },
         {
          "date": "2012-01-13T00:00:00",
          "precipitation": 0,
          "temp_max": 5,
          "temp_min": -2.8,
          "weather": "sun",
          "wind": 1.3
         },
         {
          "date": "2012-01-14T00:00:00",
          "precipitation": 4.1,
          "temp_max": 4.4,
          "temp_min": 0.6,
          "weather": "snow",
          "wind": 5.3
         },
         {
          "date": "2012-01-15T00:00:00",
          "precipitation": 5.3,
          "temp_max": 1.1,
          "temp_min": -3.3,
          "weather": "snow",
          "wind": 3.2
         },
         {
          "date": "2012-01-16T00:00:00",
          "precipitation": 2.5,
          "temp_max": 1.7,
          "temp_min": -2.8,
          "weather": "snow",
          "wind": 5
         },
         {
          "date": "2012-01-17T00:00:00",
          "precipitation": 8.1,
          "temp_max": 3.3,
          "temp_min": 0,
          "weather": "snow",
          "wind": 5.6
         },
         {
          "date": "2012-01-18T00:00:00",
          "precipitation": 19.8,
          "temp_max": 0,
          "temp_min": -2.8,
          "weather": "snow",
          "wind": 5
         },
         {
          "date": "2012-01-19T00:00:00",
          "precipitation": 15.2,
          "temp_max": -1.1,
          "temp_min": -2.8,
          "weather": "snow",
          "wind": 1.6
         },
         {
          "date": "2012-01-20T00:00:00",
          "precipitation": 13.5,
          "temp_max": 7.2,
          "temp_min": -1.1,
          "weather": "snow",
          "wind": 2.3
         },
         {
          "date": "2012-01-21T00:00:00",
          "precipitation": 3,
          "temp_max": 8.3,
          "temp_min": 3.3,
          "weather": "rain",
          "wind": 8.2
         },
         {
          "date": "2012-01-22T00:00:00",
          "precipitation": 6.1,
          "temp_max": 6.7,
          "temp_min": 2.2,
          "weather": "rain",
          "wind": 4.8
         },
         {
          "date": "2012-01-23T00:00:00",
          "precipitation": 0,
          "temp_max": 8.3,
          "temp_min": 1.1,
          "weather": "rain",
          "wind": 3.6
         },
         {
          "date": "2012-01-24T00:00:00",
          "precipitation": 8.6,
          "temp_max": 10,
          "temp_min": 2.2,
          "weather": "rain",
          "wind": 5.1
         },
         {
          "date": "2012-01-25T00:00:00",
          "precipitation": 8.1,
          "temp_max": 8.9,
          "temp_min": 4.4,
          "weather": "rain",
          "wind": 5.4
         },
         {
          "date": "2012-01-26T00:00:00",
          "precipitation": 4.8,
          "temp_max": 8.9,
          "temp_min": 1.1,
          "weather": "rain",
          "wind": 4.8
         },
         {
          "date": "2012-01-27T00:00:00",
          "precipitation": 0,
          "temp_max": 6.7,
          "temp_min": -2.2,
          "weather": "drizzle",
          "wind": 1.4
         },
         {
          "date": "2012-01-28T00:00:00",
          "precipitation": 0,
          "temp_max": 6.7,
          "temp_min": 0.6,
          "weather": "rain",
          "wind": 2.2
         },
         {
          "date": "2012-01-29T00:00:00",
          "precipitation": 27.7,
          "temp_max": 9.4,
          "temp_min": 3.9,
          "weather": "rain",
          "wind": 4.5
         },
         {
          "date": "2012-01-30T00:00:00",
          "precipitation": 3.6,
          "temp_max": 8.3,
          "temp_min": 6.1,
          "weather": "rain",
          "wind": 5.1
         },
         {
          "date": "2012-01-31T00:00:00",
          "precipitation": 1.8,
          "temp_max": 9.4,
          "temp_min": 6.1,
          "weather": "rain",
          "wind": 3.9
         },
         {
          "date": "2012-02-01T00:00:00",
          "precipitation": 13.5,
          "temp_max": 8.9,
          "temp_min": 3.3,
          "weather": "rain",
          "wind": 2.7
         },
         {
          "date": "2012-02-02T00:00:00",
          "precipitation": 0,
          "temp_max": 8.3,
          "temp_min": 1.7,
          "weather": "sun",
          "wind": 2.6
         },
         {
          "date": "2012-02-03T00:00:00",
          "precipitation": 0,
          "temp_max": 14.4,
          "temp_min": 2.2,
          "weather": "sun",
          "wind": 5.3
         },
         {
          "date": "2012-02-04T00:00:00",
          "precipitation": 0,
          "temp_max": 15.6,
          "temp_min": 5,
          "weather": "sun",
          "wind": 4.3
         },
         {
          "date": "2012-02-05T00:00:00",
          "precipitation": 0,
          "temp_max": 13.9,
          "temp_min": 1.7,
          "weather": "sun",
          "wind": 2.9
         },
         {
          "date": "2012-02-06T00:00:00",
          "precipitation": 0,
          "temp_max": 16.1,
          "temp_min": 1.7,
          "weather": "sun",
          "wind": 5
         },
         {
          "date": "2012-02-07T00:00:00",
          "precipitation": 0.3,
          "temp_max": 15.6,
          "temp_min": 7.8,
          "weather": "rain",
          "wind": 5.3
         },
         {
          "date": "2012-02-08T00:00:00",
          "precipitation": 2.8,
          "temp_max": 10,
          "temp_min": 5,
          "weather": "rain",
          "wind": 2.7
         },
         {
          "date": "2012-02-09T00:00:00",
          "precipitation": 2.5,
          "temp_max": 11.1,
          "temp_min": 7.8,
          "weather": "rain",
          "wind": 2.4
         },
         {
          "date": "2012-02-10T00:00:00",
          "precipitation": 2.5,
          "temp_max": 12.8,
          "temp_min": 6.7,
          "weather": "rain",
          "wind": 3
         },
         {
          "date": "2012-02-11T00:00:00",
          "precipitation": 0.8,
          "temp_max": 8.9,
          "temp_min": 5.6,
          "weather": "rain",
          "wind": 3.4
         },
         {
          "date": "2012-02-12T00:00:00",
          "precipitation": 1,
          "temp_max": 8.3,
          "temp_min": 5,
          "weather": "rain",
          "wind": 1.3
         },
         {
          "date": "2012-02-13T00:00:00",
          "precipitation": 11.4,
          "temp_max": 7.2,
          "temp_min": 4.4,
          "weather": "rain",
          "wind": 1.4
         },
         {
          "date": "2012-02-14T00:00:00",
          "precipitation": 2.5,
          "temp_max": 6.7,
          "temp_min": 1.1,
          "weather": "rain",
          "wind": 3.1
         },
         {
          "date": "2012-02-15T00:00:00",
          "precipitation": 0,
          "temp_max": 7.2,
          "temp_min": 0.6,
          "weather": "drizzle",
          "wind": 1.8
         },
         {
          "date": "2012-02-16T00:00:00",
          "precipitation": 1.8,
          "temp_max": 7.2,
          "temp_min": 3.3,
          "weather": "rain",
          "wind": 2.1
         },
         {
          "date": "2012-02-17T00:00:00",
          "precipitation": 17.3,
          "temp_max": 10,
          "temp_min": 4.4,
          "weather": "rain",
          "wind": 3.4
         },
         {
          "date": "2012-02-18T00:00:00",
          "precipitation": 6.4,
          "temp_max": 6.7,
          "temp_min": 3.9,
          "weather": "rain",
          "wind": 8.1
         },
         {
          "date": "2012-02-19T00:00:00",
          "precipitation": 0,
          "temp_max": 6.7,
          "temp_min": 2.2,
          "weather": "sun",
          "wind": 4.7
         },
         {
          "date": "2012-02-20T00:00:00",
          "precipitation": 3,
          "temp_max": 7.8,
          "temp_min": 1.7,
          "weather": "rain",
          "wind": 2.9
         },
         {
          "date": "2012-02-21T00:00:00",
          "precipitation": 0.8,
          "temp_max": 10,
          "temp_min": 7.8,
          "weather": "rain",
          "wind": 7.5
         },
         {
          "date": "2012-02-22T00:00:00",
          "precipitation": 8.6,
          "temp_max": 10,
          "temp_min": 2.8,
          "weather": "rain",
          "wind": 5.9
         },
         {
          "date": "2012-02-23T00:00:00",
          "precipitation": 0,
          "temp_max": 8.3,
          "temp_min": 2.8,
          "weather": "sun",
          "wind": 3.9
         },
         {
          "date": "2012-02-24T00:00:00",
          "precipitation": 11.4,
          "temp_max": 6.7,
          "temp_min": 4.4,
          "weather": "rain",
          "wind": 3.5
         },
         {
          "date": "2012-02-25T00:00:00",
          "precipitation": 0,
          "temp_max": 7.2,
          "temp_min": 2.8,
          "weather": "rain",
          "wind": 6.4
         },
         {
          "date": "2012-02-26T00:00:00",
          "precipitation": 1.3,
          "temp_max": 5,
          "temp_min": -1.1,
          "weather": "snow",
          "wind": 3.4
         },
         {
          "date": "2012-02-27T00:00:00",
          "precipitation": 0,
          "temp_max": 6.7,
          "temp_min": -2.2,
          "weather": "sun",
          "wind": 3
         },
         {
          "date": "2012-02-28T00:00:00",
          "precipitation": 3.6,
          "temp_max": 6.7,
          "temp_min": -0.6,
          "weather": "snow",
          "wind": 4.2
         },
         {
          "date": "2012-02-29T00:00:00",
          "precipitation": 0.8,
          "temp_max": 5,
          "temp_min": 1.1,
          "weather": "snow",
          "wind": 7
         },
         {
          "date": "2012-03-01T00:00:00",
          "precipitation": 0,
          "temp_max": 6.1,
          "temp_min": 1.1,
          "weather": "sun",
          "wind": 3.1
         },
         {
          "date": "2012-03-02T00:00:00",
          "precipitation": 2,
          "temp_max": 6.7,
          "temp_min": 3.9,
          "weather": "rain",
          "wind": 5.1
         },
         {
          "date": "2012-03-03T00:00:00",
          "precipitation": 0,
          "temp_max": 12.2,
          "temp_min": 6.7,
          "weather": "sun",
          "wind": 7
         },
         {
          "date": "2012-03-04T00:00:00",
          "precipitation": 0,
          "temp_max": 10.6,
          "temp_min": 6.7,
          "weather": "rain",
          "wind": 5.6
         },
         {
          "date": "2012-03-05T00:00:00",
          "precipitation": 6.9,
          "temp_max": 7.8,
          "temp_min": 1.1,
          "weather": "rain",
          "wind": 6.2
         },
         {
          "date": "2012-03-06T00:00:00",
          "precipitation": 0.5,
          "temp_max": 6.7,
          "temp_min": 0,
          "weather": "snow",
          "wind": 2.7
         },
         {
          "date": "2012-03-07T00:00:00",
          "precipitation": 0,
          "temp_max": 8.9,
          "temp_min": -1.7,
          "weather": "sun",
          "wind": 2.7
         },
         {
          "date": "2012-03-08T00:00:00",
          "precipitation": 0,
          "temp_max": 15.6,
          "temp_min": 0.6,
          "weather": "sun",
          "wind": 2.5
         },
         {
          "date": "2012-03-09T00:00:00",
          "precipitation": 3.6,
          "temp_max": 9.4,
          "temp_min": 5,
          "weather": "rain",
          "wind": 2.8
         },
         {
          "date": "2012-03-10T00:00:00",
          "precipitation": 10.4,
          "temp_max": 7.2,
          "temp_min": 6.1,
          "weather": "rain",
          "wind": 3.4
         },
         {
          "date": "2012-03-11T00:00:00",
          "precipitation": 13.7,
          "temp_max": 6.7,
          "temp_min": 2.8,
          "weather": "rain",
          "wind": 5.8
         },
         {
          "date": "2012-03-12T00:00:00",
          "precipitation": 19.3,
          "temp_max": 8.3,
          "temp_min": 0.6,
          "weather": "snow",
          "wind": 6.2
         },
         {
          "date": "2012-03-13T00:00:00",
          "precipitation": 9.4,
          "temp_max": 5.6,
          "temp_min": 0.6,
          "weather": "snow",
          "wind": 5.3
         },
         {
          "date": "2012-03-14T00:00:00",
          "precipitation": 8.6,
          "temp_max": 7.8,
          "temp_min": 1.1,
          "weather": "rain",
          "wind": 4.7
         },
         {
          "date": "2012-03-15T00:00:00",
          "precipitation": 23.9,
          "temp_max": 11.1,
          "temp_min": 5.6,
          "weather": "snow",
          "wind": 5.8
         },
         {
          "date": "2012-03-16T00:00:00",
          "precipitation": 8.4,
          "temp_max": 8.9,
          "temp_min": 3.9,
          "weather": "rain",
          "wind": 5.1
         },
         {
          "date": "2012-03-17T00:00:00",
          "precipitation": 9.4,
          "temp_max": 10,
          "temp_min": 0.6,
          "weather": "snow",
          "wind": 3.8
         },
         {
          "date": "2012-03-18T00:00:00",
          "precipitation": 3.6,
          "temp_max": 5,
          "temp_min": -0.6,
          "weather": "rain",
          "wind": 2.7
         },
         {
          "date": "2012-03-19T00:00:00",
          "precipitation": 2,
          "temp_max": 7.2,
          "temp_min": -1.1,
          "weather": "rain",
          "wind": 3
         },
         {
          "date": "2012-03-20T00:00:00",
          "precipitation": 3.6,
          "temp_max": 7.8,
          "temp_min": 2.2,
          "weather": "rain",
          "wind": 6.4
         },
         {
          "date": "2012-03-21T00:00:00",
          "precipitation": 1.3,
          "temp_max": 8.9,
          "temp_min": 1.1,
          "weather": "rain",
          "wind": 2.5
         },
         {
          "date": "2012-03-22T00:00:00",
          "precipitation": 4.1,
          "temp_max": 10,
          "temp_min": 1.7,
          "weather": "rain",
          "wind": 2.1
         },
         {
          "date": "2012-03-23T00:00:00",
          "precipitation": 0,
          "temp_max": 12.2,
          "temp_min": 0.6,
          "weather": "sun",
          "wind": 2.8
         },
         {
          "date": "2012-03-24T00:00:00",
          "precipitation": 0,
          "temp_max": 15,
          "temp_min": 3.3,
          "weather": "sun",
          "wind": 5.2
         },
         {
          "date": "2012-03-25T00:00:00",
          "precipitation": 0,
          "temp_max": 13.3,
          "temp_min": 2.2,
          "weather": "rain",
          "wind": 2.7
         },
         {
          "date": "2012-03-26T00:00:00",
          "precipitation": 0,
          "temp_max": 12.8,
          "temp_min": 6.1,
          "weather": "drizzle",
          "wind": 4.3
         },
         {
          "date": "2012-03-27T00:00:00",
          "precipitation": 4.8,
          "temp_max": 14.4,
          "temp_min": 6.7,
          "weather": "rain",
          "wind": 3.8
         },
         {
          "date": "2012-03-28T00:00:00",
          "precipitation": 1.3,
          "temp_max": 10.6,
          "temp_min": 7.2,
          "weather": "rain",
          "wind": 5.9
         },
         {
          "date": "2012-03-29T00:00:00",
          "precipitation": 27.4,
          "temp_max": 10,
          "temp_min": 6.1,
          "weather": "rain",
          "wind": 4.4
         },
         {
          "date": "2012-03-30T00:00:00",
          "precipitation": 5.6,
          "temp_max": 9.4,
          "temp_min": 5,
          "weather": "rain",
          "wind": 4.7
         },
         {
          "date": "2012-03-31T00:00:00",
          "precipitation": 13.2,
          "temp_max": 10,
          "temp_min": 2.8,
          "weather": "rain",
          "wind": 3.4
         },
         {
          "date": "2012-04-01T00:00:00",
          "precipitation": 1.5,
          "temp_max": 8.9,
          "temp_min": 4.4,
          "weather": "rain",
          "wind": 6.8
         },
         {
          "date": "2012-04-02T00:00:00",
          "precipitation": 0,
          "temp_max": 16.7,
          "temp_min": 4.4,
          "weather": "sun",
          "wind": 3.1
         },
         {
          "date": "2012-04-03T00:00:00",
          "precipitation": 1.5,
          "temp_max": 11.7,
          "temp_min": 3.3,
          "weather": "rain",
          "wind": 3.1
         },
         {
          "date": "2012-04-04T00:00:00",
          "precipitation": 0,
          "temp_max": 10.6,
          "temp_min": 2.8,
          "weather": "sun",
          "wind": 2.1
         },
         {
          "date": "2012-04-05T00:00:00",
          "precipitation": 4.6,
          "temp_max": 9.4,
          "temp_min": 2.8,
          "weather": "snow",
          "wind": 1.8
         },
         {
          "date": "2012-04-06T00:00:00",
          "precipitation": 0.3,
          "temp_max": 11.1,
          "temp_min": 3.3,
          "weather": "rain",
          "wind": 2.6
         },
         {
          "date": "2012-04-07T00:00:00",
          "precipitation": 0,
          "temp_max": 16.1,
          "temp_min": 1.7,
          "weather": "sun",
          "wind": 4.3
         },
         {
          "date": "2012-04-08T00:00:00",
          "precipitation": 0,
          "temp_max": 21.1,
          "temp_min": 7.2,
          "weather": "sun",
          "wind": 4.1
         },
         {
          "date": "2012-04-09T00:00:00",
          "precipitation": 0,
          "temp_max": 20,
          "temp_min": 6.1,
          "weather": "sun",
          "wind": 2.1
         },
         {
          "date": "2012-04-10T00:00:00",
          "precipitation": 0,
          "temp_max": 17.8,
          "temp_min": 8.9,
          "weather": "rain",
          "wind": 3.2
         },
         {
          "date": "2012-04-11T00:00:00",
          "precipitation": 2.3,
          "temp_max": 11.1,
          "temp_min": 7.2,
          "weather": "rain",
          "wind": 2.6
         },
         {
          "date": "2012-04-12T00:00:00",
          "precipitation": 0.5,
          "temp_max": 13.9,
          "temp_min": 5.6,
          "weather": "rain",
          "wind": 2.6
         },
         {
          "date": "2012-04-13T00:00:00",
          "precipitation": 0,
          "temp_max": 15,
          "temp_min": 3.9,
          "weather": "drizzle",
          "wind": 4
         },
         {
          "date": "2012-04-14T00:00:00",
          "precipitation": 0,
          "temp_max": 15.6,
          "temp_min": 3.3,
          "weather": "sun",
          "wind": 3
         },
         {
          "date": "2012-04-15T00:00:00",
          "precipitation": 0,
          "temp_max": 16.1,
          "temp_min": 7.2,
          "weather": "rain",
          "wind": 2.9
         },
         {
          "date": "2012-04-16T00:00:00",
          "precipitation": 8.1,
          "temp_max": 13.3,
          "temp_min": 6.7,
          "weather": "rain",
          "wind": 5.8
         },
         {
          "date": "2012-04-17T00:00:00",
          "precipitation": 1.8,
          "temp_max": 10,
          "temp_min": 4.4,
          "weather": "rain",
          "wind": 2
         },
         {
          "date": "2012-04-18T00:00:00",
          "precipitation": 1.8,
          "temp_max": 13.3,
          "temp_min": 7.2,
          "weather": "rain",
          "wind": 3.9
         },
         {
          "date": "2012-04-19T00:00:00",
          "precipitation": 10.9,
          "temp_max": 13.9,
          "temp_min": 5,
          "weather": "rain",
          "wind": 2.6
         },
         {
          "date": "2012-04-20T00:00:00",
          "precipitation": 6.6,
          "temp_max": 13.3,
          "temp_min": 6.7,
          "weather": "rain",
          "wind": 2.7
         },
         {
          "date": "2012-04-21T00:00:00",
          "precipitation": 0,
          "temp_max": 20,
          "temp_min": 4.4,
          "weather": "sun",
          "wind": 2.3
         },
         {
          "date": "2012-04-22T00:00:00",
          "precipitation": 0,
          "temp_max": 23.3,
          "temp_min": 8.3,
          "weather": "rain",
          "wind": 2.6
         },
         {
          "date": "2012-04-23T00:00:00",
          "precipitation": 0,
          "temp_max": 21.7,
          "temp_min": 8.9,
          "weather": "sun",
          "wind": 3.5
         },
         {
          "date": "2012-04-24T00:00:00",
          "precipitation": 4.3,
          "temp_max": 13.9,
          "temp_min": 10,
          "weather": "rain",
          "wind": 2.8
         },
         {
          "date": "2012-04-25T00:00:00",
          "precipitation": 10.7,
          "temp_max": 16.7,
          "temp_min": 8.9,
          "weather": "rain",
          "wind": 2.6
         },
         {
          "date": "2012-04-26T00:00:00",
          "precipitation": 3.8,
          "temp_max": 13.9,
          "temp_min": 6.7,
          "weather": "rain",
          "wind": 5.2
         },
         {
          "date": "2012-04-27T00:00:00",
          "precipitation": 0.8,
          "temp_max": 13.3,
          "temp_min": 6.1,
          "weather": "rain",
          "wind": 4.8
         },
         {
          "date": "2012-04-28T00:00:00",
          "precipitation": 0,
          "temp_max": 16.1,
          "temp_min": 8.3,
          "weather": "drizzle",
          "wind": 2.5
         },
         {
          "date": "2012-04-29T00:00:00",
          "precipitation": 4.3,
          "temp_max": 15.6,
          "temp_min": 8.9,
          "weather": "rain",
          "wind": 1.6
         },
         {
          "date": "2012-04-30T00:00:00",
          "precipitation": 4.3,
          "temp_max": 12.8,
          "temp_min": 7.2,
          "weather": "rain",
          "wind": 8
         },
         {
          "date": "2012-05-01T00:00:00",
          "precipitation": 0.5,
          "temp_max": 11.7,
          "temp_min": 6.1,
          "weather": "rain",
          "wind": 6.4
         },
         {
          "date": "2012-05-02T00:00:00",
          "precipitation": 0.5,
          "temp_max": 13.3,
          "temp_min": 5.6,
          "weather": "rain",
          "wind": 2.5
         },
         {
          "date": "2012-05-03T00:00:00",
          "precipitation": 18.5,
          "temp_max": 11.1,
          "temp_min": 7.2,
          "weather": "rain",
          "wind": 3.4
         },
         {
          "date": "2012-05-04T00:00:00",
          "precipitation": 1.8,
          "temp_max": 12.2,
          "temp_min": 6.1,
          "weather": "rain",
          "wind": 4.6
         },
         {
          "date": "2012-05-05T00:00:00",
          "precipitation": 0,
          "temp_max": 13.3,
          "temp_min": 5,
          "weather": "sun",
          "wind": 2.3
         },
         {
          "date": "2012-05-06T00:00:00",
          "precipitation": 0,
          "temp_max": 17.8,
          "temp_min": 5,
          "weather": "sun",
          "wind": 2.4
         },
         {
          "date": "2012-05-07T00:00:00",
          "precipitation": 0,
          "temp_max": 23.9,
          "temp_min": 6.1,
          "weather": "sun",
          "wind": 2.2
         },
         {
          "date": "2012-05-08T00:00:00",
          "precipitation": 0,
          "temp_max": 18.3,
          "temp_min": 9.4,
          "weather": "sun",
          "wind": 3
         },
         {
          "date": "2012-05-09T00:00:00",
          "precipitation": 0,
          "temp_max": 13.3,
          "temp_min": 6.7,
          "weather": "rain",
          "wind": 3.9
         },
         {
          "date": "2012-05-10T00:00:00",
          "precipitation": 0,
          "temp_max": 14.4,
          "temp_min": 3.9,
          "weather": "sun",
          "wind": 3
         },
         {
          "date": "2012-05-11T00:00:00",
          "precipitation": 0,
          "temp_max": 18.3,
          "temp_min": 4.4,
          "weather": "sun",
          "wind": 4.3
         },
         {
          "date": "2012-05-12T00:00:00",
          "precipitation": 0,
          "temp_max": 24.4,
          "temp_min": 6.7,
          "weather": "sun",
          "wind": 3.4
         },
         {
          "date": "2012-05-13T00:00:00",
          "precipitation": 0,
          "temp_max": 25.6,
          "temp_min": 9.4,
          "weather": "sun",
          "wind": 4.2
         },
         {
          "date": "2012-05-14T00:00:00",
          "precipitation": 0,
          "temp_max": 26.7,
          "temp_min": 12.8,
          "weather": "sun",
          "wind": 3.8
         },
         {
          "date": "2012-05-15T00:00:00",
          "precipitation": 0,
          "temp_max": 24.4,
          "temp_min": 9.4,
          "weather": "drizzle",
          "wind": 4.1
         },
         {
          "date": "2012-05-16T00:00:00",
          "precipitation": 0,
          "temp_max": 19.4,
          "temp_min": 9.4,
          "weather": "sun",
          "wind": 3.5
         },
         {
          "date": "2012-05-17T00:00:00",
          "precipitation": 0,
          "temp_max": 17.8,
          "temp_min": 6.7,
          "weather": "rain",
          "wind": 2.9
         },
         {
          "date": "2012-05-18T00:00:00",
          "precipitation": 0,
          "temp_max": 15.6,
          "temp_min": 7.8,
          "weather": "rain",
          "wind": 3.1
         },
         {
          "date": "2012-05-19T00:00:00",
          "precipitation": 0,
          "temp_max": 19.4,
          "temp_min": 7.2,
          "weather": "sun",
          "wind": 1.5
         },
         {
          "date": "2012-05-20T00:00:00",
          "precipitation": 6.4,
          "temp_max": 14.4,
          "temp_min": 11.7,
          "weather": "rain",
          "wind": 1.3
         },
         {
          "date": "2012-05-21T00:00:00",
          "precipitation": 14,
          "temp_max": 16.7,
          "temp_min": 10,
          "weather": "rain",
          "wind": 4
         },
         {
          "date": "2012-05-22T00:00:00",
          "precipitation": 6.1,
          "temp_max": 12.8,
          "temp_min": 8.9,
          "weather": "rain",
          "wind": 4.8
         },
         {
          "date": "2012-05-23T00:00:00",
          "precipitation": 0.3,
          "temp_max": 14.4,
          "temp_min": 8.9,
          "weather": "rain",
          "wind": 6.3
         },
         {
          "date": "2012-05-24T00:00:00",
          "precipitation": 0,
          "temp_max": 17.2,
          "temp_min": 8.9,
          "weather": "rain",
          "wind": 3.3
         },
         {
          "date": "2012-05-25T00:00:00",
          "precipitation": 0,
          "temp_max": 22.2,
          "temp_min": 8.9,
          "weather": "rain",
          "wind": 3.1
         },
         {
          "date": "2012-05-26T00:00:00",
          "precipitation": 0,
          "temp_max": 22.2,
          "temp_min": 8.9,
          "weather": "sun",
          "wind": 3.6
         },
         {
          "date": "2012-05-27T00:00:00",
          "precipitation": 0,
          "temp_max": 17.2,
          "temp_min": 11.7,
          "weather": "sun",
          "wind": 3.7
         },
         {
          "date": "2012-05-28T00:00:00",
          "precipitation": 0,
          "temp_max": 16.7,
          "temp_min": 10,
          "weather": "rain",
          "wind": 3.4
         },
         {
          "date": "2012-05-29T00:00:00",
          "precipitation": 0,
          "temp_max": 16.1,
          "temp_min": 7.8,
          "weather": "sun",
          "wind": 1.8
         },
         {
          "date": "2012-05-30T00:00:00",
          "precipitation": 0.3,
          "temp_max": 18.9,
          "temp_min": 11.1,
          "weather": "rain",
          "wind": 1.5
         },
         {
          "date": "2012-05-31T00:00:00",
          "precipitation": 3.8,
          "temp_max": 17.8,
          "temp_min": 12.2,
          "weather": "rain",
          "wind": 2.7
         },
         {
          "date": "2012-06-01T00:00:00",
          "precipitation": 6.6,
          "temp_max": 20,
          "temp_min": 12.8,
          "weather": "rain",
          "wind": 3.7
         },
         {
          "date": "2012-06-02T00:00:00",
          "precipitation": 0.3,
          "temp_max": 18.9,
          "temp_min": 10.6,
          "weather": "rain",
          "wind": 3.7
         },
         {
          "date": "2012-06-03T00:00:00",
          "precipitation": 0,
          "temp_max": 17.2,
          "temp_min": 9.4,
          "weather": "sun",
          "wind": 2.9
         },
         {
          "date": "2012-06-04T00:00:00",
          "precipitation": 1.3,
          "temp_max": 12.8,
          "temp_min": 8.9,
          "weather": "rain",
          "wind": 3.1
         },
         {
          "date": "2012-06-05T00:00:00",
          "precipitation": 16,
          "temp_max": 13.3,
          "temp_min": 8.3,
          "weather": "rain",
          "wind": 3.3
         },
         {
          "date": "2012-06-06T00:00:00",
          "precipitation": 0,
          "temp_max": 16.1,
          "temp_min": 6.1,
          "weather": "sun",
          "wind": 3.4
         },
         {
          "date": "2012-06-07T00:00:00",
          "precipitation": 16.5,
          "temp_max": 16.1,
          "temp_min": 8.9,
          "weather": "rain",
          "wind": 3.5
         },
         {
          "date": "2012-06-08T00:00:00",
          "precipitation": 1.5,
          "temp_max": 15,
          "temp_min": 8.3,
          "weather": "rain",
          "wind": 3
         },
         {
          "date": "2012-06-09T00:00:00",
          "precipitation": 0,
          "temp_max": 17.2,
          "temp_min": 8.3,
          "weather": "rain",
          "wind": 4.7
         },
         {
          "date": "2012-06-10T00:00:00",
          "precipitation": 0,
          "temp_max": 18.9,
          "temp_min": 10,
          "weather": "sun",
          "wind": 2.9
         },
         {
          "date": "2012-06-11T00:00:00",
          "precipitation": 0,
          "temp_max": 23.3,
          "temp_min": 10,
          "weather": "rain",
          "wind": 1.8
         },
         {
          "date": "2012-06-12T00:00:00",
          "precipitation": 0.8,
          "temp_max": 18.3,
          "temp_min": 12.8,
          "weather": "rain",
          "wind": 3.9
         },
         {
          "date": "2012-06-13T00:00:00",
          "precipitation": 0,
          "temp_max": 16.1,
          "temp_min": 11.1,
          "weather": "sun",
          "wind": 4.3
         },
         {
          "date": "2012-06-14T00:00:00",
          "precipitation": 0,
          "temp_max": 17.2,
          "temp_min": 10,
          "weather": "sun",
          "wind": 2.7
         },
         {
          "date": "2012-06-15T00:00:00",
          "precipitation": 0,
          "temp_max": 22.2,
          "temp_min": 9.4,
          "weather": "sun",
          "wind": 1.7
         },
         {
          "date": "2012-06-16T00:00:00",
          "precipitation": 0,
          "temp_max": 21.1,
          "temp_min": 15,
          "weather": "rain",
          "wind": 4.1
         },
         {
          "date": "2012-06-17T00:00:00",
          "precipitation": 0,
          "temp_max": 18.9,
          "temp_min": 11.7,
          "weather": "sun",
          "wind": 6.4
         },
         {
          "date": "2012-06-18T00:00:00",
          "precipitation": 3,
          "temp_max": 17.2,
          "temp_min": 10,
          "weather": "rain",
          "wind": 3.8
         },
         {
          "date": "2012-06-19T00:00:00",
          "precipitation": 1,
          "temp_max": 19.4,
          "temp_min": 10,
          "weather": "rain",
          "wind": 3
         },
         {
          "date": "2012-06-20T00:00:00",
          "precipitation": 0,
          "temp_max": 24.4,
          "temp_min": 10,
          "weather": "sun",
          "wind": 3
         },
         {
          "date": "2012-06-21T00:00:00",
          "precipitation": 0,
          "temp_max": 23.9,
          "temp_min": 11.7,
          "weather": "sun",
          "wind": 2.1
         },
         {
          "date": "2012-06-22T00:00:00",
          "precipitation": 15.7,
          "temp_max": 13.9,
          "temp_min": 11.7,
          "weather": "rain",
          "wind": 1.9
         },
         {
          "date": "2012-06-23T00:00:00",
          "precipitation": 8.6,
          "temp_max": 15.6,
          "temp_min": 9.4,
          "weather": "rain",
          "wind": 2.5
         },
         {
          "date": "2012-06-24T00:00:00",
          "precipitation": 0,
          "temp_max": 19.4,
          "temp_min": 9.4,
          "weather": "drizzle",
          "wind": 2
         },
         {
          "date": "2012-06-25T00:00:00",
          "precipitation": 0.5,
          "temp_max": 19.4,
          "temp_min": 11.1,
          "weather": "rain",
          "wind": 3.1
         },
         {
          "date": "2012-06-26T00:00:00",
          "precipitation": 0,
          "temp_max": 18.3,
          "temp_min": 10.6,
          "weather": "rain",
          "wind": 3.4
         },
         {
          "date": "2012-06-27T00:00:00",
          "precipitation": 0,
          "temp_max": 22.8,
          "temp_min": 8.9,
          "weather": "sun",
          "wind": 1.8
         },
         {
          "date": "2012-06-28T00:00:00",
          "precipitation": 0,
          "temp_max": 22.2,
          "temp_min": 11.7,
          "weather": "rain",
          "wind": 2.5
         },
         {
          "date": "2012-06-29T00:00:00",
          "precipitation": 0.3,
          "temp_max": 21.7,
          "temp_min": 15,
          "weather": "rain",
          "wind": 1.9
         },
         {
          "date": "2012-06-30T00:00:00",
          "precipitation": 3,
          "temp_max": 20,
          "temp_min": 13.3,
          "weather": "rain",
          "wind": 2.4
         },
         {
          "date": "2012-07-01T00:00:00",
          "precipitation": 0,
          "temp_max": 20,
          "temp_min": 12.2,
          "weather": "rain",
          "wind": 2.3
         },
         {
          "date": "2012-07-02T00:00:00",
          "precipitation": 2,
          "temp_max": 18.9,
          "temp_min": 11.7,
          "weather": "rain",
          "wind": 2.1
         },
         {
          "date": "2012-07-03T00:00:00",
          "precipitation": 5.8,
          "temp_max": 18.3,
          "temp_min": 10.6,
          "weather": "rain",
          "wind": 6
         },
         {
          "date": "2012-07-04T00:00:00",
          "precipitation": 0,
          "temp_max": 20.6,
          "temp_min": 9.4,
          "weather": "sun",
          "wind": 3.8
         },
         {
          "date": "2012-07-05T00:00:00",
          "precipitation": 0,
          "temp_max": 24.4,
          "temp_min": 10.6,
          "weather": "drizzle",
          "wind": 3.1
         },
         {
          "date": "2012-07-06T00:00:00",
          "precipitation": 0,
          "temp_max": 25,
          "temp_min": 11.1,
          "weather": "sun",
          "wind": 2.1
         },
         {
          "date": "2012-07-07T00:00:00",
          "precipitation": 0,
          "temp_max": 26.7,
          "temp_min": 12.8,
          "weather": "sun",
          "wind": 3.8
         },
         {
          "date": "2012-07-08T00:00:00",
          "precipitation": 0,
          "temp_max": 28.3,
          "temp_min": 14.4,
          "weather": "rain",
          "wind": 2.8
         },
         {
          "date": "2012-07-09T00:00:00",
          "precipitation": 1.5,
          "temp_max": 25,
          "temp_min": 12.8,
          "weather": "rain",
          "wind": 2
         },
         {
          "date": "2012-07-10T00:00:00",
          "precipitation": 0,
          "temp_max": 23.9,
          "temp_min": 11.1,
          "weather": "drizzle",
          "wind": 2.3
         },
         {
          "date": "2012-07-11T00:00:00",
          "precipitation": 0,
          "temp_max": 27.8,
          "temp_min": 13.3,
          "weather": "fog",
          "wind": 2.9
         },
         {
          "date": "2012-07-12T00:00:00",
          "precipitation": 0,
          "temp_max": 25.6,
          "temp_min": 13.3,
          "weather": "drizzle",
          "wind": 2.7
         },
         {
          "date": "2012-07-13T00:00:00",
          "precipitation": 0.5,
          "temp_max": 23.3,
          "temp_min": 13.9,
          "weather": "rain",
          "wind": 2.2
         },
         {
          "date": "2012-07-14T00:00:00",
          "precipitation": 0,
          "temp_max": 25,
          "temp_min": 15,
          "weather": "rain",
          "wind": 2.2
         },
         {
          "date": "2012-07-15T00:00:00",
          "precipitation": 0,
          "temp_max": 18.9,
          "temp_min": 13.3,
          "weather": "rain",
          "wind": 3.8
         },
         {
          "date": "2012-07-16T00:00:00",
          "precipitation": 0.3,
          "temp_max": 26.1,
          "temp_min": 13.3,
          "weather": "rain",
          "wind": 2.5
         },
         {
          "date": "2012-07-17T00:00:00",
          "precipitation": 0,
          "temp_max": 21.7,
          "temp_min": 15,
          "weather": "sun",
          "wind": 2.6
         },
         {
          "date": "2012-07-18T00:00:00",
          "precipitation": 0,
          "temp_max": 21.1,
          "temp_min": 14.4,
          "weather": "sun",
          "wind": 2.9
         },
         {
          "date": "2012-07-19T00:00:00",
          "precipitation": 0,
          "temp_max": 25,
          "temp_min": 14.4,
          "weather": "sun",
          "wind": 2.2
         },
         {
          "date": "2012-07-20T00:00:00",
          "precipitation": 15.2,
          "temp_max": 19.4,
          "temp_min": 13.9,
          "weather": "rain",
          "wind": 4
         },
         {
          "date": "2012-07-21T00:00:00",
          "precipitation": 0,
          "temp_max": 23.9,
          "temp_min": 13.9,
          "weather": "sun",
          "wind": 2.3
         },
         {
          "date": "2012-07-22T00:00:00",
          "precipitation": 1,
          "temp_max": 20.6,
          "temp_min": 12.2,
          "weather": "rain",
          "wind": 3.9
         },
         {
          "date": "2012-07-23T00:00:00",
          "precipitation": 0,
          "temp_max": 18.9,
          "temp_min": 11.1,
          "weather": "rain",
          "wind": 3.3
         },
         {
          "date": "2012-07-24T00:00:00",
          "precipitation": 0,
          "temp_max": 23.3,
          "temp_min": 12.2,
          "weather": "sun",
          "wind": 4.3
         },
         {
          "date": "2012-07-25T00:00:00",
          "precipitation": 0,
          "temp_max": 26.7,
          "temp_min": 12.8,
          "weather": "sun",
          "wind": 2.6
         },
         {
          "date": "2012-07-26T00:00:00",
          "precipitation": 0,
          "temp_max": 25.6,
          "temp_min": 12.8,
          "weather": "drizzle",
          "wind": 2.2
         },
         {
          "date": "2012-07-27T00:00:00",
          "precipitation": 0,
          "temp_max": 18.9,
          "temp_min": 13.9,
          "weather": "drizzle",
          "wind": 2.8
         },
         {
          "date": "2012-07-28T00:00:00",
          "precipitation": 0,
          "temp_max": 22.2,
          "temp_min": 13.3,
          "weather": "drizzle",
          "wind": 1.7
         },
         {
          "date": "2012-07-29T00:00:00",
          "precipitation": 0,
          "temp_max": 22.8,
          "temp_min": 15,
          "weather": "sun",
          "wind": 2
         },
         {
          "date": "2012-07-30T00:00:00",
          "precipitation": 0,
          "temp_max": 19.4,
          "temp_min": 13.3,
          "weather": "sun",
          "wind": 3
         },
         {
          "date": "2012-07-31T00:00:00",
          "precipitation": 0,
          "temp_max": 22.8,
          "temp_min": 13.9,
          "weather": "sun",
          "wind": 2.8
         },
         {
          "date": "2012-08-01T00:00:00",
          "precipitation": 0,
          "temp_max": 23.9,
          "temp_min": 13.3,
          "weather": "drizzle",
          "wind": 2.2
         },
         {
          "date": "2012-08-02T00:00:00",
          "precipitation": 0,
          "temp_max": 23.3,
          "temp_min": 12.2,
          "weather": "sun",
          "wind": 2.5
         },
         {
          "date": "2012-08-03T00:00:00",
          "precipitation": 0,
          "temp_max": 27.2,
          "temp_min": 12.8,
          "weather": "sun",
          "wind": 3.9
         },
         {
          "date": "2012-08-04T00:00:00",
          "precipitation": 0,
          "temp_max": 33.9,
          "temp_min": 16.7,
          "weather": "sun",
          "wind": 3.7
         },
         {
          "date": "2012-08-05T00:00:00",
          "precipitation": 0,
          "temp_max": 33.9,
          "temp_min": 17.8,
          "weather": "sun",
          "wind": 1.9
         },
         {
          "date": "2012-08-06T00:00:00",
          "precipitation": 0,
          "temp_max": 28.3,
          "temp_min": 15.6,
          "weather": "rain",
          "wind": 2.5
         },
         {
          "date": "2012-08-07T00:00:00",
          "precipitation": 0,
          "temp_max": 21.1,
          "temp_min": 15,
          "weather": "drizzle",
          "wind": 2.6
         },
         {
          "date": "2012-08-08T00:00:00",
          "precipitation": 0,
          "temp_max": 22.2,
          "temp_min": 15,
          "weather": "sun",
          "wind": 3.1
         },
         {
          "date": "2012-08-09T00:00:00",
          "precipitation": 0,
          "temp_max": 24.4,
          "temp_min": 14.4,
          "weather": "drizzle",
          "wind": 3.8
         },
         {
          "date": "2012-08-10T00:00:00",
          "precipitation": 0,
          "temp_max": 25.6,
          "temp_min": 12.2,
          "weather": "sun",
          "wind": 2.3
         },
         {
          "date": "2012-08-11T00:00:00",
          "precipitation": 0,
          "temp_max": 28.3,
          "temp_min": 13.3,
          "weather": "sun",
          "wind": 2.5
         },
         {
          "date": "2012-08-12T00:00:00",
          "precipitation": 0,
          "temp_max": 30.6,
          "temp_min": 15,
          "weather": "sun",
          "wind": 3
         },
         {
          "date": "2012-08-13T00:00:00",
          "precipitation": 0,
          "temp_max": 30.6,
          "temp_min": 15,
          "weather": "sun",
          "wind": 2.8
         },
         {
          "date": "2012-08-14T00:00:00",
          "precipitation": 0,
          "temp_max": 28.9,
          "temp_min": 13.9,
          "weather": "sun",
          "wind": 2.8
         },
         {
          "date": "2012-08-15T00:00:00",
          "precipitation": 0,
          "temp_max": 31.1,
          "temp_min": 16.7,
          "weather": "sun",
          "wind": 4.7
         },
         {
          "date": "2012-08-16T00:00:00",
          "precipitation": 0,
          "temp_max": 34.4,
          "temp_min": 18.3,
          "weather": "sun",
          "wind": 2.8
         },
         {
          "date": "2012-08-17T00:00:00",
          "precipitation": 0,
          "temp_max": 32.8,
          "temp_min": 16.1,
          "weather": "sun",
          "wind": 1.8
         },
         {
          "date": "2012-08-18T00:00:00",
          "precipitation": 0,
          "temp_max": 21.7,
          "temp_min": 14.4,
          "weather": "drizzle",
          "wind": 3
         },
         {
          "date": "2012-08-19T00:00:00",
          "precipitation": 0,
          "temp_max": 23.3,
          "temp_min": 15,
          "weather": "drizzle",
          "wind": 2.7
         },
         {
          "date": "2012-08-20T00:00:00",
          "precipitation": 0,
          "temp_max": 25.6,
          "temp_min": 15,
          "weather": "sun",
          "wind": 1.9
         },
         {
          "date": "2012-08-21T00:00:00",
          "precipitation": 0,
          "temp_max": 23.3,
          "temp_min": 13.3,
          "weather": "rain",
          "wind": 3
         },
         {
          "date": "2012-08-22T00:00:00",
          "precipitation": 0,
          "temp_max": 22.2,
          "temp_min": 13.3,
          "weather": "sun",
          "wind": 2.3
         },
         {
          "date": "2012-08-23T00:00:00",
          "precipitation": 0,
          "temp_max": 21.1,
          "temp_min": 13.9,
          "weather": "sun",
          "wind": 3.8
         },
         {
          "date": "2012-08-24T00:00:00",
          "precipitation": 0,
          "temp_max": 22.2,
          "temp_min": 10,
          "weather": "sun",
          "wind": 3.3
         },
         {
          "date": "2012-08-25T00:00:00",
          "precipitation": 0,
          "temp_max": 26.1,
          "temp_min": 11.7,
          "weather": "sun",
          "wind": 3.2
         },
         {
          "date": "2012-08-26T00:00:00",
          "precipitation": 0,
          "temp_max": 21.1,
          "temp_min": 12.2,
          "weather": "sun",
          "wind": 3.4
         },
         {
          "date": "2012-08-27T00:00:00",
          "precipitation": 0,
          "temp_max": 23.9,
          "temp_min": 13.3,
          "weather": "sun",
          "wind": 1.8
         },
         {
          "date": "2012-08-28T00:00:00",
          "precipitation": 0,
          "temp_max": 22.8,
          "temp_min": 12.2,
          "weather": "sun",
          "wind": 3.2
         },
         {
          "date": "2012-08-29T00:00:00",
          "precipitation": 0,
          "temp_max": 22.8,
          "temp_min": 13.3,
          "weather": "sun",
          "wind": 2.4
         },
         {
          "date": "2012-08-30T00:00:00",
          "precipitation": 0,
          "temp_max": 22.8,
          "temp_min": 12.8,
          "weather": "sun",
          "wind": 1.9
         },
         {
          "date": "2012-08-31T00:00:00",
          "precipitation": 0,
          "temp_max": 22.2,
          "temp_min": 10.6,
          "weather": "sun",
          "wind": 2.9
         },
         {
          "date": "2012-09-01T00:00:00",
          "precipitation": 0,
          "temp_max": 21.7,
          "temp_min": 10.6,
          "weather": "sun",
          "wind": 2.1
         },
         {
          "date": "2012-09-02T00:00:00",
          "precipitation": 0,
          "temp_max": 21.1,
          "temp_min": 10,
          "weather": "sun",
          "wind": 2
         },
         {
          "date": "2012-09-03T00:00:00",
          "precipitation": 0,
          "temp_max": 22.8,
          "temp_min": 12.8,
          "weather": "sun",
          "wind": 3.3
         },
         {
          "date": "2012-09-04T00:00:00",
          "precipitation": 0,
          "temp_max": 24.4,
          "temp_min": 11.1,
          "weather": "sun",
          "wind": 3.1
         },
         {
          "date": "2012-09-05T00:00:00",
          "precipitation": 0,
          "temp_max": 26.1,
          "temp_min": 11.7,
          "weather": "sun",
          "wind": 2.6
         },
         {
          "date": "2012-09-06T00:00:00",
          "precipitation": 0,
          "temp_max": 28.3,
          "temp_min": 14.4,
          "weather": "sun",
          "wind": 4.2
         },
         {
          "date": "2012-09-07T00:00:00",
          "precipitation": 0,
          "temp_max": 32.2,
          "temp_min": 13.3,
          "weather": "sun",
          "wind": 3.1
         },
         {
          "date": "2012-09-08T00:00:00",
          "precipitation": 0,
          "temp_max": 25,
          "temp_min": 13.3,
          "weather": "sun",
          "wind": 3
         },
         {
          "date": "2012-09-09T00:00:00",
          "precipitation": 0.3,
          "temp_max": 18.9,
          "temp_min": 13.9,
          "weather": "rain",
          "wind": 5
         },
         {
          "date": "2012-09-10T00:00:00",
          "precipitation": 0.3,
          "temp_max": 20,
          "temp_min": 11.7,
          "weather": "rain",
          "wind": 3.9
         },
         {
          "date": "2012-09-11T00:00:00",
          "precipitation": 0,
          "temp_max": 20,
          "temp_min": 8.9,
          "weather": "sun",
          "wind": 4.2
         },
         {
          "date": "2012-09-12T00:00:00",
          "precipitation": 0,
          "temp_max": 22.2,
          "temp_min": 10,
          "weather": "sun",
          "wind": 5.6
         },
         {
          "date": "2012-09-13T00:00:00",
          "precipitation": 0,
          "temp_max": 27.8,
          "temp_min": 11.7,
          "weather": "sun",
          "wind": 3.6
         },
         {
          "date": "2012-09-14T00:00:00",
          "precipitation": 0,
          "temp_max": 26.1,
          "temp_min": 11.1,
          "weather": "sun",
          "wind": 1.5
         },
         {
          "date": "2012-09-15T00:00:00",
          "precipitation": 0,
          "temp_max": 22.2,
          "temp_min": 11.1,
          "weather": "sun",
          "wind": 1.9
         },
         {
          "date": "2012-09-16T00:00:00",
          "precipitation": 0,
          "temp_max": 24.4,
          "temp_min": 9.4,
          "weather": "sun",
          "wind": 2.3
         },
         {
          "date": "2012-09-17T00:00:00",
          "precipitation": 0,
          "temp_max": 27.8,
          "temp_min": 11.7,
          "weather": "fog",
          "wind": 2.2
         },
         {
          "date": "2012-09-18T00:00:00",
          "precipitation": 0,
          "temp_max": 27.8,
          "temp_min": 11.7,
          "weather": "sun",
          "wind": 1.4
         },
         {
          "date": "2012-09-19T00:00:00",
          "precipitation": 0,
          "temp_max": 23.9,
          "temp_min": 11.7,
          "weather": "drizzle",
          "wind": 1.9
         },
         {
          "date": "2012-09-20T00:00:00",
          "precipitation": 0,
          "temp_max": 19.4,
          "temp_min": 10,
          "weather": "drizzle",
          "wind": 2.5
         },
         {
          "date": "2012-09-21T00:00:00",
          "precipitation": 0,
          "temp_max": 16.1,
          "temp_min": 12.8,
          "weather": "drizzle",
          "wind": 2.1
         },
         {
          "date": "2012-09-22T00:00:00",
          "precipitation": 0.3,
          "temp_max": 19.4,
          "temp_min": 11.7,
          "weather": "rain",
          "wind": 1.1
         },
         {
          "date": "2012-09-23T00:00:00",
          "precipitation": 0,
          "temp_max": 19.4,
          "temp_min": 10,
          "weather": "fog",
          "wind": 1.4
         },
         {
          "date": "2012-09-24T00:00:00",
          "precipitation": 0,
          "temp_max": 21.1,
          "temp_min": 10,
          "weather": "fog",
          "wind": 1.8
         },
         {
          "date": "2012-09-25T00:00:00",
          "precipitation": 0,
          "temp_max": 19.4,
          "temp_min": 11.1,
          "weather": "sun",
          "wind": 1.7
         },
         {
          "date": "2012-09-26T00:00:00",
          "precipitation": 0,
          "temp_max": 19.4,
          "temp_min": 9.4,
          "weather": "drizzle",
          "wind": 1.7
         },
         {
          "date": "2012-09-27T00:00:00",
          "precipitation": 0,
          "temp_max": 22.8,
          "temp_min": 10,
          "weather": "drizzle",
          "wind": 1.7
         },
         {
          "date": "2012-09-28T00:00:00",
          "precipitation": 0,
          "temp_max": 25,
          "temp_min": 12.2,
          "weather": "rain",
          "wind": 1.1
         },
         {
          "date": "2012-09-29T00:00:00",
          "precipitation": 0,
          "temp_max": 20.6,
          "temp_min": 12.2,
          "weather": "sun",
          "wind": 4.3
         },
         {
          "date": "2012-09-30T00:00:00",
          "precipitation": 0,
          "temp_max": 21.1,
          "temp_min": 7.8,
          "weather": "sun",
          "wind": 3.1
         },
         {
          "date": "2012-10-01T00:00:00",
          "precipitation": 0,
          "temp_max": 23.3,
          "temp_min": 8.9,
          "weather": "sun",
          "wind": 3
         },
         {
          "date": "2012-10-02T00:00:00",
          "precipitation": 0,
          "temp_max": 17.8,
          "temp_min": 10,
          "weather": "sun",
          "wind": 4.1
         },
         {
          "date": "2012-10-03T00:00:00",
          "precipitation": 0,
          "temp_max": 18.9,
          "temp_min": 7.8,
          "weather": "sun",
          "wind": 7.3
         },
         {
          "date": "2012-10-04T00:00:00",
          "precipitation": 0,
          "temp_max": 18.9,
          "temp_min": 8.3,
          "weather": "sun",
          "wind": 6.5
         },
         {
          "date": "2012-10-05T00:00:00",
          "precipitation": 0,
          "temp_max": 21.7,
          "temp_min": 8.9,
          "weather": "sun",
          "wind": 5.7
         },
         {
          "date": "2012-10-06T00:00:00",
          "precipitation": 0,
          "temp_max": 23.9,
          "temp_min": 7.8,
          "weather": "sun",
          "wind": 5.1
         },
         {
          "date": "2012-10-07T00:00:00",
          "precipitation": 0,
          "temp_max": 23.9,
          "temp_min": 7.8,
          "weather": "sun",
          "wind": 1.3
         },
         {
          "date": "2012-10-08T00:00:00",
          "precipitation": 0,
          "temp_max": 21.1,
          "temp_min": 7.8,
          "weather": "sun",
          "wind": 1.9
         },
         {
          "date": "2012-10-09T00:00:00",
          "precipitation": 0,
          "temp_max": 16.1,
          "temp_min": 8.9,
          "weather": "drizzle",
          "wind": 1.6
         },
         {
          "date": "2012-10-10T00:00:00",
          "precipitation": 0,
          "temp_max": 12.2,
          "temp_min": 8.3,
          "weather": "drizzle",
          "wind": 1.4
         },
         {
          "date": "2012-10-11T00:00:00",
          "precipitation": 0,
          "temp_max": 13.9,
          "temp_min": 7.2,
          "weather": "drizzle",
          "wind": 1.3
         },
         {
          "date": "2012-10-12T00:00:00",
          "precipitation": 2,
          "temp_max": 13.9,
          "temp_min": 8.9,
          "weather": "rain",
          "wind": 4.6
         },
         {
          "date": "2012-10-13T00:00:00",
          "precipitation": 4.8,
          "temp_max": 15.6,
          "temp_min": 12.2,
          "weather": "rain",
          "wind": 3.9
         },
         {
          "date": "2012-10-14T00:00:00",
          "precipitation": 16.5,
          "temp_max": 17.8,
          "temp_min": 13.3,
          "weather": "rain",
          "wind": 3.4
         },
         {
          "date": "2012-10-15T00:00:00",
          "precipitation": 7.9,
          "temp_max": 17.2,
          "temp_min": 11.1,
          "weather": "rain",
          "wind": 4.6
         },
         {
          "date": "2012-10-16T00:00:00",
          "precipitation": 0,
          "temp_max": 16.1,
          "temp_min": 8.3,
          "weather": "sun",
          "wind": 5.5
         },
         {
          "date": "2012-10-17T00:00:00",
          "precipitation": 0,
          "temp_max": 14.4,
          "temp_min": 6.1,
          "weather": "sun",
          "wind": 1.6
         },
         {
          "date": "2012-10-18T00:00:00",
          "precipitation": 20.8,
          "temp_max": 17.8,
          "temp_min": 6.7,
          "weather": "rain",
          "wind": 2
         },
         {
          "date": "2012-10-19T00:00:00",
          "precipitation": 4.8,
          "temp_max": 15,
          "temp_min": 9.4,
          "weather": "rain",
          "wind": 5.3
         },
         {
          "date": "2012-10-20T00:00:00",
          "precipitation": 0.5,
          "temp_max": 11.1,
          "temp_min": 6.1,
          "weather": "rain",
          "wind": 5.7
         },
         {
          "date": "2012-10-21T00:00:00",
          "precipitation": 6.4,
          "temp_max": 11.7,
          "temp_min": 4.4,
          "weather": "rain",
          "wind": 2.7
         },
         {
          "date": "2012-10-22T00:00:00",
          "precipitation": 8.9,
          "temp_max": 7.8,
          "temp_min": 3.3,
          "weather": "rain",
          "wind": 2.6
         },
         {
          "date": "2012-10-23T00:00:00",
          "precipitation": 0,
          "temp_max": 11.1,
          "temp_min": 5.6,
          "weather": "rain",
          "wind": 3
         },
         {
          "date": "2012-10-24T00:00:00",
          "precipitation": 7.1,
          "temp_max": 11.7,
          "temp_min": 6.1,
          "weather": "rain",
          "wind": 2.1
         },
         {
          "date": "2012-10-25T00:00:00",
          "precipitation": 0,
          "temp_max": 11.7,
          "temp_min": 6.7,
          "weather": "sun",
          "wind": 1.5
         },
         {
          "date": "2012-10-26T00:00:00",
          "precipitation": 1.5,
          "temp_max": 11.1,
          "temp_min": 7.2,
          "weather": "rain",
          "wind": 2.5
         },
         {
          "date": "2012-10-27T00:00:00",
          "precipitation": 23.1,
          "temp_max": 14.4,
          "temp_min": 9.4,
          "weather": "rain",
          "wind": 5.1
         },
         {
          "date": "2012-10-28T00:00:00",
          "precipitation": 6.1,
          "temp_max": 14.4,
          "temp_min": 10,
          "weather": "rain",
          "wind": 3.8
         },
         {
          "date": "2012-10-29T00:00:00",
          "precipitation": 10.9,
          "temp_max": 15.6,
          "temp_min": 10,
          "weather": "rain",
          "wind": 4.9
         },
         {
          "date": "2012-10-30T00:00:00",
          "precipitation": 34.5,
          "temp_max": 15,
          "temp_min": 12.2,
          "weather": "rain",
          "wind": 2.8
         },
         {
          "date": "2012-10-31T00:00:00",
          "precipitation": 14.5,
          "temp_max": 15.6,
          "temp_min": 11.1,
          "weather": "rain",
          "wind": 2.7
         },
         {
          "date": "2012-11-01T00:00:00",
          "precipitation": 9.7,
          "temp_max": 15,
          "temp_min": 10.6,
          "weather": "rain",
          "wind": 3
         },
         {
          "date": "2012-11-02T00:00:00",
          "precipitation": 5.6,
          "temp_max": 15,
          "temp_min": 10.6,
          "weather": "rain",
          "wind": 1
         },
         {
          "date": "2012-11-03T00:00:00",
          "precipitation": 0.5,
          "temp_max": 15.6,
          "temp_min": 11.1,
          "weather": "rain",
          "wind": 3.6
         },
         {
          "date": "2012-11-04T00:00:00",
          "precipitation": 8.1,
          "temp_max": 17.8,
          "temp_min": 12.8,
          "weather": "rain",
          "wind": 3.8
         },
         {
          "date": "2012-11-05T00:00:00",
          "precipitation": 0.8,
          "temp_max": 15,
          "temp_min": 7.8,
          "weather": "rain",
          "wind": 4
         },
         {
          "date": "2012-11-06T00:00:00",
          "precipitation": 0.3,
          "temp_max": 12.8,
          "temp_min": 6.7,
          "weather": "rain",
          "wind": 3.5
         },
         {
          "date": "2012-11-07T00:00:00",
          "precipitation": 0,
          "temp_max": 12.2,
          "temp_min": 3.9,
          "weather": "rain",
          "wind": 3.4
         },
         {
          "date": "2012-11-08T00:00:00",
          "precipitation": 0,
          "temp_max": 10,
          "temp_min": 1.1,
          "weather": "rain",
          "wind": 3.4
         },
         {
          "date": "2012-11-09T00:00:00",
          "precipitation": 0,
          "temp_max": 8.9,
          "temp_min": 1.1,
          "weather": "rain",
          "wind": 2
         },
         {
          "date": "2012-11-10T00:00:00",
          "precipitation": 0,
          "temp_max": 7.8,
          "temp_min": -0.6,
          "weather": "sun",
          "wind": 2.2
         },
         {
          "date": "2012-11-11T00:00:00",
          "precipitation": 15.2,
          "temp_max": 8.9,
          "temp_min": 1.1,
          "weather": "rain",
          "wind": 3
         },
         {
          "date": "2012-11-12T00:00:00",
          "precipitation": 3.6,
          "temp_max": 12.8,
          "temp_min": 6.1,
          "weather": "rain",
          "wind": 3
         },
         {
          "date": "2012-11-13T00:00:00",
          "precipitation": 5.3,
          "temp_max": 11.1,
          "temp_min": 7.8,
          "weather": "rain",
          "wind": 2.5
         },
         {
          "date": "2012-11-14T00:00:00",
          "precipitation": 0.8,
          "temp_max": 11.1,
          "temp_min": 5,
          "weather": "rain",
          "wind": 2.6
         },
         {
          "date": "2012-11-15T00:00:00",
          "precipitation": 0,
          "temp_max": 9.4,
          "temp_min": 2.8,
          "weather": "drizzle",
          "wind": 2.4
         },
         {
          "date": "2012-11-16T00:00:00",
          "precipitation": 5.6,
          "temp_max": 9.4,
          "temp_min": 2.2,
          "weather": "rain",
          "wind": 1.6
         },
         {
          "date": "2012-11-17T00:00:00",
          "precipitation": 6.1,
          "temp_max": 12.2,
          "temp_min": 6.1,
          "weather": "rain",
          "wind": 5.3
         },
         {
          "date": "2012-11-18T00:00:00",
          "precipitation": 7.9,
          "temp_max": 10,
          "temp_min": 6.1,
          "weather": "rain",
          "wind": 4.9
         },
         {
          "date": "2012-11-19T00:00:00",
          "precipitation": 54.1,
          "temp_max": 13.3,
          "temp_min": 8.3,
          "weather": "rain",
          "wind": 6
         },
         {
          "date": "2012-11-20T00:00:00",
          "precipitation": 3.8,
          "temp_max": 11.1,
          "temp_min": 7.2,
          "weather": "rain",
          "wind": 4.2
         },
         {
          "date": "2012-11-21T00:00:00",
          "precipitation": 11.2,
          "temp_max": 8.3,
          "temp_min": 3.9,
          "weather": "rain",
          "wind": 5.5
         },
         {
          "date": "2012-11-22T00:00:00",
          "precipitation": 0,
          "temp_max": 8.9,
          "temp_min": 2.8,
          "weather": "rain",
          "wind": 1.5
         },
         {
          "date": "2012-11-23T00:00:00",
          "precipitation": 32,
          "temp_max": 9.4,
          "temp_min": 6.1,
          "weather": "rain",
          "wind": 2.4
         },
         {
          "date": "2012-11-24T00:00:00",
          "precipitation": 0,
          "temp_max": 8.9,
          "temp_min": 3.9,
          "weather": "rain",
          "wind": 1.2
         },
         {
          "date": "2012-11-25T00:00:00",
          "precipitation": 0,
          "temp_max": 8.3,
          "temp_min": 1.1,
          "weather": "drizzle",
          "wind": 3.6
         },
         {
          "date": "2012-11-26T00:00:00",
          "precipitation": 0,
          "temp_max": 9.4,
          "temp_min": 1.7,
          "weather": "fog",
          "wind": 3.8
         },
         {
          "date": "2012-11-27T00:00:00",
          "precipitation": 0,
          "temp_max": 10,
          "temp_min": 1.7,
          "weather": "sun",
          "wind": 1.5
         },
         {
          "date": "2012-11-28T00:00:00",
          "precipitation": 2.8,
          "temp_max": 9.4,
          "temp_min": 2.2,
          "weather": "rain",
          "wind": 2.9
         },
         {
          "date": "2012-11-29T00:00:00",
          "precipitation": 1.5,
          "temp_max": 12.8,
          "temp_min": 7.8,
          "weather": "rain",
          "wind": 4.2
         },
         {
          "date": "2012-11-30T00:00:00",
          "precipitation": 35.6,
          "temp_max": 15,
          "temp_min": 7.8,
          "weather": "rain",
          "wind": 4.6
         },
         {
          "date": "2012-12-01T00:00:00",
          "precipitation": 4.1,
          "temp_max": 13.3,
          "temp_min": 8.3,
          "weather": "rain",
          "wind": 5.5
         },
         {
          "date": "2012-12-02T00:00:00",
          "precipitation": 19.6,
          "temp_max": 8.3,
          "temp_min": 7.2,
          "weather": "rain",
          "wind": 6.2
         },
         {
          "date": "2012-12-03T00:00:00",
          "precipitation": 13,
          "temp_max": 9.4,
          "temp_min": 7.2,
          "weather": "rain",
          "wind": 4.4
         },
         {
          "date": "2012-12-04T00:00:00",
          "precipitation": 14.2,
          "temp_max": 11.7,
          "temp_min": 7.2,
          "weather": "rain",
          "wind": 6.2
         },
         {
          "date": "2012-12-05T00:00:00",
          "precipitation": 1.5,
          "temp_max": 8.9,
          "temp_min": 4.4,
          "weather": "rain",
          "wind": 5
         },
         {
          "date": "2012-12-06T00:00:00",
          "precipitation": 1.5,
          "temp_max": 7.2,
          "temp_min": 6.1,
          "weather": "rain",
          "wind": 5.1
         },
         {
          "date": "2012-12-07T00:00:00",
          "precipitation": 1,
          "temp_max": 7.8,
          "temp_min": 3.3,
          "weather": "rain",
          "wind": 4.6
         },
         {
          "date": "2012-12-08T00:00:00",
          "precipitation": 0,
          "temp_max": 6.7,
          "temp_min": 3.3,
          "weather": "sun",
          "wind": 2
         },
         {
          "date": "2012-12-09T00:00:00",
          "precipitation": 1.5,
          "temp_max": 6.7,
          "temp_min": 2.8,
          "weather": "rain",
          "wind": 2.1
         },
         {
          "date": "2012-12-10T00:00:00",
          "precipitation": 0.5,
          "temp_max": 7.2,
          "temp_min": 5.6,
          "weather": "rain",
          "wind": 1.8
         },
         {
          "date": "2012-12-11T00:00:00",
          "precipitation": 3,
          "temp_max": 7.8,
          "temp_min": 5.6,
          "weather": "rain",
          "wind": 4.5
         },
         {
          "date": "2012-12-12T00:00:00",
          "precipitation": 8.1,
          "temp_max": 6.7,
          "temp_min": 4.4,
          "weather": "rain",
          "wind": 2
         },
         {
          "date": "2012-12-13T00:00:00",
          "precipitation": 2.3,
          "temp_max": 7.2,
          "temp_min": 3.3,
          "weather": "rain",
          "wind": 2.8
         },
         {
          "date": "2012-12-14T00:00:00",
          "precipitation": 7.9,
          "temp_max": 6.1,
          "temp_min": 1.1,
          "weather": "rain",
          "wind": 1.7
         },
         {
          "date": "2012-12-15T00:00:00",
          "precipitation": 5.3,
          "temp_max": 4.4,
          "temp_min": 0.6,
          "weather": "snow",
          "wind": 5.1
         },
         {
          "date": "2012-12-16T00:00:00",
          "precipitation": 22.6,
          "temp_max": 6.7,
          "temp_min": 3.3,
          "weather": "snow",
          "wind": 5.5
         },
         {
          "date": "2012-12-17T00:00:00",
          "precipitation": 2,
          "temp_max": 8.3,
          "temp_min": 1.7,
          "weather": "rain",
          "wind": 9.5
         },
         {
          "date": "2012-12-18T00:00:00",
          "precipitation": 3.3,
          "temp_max": 3.9,
          "temp_min": 0.6,
          "weather": "snow",
          "wind": 5.3
         },
         {
          "date": "2012-12-19T00:00:00",
          "precipitation": 13.7,
          "temp_max": 8.3,
          "temp_min": 1.7,
          "weather": "snow",
          "wind": 5.8
         },
         {
          "date": "2012-12-20T00:00:00",
          "precipitation": 13.2,
          "temp_max": 7.2,
          "temp_min": 0.6,
          "weather": "rain",
          "wind": 3.7
         },
         {
          "date": "2012-12-21T00:00:00",
          "precipitation": 1.8,
          "temp_max": 8.3,
          "temp_min": -1.7,
          "weather": "rain",
          "wind": 1.7
         },
         {
          "date": "2012-12-22T00:00:00",
          "precipitation": 3.3,
          "temp_max": 8.3,
          "temp_min": 3.9,
          "weather": "rain",
          "wind": 3.5
         },
         {
          "date": "2012-12-23T00:00:00",
          "precipitation": 6.6,
          "temp_max": 7.2,
          "temp_min": 3.3,
          "weather": "rain",
          "wind": 2.5
         },
         {
          "date": "2012-12-24T00:00:00",
          "precipitation": 0.3,
          "temp_max": 5.6,
          "temp_min": 2.8,
          "weather": "rain",
          "wind": 2.8
         },
         {
          "date": "2012-12-25T00:00:00",
          "precipitation": 13.5,
          "temp_max": 5.6,
          "temp_min": 2.8,
          "weather": "snow",
          "wind": 4.2
         },
         {
          "date": "2012-12-26T00:00:00",
          "precipitation": 4.6,
          "temp_max": 6.7,
          "temp_min": 3.3,
          "weather": "rain",
          "wind": 4.9
         },
         {
          "date": "2012-12-27T00:00:00",
          "precipitation": 4.1,
          "temp_max": 7.8,
          "temp_min": 3.3,
          "weather": "rain",
          "wind": 3.2
         },
         {
          "date": "2012-12-28T00:00:00",
          "precipitation": 0,
          "temp_max": 8.3,
          "temp_min": 3.9,
          "weather": "rain",
          "wind": 1.7
         },
         {
          "date": "2012-12-29T00:00:00",
          "precipitation": 1.5,
          "temp_max": 5,
          "temp_min": 3.3,
          "weather": "rain",
          "wind": 1.7
         },
         {
          "date": "2012-12-30T00:00:00",
          "precipitation": 0,
          "temp_max": 4.4,
          "temp_min": 0,
          "weather": "drizzle",
          "wind": 1.8
         },
         {
          "date": "2012-12-31T00:00:00",
          "precipitation": 0,
          "temp_max": 3.3,
          "temp_min": -1.1,
          "weather": "drizzle",
          "wind": 2
         },
         {
          "date": "2013-01-01T00:00:00",
          "precipitation": 0,
          "temp_max": 5,
          "temp_min": -2.8,
          "weather": "sun",
          "wind": 2.7
         },
         {
          "date": "2013-01-02T00:00:00",
          "precipitation": 0,
          "temp_max": 6.1,
          "temp_min": -1.1,
          "weather": "sun",
          "wind": 3.2
         },
         {
          "date": "2013-01-03T00:00:00",
          "precipitation": 4.1,
          "temp_max": 6.7,
          "temp_min": -1.7,
          "weather": "rain",
          "wind": 3
         },
         {
          "date": "2013-01-04T00:00:00",
          "precipitation": 2.5,
          "temp_max": 10,
          "temp_min": 2.2,
          "weather": "rain",
          "wind": 2.8
         },
         {
          "date": "2013-01-05T00:00:00",
          "precipitation": 3,
          "temp_max": 6.7,
          "temp_min": 4.4,
          "weather": "rain",
          "wind": 3.1
         },
         {
          "date": "2013-01-06T00:00:00",
          "precipitation": 2,
          "temp_max": 7.2,
          "temp_min": 2.8,
          "weather": "rain",
          "wind": 3
         },
         {
          "date": "2013-01-07T00:00:00",
          "precipitation": 2.3,
          "temp_max": 10,
          "temp_min": 4.4,
          "weather": "rain",
          "wind": 7.3
         },
         {
          "date": "2013-01-08T00:00:00",
          "precipitation": 16.3,
          "temp_max": 11.7,
          "temp_min": 5.6,
          "weather": "rain",
          "wind": 6.3
         },
         {
          "date": "2013-01-09T00:00:00",
          "precipitation": 38.4,
          "temp_max": 10,
          "temp_min": 1.7,
          "weather": "rain",
          "wind": 5.1
         },
         {
          "date": "2013-01-10T00:00:00",
          "precipitation": 0.3,
          "temp_max": 3.3,
          "temp_min": -0.6,
          "weather": "snow",
          "wind": 2.1
         },
         {
          "date": "2013-01-11T00:00:00",
          "precipitation": 0,
          "temp_max": 2.8,
          "temp_min": -2.8,
          "weather": "drizzle",
          "wind": 1.9
         },
         {
          "date": "2013-01-12T00:00:00",
          "precipitation": 0,
          "temp_max": 2.8,
          "temp_min": -3.9,
          "weather": "sun",
          "wind": 2
         },
         {
          "date": "2013-01-13T00:00:00",
          "precipitation": 0,
          "temp_max": 2.2,
          "temp_min": -4.4,
          "weather": "sun",
          "wind": 1.5
         },
         {
          "date": "2013-01-14T00:00:00",
          "precipitation": 0,
          "temp_max": 3.3,
          "temp_min": -2.2,
          "weather": "sun",
          "wind": 1.3
         },
         {
          "date": "2013-01-15T00:00:00",
          "precipitation": 0,
          "temp_max": 6.7,
          "temp_min": -0.6,
          "weather": "sun",
          "wind": 2.3
         },
         {
          "date": "2013-01-16T00:00:00",
          "precipitation": 0,
          "temp_max": 6.1,
          "temp_min": -3.9,
          "weather": "drizzle",
          "wind": 1.8
         },
         {
          "date": "2013-01-17T00:00:00",
          "precipitation": 0,
          "temp_max": 3.9,
          "temp_min": -2.8,
          "weather": "drizzle",
          "wind": 1
         },
         {
          "date": "2013-01-18T00:00:00",
          "precipitation": 0,
          "temp_max": 3.3,
          "temp_min": -1.1,
          "weather": "drizzle",
          "wind": 1.3
         },
         {
          "date": "2013-01-19T00:00:00",
          "precipitation": 0,
          "temp_max": 1.1,
          "temp_min": -0.6,
          "weather": "drizzle",
          "wind": 1.9
         },
         {
          "date": "2013-01-20T00:00:00",
          "precipitation": 0,
          "temp_max": 3.3,
          "temp_min": -0.6,
          "weather": "drizzle",
          "wind": 2.1
         },
         {
          "date": "2013-01-21T00:00:00",
          "precipitation": 0,
          "temp_max": 2.2,
          "temp_min": -1.7,
          "weather": "drizzle",
          "wind": 1.1
         },
         {
          "date": "2013-01-22T00:00:00",
          "precipitation": 0,
          "temp_max": 3.3,
          "temp_min": -1.7,
          "weather": "drizzle",
          "wind": 0.6
         },
         {
          "date": "2013-01-23T00:00:00",
          "precipitation": 5.1,
          "temp_max": 7.2,
          "temp_min": 2.2,
          "weather": "rain",
          "wind": 3.1
         },
         {
          "date": "2013-01-24T00:00:00",
          "precipitation": 5.8,
          "temp_max": 7.2,
          "temp_min": 1.1,
          "weather": "rain",
          "wind": 2.6
         },
         {
          "date": "2013-01-25T00:00:00",
          "precipitation": 3,
          "temp_max": 10.6,
          "temp_min": 2.8,
          "weather": "rain",
          "wind": 2.1
         },
         {
          "date": "2013-01-26T00:00:00",
          "precipitation": 2.3,
          "temp_max": 8.3,
          "temp_min": 3.9,
          "weather": "rain",
          "wind": 4.5
         },
         {
          "date": "2013-01-27T00:00:00",
          "precipitation": 1.8,
          "temp_max": 5.6,
          "temp_min": 3.9,
          "weather": "rain",
          "wind": 4.5
         },
         {
          "date": "2013-01-28T00:00:00",
          "precipitation": 7.9,
          "temp_max": 6.1,
          "temp_min": 3.3,
          "weather": "rain",
          "wind": 3.2
         },
         {
          "date": "2013-01-29T00:00:00",
          "precipitation": 4.3,
          "temp_max": 8.3,
          "temp_min": 5,
          "weather": "rain",
          "wind": 3.9
         },
         {
          "date": "2013-01-30T00:00:00",
          "precipitation": 3.6,
          "temp_max": 8.9,
          "temp_min": 6.7,
          "weather": "rain",
          "wind": 3.9
         },
         {
          "date": "2013-01-31T00:00:00",
          "precipitation": 3,
          "temp_max": 9.4,
          "temp_min": 7.2,
          "weather": "rain",
          "wind": 4
         },
         {
          "date": "2013-02-01T00:00:00",
          "precipitation": 0.3,
          "temp_max": 11.7,
          "temp_min": 5,
          "weather": "rain",
          "wind": 2.9
         },
         {
          "date": "2013-02-02T00:00:00",
          "precipitation": 0,
          "temp_max": 6.1,
          "temp_min": 2.8,
          "weather": "drizzle",
          "wind": 2
         },
         {
          "date": "2013-02-03T00:00:00",
          "precipitation": 2.3,
          "temp_max": 8.9,
          "temp_min": 2.8,
          "weather": "rain",
          "wind": 2.9
         },
         {
          "date": "2013-02-04T00:00:00",
          "precipitation": 0,
          "temp_max": 10.6,
          "temp_min": 6.7,
          "weather": "rain",
          "wind": 2.6
         },
         {
          "date": "2013-02-05T00:00:00",
          "precipitation": 3.3,
          "temp_max": 10,
          "temp_min": 6.7,
          "weather": "rain",
          "wind": 5.1
         },
         {
          "date": "2013-02-06T00:00:00",
          "precipitation": 1,
          "temp_max": 10.6,
          "temp_min": 6.1,
          "weather": "rain",
          "wind": 4.5
         },
         {
          "date": "2013-02-07T00:00:00",
          "precipitation": 1.3,
          "temp_max": 9.4,
          "temp_min": 3.3,
          "weather": "rain",
          "wind": 4.1
         },
         {
          "date": "2013-02-08T00:00:00",
          "precipitation": 0,
          "temp_max": 7.8,
          "temp_min": 2.2,
          "weather": "sun",
          "wind": 1.3
         },
         {
          "date": "2013-02-09T00:00:00",
          "precipitation": 0.3,
          "temp_max": 8.3,
          "temp_min": 4.4,
          "weather": "rain",
          "wind": 1.3
         },
         {
          "date": "2013-02-10T00:00:00",
          "precipitation": 0,
          "temp_max": 8.9,
          "temp_min": 1.7,
          "weather": "drizzle",
          "wind": 2
         },
         {
          "date": "2013-02-11T00:00:00",
          "precipitation": 0.3,
          "temp_max": 8.3,
          "temp_min": 4.4,
          "weather": "rain",
          "wind": 1.4
         },
         {
          "date": "2013-02-12T00:00:00",
          "precipitation": 1,
          "temp_max": 11.1,
          "temp_min": 7.2,
          "weather": "rain",
          "wind": 5.6
         },
         {
          "date": "2013-02-13T00:00:00",
          "precipitation": 2.3,
          "temp_max": 9.4,
          "temp_min": 7.2,
          "weather": "rain",
          "wind": 4.1
         },
         {
          "date": "2013-02-14T00:00:00",
          "precipitation": 1,
          "temp_max": 9.4,
          "temp_min": 5.6,
          "weather": "rain",
          "wind": 2.2
         },
         {
          "date": "2013-02-15T00:00:00",
          "precipitation": 0,
          "temp_max": 13.3,
          "temp_min": 5,
          "weather": "drizzle",
          "wind": 2.4
         },
         {
          "date": "2013-02-16T00:00:00",
          "precipitation": 0,
          "temp_max": 11.1,
          "temp_min": 3.9,
          "weather": "rain",
          "wind": 5.6
         },
         {
          "date": "2013-02-17T00:00:00",
          "precipitation": 0,
          "temp_max": 9.4,
          "temp_min": 4.4,
          "weather": "rain",
          "wind": 3.4
         },
         {
          "date": "2013-02-18T00:00:00",
          "precipitation": 0,
          "temp_max": 7.8,
          "temp_min": 3.9,
          "weather": "rain",
          "wind": 1.9
         },
         {
          "date": "2013-02-19T00:00:00",
          "precipitation": 0,
          "temp_max": 10.6,
          "temp_min": 1.7,
          "weather": "sun",
          "wind": 3.4
         },
         {
          "date": "2013-02-20T00:00:00",
          "precipitation": 1.5,
          "temp_max": 7.8,
          "temp_min": 1.1,
          "weather": "rain",
          "wind": 2.1
         },
         {
          "date": "2013-02-21T00:00:00",
          "precipitation": 0.5,
          "temp_max": 6.7,
          "temp_min": 3.9,
          "weather": "rain",
          "wind": 6.2
         },
         {
          "date": "2013-02-22T00:00:00",
          "precipitation": 9.4,
          "temp_max": 7.8,
          "temp_min": 3.9,
          "weather": "rain",
          "wind": 8.1
         },
         {
          "date": "2013-02-23T00:00:00",
          "precipitation": 0.3,
          "temp_max": 10,
          "temp_min": 3.9,
          "weather": "rain",
          "wind": 4.6
         },
         {
          "date": "2013-02-24T00:00:00",
          "precipitation": 0,
          "temp_max": 8.9,
          "temp_min": 5,
          "weather": "rain",
          "wind": 5.5
         },
         {
          "date": "2013-02-25T00:00:00",
          "precipitation": 2.3,
          "temp_max": 10.6,
          "temp_min": 3.3,
          "weather": "rain",
          "wind": 7.1
         },
         {
          "date": "2013-02-26T00:00:00",
          "precipitation": 0.5,
          "temp_max": 8.9,
          "temp_min": 3.9,
          "weather": "rain",
          "wind": 3.8
         },
         {
          "date": "2013-02-27T00:00:00",
          "precipitation": 4.6,
          "temp_max": 10,
          "temp_min": 4.4,
          "weather": "rain",
          "wind": 1.8
         },
         {
          "date": "2013-02-28T00:00:00",
          "precipitation": 8.1,
          "temp_max": 11.7,
          "temp_min": 6.7,
          "weather": "rain",
          "wind": 3.8
         },
         {
          "date": "2013-03-01T00:00:00",
          "precipitation": 4.1,
          "temp_max": 15,
          "temp_min": 11.1,
          "weather": "rain",
          "wind": 5.4
         },
         {
          "date": "2013-03-02T00:00:00",
          "precipitation": 0.8,
          "temp_max": 13.9,
          "temp_min": 5,
          "weather": "rain",
          "wind": 4.5
         },
         {
          "date": "2013-03-03T00:00:00",
          "precipitation": 0,
          "temp_max": 11.1,
          "temp_min": 2.2,
          "weather": "sun",
          "wind": 2.8
         },
         {
          "date": "2013-03-04T00:00:00",
          "precipitation": 0,
          "temp_max": 13.3,
          "temp_min": 0,
          "weather": "sun",
          "wind": 3.9
         },
         {
          "date": "2013-03-05T00:00:00",
          "precipitation": 0,
          "temp_max": 9.4,
          "temp_min": 6.1,
          "weather": "rain",
          "wind": 2.4
         },
         {
          "date": "2013-03-06T00:00:00",
          "precipitation": 11.9,
          "temp_max": 7.2,
          "temp_min": 5,
          "weather": "rain",
          "wind": 4.1
         },
         {
          "date": "2013-03-07T00:00:00",
          "precipitation": 7.4,
          "temp_max": 12.2,
          "temp_min": 5,
          "weather": "rain",
          "wind": 2.5
         },
         {
          "date": "2013-03-08T00:00:00",
          "precipitation": 0,
          "temp_max": 11.7,
          "temp_min": 2.2,
          "weather": "drizzle",
          "wind": 2.6
         },
         {
          "date": "2013-03-09T00:00:00",
          "precipitation": 0,
          "temp_max": 12.8,
          "temp_min": 1.1,
          "weather": "fog",
          "wind": 1.3
         },
         {
          "date": "2013-03-10T00:00:00",
          "precipitation": 0.8,
          "temp_max": 7.8,
          "temp_min": 3.9,
          "weather": "rain",
          "wind": 1.6
         },
         {
          "date": "2013-03-11T00:00:00",
          "precipitation": 1.3,
          "temp_max": 10.6,
          "temp_min": 6.1,
          "weather": "rain",
          "wind": 1.1
         },
         {
          "date": "2013-03-12T00:00:00",
          "precipitation": 2,
          "temp_max": 12.8,
          "temp_min": 10,
          "weather": "rain",
          "wind": 5.7
         },
         {
          "date": "2013-03-13T00:00:00",
          "precipitation": 2.3,
          "temp_max": 11.7,
          "temp_min": 9.4,
          "weather": "rain",
          "wind": 3.7
         },
         {
          "date": "2013-03-14T00:00:00",
          "precipitation": 2.8,
          "temp_max": 11.7,
          "temp_min": 9.4,
          "weather": "rain",
          "wind": 3
         },
         {
          "date": "2013-03-15T00:00:00",
          "precipitation": 0,
          "temp_max": 14.4,
          "temp_min": 8.9,
          "weather": "rain",
          "wind": 4.3
         },
         {
          "date": "2013-03-16T00:00:00",
          "precipitation": 4.3,
          "temp_max": 10.6,
          "temp_min": 4.4,
          "weather": "rain",
          "wind": 6.4
         },
         {
          "date": "2013-03-17T00:00:00",
          "precipitation": 0,
          "temp_max": 8.9,
          "temp_min": 3.9,
          "weather": "sun",
          "wind": 6.1
         },
         {
          "date": "2013-03-18T00:00:00",
          "precipitation": 0,
          "temp_max": 11.7,
          "temp_min": 3.9,
          "weather": "rain",
          "wind": 5.9
         },
         {
          "date": "2013-03-19T00:00:00",
          "precipitation": 11.7,
          "temp_max": 12.8,
          "temp_min": 1.7,
          "weather": "rain",
          "wind": 3.4
         },
         {
          "date": "2013-03-20T00:00:00",
          "precipitation": 9.9,
          "temp_max": 11.1,
          "temp_min": 4.4,
          "weather": "rain",
          "wind": 7.6
         },
         {
          "date": "2013-03-21T00:00:00",
          "precipitation": 8.1,
          "temp_max": 10,
          "temp_min": 2.2,
          "weather": "snow",
          "wind": 4.9
         },
         {
          "date": "2013-03-22T00:00:00",
          "precipitation": 0,
          "temp_max": 9.4,
          "temp_min": 0.6,
          "weather": "sun",
          "wind": 2.2
         },
         {
          "date": "2013-03-23T00:00:00",
          "precipitation": 0,
          "temp_max": 10,
          "temp_min": 1.1,
          "weather": "sun",
          "wind": 2.6
         },
         {
          "date": "2013-03-24T00:00:00",
          "precipitation": 0,
          "temp_max": 12.2,
          "temp_min": 0.6,
          "weather": "sun",
          "wind": 2.1
         },
         {
          "date": "2013-03-25T00:00:00",
          "precipitation": 0,
          "temp_max": 16.7,
          "temp_min": 4.4,
          "weather": "sun",
          "wind": 2.8
         },
         {
          "date": "2013-03-26T00:00:00",
          "precipitation": 0,
          "temp_max": 16.7,
          "temp_min": 6.1,
          "weather": "sun",
          "wind": 1.7
         },
         {
          "date": "2013-03-27T00:00:00",
          "precipitation": 0.3,
          "temp_max": 13.3,
          "temp_min": 7.2,
          "weather": "rain",
          "wind": 1.6
         },
         {
          "date": "2013-03-28T00:00:00",
          "precipitation": 2,
          "temp_max": 16.1,
          "temp_min": 8.3,
          "weather": "rain",
          "wind": 1.3
         },
         {
          "date": "2013-03-29T00:00:00",
          "precipitation": 0,
          "temp_max": 18.3,
          "temp_min": 7.8,
          "weather": "rain",
          "wind": 2.5
         },
         {
          "date": "2013-03-30T00:00:00",
          "precipitation": 0,
          "temp_max": 20,
          "temp_min": 5.6,
          "weather": "drizzle",
          "wind": 4.4
         },
         {
          "date": "2013-03-31T00:00:00",
          "precipitation": 0,
          "temp_max": 20.6,
          "temp_min": 6.7,
          "weather": "sun",
          "wind": 2.9
         },
         {
          "date": "2013-04-01T00:00:00",
          "precipitation": 0,
          "temp_max": 17.2,
          "temp_min": 8.3,
          "weather": "sun",
          "wind": 3.6
         },
         {
          "date": "2013-04-02T00:00:00",
          "precipitation": 0,
          "temp_max": 13.9,
          "temp_min": 8.9,
          "weather": "sun",
          "wind": 2.2
         },
         {
          "date": "2013-04-03T00:00:00",
          "precipitation": 0,
          "temp_max": 16.7,
          "temp_min": 7.8,
          "weather": "sun",
          "wind": 1.6
         },
         {
          "date": "2013-04-04T00:00:00",
          "precipitation": 8.4,
          "temp_max": 14.4,
          "temp_min": 10,
          "weather": "fog",
          "wind": 3
         },
         {
          "date": "2013-04-05T00:00:00",
          "precipitation": 18.5,
          "temp_max": 13.9,
          "temp_min": 10,
          "weather": "fog",
          "wind": 5.6
         },
         {
          "date": "2013-04-06T00:00:00",
          "precipitation": 12.7,
          "temp_max": 12.2,
          "temp_min": 7.2,
          "weather": "fog",
          "wind": 5
         },
         {
          "date": "2013-04-07T00:00:00",
          "precipitation": 39.1,
          "temp_max": 8.3,
          "temp_min": 5,
          "weather": "fog",
          "wind": 3.9
         },
         {
          "date": "2013-04-08T00:00:00",
          "precipitation": 0.8,
          "temp_max": 13.3,
          "temp_min": 6.1,
          "weather": "fog",
          "wind": 3.1
         },
         {
          "date": "2013-04-09T00:00:00",
          "precipitation": 0,
          "temp_max": 12.2,
          "temp_min": 6.1,
          "weather": "sun",
          "wind": 2.4
         },
         {
          "date": "2013-04-10T00:00:00",
          "precipitation": 9.4,
          "temp_max": 15,
          "temp_min": 8.9,
          "weather": "sun",
          "wind": 6.4
         },
         {
          "date": "2013-04-11T00:00:00",
          "precipitation": 1.5,
          "temp_max": 12.2,
          "temp_min": 6.7,
          "weather": "fog",
          "wind": 3.8
         },
         {
          "date": "2013-04-12T00:00:00",
          "precipitation": 9.7,
          "temp_max": 7.8,
          "temp_min": 4.4,
          "weather": "fog",
          "wind": 4.6
         },
         {
          "date": "2013-04-13T00:00:00",
          "precipitation": 9.4,
          "temp_max": 10.6,
          "temp_min": 3.3,
          "weather": "fog",
          "wind": 5.7
         },
         {
          "date": "2013-04-14T00:00:00",
          "precipitation": 5.8,
          "temp_max": 12.8,
          "temp_min": 4.4,
          "weather": "fog",
          "wind": 2.3
         },
         {
          "date": "2013-04-15T00:00:00",
          "precipitation": 0,
          "temp_max": 13.9,
          "temp_min": 4.4,
          "weather": "fog",
          "wind": 2.4
         },
         {
          "date": "2013-04-16T00:00:00",
          "precipitation": 0.3,
          "temp_max": 13.9,
          "temp_min": 3.3,
          "weather": "sun",
          "wind": 2.6
         },
         {
          "date": "2013-04-17T00:00:00",
          "precipitation": 0,
          "temp_max": 15,
          "temp_min": 3.9,
          "weather": "drizzle",
          "wind": 3.3
         },
         {
          "date": "2013-04-18T00:00:00",
          "precipitation": 5.3,
          "temp_max": 11.7,
          "temp_min": 6.7,
          "weather": "fog",
          "wind": 4
         },
         {
          "date": "2013-04-19T00:00:00",
          "precipitation": 20.6,
          "temp_max": 13.3,
          "temp_min": 9.4,
          "weather": "fog",
          "wind": 4.9
         },
         {
          "date": "2013-04-20T00:00:00",
          "precipitation": 0,
          "temp_max": 13.9,
          "temp_min": 8.3,
          "weather": "sun",
          "wind": 5.8
         },
         {
          "date": "2013-04-21T00:00:00",
          "precipitation": 3.3,
          "temp_max": 12.2,
          "temp_min": 6.7,
          "weather": "sun",
          "wind": 4.1
         },
         {
          "date": "2013-04-22T00:00:00",
          "precipitation": 0,
          "temp_max": 16.1,
          "temp_min": 5,
          "weather": "sun",
          "wind": 4.3
         },
         {
          "date": "2013-04-23T00:00:00",
          "precipitation": 0,
          "temp_max": 17.8,
          "temp_min": 3.9,
          "weather": "sun",
          "wind": 2.8
         },
         {
          "date": "2013-04-24T00:00:00",
          "precipitation": 0,
          "temp_max": 21.1,
          "temp_min": 6.1,
          "weather": "sun",
          "wind": 3
         },
         {
          "date": "2013-04-25T00:00:00",
          "precipitation": 0,
          "temp_max": 21.7,
          "temp_min": 6.7,
          "weather": "sun",
          "wind": 1.1
         },
         {
          "date": "2013-04-26T00:00:00",
          "precipitation": 0,
          "temp_max": 20.6,
          "temp_min": 8.3,
          "weather": "fog",
          "wind": 2.2
         },
         {
          "date": "2013-04-27T00:00:00",
          "precipitation": 0,
          "temp_max": 13.9,
          "temp_min": 10.6,
          "weather": "sun",
          "wind": 5.9
         },
         {
          "date": "2013-04-28T00:00:00",
          "precipitation": 1,
          "temp_max": 15,
          "temp_min": 9.4,
          "weather": "drizzle",
          "wind": 5.2
         },
         {
          "date": "2013-04-29T00:00:00",
          "precipitation": 3.8,
          "temp_max": 13.9,
          "temp_min": 6.7,
          "weather": "fog",
          "wind": 4.2
         },
         {
          "date": "2013-04-30T00:00:00",
          "precipitation": 0,
          "temp_max": 12.8,
          "temp_min": 4.4,
          "weather": "sun",
          "wind": 2.4
         },
         {
          "date": "2013-05-01T00:00:00",
          "precipitation": 0,
          "temp_max": 18.3,
          "temp_min": 3.3,
          "weather": "sun",
          "wind": 3.1
         },
         {
          "date": "2013-05-02T00:00:00",
          "precipitation": 0,
          "temp_max": 20.6,
          "temp_min": 6.7,
          "weather": "sun",
          "wind": 4
         },
         {
          "date": "2013-05-03T00:00:00",
          "precipitation": 0,
          "temp_max": 21.7,
          "temp_min": 9.4,
          "weather": "sun",
          "wind": 4.9
         },
         {
          "date": "2013-05-04T00:00:00",
          "precipitation": 0,
          "temp_max": 25,
          "temp_min": 11.1,
          "weather": "sun",
          "wind": 6.5
         },
         {
          "date": "2013-05-05T00:00:00",
          "precipitation": 0,
          "temp_max": 28.9,
          "temp_min": 11.7,
          "weather": "sun",
          "wind": 5.3
         },
         {
          "date": "2013-05-06T00:00:00",
          "precipitation": 0,
          "temp_max": 30.6,
          "temp_min": 12.2,
          "weather": "sun",
          "wind": 2
         },
         {
          "date": "2013-05-07T00:00:00",
          "precipitation": 0,
          "temp_max": 20.6,
          "temp_min": 11.1,
          "weather": "sun",
          "wind": 3.3
         },
         {
          "date": "2013-05-08T00:00:00",
          "precipitation": 0,
          "temp_max": 19.4,
          "temp_min": 11.1,
          "weather": "sun",
          "wind": 1.9
         },
         {
          "date": "2013-05-09T00:00:00",
          "precipitation": 0,
          "temp_max": 22.8,
          "temp_min": 10,
          "weather": "sun",
          "wind": 1.3
         },
         {
          "date": "2013-05-10T00:00:00",
          "precipitation": 0,
          "temp_max": 26.1,
          "temp_min": 9.4,
          "weather": "sun",
          "wind": 1
         },
         {
          "date": "2013-05-11T00:00:00",
          "precipitation": 0,
          "temp_max": 27.2,
          "temp_min": 12.2,
          "weather": "sun",
          "wind": 2.6
         },
         {
          "date": "2013-05-12T00:00:00",
          "precipitation": 6.6,
          "temp_max": 21.7,
          "temp_min": 13.9,
          "weather": "fog",
          "wind": 3.9
         },
         {
          "date": "2013-05-13T00:00:00",
          "precipitation": 3.3,
          "temp_max": 18.9,
          "temp_min": 9.4,
          "weather": "sun",
          "wind": 5
         },
         {
          "date": "2013-05-14T00:00:00",
          "precipitation": 0,
          "temp_max": 18.3,
          "temp_min": 7.8,
          "weather": "sun",
          "wind": 2.4
         },
         {
          "date": "2013-05-15T00:00:00",
          "precipitation": 1,
          "temp_max": 17.2,
          "temp_min": 8.9,
          "weather": "fog",
          "wind": 2.3
         },
         {
          "date": "2013-05-16T00:00:00",
          "precipitation": 0,
          "temp_max": 21.7,
          "temp_min": 12.2,
          "weather": "fog",
          "wind": 2.7
         },
         {
          "date": "2013-05-17T00:00:00",
          "precipitation": 0.5,
          "temp_max": 17.2,
          "temp_min": 11.7,
          "weather": "sun",
          "wind": 3.7
         },
         {
          "date": "2013-05-18T00:00:00",
          "precipitation": 0,
          "temp_max": 16.7,
          "temp_min": 11.1,
          "weather": "sun",
          "wind": 2.9
         },
         {
          "date": "2013-05-19T00:00:00",
          "precipitation": 0,
          "temp_max": 18.3,
          "temp_min": 10.6,
          "weather": "sun",
          "wind": 2.3
         },
         {
          "date": "2013-05-20T00:00:00",
          "precipitation": 0,
          "temp_max": 19.4,
          "temp_min": 9.4,
          "weather": "sun",
          "wind": 1.8
         },
         {
          "date": "2013-05-21T00:00:00",
          "precipitation": 13.7,
          "temp_max": 15.6,
          "temp_min": 8.3,
          "weather": "fog",
          "wind": 4.8
         },
         {
          "date": "2013-05-22T00:00:00",
          "precipitation": 13.7,
          "temp_max": 11.1,
          "temp_min": 7.2,
          "weather": "fog",
          "wind": 3
         },
         {
          "date": "2013-05-23T00:00:00",
          "precipitation": 4.1,
          "temp_max": 12.2,
          "temp_min": 6.7,
          "weather": "fog",
          "wind": 1.9
         },
         {
          "date": "2013-05-24T00:00:00",
          "precipitation": 0.3,
          "temp_max": 16.7,
          "temp_min": 8.9,
          "weather": "sun",
          "wind": 2.7
         },
         {
          "date": "2013-05-25T00:00:00",
          "precipitation": 0,
          "temp_max": 17.8,
          "temp_min": 10,
          "weather": "sun",
          "wind": 2.7
         },
         {
          "date": "2013-05-26T00:00:00",
          "precipitation": 1.5,
          "temp_max": 18.3,
          "temp_min": 10.6,
          "weather": "fog",
          "wind": 2.2
         },
         {
          "date": "2013-05-27T00:00:00",
          "precipitation": 9.7,
          "temp_max": 16.7,
          "temp_min": 11.1,
          "weather": "fog",
          "wind": 3.1
         },
         {
          "date": "2013-05-28T00:00:00",
          "precipitation": 0.5,
          "temp_max": 17.2,
          "temp_min": 11.7,
          "weather": "fog",
          "wind": 2.8
         },
         {
          "date": "2013-05-29T00:00:00",
          "precipitation": 5.6,
          "temp_max": 16.1,
          "temp_min": 9.4,
          "weather": "fog",
          "wind": 4
         },
         {
          "date": "2013-05-30T00:00:00",
          "precipitation": 0,
          "temp_max": 16.7,
          "temp_min": 9.4,
          "weather": "sun",
          "wind": 5.3
         },
         {
          "date": "2013-05-31T00:00:00",
          "precipitation": 0,
          "temp_max": 19.4,
          "temp_min": 11.1,
          "weather": "sun",
          "wind": 2.5
         },
         {
          "date": "2013-06-01T00:00:00",
          "precipitation": 0,
          "temp_max": 22.8,
          "temp_min": 12.2,
          "weather": "sun",
          "wind": 2.5
         },
         {
          "date": "2013-06-02T00:00:00",
          "precipitation": 1,
          "temp_max": 20.6,
          "temp_min": 12.2,
          "weather": "sun",
          "wind": 3.1
         },
         {
          "date": "2013-06-03T00:00:00",
          "precipitation": 0,
          "temp_max": 22.2,
          "temp_min": 11.1,
          "weather": "sun",
          "wind": 2.9
         },
         {
          "date": "2013-06-04T00:00:00",
          "precipitation": 0,
          "temp_max": 26.1,
          "temp_min": 12.2,
          "weather": "sun",
          "wind": 3.4
         },
         {
          "date": "2013-06-05T00:00:00",
          "precipitation": 0,
          "temp_max": 26.7,
          "temp_min": 14.4,
          "weather": "sun",
          "wind": 3.1
         },
         {
          "date": "2013-06-06T00:00:00",
          "precipitation": 0,
          "temp_max": 26.7,
          "temp_min": 12.2,
          "weather": "sun",
          "wind": 2.5
         },
         {
          "date": "2013-06-07T00:00:00",
          "precipitation": 0,
          "temp_max": 21.7,
          "temp_min": 13.3,
          "weather": "sun",
          "wind": 3.2
         },
         {
          "date": "2013-06-08T00:00:00",
          "precipitation": 0,
          "temp_max": 20.6,
          "temp_min": 12.8,
          "weather": "sun",
          "wind": 3.1
         },
         {
          "date": "2013-06-09T00:00:00",
          "precipitation": 0,
          "temp_max": 20.6,
          "temp_min": 11.1,
          "weather": "sun",
          "wind": 3.7
         },
         {
          "date": "2013-06-10T00:00:00",
          "precipitation": 0,
          "temp_max": 21.7,
          "temp_min": 11.7,
          "weather": "sun",
          "wind": 3.2
         },
         {
          "date": "2013-06-11T00:00:00",
          "precipitation": 0,
          "temp_max": 20,
          "temp_min": 10,
          "weather": "sun",
          "wind": 5.7
         },
         {
          "date": "2013-06-12T00:00:00",
          "precipitation": 0.3,
          "temp_max": 20.6,
          "temp_min": 11.7,
          "weather": "sun",
          "wind": 4.2
         },
         {
          "date": "2013-06-13T00:00:00",
          "precipitation": 0,
          "temp_max": 21.1,
          "temp_min": 11.7,
          "weather": "sun",
          "wind": 2.6
         },
         {
          "date": "2013-06-14T00:00:00",
          "precipitation": 0,
          "temp_max": 20,
          "temp_min": 12.2,
          "weather": "sun",
          "wind": 3.7
         },
         {
          "date": "2013-06-15T00:00:00",
          "precipitation": 0,
          "temp_max": 25.6,
          "temp_min": 10,
          "weather": "sun",
          "wind": 2.9
         },
         {
          "date": "2013-06-16T00:00:00",
          "precipitation": 0,
          "temp_max": 23.9,
          "temp_min": 12.8,
          "weather": "sun",
          "wind": 3.4
         },
         {
          "date": "2013-06-17T00:00:00",
          "precipitation": 0,
          "temp_max": 25.6,
          "temp_min": 13.9,
          "weather": "sun",
          "wind": 3
         },
         {
          "date": "2013-06-18T00:00:00",
          "precipitation": 0.3,
          "temp_max": 23.3,
          "temp_min": 13.3,
          "weather": "fog",
          "wind": 3.4
         },
         {
          "date": "2013-06-19T00:00:00",
          "precipitation": 0,
          "temp_max": 20,
          "temp_min": 12.8,
          "weather": "sun",
          "wind": 3.7
         },
         {
          "date": "2013-06-20T00:00:00",
          "precipitation": 3,
          "temp_max": 17.2,
          "temp_min": 12.8,
          "weather": "sun",
          "wind": 5
         },
         {
          "date": "2013-06-21T00:00:00",
          "precipitation": 0.3,
          "temp_max": 20.6,
          "temp_min": 12.2,
          "weather": "sun",
          "wind": 1.5
         },
         {
          "date": "2013-06-22T00:00:00",
          "precipitation": 0,
          "temp_max": 25.6,
          "temp_min": 11.7,
          "weather": "sun",
          "wind": 1.7
         },
         {
          "date": "2013-06-23T00:00:00",
          "precipitation": 7.9,
          "temp_max": 22.2,
          "temp_min": 15,
          "weather": "fog",
          "wind": 2.1
         },
         {
          "date": "2013-06-24T00:00:00",
          "precipitation": 4.8,
          "temp_max": 21.1,
          "temp_min": 13.9,
          "weather": "fog",
          "wind": 3.7
         },
         {
          "date": "2013-06-25T00:00:00",
          "precipitation": 9.9,
          "temp_max": 23.3,
          "temp_min": 14.4,
          "weather": "sun",
          "wind": 2.8
         },
         {
          "date": "2013-06-26T00:00:00",
          "precipitation": 2,
          "temp_max": 22.2,
          "temp_min": 15,
          "weather": "fog",
          "wind": 2.3
         },
         {
          "date": "2013-06-27T00:00:00",
          "precipitation": 3.6,
          "temp_max": 21.1,
          "temp_min": 16.7,
          "weather": "fog",
          "wind": 1.3
         },
         {
          "date": "2013-06-28T00:00:00",
          "precipitation": 0,
          "temp_max": 30.6,
          "temp_min": 16.1,
          "weather": "sun",
          "wind": 2.2
         },
         {
          "date": "2013-06-29T00:00:00",
          "precipitation": 0,
          "temp_max": 30,
          "temp_min": 18.3,
          "weather": "sun",
          "wind": 1.7
         },
         {
          "date": "2013-06-30T00:00:00",
          "precipitation": 0,
          "temp_max": 33.9,
          "temp_min": 17.2,
          "weather": "sun",
          "wind": 2.5
         },
         {
          "date": "2013-07-01T00:00:00",
          "precipitation": 0,
          "temp_max": 31.7,
          "temp_min": 18.3,
          "weather": "sun",
          "wind": 2.3
         },
         {
          "date": "2013-07-02T00:00:00",
          "precipitation": 0,
          "temp_max": 28.3,
          "temp_min": 15.6,
          "weather": "sun",
          "wind": 3
         },
         {
          "date": "2013-07-03T00:00:00",
          "precipitation": 0,
          "temp_max": 26.1,
          "temp_min": 16.7,
          "weather": "sun",
          "wind": 3.2
         },
         {
          "date": "2013-07-04T00:00:00",
          "precipitation": 0,
          "temp_max": 21.7,
          "temp_min": 13.9,
          "weather": "fog",
          "wind": 2.2
         },
         {
          "date": "2013-07-05T00:00:00",
          "precipitation": 0,
          "temp_max": 23.3,
          "temp_min": 13.9,
          "weather": "sun",
          "wind": 2.6
         },
         {
          "date": "2013-07-06T00:00:00",
          "precipitation": 0,
          "temp_max": 26.1,
          "temp_min": 13.3,
          "weather": "sun",
          "wind": 2.2
         },
         {
          "date": "2013-07-07T00:00:00",
          "precipitation": 0,
          "temp_max": 23.9,
          "temp_min": 13.9,
          "weather": "sun",
          "wind": 2.9
         },
         {
          "date": "2013-07-08T00:00:00",
          "precipitation": 0,
          "temp_max": 26.7,
          "temp_min": 13.3,
          "weather": "sun",
          "wind": 2.8
         },
         {
          "date": "2013-07-09T00:00:00",
          "precipitation": 0,
          "temp_max": 30,
          "temp_min": 15,
          "weather": "sun",
          "wind": 2.5
         },
         {
          "date": "2013-07-10T00:00:00",
          "precipitation": 0,
          "temp_max": 22.2,
          "temp_min": 13.9,
          "weather": "sun",
          "wind": 2.6
         },
         {
          "date": "2013-07-11T00:00:00",
          "precipitation": 0,
          "temp_max": 22.8,
          "temp_min": 12.2,
          "weather": "sun",
          "wind": 3
         },
         {
          "date": "2013-07-12T00:00:00",
          "precipitation": 0,
          "temp_max": 19.4,
          "temp_min": 13.3,
          "weather": "sun",
          "wind": 2.2
         },
         {
          "date": "2013-07-13T00:00:00",
          "precipitation": 0,
          "temp_max": 26.1,
          "temp_min": 11.1,
          "weather": "sun",
          "wind": 3.1
         },
         {
          "date": "2013-07-14T00:00:00",
          "precipitation": 0,
          "temp_max": 27.8,
          "temp_min": 12.8,
          "weather": "sun",
          "wind": 3
         },
         {
          "date": "2013-07-15T00:00:00",
          "precipitation": 0,
          "temp_max": 27.8,
          "temp_min": 14.4,
          "weather": "sun",
          "wind": 4.6
         },
         {
          "date": "2013-07-16T00:00:00",
          "precipitation": 0,
          "temp_max": 31.1,
          "temp_min": 18.3,
          "weather": "sun",
          "wind": 4.1
         },
         {
          "date": "2013-07-17T00:00:00",
          "precipitation": 0,
          "temp_max": 22.2,
          "temp_min": 15,
          "weather": "rain",
          "wind": 3.7
         },
         {
          "date": "2013-07-18T00:00:00",
          "precipitation": 0,
          "temp_max": 26.1,
          "temp_min": 13.9,
          "weather": "sun",
          "wind": 2
         },
         {
          "date": "2013-07-19T00:00:00",
          "precipitation": 0,
          "temp_max": 27.8,
          "temp_min": 13.3,
          "weather": "sun",
          "wind": 1.9
         },
         {
          "date": "2013-07-20T00:00:00",
          "precipitation": 0,
          "temp_max": 25,
          "temp_min": 13.3,
          "weather": "sun",
          "wind": 2
         },
         {
          "date": "2013-07-21T00:00:00",
          "precipitation": 0,
          "temp_max": 23.9,
          "temp_min": 12.8,
          "weather": "sun",
          "wind": 2.3
         },
         {
          "date": "2013-07-22T00:00:00",
          "precipitation": 0,
          "temp_max": 26.1,
          "temp_min": 13.3,
          "weather": "fog",
          "wind": 2.4
         },
         {
          "date": "2013-07-23T00:00:00",
          "precipitation": 0,
          "temp_max": 31.1,
          "temp_min": 13.9,
          "weather": "sun",
          "wind": 3
         },
         {
          "date": "2013-07-24T00:00:00",
          "precipitation": 0,
          "temp_max": 31.1,
          "temp_min": 14.4,
          "weather": "sun",
          "wind": 2.5
         },
         {
          "date": "2013-07-25T00:00:00",
          "precipitation": 0,
          "temp_max": 31.1,
          "temp_min": 12.8,
          "weather": "sun",
          "wind": 2.3
         },
         {
          "date": "2013-07-26T00:00:00",
          "precipitation": 0,
          "temp_max": 31.1,
          "temp_min": 14.4,
          "weather": "sun",
          "wind": 2.9
         },
         {
          "date": "2013-07-27T00:00:00",
          "precipitation": 0,
          "temp_max": 25.6,
          "temp_min": 12.8,
          "weather": "sun",
          "wind": 2.6
         },
         {
          "date": "2013-07-28T00:00:00",
          "precipitation": 0,
          "temp_max": 21.1,
          "temp_min": 12.2,
          "weather": "fog",
          "wind": 3.4
         },
         {
          "date": "2013-07-29T00:00:00",
          "precipitation": 0,
          "temp_max": 25,
          "temp_min": 13.3,
          "weather": "sun",
          "wind": 1.4
         },
         {
          "date": "2013-07-30T00:00:00",
          "precipitation": 0,
          "temp_max": 25,
          "temp_min": 13.3,
          "weather": "sun",
          "wind": 2.8
         },
         {
          "date": "2013-07-31T00:00:00",
          "precipitation": 0,
          "temp_max": 21.7,
          "temp_min": 13.3,
          "weather": "sun",
          "wind": 1.8
         },
         {
          "date": "2013-08-01T00:00:00",
          "precipitation": 0,
          "temp_max": 20.6,
          "temp_min": 13.3,
          "weather": "sun",
          "wind": 3.9
         },
         {
          "date": "2013-08-02T00:00:00",
          "precipitation": 2,
          "temp_max": 17.2,
          "temp_min": 15,
          "weather": "sun",
          "wind": 2
         },
         {
          "date": "2013-08-03T00:00:00",
          "precipitation": 0,
          "temp_max": 25,
          "temp_min": 15.6,
          "weather": "fog",
          "wind": 2.4
         },
         {
          "date": "2013-08-04T00:00:00",
          "precipitation": 0,
          "temp_max": 28.9,
          "temp_min": 15,
          "weather": "sun",
          "wind": 3.4
         },
         {
          "date": "2013-08-05T00:00:00",
          "precipitation": 0,
          "temp_max": 30,
          "temp_min": 15,
          "weather": "sun",
          "wind": 2.1
         },
         {
          "date": "2013-08-06T00:00:00",
          "precipitation": 0,
          "temp_max": 30.6,
          "temp_min": 13.9,
          "weather": "sun",
          "wind": 1.4
         },
         {
          "date": "2013-08-07T00:00:00",
          "precipitation": 0,
          "temp_max": 31.1,
          "temp_min": 13.9,
          "weather": "sun",
          "wind": 1.9
         },
         {
          "date": "2013-08-08T00:00:00",
          "precipitation": 0,
          "temp_max": 28.3,
          "temp_min": 14.4,
          "weather": "sun",
          "wind": 2.5
         },
         {
          "date": "2013-08-09T00:00:00",
          "precipitation": 0,
          "temp_max": 28.3,
          "temp_min": 14.4,
          "weather": "rain",
          "wind": 2.1
         },
         {
          "date": "2013-08-10T00:00:00",
          "precipitation": 2.3,
          "temp_max": 25.6,
          "temp_min": 15,
          "weather": "sun",
          "wind": 2.9
         },
         {
          "date": "2013-08-11T00:00:00",
          "precipitation": 0,
          "temp_max": 25,
          "temp_min": 14.4,
          "weather": "sun",
          "wind": 2.9
         },
         {
          "date": "2013-08-12T00:00:00",
          "precipitation": 0,
          "temp_max": 25.6,
          "temp_min": 16.1,
          "weather": "sun",
          "wind": 1.9
         },
         {
          "date": "2013-08-13T00:00:00",
          "precipitation": 0,
          "temp_max": 27.8,
          "temp_min": 15,
          "weather": "sun",
          "wind": 1.8
         },
         {
          "date": "2013-08-14T00:00:00",
          "precipitation": 0.8,
          "temp_max": 27.2,
          "temp_min": 15,
          "weather": "sun",
          "wind": 2
         },
         {
          "date": "2013-08-15T00:00:00",
          "precipitation": 1.8,
          "temp_max": 21.1,
          "temp_min": 17.2,
          "weather": "sun",
          "wind": 1
         },
         {
          "date": "2013-08-16T00:00:00",
          "precipitation": 0,
          "temp_max": 28.9,
          "temp_min": 16.1,
          "weather": "fog",
          "wind": 2.2
         },
         {
          "date": "2013-08-17T00:00:00",
          "precipitation": 0,
          "temp_max": 25.6,
          "temp_min": 17.2,
          "weather": "sun",
          "wind": 3
         },
         {
          "date": "2013-08-18T00:00:00",
          "precipitation": 0,
          "temp_max": 26.1,
          "temp_min": 15.6,
          "weather": "sun",
          "wind": 3.1
         },
         {
          "date": "2013-08-19T00:00:00",
          "precipitation": 0,
          "temp_max": 26.7,
          "temp_min": 15.6,
          "weather": "sun",
          "wind": 3
         },
         {
          "date": "2013-08-20T00:00:00",
          "precipitation": 0,
          "temp_max": 25.6,
          "temp_min": 16.1,
          "weather": "sun",
          "wind": 4.6
         },
         {
          "date": "2013-08-21T00:00:00",
          "precipitation": 0,
          "temp_max": 27.8,
          "temp_min": 15,
          "weather": "sun",
          "wind": 4.3
         },
         {
          "date": "2013-08-22T00:00:00",
          "precipitation": 0,
          "temp_max": 28.9,
          "temp_min": 15,
          "weather": "sun",
          "wind": 1.9
         },
         {
          "date": "2013-08-23T00:00:00",
          "precipitation": 0,
          "temp_max": 25,
          "temp_min": 16.1,
          "weather": "sun",
          "wind": 4.1
         },
         {
          "date": "2013-08-24T00:00:00",
          "precipitation": 0,
          "temp_max": 25,
          "temp_min": 16.7,
          "weather": "sun",
          "wind": 2.7
         },
         {
          "date": "2013-08-25T00:00:00",
          "precipitation": 0.3,
          "temp_max": 22.2,
          "temp_min": 16.1,
          "weather": "sun",
          "wind": 2.6
         },
         {
          "date": "2013-08-26T00:00:00",
          "precipitation": 1,
          "temp_max": 24.4,
          "temp_min": 16.1,
          "weather": "sun",
          "wind": 1.9
         },
         {
          "date": "2013-08-27T00:00:00",
          "precipitation": 1.3,
          "temp_max": 26.7,
          "temp_min": 17.2,
          "weather": "sun",
          "wind": 1.4
         },
         {
          "date": "2013-08-28T00:00:00",
          "precipitation": 5.6,
          "temp_max": 26.7,
          "temp_min": 15.6,
          "weather": "fog",
          "wind": 1.3
         },
         {
          "date": "2013-08-29T00:00:00",
          "precipitation": 19.3,
          "temp_max": 23.9,
          "temp_min": 18.3,
          "weather": "sun",
          "wind": 3
         },
         {
          "date": "2013-08-30T00:00:00",
          "precipitation": 0,
          "temp_max": 26.1,
          "temp_min": 16.1,
          "weather": "sun",
          "wind": 2.9
         },
         {
          "date": "2013-08-31T00:00:00",
          "precipitation": 0,
          "temp_max": 27.8,
          "temp_min": 13.9,
          "weather": "sun",
          "wind": 2.6
         },
         {
          "date": "2013-09-01T00:00:00",
          "precipitation": 0,
          "temp_max": 27.8,
          "temp_min": 15.6,
          "weather": "sun",
          "wind": 2.5
         },
         {
          "date": "2013-09-02T00:00:00",
          "precipitation": 0,
          "temp_max": 27.8,
          "temp_min": 17.2,
          "weather": "sun",
          "wind": 2.1
         },
         {
          "date": "2013-09-03T00:00:00",
          "precipitation": 2.3,
          "temp_max": 25,
          "temp_min": 16.7,
          "weather": "fog",
          "wind": 1.7
         },
         {
          "date": "2013-09-04T00:00:00",
          "precipitation": 0.3,
          "temp_max": 22.8,
          "temp_min": 16.1,
          "weather": "fog",
          "wind": 2.4
         },
         {
          "date": "2013-09-05T00:00:00",
          "precipitation": 27.7,
          "temp_max": 20,
          "temp_min": 15.6,
          "weather": "sun",
          "wind": 2.5
         },
         {
          "date": "2013-09-06T00:00:00",
          "precipitation": 21.3,
          "temp_max": 21.7,
          "temp_min": 16.1,
          "weather": "fog",
          "wind": 2.6
         },
         {
          "date": "2013-09-07T00:00:00",
          "precipitation": 0,
          "temp_max": 23.3,
          "temp_min": 17.2,
          "weather": "sun",
          "wind": 2
         },
         {
          "date": "2013-09-08T00:00:00",
          "precipitation": 0,
          "temp_max": 26.7,
          "temp_min": 14.4,
          "weather": "fog",
          "wind": 1.5
         },
         {
          "date": "2013-09-09T00:00:00",
          "precipitation": 0,
          "temp_max": 26.1,
          "temp_min": 13.9,
          "weather": "sun",
          "wind": 2.1
         },
         {
          "date": "2013-09-10T00:00:00",
          "precipitation": 0,
          "temp_max": 26.7,
          "temp_min": 15,
          "weather": "sun",
          "wind": 3.7
         },
         {
          "date": "2013-09-11T00:00:00",
          "precipitation": 0,
          "temp_max": 33.9,
          "temp_min": 16.1,
          "weather": "sun",
          "wind": 2.4
         },
         {
          "date": "2013-09-12T00:00:00",
          "precipitation": 0,
          "temp_max": 25.6,
          "temp_min": 15,
          "weather": "sun",
          "wind": 1.7
         },
         {
          "date": "2013-09-13T00:00:00",
          "precipitation": 0,
          "temp_max": 18.9,
          "temp_min": 15.6,
          "weather": "sun",
          "wind": 2
         },
         {
          "date": "2013-09-14T00:00:00",
          "precipitation": 0,
          "temp_max": 21.7,
          "temp_min": 15.6,
          "weather": "fog",
          "wind": 1.4
         },
         {
          "date": "2013-09-15T00:00:00",
          "precipitation": 3.3,
          "temp_max": 18.9,
          "temp_min": 14.4,
          "weather": "sun",
          "wind": 2.2
         },
         {
          "date": "2013-09-16T00:00:00",
          "precipitation": 0.3,
          "temp_max": 21.7,
          "temp_min": 15,
          "weather": "fog",
          "wind": 4.3
         },
         {
          "date": "2013-09-17T00:00:00",
          "precipitation": 0,
          "temp_max": 17.8,
          "temp_min": 13.9,
          "weather": "sun",
          "wind": 2.3
         },
         {
          "date": "2013-09-18T00:00:00",
          "precipitation": 0,
          "temp_max": 21.1,
          "temp_min": 13.3,
          "weather": "sun",
          "wind": 2.5
         },
         {
          "date": "2013-09-19T00:00:00",
          "precipitation": 0,
          "temp_max": 25.6,
          "temp_min": 10,
          "weather": "sun",
          "wind": 1.5
         },
         {
          "date": "2013-09-20T00:00:00",
          "precipitation": 3.6,
          "temp_max": 23.3,
          "temp_min": 13.3,
          "weather": "fog",
          "wind": 3
         },
         {
          "date": "2013-09-21T00:00:00",
          "precipitation": 0,
          "temp_max": 21.1,
          "temp_min": 13.3,
          "weather": "sun",
          "wind": 2.5
         },
         {
          "date": "2013-09-22T00:00:00",
          "precipitation": 13.5,
          "temp_max": 17.2,
          "temp_min": 13.3,
          "weather": "fog",
          "wind": 5.5
         },
         {
          "date": "2013-09-23T00:00:00",
          "precipitation": 2.8,
          "temp_max": 16.1,
          "temp_min": 11.1,
          "weather": "fog",
          "wind": 4.5
         },
         {
          "date": "2013-09-24T00:00:00",
          "precipitation": 0,
          "temp_max": 17.8,
          "temp_min": 10,
          "weather": "sun",
          "wind": 2.6
         },
         {
          "date": "2013-09-25T00:00:00",
          "precipitation": 2,
          "temp_max": 16.1,
          "temp_min": 9.4,
          "weather": "fog",
          "wind": 3
         },
         {
          "date": "2013-09-26T00:00:00",
          "precipitation": 0,
          "temp_max": 17.2,
          "temp_min": 7.2,
          "weather": "sun",
          "wind": 2.2
         },
         {
          "date": "2013-09-27T00:00:00",
          "precipitation": 1,
          "temp_max": 13.9,
          "temp_min": 10.6,
          "weather": "fog",
          "wind": 4.3
         },
         {
          "date": "2013-09-28T00:00:00",
          "precipitation": 43.4,
          "temp_max": 16.7,
          "temp_min": 11.7,
          "weather": "fog",
          "wind": 6
         },
         {
          "date": "2013-09-29T00:00:00",
          "precipitation": 16.8,
          "temp_max": 14.4,
          "temp_min": 11.1,
          "weather": "sun",
          "wind": 7.1
         },
         {
          "date": "2013-09-30T00:00:00",
          "precipitation": 18.5,
          "temp_max": 13.9,
          "temp_min": 10,
          "weather": "fog",
          "wind": 6.3
         },
         {
          "date": "2013-10-01T00:00:00",
          "precipitation": 7.9,
          "temp_max": 14.4,
          "temp_min": 8.9,
          "weather": "fog",
          "wind": 4.7
         },
         {
          "date": "2013-10-02T00:00:00",
          "precipitation": 5.3,
          "temp_max": 12.8,
          "temp_min": 9.4,
          "weather": "fog",
          "wind": 2.4
         },
         {
          "date": "2013-10-03T00:00:00",
          "precipitation": 0.8,
          "temp_max": 14.4,
          "temp_min": 8.9,
          "weather": "fog",
          "wind": 0.9
         },
         {
          "date": "2013-10-04T00:00:00",
          "precipitation": 0,
          "temp_max": 17.8,
          "temp_min": 5.6,
          "weather": "sun",
          "wind": 1.1
         },
         {
          "date": "2013-10-05T00:00:00",
          "precipitation": 0,
          "temp_max": 20,
          "temp_min": 8.3,
          "weather": "sun",
          "wind": 1.6
         },
         {
          "date": "2013-10-06T00:00:00",
          "precipitation": 4.1,
          "temp_max": 22.8,
          "temp_min": 7.8,
          "weather": "fog",
          "wind": 2.6
         },
         {
          "date": "2013-10-07T00:00:00",
          "precipitation": 0.5,
          "temp_max": 16.1,
          "temp_min": 11.7,
          "weather": "fog",
          "wind": 6.3
         },
         {
          "date": "2013-10-08T00:00:00",
          "precipitation": 6.9,
          "temp_max": 13.9,
          "temp_min": 7.8,
          "weather": "rain",
          "wind": 3
         },
         {
          "date": "2013-10-09T00:00:00",
          "precipitation": 0,
          "temp_max": 15,
          "temp_min": 5.6,
          "weather": "sun",
          "wind": 1.6
         },
         {
          "date": "2013-10-10T00:00:00",
          "precipitation": 1,
          "temp_max": 14.4,
          "temp_min": 8.3,
          "weather": "fog",
          "wind": 1.7
         },
         {
          "date": "2013-10-11T00:00:00",
          "precipitation": 9.1,
          "temp_max": 13.9,
          "temp_min": 10.6,
          "weather": "sun",
          "wind": 1
         },
         {
          "date": "2013-10-12T00:00:00",
          "precipitation": 1,
          "temp_max": 14.4,
          "temp_min": 8.9,
          "weather": "fog",
          "wind": 2.2
         },
         {
          "date": "2013-10-13T00:00:00",
          "precipitation": 0,
          "temp_max": 15,
          "temp_min": 6.7,
          "weather": "fog",
          "wind": 1.8
         },
         {
          "date": "2013-10-14T00:00:00",
          "precipitation": 0,
          "temp_max": 15.6,
          "temp_min": 3.9,
          "weather": "sun",
          "wind": 1.6
         },
         {
          "date": "2013-10-15T00:00:00",
          "precipitation": 0,
          "temp_max": 15.6,
          "temp_min": 5,
          "weather": "sun",
          "wind": 0.9
         },
         {
          "date": "2013-10-16T00:00:00",
          "precipitation": 0,
          "temp_max": 12.8,
          "temp_min": 8.9,
          "weather": "fog",
          "wind": 2.7
         },
         {
          "date": "2013-10-17T00:00:00",
          "precipitation": 0,
          "temp_max": 14.4,
          "temp_min": 8.9,
          "weather": "fog",
          "wind": 1.7
         },
         {
          "date": "2013-10-18T00:00:00",
          "precipitation": 0,
          "temp_max": 12.8,
          "temp_min": 7.2,
          "weather": "sun",
          "wind": 1.2
         },
         {
          "date": "2013-10-19T00:00:00",
          "precipitation": 0,
          "temp_max": 10.6,
          "temp_min": 7.8,
          "weather": "sun",
          "wind": 1.4
         },
         {
          "date": "2013-10-20T00:00:00",
          "precipitation": 0,
          "temp_max": 10.6,
          "temp_min": 7.8,
          "weather": "sun",
          "wind": 2.4
         },
         {
          "date": "2013-10-21T00:00:00",
          "precipitation": 0,
          "temp_max": 11.7,
          "temp_min": 8.3,
          "weather": "sun",
          "wind": 2.5
         },
         {
          "date": "2013-10-22T00:00:00",
          "precipitation": 0,
          "temp_max": 14.4,
          "temp_min": 7.2,
          "weather": "sun",
          "wind": 1.9
         },
         {
          "date": "2013-10-23T00:00:00",
          "precipitation": 0,
          "temp_max": 12.8,
          "temp_min": 6.1,
          "weather": "sun",
          "wind": 0.4
         },
         {
          "date": "2013-10-24T00:00:00",
          "precipitation": 0,
          "temp_max": 10,
          "temp_min": 6.1,
          "weather": "sun",
          "wind": 0.6
         },
         {
          "date": "2013-10-25T00:00:00",
          "precipitation": 0,
          "temp_max": 12.2,
          "temp_min": 7.8,
          "weather": "sun",
          "wind": 1.8
         },
         {
          "date": "2013-10-26T00:00:00",
          "precipitation": 0,
          "temp_max": 11.7,
          "temp_min": 8.3,
          "weather": "sun",
          "wind": 2.7
         },
         {
          "date": "2013-10-27T00:00:00",
          "precipitation": 1.8,
          "temp_max": 13.9,
          "temp_min": 8.3,
          "weather": "fog",
          "wind": 4.4
         },
         {
          "date": "2013-10-28T00:00:00",
          "precipitation": 0,
          "temp_max": 14.4,
          "temp_min": 7.2,
          "weather": "sun",
          "wind": 5.1
         },
         {
          "date": "2013-10-29T00:00:00",
          "precipitation": 0,
          "temp_max": 13.3,
          "temp_min": 3.3,
          "weather": "sun",
          "wind": 2.2
         },
         {
          "date": "2013-10-30T00:00:00",
          "precipitation": 0.5,
          "temp_max": 15,
          "temp_min": 5.6,
          "weather": "sun",
          "wind": 3.9
         },
         {
          "date": "2013-10-31T00:00:00",
          "precipitation": 0.3,
          "temp_max": 14.4,
          "temp_min": 10.6,
          "weather": "fog",
          "wind": 2.2
         },
         {
          "date": "2013-11-01T00:00:00",
          "precipitation": 1.3,
          "temp_max": 17.8,
          "temp_min": 11.7,
          "weather": "sun",
          "wind": 1.4
         },
         {
          "date": "2013-11-02T00:00:00",
          "precipitation": 12.7,
          "temp_max": 14.4,
          "temp_min": 8.3,
          "weather": "fog",
          "wind": 7.9
         },
         {
          "date": "2013-11-03T00:00:00",
          "precipitation": 0.5,
          "temp_max": 12.2,
          "temp_min": 4.4,
          "weather": "sun",
          "wind": 2.4
         },
         {
          "date": "2013-11-04T00:00:00",
          "precipitation": 0,
          "temp_max": 10.6,
          "temp_min": 3.9,
          "weather": "drizzle",
          "wind": 1.6
         },
         {
          "date": "2013-11-05T00:00:00",
          "precipitation": 2.5,
          "temp_max": 13.3,
          "temp_min": 7.2,
          "weather": "fog",
          "wind": 3.1
         },
         {
          "date": "2013-11-06T00:00:00",
          "precipitation": 3.8,
          "temp_max": 12.8,
          "temp_min": 7.8,
          "weather": "sun",
          "wind": 1.7
         },
         {
          "date": "2013-11-07T00:00:00",
          "precipitation": 30,
          "temp_max": 11.1,
          "temp_min": 10,
          "weather": "fog",
          "wind": 7.2
         },
         {
          "date": "2013-11-08T00:00:00",
          "precipitation": 0,
          "temp_max": 13.3,
          "temp_min": 7.2,
          "weather": "sun",
          "wind": 4.1
         },
         {
          "date": "2013-11-09T00:00:00",
          "precipitation": 1.8,
          "temp_max": 11.1,
          "temp_min": 5,
          "weather": "sun",
          "wind": 1.4
         },
         {
          "date": "2013-11-10T00:00:00",
          "precipitation": 0,
          "temp_max": 11.1,
          "temp_min": 8.3,
          "weather": "sun",
          "wind": 4.4
         },
         {
          "date": "2013-11-11T00:00:00",
          "precipitation": 0,
          "temp_max": 16.1,
          "temp_min": 6.1,
          "weather": "fog",
          "wind": 2.6
         },
         {
          "date": "2013-11-12T00:00:00",
          "precipitation": 4.1,
          "temp_max": 15.6,
          "temp_min": 8.9,
          "weather": "fog",
          "wind": 2.2
         },
         {
          "date": "2013-11-13T00:00:00",
          "precipitation": 0,
          "temp_max": 13.9,
          "temp_min": 10.6,
          "weather": "sun",
          "wind": 3.8
         },
         {
          "date": "2013-11-14T00:00:00",
          "precipitation": 1.3,
          "temp_max": 11.1,
          "temp_min": 6.1,
          "weather": "fog",
          "wind": 1.1
         },
         {
          "date": "2013-11-15T00:00:00",
          "precipitation": 3,
          "temp_max": 10.6,
          "temp_min": 7.2,
          "weather": "sun",
          "wind": 6
         },
         {
          "date": "2013-11-16T00:00:00",
          "precipitation": 0,
          "temp_max": 10,
          "temp_min": 5,
          "weather": "sun",
          "wind": 4.6
         },
         {
          "date": "2013-11-17T00:00:00",
          "precipitation": 5.3,
          "temp_max": 11.7,
          "temp_min": 7.2,
          "weather": "fog",
          "wind": 5.4
         },
         {
          "date": "2013-11-18T00:00:00",
          "precipitation": 26.2,
          "temp_max": 12.8,
          "temp_min": 9.4,
          "weather": "fog",
          "wind": 3.9
         },
         {
          "date": "2013-11-19T00:00:00",
          "precipitation": 1,
          "temp_max": 13.3,
          "temp_min": 4.4,
          "weather": "fog",
          "wind": 5.1
         },
         {
          "date": "2013-11-20T00:00:00",
          "precipitation": 0,
          "temp_max": 7.8,
          "temp_min": 1.7,
          "weather": "sun",
          "wind": 4.3
         },
         {
          "date": "2013-11-21T00:00:00",
          "precipitation": 0,
          "temp_max": 7.8,
          "temp_min": -0.5,
          "weather": "sun",
          "wind": 3.6
         },
         {
          "date": "2013-11-22T00:00:00",
          "precipitation": 0,
          "temp_max": 9.4,
          "temp_min": 0,
          "weather": "sun",
          "wind": 4.6
         },
         {
          "date": "2013-11-23T00:00:00",
          "precipitation": 0,
          "temp_max": 11.1,
          "temp_min": 1.1,
          "weather": "sun",
          "wind": 2.6
         },
         {
          "date": "2013-11-24T00:00:00",
          "precipitation": 0,
          "temp_max": 11.7,
          "temp_min": 0.6,
          "weather": "fog",
          "wind": 0.9
         },
         {
          "date": "2013-11-25T00:00:00",
          "precipitation": 0,
          "temp_max": 12.2,
          "temp_min": 2.2,
          "weather": "sun",
          "wind": 0.5
         },
         {
          "date": "2013-11-26T00:00:00",
          "precipitation": 0,
          "temp_max": 12.2,
          "temp_min": 2.8,
          "weather": "sun",
          "wind": 1
         },
         {
          "date": "2013-11-27T00:00:00",
          "precipitation": 0,
          "temp_max": 14.4,
          "temp_min": 5.6,
          "weather": "sun",
          "wind": 1.3
         },
         {
          "date": "2013-11-28T00:00:00",
          "precipitation": 0,
          "temp_max": 11.7,
          "temp_min": 3.3,
          "weather": "sun",
          "wind": 0.7
         },
         {
          "date": "2013-11-29T00:00:00",
          "precipitation": 0.5,
          "temp_max": 9.4,
          "temp_min": 5,
          "weather": "fog",
          "wind": 2.1
         },
         {
          "date": "2013-11-30T00:00:00",
          "precipitation": 2.3,
          "temp_max": 11.1,
          "temp_min": 7.2,
          "weather": "fog",
          "wind": 3.9
         },
         {
          "date": "2013-12-01T00:00:00",
          "precipitation": 3,
          "temp_max": 13.3,
          "temp_min": 7.8,
          "weather": "fog",
          "wind": 8.8
         },
         {
          "date": "2013-12-02T00:00:00",
          "precipitation": 4.6,
          "temp_max": 7.8,
          "temp_min": 1.7,
          "weather": "sun",
          "wind": 3.5
         },
         {
          "date": "2013-12-03T00:00:00",
          "precipitation": 0,
          "temp_max": 5,
          "temp_min": -0.5,
          "weather": "sun",
          "wind": 5.6
         },
         {
          "date": "2013-12-04T00:00:00",
          "precipitation": 0,
          "temp_max": 4.4,
          "temp_min": -2.1,
          "weather": "sun",
          "wind": 1.6
         },
         {
          "date": "2013-12-05T00:00:00",
          "precipitation": 0,
          "temp_max": 1.1,
          "temp_min": -4.9,
          "weather": "sun",
          "wind": 2.6
         },
         {
          "date": "2013-12-06T00:00:00",
          "precipitation": 0,
          "temp_max": 1.1,
          "temp_min": -4.3,
          "weather": "sun",
          "wind": 4.7
         },
         {
          "date": "2013-12-07T00:00:00",
          "precipitation": 0,
          "temp_max": 0,
          "temp_min": -7.1,
          "weather": "sun",
          "wind": 3.1
         },
         {
          "date": "2013-12-08T00:00:00",
          "precipitation": 0,
          "temp_max": 2.2,
          "temp_min": -6.6,
          "weather": "sun",
          "wind": 2.2
         },
         {
          "date": "2013-12-09T00:00:00",
          "precipitation": 0,
          "temp_max": 1.1,
          "temp_min": -4.9,
          "weather": "sun",
          "wind": 1.3
         },
         {
          "date": "2013-12-10T00:00:00",
          "precipitation": 0,
          "temp_max": 5.6,
          "temp_min": 0.6,
          "weather": "sun",
          "wind": 1.5
         },
         {
          "date": "2013-12-11T00:00:00",
          "precipitation": 0,
          "temp_max": 5,
          "temp_min": -1.6,
          "weather": "sun",
          "wind": 0.8
         },
         {
          "date": "2013-12-12T00:00:00",
          "precipitation": 6.9,
          "temp_max": 5.6,
          "temp_min": -0.5,
          "weather": "sun",
          "wind": 2.3
         },
         {
          "date": "2013-12-13T00:00:00",
          "precipitation": 0.5,
          "temp_max": 9.4,
          "temp_min": 5.6,
          "weather": "fog",
          "wind": 2.9
         },
         {
          "date": "2013-12-14T00:00:00",
          "precipitation": 0,
          "temp_max": 9.4,
          "temp_min": 6.1,
          "weather": "sun",
          "wind": 3.7
         },
         {
          "date": "2013-12-15T00:00:00",
          "precipitation": 1.3,
          "temp_max": 11.7,
          "temp_min": 8.3,
          "weather": "fog",
          "wind": 3.9
         },
         {
          "date": "2013-12-16T00:00:00",
          "precipitation": 0.3,
          "temp_max": 10,
          "temp_min": 4.4,
          "weather": "sun",
          "wind": 1
         },
         {
          "date": "2013-12-17T00:00:00",
          "precipitation": 0,
          "temp_max": 8.3,
          "temp_min": 4.4,
          "weather": "sun",
          "wind": 2.7
         },
         {
          "date": "2013-12-18T00:00:00",
          "precipitation": 1.3,
          "temp_max": 7.8,
          "temp_min": 2.2,
          "weather": "fog",
          "wind": 2.8
         },
         {
          "date": "2013-12-19T00:00:00",
          "precipitation": 0,
          "temp_max": 5,
          "temp_min": 0,
          "weather": "sun",
          "wind": 2.1
         },
         {
          "date": "2013-12-20T00:00:00",
          "precipitation": 5.6,
          "temp_max": 8.3,
          "temp_min": 0.6,
          "weather": "fog",
          "wind": 3.7
         },
         {
          "date": "2013-12-21T00:00:00",
          "precipitation": 5.6,
          "temp_max": 8.9,
          "temp_min": 5.6,
          "weather": "fog",
          "wind": 2.3
         },
         {
          "date": "2013-12-22T00:00:00",
          "precipitation": 10.7,
          "temp_max": 10.6,
          "temp_min": 8.3,
          "weather": "fog",
          "wind": 4
         },
         {
          "date": "2013-12-23T00:00:00",
          "precipitation": 1.5,
          "temp_max": 11.7,
          "temp_min": 6.1,
          "weather": "fog",
          "wind": 5.9
         },
         {
          "date": "2013-12-24T00:00:00",
          "precipitation": 0,
          "temp_max": 8.3,
          "temp_min": 2.8,
          "weather": "sun",
          "wind": 1.7
         },
         {
          "date": "2013-12-25T00:00:00",
          "precipitation": 0,
          "temp_max": 6.7,
          "temp_min": 1.7,
          "weather": "sun",
          "wind": 0.8
         },
         {
          "date": "2013-12-26T00:00:00",
          "precipitation": 0,
          "temp_max": 6.7,
          "temp_min": 0.6,
          "weather": "sun",
          "wind": 0.5
         },
         {
          "date": "2013-12-27T00:00:00",
          "precipitation": 0.3,
          "temp_max": 8.9,
          "temp_min": 0,
          "weather": "fog",
          "wind": 2.1
         },
         {
          "date": "2013-12-28T00:00:00",
          "precipitation": 0,
          "temp_max": 9.4,
          "temp_min": 3.3,
          "weather": "sun",
          "wind": 1.3
         },
         {
          "date": "2013-12-29T00:00:00",
          "precipitation": 0,
          "temp_max": 7.2,
          "temp_min": 1.7,
          "weather": "sun",
          "wind": 1.1
         },
         {
          "date": "2013-12-30T00:00:00",
          "precipitation": 0.3,
          "temp_max": 8.9,
          "temp_min": 4.4,
          "weather": "sun",
          "wind": 2.6
         },
         {
          "date": "2013-12-31T00:00:00",
          "precipitation": 0.5,
          "temp_max": 8.3,
          "temp_min": 5,
          "weather": "sun",
          "wind": 1.7
         },
         {
          "date": "2014-01-01T00:00:00",
          "precipitation": 0,
          "temp_max": 7.2,
          "temp_min": 3.3,
          "weather": "sun",
          "wind": 1.2
         },
         {
          "date": "2014-01-02T00:00:00",
          "precipitation": 4.1,
          "temp_max": 10.6,
          "temp_min": 6.1,
          "weather": "sun",
          "wind": 3.2
         },
         {
          "date": "2014-01-03T00:00:00",
          "precipitation": 1.5,
          "temp_max": 8.9,
          "temp_min": 2.8,
          "weather": "fog",
          "wind": 2.6
         },
         {
          "date": "2014-01-04T00:00:00",
          "precipitation": 0,
          "temp_max": 7.8,
          "temp_min": 0.6,
          "weather": "fog",
          "wind": 2.7
         },
         {
          "date": "2014-01-05T00:00:00",
          "precipitation": 0,
          "temp_max": 8.3,
          "temp_min": -0.5,
          "weather": "sun",
          "wind": 3.7
         },
         {
          "date": "2014-01-06T00:00:00",
          "precipitation": 0.3,
          "temp_max": 7.8,
          "temp_min": -0.5,
          "weather": "fog",
          "wind": 2.6
         },
         {
          "date": "2014-01-07T00:00:00",
          "precipitation": 12.2,
          "temp_max": 8.3,
          "temp_min": 5,
          "weather": "sun",
          "wind": 1.6
         },
         {
          "date": "2014-01-08T00:00:00",
          "precipitation": 9.7,
          "temp_max": 10,
          "temp_min": 7.2,
          "weather": "fog",
          "wind": 4.6
         },
         {
          "date": "2014-01-09T00:00:00",
          "precipitation": 5.8,
          "temp_max": 9.4,
          "temp_min": 5.6,
          "weather": "fog",
          "wind": 6.3
         },
         {
          "date": "2014-01-10T00:00:00",
          "precipitation": 4.3,
          "temp_max": 12.8,
          "temp_min": 8.3,
          "weather": "sun",
          "wind": 7
         },
         {
          "date": "2014-01-11T00:00:00",
          "precipitation": 21.3,
          "temp_max": 14.4,
          "temp_min": 7.2,
          "weather": "fog",
          "wind": 8.8
         },
         {
          "date": "2014-01-12T00:00:00",
          "precipitation": 1.5,
          "temp_max": 11.1,
          "temp_min": 5.6,
          "weather": "fog",
          "wind": 8.1
         },
         {
          "date": "2014-01-13T00:00:00",
          "precipitation": 0,
          "temp_max": 10.6,
          "temp_min": 10,
          "weather": "sun",
          "wind": 7.1
         },
         {
          "date": "2014-01-14T00:00:00",
          "precipitation": 0,
          "temp_max": 11.1,
          "temp_min": 7.2,
          "weather": "sun",
          "wind": 1.3
         },
         {
          "date": "2014-01-15T00:00:00",
          "precipitation": 0,
          "temp_max": 11.1,
          "temp_min": 5.6,
          "weather": "sun",
          "wind": 2.5
         },
         {
          "date": "2014-01-16T00:00:00",
          "precipitation": 0,
          "temp_max": 6.7,
          "temp_min": 4.4,
          "weather": "sun",
          "wind": 2.7
         },
         {
          "date": "2014-01-17T00:00:00",
          "precipitation": 0,
          "temp_max": 5.6,
          "temp_min": 2.8,
          "weather": "sun",
          "wind": 2.3
         },
         {
          "date": "2014-01-18T00:00:00",
          "precipitation": 0,
          "temp_max": 9.4,
          "temp_min": 0.6,
          "weather": "sun",
          "wind": 2.2
         },
         {
          "date": "2014-01-19T00:00:00",
          "precipitation": 0,
          "temp_max": 6.1,
          "temp_min": 3.3,
          "weather": "sun",
          "wind": 2.5
         },
         {
          "date": "2014-01-20T00:00:00",
          "precipitation": 0,
          "temp_max": 10,
          "temp_min": 2.8,
          "weather": "sun",
          "wind": 2.2
         },
         {
          "date": "2014-01-21T00:00:00",
          "precipitation": 0,
          "temp_max": 10,
          "temp_min": 1.7,
          "weather": "sun",
          "wind": 1.5
         },
         {
          "date": "2014-01-22T00:00:00",
          "precipitation": 0.5,
          "temp_max": 9.4,
          "temp_min": 5.6,
          "weather": "sun",
          "wind": 2.6
         },
         {
          "date": "2014-01-23T00:00:00",
          "precipitation": 0,
          "temp_max": 10,
          "temp_min": 2.8,
          "weather": "fog",
          "wind": 5.2
         },
         {
          "date": "2014-01-24T00:00:00",
          "precipitation": 0,
          "temp_max": 12.8,
          "temp_min": 1.1,
          "weather": "sun",
          "wind": 1.9
         },
         {
          "date": "2014-01-25T00:00:00",
          "precipitation": 0,
          "temp_max": 12.2,
          "temp_min": 1.1,
          "weather": "sun",
          "wind": 0.8
         },
         {
          "date": "2014-01-26T00:00:00",
          "precipitation": 0,
          "temp_max": 8.3,
          "temp_min": 0.6,
          "weather": "sun",
          "wind": 1.3
         },
         {
          "date": "2014-01-27T00:00:00",
          "precipitation": 0,
          "temp_max": 9.4,
          "temp_min": 1.7,
          "weather": "sun",
          "wind": 1.3
         },
         {
          "date": "2014-01-28T00:00:00",
          "precipitation": 8.9,
          "temp_max": 11.1,
          "temp_min": 6.1,
          "weather": "fog",
          "wind": 1.6
         },
         {
          "date": "2014-01-29T00:00:00",
          "precipitation": 21.6,
          "temp_max": 11.1,
          "temp_min": 7.2,
          "weather": "fog",
          "wind": 3.4
         },
         {
          "date": "2014-01-30T00:00:00",
          "precipitation": 0,
          "temp_max": 8.3,
          "temp_min": 6.1,
          "weather": "sun",
          "wind": 6.4
         },
         {
          "date": "2014-01-31T00:00:00",
          "precipitation": 2.3,
          "temp_max": 7.8,
          "temp_min": 5.6,
          "weather": "fog",
          "wind": 2.6
         },
         {
          "date": "2014-02-01T00:00:00",
          "precipitation": 2,
          "temp_max": 7.8,
          "temp_min": 2.8,
          "weather": "sun",
          "wind": 0.8
         },
         {
          "date": "2014-02-02T00:00:00",
          "precipitation": 0,
          "temp_max": 8.9,
          "temp_min": 1.1,
          "weather": "sun",
          "wind": 2.5
         },
         {
          "date": "2014-02-03T00:00:00",
          "precipitation": 0,
          "temp_max": 5,
          "temp_min": 0,
          "weather": "sun",
          "wind": 4.3
         },
         {
          "date": "2014-02-04T00:00:00",
          "precipitation": 0,
          "temp_max": 2.8,
          "temp_min": -2.1,
          "weather": "sun",
          "wind": 4.7
         },
         {
          "date": "2014-02-05T00:00:00",
          "precipitation": 0,
          "temp_max": -0.5,
          "temp_min": -5.5,
          "weather": "sun",
          "wind": 6.6
         },
         {
          "date": "2014-02-06T00:00:00",
          "precipitation": 0,
          "temp_max": -1.6,
          "temp_min": -6,
          "weather": "sun",
          "wind": 4.5
         },
         {
          "date": "2014-02-07T00:00:00",
          "precipitation": 0,
          "temp_max": 3.3,
          "temp_min": -4.9,
          "weather": "sun",
          "wind": 4.2
         },
         {
          "date": "2014-02-08T00:00:00",
          "precipitation": 5.1,
          "temp_max": 5.6,
          "temp_min": -0.5,
          "weather": "fog",
          "wind": 4.6
         },
         {
          "date": "2014-02-09T00:00:00",
          "precipitation": 0.5,
          "temp_max": 3.9,
          "temp_min": 0,
          "weather": "fog",
          "wind": 2.4
         },
         {
          "date": "2014-02-10T00:00:00",
          "precipitation": 18.3,
          "temp_max": 10,
          "temp_min": 2.2,
          "weather": "fog",
          "wind": 4.7
         },
         {
          "date": "2014-02-11T00:00:00",
          "precipitation": 17,
          "temp_max": 12.2,
          "temp_min": 5.6,
          "weather": "fog",
          "wind": 3.8
         },
         {
          "date": "2014-02-12T00:00:00",
          "precipitation": 4.6,
          "temp_max": 12.2,
          "temp_min": 7.2,
          "weather": "fog",
          "wind": 6.4
         },
         {
          "date": "2014-02-13T00:00:00",
          "precipitation": 1.8,
          "temp_max": 12.8,
          "temp_min": 7.8,
          "weather": "fog",
          "wind": 6.3
         },
         {
          "date": "2014-02-14T00:00:00",
          "precipitation": 9.4,
          "temp_max": 11.7,
          "temp_min": 6.1,
          "weather": "fog",
          "wind": 6.4
         },
         {
          "date": "2014-02-15T00:00:00",
          "precipitation": 11.7,
          "temp_max": 11.1,
          "temp_min": 5,
          "weather": "fog",
          "wind": 5.1
         },
         {
          "date": "2014-02-16T00:00:00",
          "precipitation": 26.4,
          "temp_max": 9.4,
          "temp_min": 3.9,
          "weather": "fog",
          "wind": 7.9
         },
         {
          "date": "2014-02-17T00:00:00",
          "precipitation": 14.5,
          "temp_max": 8.3,
          "temp_min": 4.4,
          "weather": "fog",
          "wind": 5.5
         },
         {
          "date": "2014-02-18T00:00:00",
          "precipitation": 15.2,
          "temp_max": 8.9,
          "temp_min": 5,
          "weather": "fog",
          "wind": 6.2
         },
         {
          "date": "2014-02-19T00:00:00",
          "precipitation": 1,
          "temp_max": 8.3,
          "temp_min": 3.9,
          "weather": "sun",
          "wind": 6
         },
         {
          "date": "2014-02-20T00:00:00",
          "precipitation": 3,
          "temp_max": 10,
          "temp_min": 5.6,
          "weather": "fog",
          "wind": 6.9
         },
         {
          "date": "2014-02-21T00:00:00",
          "precipitation": 2.8,
          "temp_max": 6.7,
          "temp_min": 3.9,
          "weather": "fog",
          "wind": 2.9
         },
         {
          "date": "2014-02-22T00:00:00",
          "precipitation": 2.5,
          "temp_max": 5.6,
          "temp_min": 2.8,
          "weather": "fog",
          "wind": 3.1
         },
         {
          "date": "2014-02-23T00:00:00",
          "precipitation": 6.1,
          "temp_max": 7.2,
          "temp_min": 3.9,
          "weather": "fog",
          "wind": 2.6
         },
         {
          "date": "2014-02-24T00:00:00",
          "precipitation": 13,
          "temp_max": 6.7,
          "temp_min": 3.3,
          "weather": "fog",
          "wind": 3.2
         },
         {
          "date": "2014-02-25T00:00:00",
          "precipitation": 0.3,
          "temp_max": 12.2,
          "temp_min": 3.9,
          "weather": "fog",
          "wind": 4.5
         },
         {
          "date": "2014-02-26T00:00:00",
          "precipitation": 0,
          "temp_max": 13.9,
          "temp_min": 5.6,
          "weather": "sun",
          "wind": 2.5
         },
         {
          "date": "2014-02-27T00:00:00",
          "precipitation": 0,
          "temp_max": 12.8,
          "temp_min": 4.4,
          "weather": "sun",
          "wind": 2.3
         },
         {
          "date": "2014-02-28T00:00:00",
          "precipitation": 0,
          "temp_max": 14.4,
          "temp_min": 4.4,
          "weather": "sun",
          "wind": 5.9
         },
         {
          "date": "2014-03-01T00:00:00",
          "precipitation": 0.5,
          "temp_max": 7.2,
          "temp_min": 4.4,
          "weather": "sun",
          "wind": 4.7
         },
         {
          "date": "2014-03-02T00:00:00",
          "precipitation": 19.1,
          "temp_max": 11.1,
          "temp_min": 2.8,
          "weather": "fog",
          "wind": 5.7
         },
         {
          "date": "2014-03-03T00:00:00",
          "precipitation": 10.7,
          "temp_max": 14.4,
          "temp_min": 8.9,
          "weather": "fog",
          "wind": 5.1
         },
         {
          "date": "2014-03-04T00:00:00",
          "precipitation": 16.5,
          "temp_max": 13.9,
          "temp_min": 7.8,
          "weather": "fog",
          "wind": 3.9
         },
         {
          "date": "2014-03-05T00:00:00",
          "precipitation": 46.7,
          "temp_max": 15.6,
          "temp_min": 10.6,
          "weather": "fog",
          "wind": 3.9
         },
         {
          "date": "2014-03-06T00:00:00",
          "precipitation": 3,
          "temp_max": 13.3,
          "temp_min": 10,
          "weather": "fog",
          "wind": 6.2
         },
         {
          "date": "2014-03-07T00:00:00",
          "precipitation": 0,
          "temp_max": 15.6,
          "temp_min": 8.9,
          "weather": "sun",
          "wind": 4.2
         },
         {
          "date": "2014-03-08T00:00:00",
          "precipitation": 32.3,
          "temp_max": 12.8,
          "temp_min": 6.7,
          "weather": "fog",
          "wind": 2.7
         },
         {
          "date": "2014-03-09T00:00:00",
          "precipitation": 4.3,
          "temp_max": 15,
          "temp_min": 9.4,
          "weather": "fog",
          "wind": 4.3
         },
         {
          "date": "2014-03-10T00:00:00",
          "precipitation": 18.8,
          "temp_max": 12.2,
          "temp_min": 6.1,
          "weather": "fog",
          "wind": 2.2
         },
         {
          "date": "2014-03-11T00:00:00",
          "precipitation": 0,
          "temp_max": 14.4,
          "temp_min": 4.4,
          "weather": "fog",
          "wind": 2.3
         },
         {
          "date": "2014-03-12T00:00:00",
          "precipitation": 0,
          "temp_max": 16.1,
          "temp_min": 3.3,
          "weather": "fog",
          "wind": 1.9
         },
         {
          "date": "2014-03-13T00:00:00",
          "precipitation": 0.5,
          "temp_max": 13.9,
          "temp_min": 5,
          "weather": "fog",
          "wind": 2.5
         },
         {
          "date": "2014-03-14T00:00:00",
          "precipitation": 6.9,
          "temp_max": 14.4,
          "temp_min": 8.3,
          "weather": "fog",
          "wind": 6.1
         },
         {
          "date": "2014-03-15T00:00:00",
          "precipitation": 8.1,
          "temp_max": 16.7,
          "temp_min": 4.4,
          "weather": "fog",
          "wind": 3
         },
         {
          "date": "2014-03-16T00:00:00",
          "precipitation": 27.7,
          "temp_max": 10.6,
          "temp_min": 4.4,
          "weather": "fog",
          "wind": 3.8
         },
         {
          "date": "2014-03-17T00:00:00",
          "precipitation": 0.3,
          "temp_max": 10,
          "temp_min": 2.8,
          "weather": "fog",
          "wind": 3.2
         },
         {
          "date": "2014-03-18T00:00:00",
          "precipitation": 0,
          "temp_max": 10,
          "temp_min": 3.3,
          "weather": "sun",
          "wind": 1.6
         },
         {
          "date": "2014-03-19T00:00:00",
          "precipitation": 0.5,
          "temp_max": 11.1,
          "temp_min": 3.3,
          "weather": "sun",
          "wind": 5.1
         },
         {
          "date": "2014-03-20T00:00:00",
          "precipitation": 0,
          "temp_max": 11.1,
          "temp_min": 1.7,
          "weather": "sun",
          "wind": 3
         },
         {
          "date": "2014-03-21T00:00:00",
          "precipitation": 0,
          "temp_max": 10.6,
          "temp_min": 2.8,
          "weather": "sun",
          "wind": 3.8
         },
         {
          "date": "2014-03-22T00:00:00",
          "precipitation": 0,
          "temp_max": 11.1,
          "temp_min": 1.1,
          "weather": "sun",
          "wind": 1.8
         },
         {
          "date": "2014-03-23T00:00:00",
          "precipitation": 0,
          "temp_max": 12.8,
          "temp_min": 4.4,
          "weather": "sun",
          "wind": 3.3
         },
         {
          "date": "2014-03-24T00:00:00",
          "precipitation": 0,
          "temp_max": 18.9,
          "temp_min": 2.8,
          "weather": "sun",
          "wind": 2.2
         },
         {
          "date": "2014-03-25T00:00:00",
          "precipitation": 4.1,
          "temp_max": 13.9,
          "temp_min": 6.7,
          "weather": "fog",
          "wind": 4.4
         },
         {
          "date": "2014-03-26T00:00:00",
          "precipitation": 3.6,
          "temp_max": 11.1,
          "temp_min": 5.6,
          "weather": "fog",
          "wind": 2.4
         },
         {
          "date": "2014-03-27T00:00:00",
          "precipitation": 0.3,
          "temp_max": 12.2,
          "temp_min": 6.7,
          "weather": "fog",
          "wind": 2.8
         },
         {
          "date": "2014-03-28T00:00:00",
          "precipitation": 22.1,
          "temp_max": 11.7,
          "temp_min": 7.2,
          "weather": "fog",
          "wind": 3.9
         },
         {
          "date": "2014-03-29T00:00:00",
          "precipitation": 14,
          "temp_max": 11.7,
          "temp_min": 7.2,
          "weather": "fog",
          "wind": 5.1
         },
         {
          "date": "2014-03-30T00:00:00",
          "precipitation": 0,
          "temp_max": 11.1,
          "temp_min": 5,
          "weather": "sun",
          "wind": 5.1
         },
         {
          "date": "2014-03-31T00:00:00",
          "precipitation": 0,
          "temp_max": 15.6,
          "temp_min": 2.2,
          "weather": "sun",
          "wind": 3.8
         },
         {
          "date": "2014-04-01T00:00:00",
          "precipitation": 0,
          "temp_max": 14.4,
          "temp_min": 6.7,
          "weather": "sun",
          "wind": 2.8
         },
         {
          "date": "2014-04-02T00:00:00",
          "precipitation": 0,
          "temp_max": 14.4,
          "temp_min": 5.6,
          "weather": "sun",
          "wind": 4.2
         },
         {
          "date": "2014-04-03T00:00:00",
          "precipitation": 2.5,
          "temp_max": 13.3,
          "temp_min": 6.1,
          "weather": "sun",
          "wind": 3.9
         },
         {
          "date": "2014-04-04T00:00:00",
          "precipitation": 0,
          "temp_max": 12.8,
          "temp_min": 6.1,
          "weather": "sun",
          "wind": 4.7
         },
         {
          "date": "2014-04-05T00:00:00",
          "precipitation": 4.6,
          "temp_max": 11.7,
          "temp_min": 7.8,
          "weather": "fog",
          "wind": 4.3
         },
         {
          "date": "2014-04-06T00:00:00",
          "precipitation": 0,
          "temp_max": 13.9,
          "temp_min": 8.3,
          "weather": "sun",
          "wind": 2.6
         },
         {
          "date": "2014-04-07T00:00:00",
          "precipitation": 0,
          "temp_max": 21.1,
          "temp_min": 9.4,
          "weather": "sun",
          "wind": 2.5
         },
         {
          "date": "2014-04-08T00:00:00",
          "precipitation": 4.6,
          "temp_max": 15.6,
          "temp_min": 8.3,
          "weather": "fog",
          "wind": 4.2
         },
         {
          "date": "2014-04-09T00:00:00",
          "precipitation": 0,
          "temp_max": 14.4,
          "temp_min": 6.7,
          "weather": "sun",
          "wind": 2.9
         },
         {
          "date": "2014-04-10T00:00:00",
          "precipitation": 0,
          "temp_max": 15,
          "temp_min": 6.7,
          "weather": "sun",
          "wind": 3.6
         },
         {
          "date": "2014-04-11T00:00:00",
          "precipitation": 0,
          "temp_max": 17.2,
          "temp_min": 5,
          "weather": "sun",
          "wind": 2.8
         },
         {
          "date": "2014-04-12T00:00:00",
          "precipitation": 0,
          "temp_max": 16.1,
          "temp_min": 7.8,
          "weather": "sun",
          "wind": 4.4
         },
         {
          "date": "2014-04-13T00:00:00",
          "precipitation": 0,
          "temp_max": 20.6,
          "temp_min": 5.6,
          "weather": "sun",
          "wind": 3.1
         },
         {
          "date": "2014-04-14T00:00:00",
          "precipitation": 0,
          "temp_max": 20,
          "temp_min": 5.6,
          "weather": "sun",
          "wind": 2.6
         },
         {
          "date": "2014-04-15T00:00:00",
          "precipitation": 0.5,
          "temp_max": 14.4,
          "temp_min": 7.8,
          "weather": "sun",
          "wind": 4
         },
         {
          "date": "2014-04-16T00:00:00",
          "precipitation": 10.9,
          "temp_max": 11.1,
          "temp_min": 8.9,
          "weather": "fog",
          "wind": 4.6
         },
         {
          "date": "2014-04-17T00:00:00",
          "precipitation": 18.5,
          "temp_max": 11.7,
          "temp_min": 7.2,
          "weather": "fog",
          "wind": 4.7
         },
         {
          "date": "2014-04-18T00:00:00",
          "precipitation": 0,
          "temp_max": 14.4,
          "temp_min": 5.6,
          "weather": "sun",
          "wind": 3.8
         },
         {
          "date": "2014-04-19T00:00:00",
          "precipitation": 13.7,
          "temp_max": 11.7,
          "temp_min": 5.6,
          "weather": "fog",
          "wind": 4.7
         },
         {
          "date": "2014-04-20T00:00:00",
          "precipitation": 0,
          "temp_max": 15.6,
          "temp_min": 5.6,
          "weather": "sun",
          "wind": 2.7
         },
         {
          "date": "2014-04-21T00:00:00",
          "precipitation": 5.1,
          "temp_max": 17.2,
          "temp_min": 7.8,
          "weather": "fog",
          "wind": 2.5
         },
         {
          "date": "2014-04-22T00:00:00",
          "precipitation": 14.2,
          "temp_max": 12.2,
          "temp_min": 5,
          "weather": "fog",
          "wind": 4.2
         },
         {
          "date": "2014-04-23T00:00:00",
          "precipitation": 8.9,
          "temp_max": 11.7,
          "temp_min": 6.1,
          "weather": "fog",
          "wind": 5
         },
         {
          "date": "2014-04-24T00:00:00",
          "precipitation": 12.4,
          "temp_max": 13.9,
          "temp_min": 6.1,
          "weather": "fog",
          "wind": 5.3
         },
         {
          "date": "2014-04-25T00:00:00",
          "precipitation": 0,
          "temp_max": 14.4,
          "temp_min": 5.6,
          "weather": "sun",
          "wind": 2.3
         },
         {
          "date": "2014-04-26T00:00:00",
          "precipitation": 3.3,
          "temp_max": 15,
          "temp_min": 5.6,
          "weather": "sun",
          "wind": 3.9
         },
         {
          "date": "2014-04-27T00:00:00",
          "precipitation": 6.9,
          "temp_max": 11.1,
          "temp_min": 6.1,
          "weather": "fog",
          "wind": 5.8
         },
         {
          "date": "2014-04-28T00:00:00",
          "precipitation": 0,
          "temp_max": 16.1,
          "temp_min": 4.4,
          "weather": "sun",
          "wind": 2.6
         },
         {
          "date": "2014-04-29T00:00:00",
          "precipitation": 0,
          "temp_max": 25,
          "temp_min": 9.4,
          "weather": "sun",
          "wind": 2.3
         },
         {
          "date": "2014-04-30T00:00:00",
          "precipitation": 0,
          "temp_max": 27.8,
          "temp_min": 9.4,
          "weather": "sun",
          "wind": 3.9
         },
         {
          "date": "2014-05-01T00:00:00",
          "precipitation": 0,
          "temp_max": 29.4,
          "temp_min": 11.1,
          "weather": "sun",
          "wind": 3
         },
         {
          "date": "2014-05-02T00:00:00",
          "precipitation": 0,
          "temp_max": 18.3,
          "temp_min": 10.6,
          "weather": "sun",
          "wind": 4.7
         },
         {
          "date": "2014-05-03T00:00:00",
          "precipitation": 33.3,
          "temp_max": 15,
          "temp_min": 8.9,
          "weather": "fog",
          "wind": 3.4
         },
         {
          "date": "2014-05-04T00:00:00",
          "precipitation": 16,
          "temp_max": 14.4,
          "temp_min": 8.9,
          "weather": "fog",
          "wind": 4.2
         },
         {
          "date": "2014-05-05T00:00:00",
          "precipitation": 5.1,
          "temp_max": 15.6,
          "temp_min": 9.4,
          "weather": "fog",
          "wind": 3.8
         },
         {
          "date": "2014-05-06T00:00:00",
          "precipitation": 0,
          "temp_max": 16.7,
          "temp_min": 8.3,
          "weather": "sun",
          "wind": 2.6
         },
         {
          "date": "2014-05-07T00:00:00",
          "precipitation": 0,
          "temp_max": 18.3,
          "temp_min": 7.2,
          "weather": "sun",
          "wind": 1.7
         },
         {
          "date": "2014-05-08T00:00:00",
          "precipitation": 13.7,
          "temp_max": 13.9,
          "temp_min": 9.4,
          "weather": "fog",
          "wind": 3.4
         },
         {
          "date": "2014-05-09T00:00:00",
          "precipitation": 2,
          "temp_max": 13.3,
          "temp_min": 7.2,
          "weather": "sun",
          "wind": 5.6
         },
         {
          "date": "2014-05-10T00:00:00",
          "precipitation": 0.5,
          "temp_max": 15.6,
          "temp_min": 7.2,
          "weather": "fog",
          "wind": 2.1
         },
         {
          "date": "2014-05-11T00:00:00",
          "precipitation": 0,
          "temp_max": 18.9,
          "temp_min": 8.3,
          "weather": "sun",
          "wind": 1.7
         },
         {
          "date": "2014-05-12T00:00:00",
          "precipitation": 0,
          "temp_max": 24.4,
          "temp_min": 9.4,
          "weather": "sun",
          "wind": 2.7
         },
         {
          "date": "2014-05-13T00:00:00",
          "precipitation": 0,
          "temp_max": 26.7,
          "temp_min": 12.8,
          "weather": "sun",
          "wind": 3.8
         },
         {
          "date": "2014-05-14T00:00:00",
          "precipitation": 0,
          "temp_max": 27.8,
          "temp_min": 13.3,
          "weather": "sun",
          "wind": 3.3
         },
         {
          "date": "2014-05-15T00:00:00",
          "precipitation": 0,
          "temp_max": 26.7,
          "temp_min": 12.8,
          "weather": "sun",
          "wind": 3
         },
         {
          "date": "2014-05-16T00:00:00",
          "precipitation": 0,
          "temp_max": 20,
          "temp_min": 11.7,
          "weather": "sun",
          "wind": 4.1
         },
         {
          "date": "2014-05-17T00:00:00",
          "precipitation": 0,
          "temp_max": 20,
          "temp_min": 11.7,
          "weather": "sun",
          "wind": 3.2
         },
         {
          "date": "2014-05-18T00:00:00",
          "precipitation": 0,
          "temp_max": 20,
          "temp_min": 10.6,
          "weather": "sun",
          "wind": 3.2
         },
         {
          "date": "2014-05-19T00:00:00",
          "precipitation": 0,
          "temp_max": 21.1,
          "temp_min": 10,
          "weather": "sun",
          "wind": 2.2
         },
         {
          "date": "2014-05-20T00:00:00",
          "precipitation": 0,
          "temp_max": 22.2,
          "temp_min": 10,
          "weather": "sun",
          "wind": 2.7
         },
         {
          "date": "2014-05-21T00:00:00",
          "precipitation": 0,
          "temp_max": 20,
          "temp_min": 10.6,
          "weather": "sun",
          "wind": 1.7
         },
         {
          "date": "2014-05-22T00:00:00",
          "precipitation": 0,
          "temp_max": 24.4,
          "temp_min": 11.7,
          "weather": "sun",
          "wind": 2.5
         },
         {
          "date": "2014-05-23T00:00:00",
          "precipitation": 3.8,
          "temp_max": 20,
          "temp_min": 12.8,
          "weather": "fog",
          "wind": 4
         },
         {
          "date": "2014-05-24T00:00:00",
          "precipitation": 0,
          "temp_max": 18.3,
          "temp_min": 11.1,
          "weather": "sun",
          "wind": 2.4
         },
         {
          "date": "2014-05-25T00:00:00",
          "precipitation": 5.6,
          "temp_max": 15,
          "temp_min": 10.6,
          "weather": "fog",
          "wind": 1.4
         },
         {
          "date": "2014-05-26T00:00:00",
          "precipitation": 0,
          "temp_max": 18.3,
          "temp_min": 11.1,
          "weather": "sun",
          "wind": 4.5
         },
         {
          "date": "2014-05-27T00:00:00",
          "precipitation": 0,
          "temp_max": 20,
          "temp_min": 10,
          "weather": "sun",
          "wind": 2.5
         },
         {
          "date": "2014-05-28T00:00:00",
          "precipitation": 0,
          "temp_max": 18.9,
          "temp_min": 10,
          "weather": "sun",
          "wind": 3.4
         },
         {
          "date": "2014-05-29T00:00:00",
          "precipitation": 0,
          "temp_max": 18.9,
          "temp_min": 11.1,
          "weather": "sun",
          "wind": 4.3
         },
         {
          "date": "2014-05-30T00:00:00",
          "precipitation": 0,
          "temp_max": 20.6,
          "temp_min": 8.9,
          "weather": "sun",
          "wind": 4.5
         },
         {
          "date": "2014-05-31T00:00:00",
          "precipitation": 0,
          "temp_max": 23.3,
          "temp_min": 10,
          "weather": "sun",
          "wind": 2.2
         },
         {
          "date": "2014-06-01T00:00:00",
          "precipitation": 0,
          "temp_max": 22.2,
          "temp_min": 10.6,
          "weather": "sun",
          "wind": 2.3
         },
         {
          "date": "2014-06-02T00:00:00",
          "precipitation": 0,
          "temp_max": 23.3,
          "temp_min": 11.1,
          "weather": "sun",
          "wind": 2.4
         },
         {
          "date": "2014-06-03T00:00:00",
          "precipitation": 0,
          "temp_max": 18.3,
          "temp_min": 11.1,
          "weather": "sun",
          "wind": 3.2
         },
         {
          "date": "2014-06-04T00:00:00",
          "precipitation": 0,
          "temp_max": 19.4,
          "temp_min": 10,
          "weather": "sun",
          "wind": 2.6
         },
         {
          "date": "2014-06-05T00:00:00",
          "precipitation": 0,
          "temp_max": 22.2,
          "temp_min": 10,
          "weather": "sun",
          "wind": 2.4
         },
         {
          "date": "2014-06-06T00:00:00",
          "precipitation": 0,
          "temp_max": 25,
          "temp_min": 10.6,
          "weather": "sun",
          "wind": 3.2
         },
         {
          "date": "2014-06-07T00:00:00",
          "precipitation": 0,
          "temp_max": 24.4,
          "temp_min": 13.3,
          "weather": "sun",
          "wind": 3.1
         },
         {
          "date": "2014-06-08T00:00:00",
          "precipitation": 0,
          "temp_max": 23.3,
          "temp_min": 12.2,
          "weather": "sun",
          "wind": 2.1
         },
         {
          "date": "2014-06-09T00:00:00",
          "precipitation": 0,
          "temp_max": 21.1,
          "temp_min": 13.3,
          "weather": "sun",
          "wind": 3.6
         },
         {
          "date": "2014-06-10T00:00:00",
          "precipitation": 0,
          "temp_max": 20,
          "temp_min": 12.2,
          "weather": "sun",
          "wind": 2.9
         },
         {
          "date": "2014-06-11T00:00:00",
          "precipitation": 0,
          "temp_max": 23.9,
          "temp_min": 11.1,
          "weather": "sun",
          "wind": 2.7
         },
         {
          "date": "2014-06-12T00:00:00",
          "precipitation": 1.8,
          "temp_max": 21.7,
          "temp_min": 12.2,
          "weather": "sun",
          "wind": 4
         },
         {
          "date": "2014-06-13T00:00:00",
          "precipitation": 6.4,
          "temp_max": 15.6,
          "temp_min": 11.1,
          "weather": "fog",
          "wind": 5
         },
         {
          "date": "2014-06-14T00:00:00",
          "precipitation": 0,
          "temp_max": 17.8,
          "temp_min": 11.7,
          "weather": "sun",
          "wind": 3.2
         },
         {
          "date": "2014-06-15T00:00:00",
          "precipitation": 0.5,
          "temp_max": 18.3,
          "temp_min": 10,
          "weather": "fog",
          "wind": 3.6
         },
         {
          "date": "2014-06-16T00:00:00",
          "precipitation": 3.6,
          "temp_max": 17.8,
          "temp_min": 8.9,
          "weather": "fog",
          "wind": 2.4
         },
         {
          "date": "2014-06-17T00:00:00",
          "precipitation": 1.3,
          "temp_max": 17.8,
          "temp_min": 10,
          "weather": "fog",
          "wind": 3
         },
         {
          "date": "2014-06-18T00:00:00",
          "precipitation": 0,
          "temp_max": 18.9,
          "temp_min": 11.1,
          "weather": "sun",
          "wind": 2.7
         },
         {
          "date": "2014-06-19T00:00:00",
          "precipitation": 0.8,
          "temp_max": 25.6,
          "temp_min": 11.7,
          "weather": "sun",
          "wind": 3.7
         },
         {
          "date": "2014-06-20T00:00:00",
          "precipitation": 0.3,
          "temp_max": 20,
          "temp_min": 10,
          "weather": "sun",
          "wind": 3.4
         },
         {
          "date": "2014-06-21T00:00:00",
          "precipitation": 0,
          "temp_max": 22.2,
          "temp_min": 10.6,
          "weather": "sun",
          "wind": 3.6
         },
         {
          "date": "2014-06-22T00:00:00",
          "precipitation": 0,
          "temp_max": 25,
          "temp_min": 11.1,
          "weather": "sun",
          "wind": 2.7
         },
         {
          "date": "2014-06-23T00:00:00",
          "precipitation": 0,
          "temp_max": 25,
          "temp_min": 13.3,
          "weather": "sun",
          "wind": 2.5
         },
         {
          "date": "2014-06-24T00:00:00",
          "precipitation": 0,
          "temp_max": 24.4,
          "temp_min": 14.4,
          "weather": "sun",
          "wind": 2.5
         },
         {
          "date": "2014-06-25T00:00:00",
          "precipitation": 0,
          "temp_max": 26.1,
          "temp_min": 13.9,
          "weather": "sun",
          "wind": 2.4
         },
         {
          "date": "2014-06-26T00:00:00",
          "precipitation": 0,
          "temp_max": 21.1,
          "temp_min": 14.4,
          "weather": "sun",
          "wind": 4.1
         },
         {
          "date": "2014-06-27T00:00:00",
          "precipitation": 1.8,
          "temp_max": 21.1,
          "temp_min": 13.9,
          "weather": "fog",
          "wind": 4.5
         },
         {
          "date": "2014-06-28T00:00:00",
          "precipitation": 2.3,
          "temp_max": 20,
          "temp_min": 13.3,
          "weather": "fog",
          "wind": 4.3
         },
         {
          "date": "2014-06-29T00:00:00",
          "precipitation": 0,
          "temp_max": 20.6,
          "temp_min": 12.8,
          "weather": "sun",
          "wind": 3.2
         },
         {
          "date": "2014-06-30T00:00:00",
          "precipitation": 0,
          "temp_max": 25.6,
          "temp_min": 12.8,
          "weather": "sun",
          "wind": 4.4
         },
         {
          "date": "2014-07-01T00:00:00",
          "precipitation": 0,
          "temp_max": 34.4,
          "temp_min": 15.6,
          "weather": "sun",
          "wind": 3.5
         },
         {
          "date": "2014-07-02T00:00:00",
          "precipitation": 0,
          "temp_max": 27.2,
          "temp_min": 14.4,
          "weather": "sun",
          "wind": 3.6
         },
         {
          "date": "2014-07-03T00:00:00",
          "precipitation": 0,
          "temp_max": 21.7,
          "temp_min": 13.9,
          "weather": "sun",
          "wind": 3.1
         },
         {
          "date": "2014-07-04T00:00:00",
          "precipitation": 0,
          "temp_max": 23.9,
          "temp_min": 13.9,
          "weather": "sun",
          "wind": 3.6
         },
         {
          "date": "2014-07-05T00:00:00",
          "precipitation": 0,
          "temp_max": 24.4,
          "temp_min": 13.3,
          "weather": "fog",
          "wind": 2.2
         },
         {
          "date": "2014-07-06T00:00:00",
          "precipitation": 0,
          "temp_max": 28.9,
          "temp_min": 15,
          "weather": "sun",
          "wind": 3
         },
         {
          "date": "2014-07-07T00:00:00",
          "precipitation": 0,
          "temp_max": 27.2,
          "temp_min": 17.8,
          "weather": "fog",
          "wind": 4.1
         },
         {
          "date": "2014-07-08T00:00:00",
          "precipitation": 0,
          "temp_max": 30,
          "temp_min": 15.6,
          "weather": "sun",
          "wind": 3.5
         },
         {
          "date": "2014-07-09T00:00:00",
          "precipitation": 0,
          "temp_max": 26.7,
          "temp_min": 13.9,
          "weather": "sun",
          "wind": 2.3
         },
         {
          "date": "2014-07-10T00:00:00",
          "precipitation": 0,
          "temp_max": 28.9,
          "temp_min": 12.8,
          "weather": "fog",
          "wind": 2.2
         },
         {
          "date": "2014-07-11T00:00:00",
          "precipitation": 0,
          "temp_max": 31.1,
          "temp_min": 15,
          "weather": "sun",
          "wind": 2.2
         },
         {
          "date": "2014-07-12T00:00:00",
          "precipitation": 0,
          "temp_max": 32.2,
          "temp_min": 16.7,
          "weather": "sun",
          "wind": 2.2
         },
         {
          "date": "2014-07-13T00:00:00",
          "precipitation": 0,
          "temp_max": 29.4,
          "temp_min": 15,
          "weather": "rain",
          "wind": 2.6
         },
         {
          "date": "2014-07-14T00:00:00",
          "precipitation": 0,
          "temp_max": 27.8,
          "temp_min": 15,
          "weather": "sun",
          "wind": 2.8
         },
         {
          "date": "2014-07-15T00:00:00",
          "precipitation": 0,
          "temp_max": 31.1,
          "temp_min": 13.9,
          "weather": "sun",
          "wind": 2.3
         },
         {
          "date": "2014-07-16T00:00:00",
          "precipitation": 0,
          "temp_max": 31.1,
          "temp_min": 14.4,
          "weather": "sun",
          "wind": 2.4
         },
         {
          "date": "2014-07-17T00:00:00",
          "precipitation": 0,
          "temp_max": 26.7,
          "temp_min": 13.9,
          "weather": "sun",
          "wind": 3.7
         },
         {
          "date": "2014-07-18T00:00:00",
          "precipitation": 0,
          "temp_max": 23.9,
          "temp_min": 11.7,
          "weather": "sun",
          "wind": 2.8
         },
         {
          "date": "2014-07-19T00:00:00",
          "precipitation": 0,
          "temp_max": 25.6,
          "temp_min": 15,
          "weather": "fog",
          "wind": 5.4
         },
         {
          "date": "2014-07-20T00:00:00",
          "precipitation": 0,
          "temp_max": 19.4,
          "temp_min": 14.4,
          "weather": "sun",
          "wind": 2.8
         },
         {
          "date": "2014-07-21T00:00:00",
          "precipitation": 0,
          "temp_max": 23.9,
          "temp_min": 13.3,
          "weather": "sun",
          "wind": 2.2
         },
         {
          "date": "2014-07-22T00:00:00",
          "precipitation": 0.3,
          "temp_max": 21.1,
          "temp_min": 13.3,
          "weather": "fog",
          "wind": 1.1
         },
         {
          "date": "2014-07-23T00:00:00",
          "precipitation": 19.3,
          "temp_max": 18.9,
          "temp_min": 13.3,
          "weather": "sun",
          "wind": 3.3
         },
         {
          "date": "2014-07-24T00:00:00",
          "precipitation": 0,
          "temp_max": 20.6,
          "temp_min": 12.8,
          "weather": "sun",
          "wind": 4.7
         },
         {
          "date": "2014-07-25T00:00:00",
          "precipitation": 0,
          "temp_max": 22.8,
          "temp_min": 12.2,
          "weather": "sun",
          "wind": 2.7
         },
         {
          "date": "2014-07-26T00:00:00",
          "precipitation": 0,
          "temp_max": 26.1,
          "temp_min": 13.3,
          "weather": "sun",
          "wind": 3.6
         },
         {
          "date": "2014-07-27T00:00:00",
          "precipitation": 0,
          "temp_max": 28.3,
          "temp_min": 15,
          "weather": "sun",
          "wind": 4.1
         },
         {
          "date": "2014-07-28T00:00:00",
          "precipitation": 0,
          "temp_max": 30.6,
          "temp_min": 15,
          "weather": "sun",
          "wind": 3.7
         },
         {
          "date": "2014-07-29T00:00:00",
          "precipitation": 0,
          "temp_max": 30,
          "temp_min": 15.6,
          "weather": "sun",
          "wind": 2.8
         },
         {
          "date": "2014-07-30T00:00:00",
          "precipitation": 0,
          "temp_max": 29.4,
          "temp_min": 14.4,
          "weather": "sun",
          "wind": 3.4
         },
         {
          "date": "2014-07-31T00:00:00",
          "precipitation": 0,
          "temp_max": 30.6,
          "temp_min": 17.8,
          "weather": "sun",
          "wind": 4.1
         },
         {
          "date": "2014-08-01T00:00:00",
          "precipitation": 0,
          "temp_max": 28.9,
          "temp_min": 15,
          "weather": "sun",
          "wind": 3.3
         },
         {
          "date": "2014-08-02T00:00:00",
          "precipitation": 0.5,
          "temp_max": 29.4,
          "temp_min": 15.6,
          "weather": "sun",
          "wind": 1.7
         },
         {
          "date": "2014-08-03T00:00:00",
          "precipitation": 0,
          "temp_max": 31.7,
          "temp_min": 14.4,
          "weather": "sun",
          "wind": 2.6
         },
         {
          "date": "2014-08-04T00:00:00",
          "precipitation": 0,
          "temp_max": 32.8,
          "temp_min": 16.1,
          "weather": "sun",
          "wind": 2.6
         },
         {
          "date": "2014-08-05T00:00:00",
          "precipitation": 0,
          "temp_max": 25,
          "temp_min": 13.9,
          "weather": "sun",
          "wind": 2.7
         },
         {
          "date": "2014-08-06T00:00:00",
          "precipitation": 0,
          "temp_max": 26.1,
          "temp_min": 15,
          "weather": "fog",
          "wind": 2.2
         },
         {
          "date": "2014-08-07T00:00:00",
          "precipitation": 0,
          "temp_max": 25.6,
          "temp_min": 13.3,
          "weather": "fog",
          "wind": 2.4
         },
         {
          "date": "2014-08-08T00:00:00",
          "precipitation": 0,
          "temp_max": 25.6,
          "temp_min": 13.3,
          "weather": "sun",
          "wind": 2.9
         },
         {
          "date": "2014-08-09T00:00:00",
          "precipitation": 0,
          "temp_max": 27.2,
          "temp_min": 15.6,
          "weather": "sun",
          "wind": 4.1
         },
         {
          "date": "2014-08-10T00:00:00",
          "precipitation": 0,
          "temp_max": 30.6,
          "temp_min": 13.9,
          "weather": "sun",
          "wind": 3.4
         },
         {
          "date": "2014-08-11T00:00:00",
          "precipitation": 0.5,
          "temp_max": 35.6,
          "temp_min": 17.8,
          "weather": "rain",
          "wind": 2.6
         },
         {
          "date": "2014-08-12T00:00:00",
          "precipitation": 12.7,
          "temp_max": 27.2,
          "temp_min": 17.2,
          "weather": "fog",
          "wind": 3.1
         },
         {
          "date": "2014-08-13T00:00:00",
          "precipitation": 21.6,
          "temp_max": 23.3,
          "temp_min": 15,
          "weather": "fog",
          "wind": 2.7
         },
         {
          "date": "2014-08-14T00:00:00",
          "precipitation": 0,
          "temp_max": 21.1,
          "temp_min": 17.2,
          "weather": "sun",
          "wind": 0.6
         },
         {
          "date": "2014-08-15T00:00:00",
          "precipitation": 1,
          "temp_max": 24.4,
          "temp_min": 16.7,
          "weather": "fog",
          "wind": 1.5
         },
         {
          "date": "2014-08-16T00:00:00",
          "precipitation": 0,
          "temp_max": 25.6,
          "temp_min": 15.6,
          "weather": "sun",
          "wind": 2.2
         },
         {
          "date": "2014-08-17T00:00:00",
          "precipitation": 0,
          "temp_max": 27.8,
          "temp_min": 15,
          "weather": "sun",
          "wind": 2.8
         },
         {
          "date": "2014-08-18T00:00:00",
          "precipitation": 0,
          "temp_max": 29.4,
          "temp_min": 15.6,
          "weather": "sun",
          "wind": 3.3
         },
         {
          "date": "2014-08-19T00:00:00",
          "precipitation": 0,
          "temp_max": 27.2,
          "temp_min": 15.6,
          "weather": "sun",
          "wind": 2.4
         },
         {
          "date": "2014-08-20T00:00:00",
          "precipitation": 0,
          "temp_max": 21.7,
          "temp_min": 13.9,
          "weather": "sun",
          "wind": 3.6
         },
         {
          "date": "2014-08-21T00:00:00",
          "precipitation": 0,
          "temp_max": 21.1,
          "temp_min": 11.1,
          "weather": "sun",
          "wind": 1.7
         },
         {
          "date": "2014-08-22T00:00:00",
          "precipitation": 0,
          "temp_max": 23.9,
          "temp_min": 13.3,
          "weather": "sun",
          "wind": 2.9
         },
         {
          "date": "2014-08-23T00:00:00",
          "precipitation": 0,
          "temp_max": 27.8,
          "temp_min": 13.9,
          "weather": "sun",
          "wind": 2
         },
         {
          "date": "2014-08-24T00:00:00",
          "precipitation": 0,
          "temp_max": 25,
          "temp_min": 13.3,
          "weather": "sun",
          "wind": 2.3
         },
         {
          "date": "2014-08-25T00:00:00",
          "precipitation": 0,
          "temp_max": 28.9,
          "temp_min": 14.4,
          "weather": "sun",
          "wind": 2
         },
         {
          "date": "2014-08-26T00:00:00",
          "precipitation": 0,
          "temp_max": 31.1,
          "temp_min": 15.6,
          "weather": "sun",
          "wind": 1.8
         },
         {
          "date": "2014-08-27T00:00:00",
          "precipitation": 0,
          "temp_max": 28.9,
          "temp_min": 16.1,
          "weather": "sun",
          "wind": 1.6
         },
         {
          "date": "2014-08-28T00:00:00",
          "precipitation": 0,
          "temp_max": 23.3,
          "temp_min": 14.4,
          "weather": "sun",
          "wind": 2.3
         },
         {
          "date": "2014-08-29T00:00:00",
          "precipitation": 0,
          "temp_max": 22.8,
          "temp_min": 15,
          "weather": "sun",
          "wind": 3.4
         },
         {
          "date": "2014-08-30T00:00:00",
          "precipitation": 8.4,
          "temp_max": 17.8,
          "temp_min": 15,
          "weather": "fog",
          "wind": 2.2
         },
         {
          "date": "2014-08-31T00:00:00",
          "precipitation": 1.3,
          "temp_max": 21.1,
          "temp_min": 13.9,
          "weather": "fog",
          "wind": 1.9
         },
         {
          "date": "2014-09-01T00:00:00",
          "precipitation": 0,
          "temp_max": 23.3,
          "temp_min": 12.8,
          "weather": "sun",
          "wind": 2.5
         },
         {
          "date": "2014-09-02T00:00:00",
          "precipitation": 3,
          "temp_max": 20,
          "temp_min": 13.9,
          "weather": "fog",
          "wind": 4.3
         },
         {
          "date": "2014-09-03T00:00:00",
          "precipitation": 0,
          "temp_max": 20.6,
          "temp_min": 12.8,
          "weather": "sun",
          "wind": 2.7
         },
         {
          "date": "2014-09-04T00:00:00",
          "precipitation": 0,
          "temp_max": 23.9,
          "temp_min": 11.1,
          "weather": "fog",
          "wind": 3.1
         },
         {
          "date": "2014-09-05T00:00:00",
          "precipitation": 0,
          "temp_max": 27.8,
          "temp_min": 13.9,
          "weather": "fog",
          "wind": 6.5
         },
         {
          "date": "2014-09-06T00:00:00",
          "precipitation": 0,
          "temp_max": 32.2,
          "temp_min": 15,
          "weather": "sun",
          "wind": 2.9
         },
         {
          "date": "2014-09-07T00:00:00",
          "precipitation": 0,
          "temp_max": 28.3,
          "temp_min": 13.3,
          "weather": "sun",
          "wind": 2.1
         },
         {
          "date": "2014-09-08T00:00:00",
          "precipitation": 0,
          "temp_max": 21.1,
          "temp_min": 13.3,
          "weather": "sun",
          "wind": 2.8
         },
         {
          "date": "2014-09-09T00:00:00",
          "precipitation": 0,
          "temp_max": 21.7,
          "temp_min": 13.3,
          "weather": "sun",
          "wind": 2.3
         },
         {
          "date": "2014-09-10T00:00:00",
          "precipitation": 0,
          "temp_max": 22.2,
          "temp_min": 12.2,
          "weather": "sun",
          "wind": 3.9
         },
         {
          "date": "2014-09-11T00:00:00",
          "precipitation": 0,
          "temp_max": 24.4,
          "temp_min": 12.8,
          "weather": "sun",
          "wind": 5.3
         },
         {
          "date": "2014-09-12T00:00:00",
          "precipitation": 0,
          "temp_max": 24.4,
          "temp_min": 12.8,
          "weather": "sun",
          "wind": 5.9
         },
         {
          "date": "2014-09-13T00:00:00",
          "precipitation": 0,
          "temp_max": 28.3,
          "temp_min": 10,
          "weather": "sun",
          "wind": 4.2
         },
         {
          "date": "2014-09-14T00:00:00",
          "precipitation": 0,
          "temp_max": 30,
          "temp_min": 11.7,
          "weather": "sun",
          "wind": 1.8
         },
         {
          "date": "2014-09-15T00:00:00",
          "precipitation": 0,
          "temp_max": 30.6,
          "temp_min": 12.2,
          "weather": "sun",
          "wind": 1.2
         },
         {
          "date": "2014-09-16T00:00:00",
          "precipitation": 0,
          "temp_max": 22.2,
          "temp_min": 13.9,
          "weather": "sun",
          "wind": 2.8
         },
         {
          "date": "2014-09-17T00:00:00",
          "precipitation": 0.5,
          "temp_max": 22.8,
          "temp_min": 14.4,
          "weather": "sun",
          "wind": 2.3
         },
         {
          "date": "2014-09-18T00:00:00",
          "precipitation": 0.3,
          "temp_max": 19.4,
          "temp_min": 15,
          "weather": "fog",
          "wind": 3.1
         },
         {
          "date": "2014-09-19T00:00:00",
          "precipitation": 0,
          "temp_max": 23.9,
          "temp_min": 16.1,
          "weather": "sun",
          "wind": 2.8
         },
         {
          "date": "2014-09-20T00:00:00",
          "precipitation": 0,
          "temp_max": 24.4,
          "temp_min": 14.4,
          "weather": "fog",
          "wind": 4.4
         },
         {
          "date": "2014-09-21T00:00:00",
          "precipitation": 0,
          "temp_max": 26.1,
          "temp_min": 12.8,
          "weather": "sun",
          "wind": 3
         },
         {
          "date": "2014-09-22T00:00:00",
          "precipitation": 0.3,
          "temp_max": 22.2,
          "temp_min": 15,
          "weather": "fog",
          "wind": 2.1
         },
         {
          "date": "2014-09-23T00:00:00",
          "precipitation": 18.3,
          "temp_max": 18.9,
          "temp_min": 14.4,
          "weather": "fog",
          "wind": 2.5
         },
         {
          "date": "2014-09-24T00:00:00",
          "precipitation": 20.3,
          "temp_max": 18.9,
          "temp_min": 14.4,
          "weather": "fog",
          "wind": 2.7
         },
         {
          "date": "2014-09-25T00:00:00",
          "precipitation": 4.3,
          "temp_max": 21.7,
          "temp_min": 14.4,
          "weather": "fog",
          "wind": 2.5
         },
         {
          "date": "2014-09-26T00:00:00",
          "precipitation": 8.9,
          "temp_max": 20,
          "temp_min": 13.9,
          "weather": "fog",
          "wind": 3.3
         },
         {
          "date": "2014-09-27T00:00:00",
          "precipitation": 0,
          "temp_max": 20.6,
          "temp_min": 11.7,
          "weather": "fog",
          "wind": 3.2
         },
         {
          "date": "2014-09-28T00:00:00",
          "precipitation": 0,
          "temp_max": 18.9,
          "temp_min": 12.2,
          "weather": "fog",
          "wind": 2
         },
         {
          "date": "2014-09-29T00:00:00",
          "precipitation": 0.8,
          "temp_max": 16.7,
          "temp_min": 11.1,
          "weather": "fog",
          "wind": 3.5
         },
         {
          "date": "2014-09-30T00:00:00",
          "precipitation": 0,
          "temp_max": 19.4,
          "temp_min": 12.2,
          "weather": "sun",
          "wind": 2.6
         },
         {
          "date": "2014-10-01T00:00:00",
          "precipitation": 0,
          "temp_max": 18.3,
          "temp_min": 11.1,
          "weather": "sun",
          "wind": 2.1
         },
         {
          "date": "2014-10-02T00:00:00",
          "precipitation": 0,
          "temp_max": 19.4,
          "temp_min": 10,
          "weather": "sun",
          "wind": 2
         },
         {
          "date": "2014-10-03T00:00:00",
          "precipitation": 0,
          "temp_max": 22.2,
          "temp_min": 8.9,
          "weather": "sun",
          "wind": 1
         },
         {
          "date": "2014-10-04T00:00:00",
          "precipitation": 0,
          "temp_max": 21.7,
          "temp_min": 12.2,
          "weather": "sun",
          "wind": 1.2
         },
         {
          "date": "2014-10-05T00:00:00",
          "precipitation": 0,
          "temp_max": 23.9,
          "temp_min": 11.7,
          "weather": "fog",
          "wind": 1.4
         },
         {
          "date": "2014-10-06T00:00:00",
          "precipitation": 0,
          "temp_max": 25.6,
          "temp_min": 13.3,
          "weather": "fog",
          "wind": 2.5
         },
         {
          "date": "2014-10-07T00:00:00",
          "precipitation": 0,
          "temp_max": 18.9,
          "temp_min": 13.9,
          "weather": "fog",
          "wind": 1
         },
         {
          "date": "2014-10-08T00:00:00",
          "precipitation": 0,
          "temp_max": 20.6,
          "temp_min": 12.8,
          "weather": "fog",
          "wind": 1.8
         },
         {
          "date": "2014-10-09T00:00:00",
          "precipitation": 0,
          "temp_max": 17.2,
          "temp_min": 11.1,
          "weather": "fog",
          "wind": 1
         },
         {
          "date": "2014-10-10T00:00:00",
          "precipitation": 0.3,
          "temp_max": 18.3,
          "temp_min": 10,
          "weather": "fog",
          "wind": 3.8
         },
         {
          "date": "2014-10-11T00:00:00",
          "precipitation": 7.4,
          "temp_max": 18.3,
          "temp_min": 11.7,
          "weather": "rain",
          "wind": 3.5
         },
         {
          "date": "2014-10-12T00:00:00",
          "precipitation": 0,
          "temp_max": 17.8,
          "temp_min": 11.7,
          "weather": "sun",
          "wind": 2.1
         },
         {
          "date": "2014-10-13T00:00:00",
          "precipitation": 7.6,
          "temp_max": 21.1,
          "temp_min": 10,
          "weather": "fog",
          "wind": 3.1
         },
         {
          "date": "2014-10-14T00:00:00",
          "precipitation": 7.1,
          "temp_max": 16.7,
          "temp_min": 11.7,
          "weather": "fog",
          "wind": 2.2
         },
         {
          "date": "2014-10-15T00:00:00",
          "precipitation": 8.6,
          "temp_max": 16.1,
          "temp_min": 11.7,
          "weather": "fog",
          "wind": 4.7
         },
         {
          "date": "2014-10-16T00:00:00",
          "precipitation": 0,
          "temp_max": 20.6,
          "temp_min": 11.1,
          "weather": "sun",
          "wind": 3.3
         },
         {
          "date": "2014-10-17T00:00:00",
          "precipitation": 3.3,
          "temp_max": 16.7,
          "temp_min": 11.7,
          "weather": "fog",
          "wind": 3
         },
         {
          "date": "2014-10-18T00:00:00",
          "precipitation": 15,
          "temp_max": 19.4,
          "temp_min": 13.9,
          "weather": "fog",
          "wind": 1.9
         },
         {
          "date": "2014-10-19T00:00:00",
          "precipitation": 0,
          "temp_max": 22.2,
          "temp_min": 12.8,
          "weather": "sun",
          "wind": 3.2
         },
         {
          "date": "2014-10-20T00:00:00",
          "precipitation": 11.7,
          "temp_max": 16.1,
          "temp_min": 12.2,
          "weather": "fog",
          "wind": 3.1
         },
         {
          "date": "2014-10-21T00:00:00",
          "precipitation": 1,
          "temp_max": 16.1,
          "temp_min": 11.7,
          "weather": "sun",
          "wind": 4.7
         },
         {
          "date": "2014-10-22T00:00:00",
          "precipitation": 32,
          "temp_max": 15.6,
          "temp_min": 11.7,
          "weather": "fog",
          "wind": 5
         },
         {
          "date": "2014-10-23T00:00:00",
          "precipitation": 9.4,
          "temp_max": 14.4,
          "temp_min": 8.3,
          "weather": "sun",
          "wind": 4.6
         },
         {
          "date": "2014-10-24T00:00:00",
          "precipitation": 4.1,
          "temp_max": 14.4,
          "temp_min": 8.9,
          "weather": "sun",
          "wind": 3.2
         },
         {
          "date": "2014-10-25T00:00:00",
          "precipitation": 6.1,
          "temp_max": 16.7,
          "temp_min": 8.3,
          "weather": "fog",
          "wind": 5.4
         },
         {
          "date": "2014-10-26T00:00:00",
          "precipitation": 1.5,
          "temp_max": 12.8,
          "temp_min": 7.8,
          "weather": "fog",
          "wind": 5
         },
         {
          "date": "2014-10-27T00:00:00",
          "precipitation": 0.8,
          "temp_max": 15.6,
          "temp_min": 6.7,
          "weather": "sun",
          "wind": 2.4
         },
         {
          "date": "2014-10-28T00:00:00",
          "precipitation": 12.7,
          "temp_max": 15,
          "temp_min": 9.4,
          "weather": "fog",
          "wind": 3.9
         },
         {
          "date": "2014-10-29T00:00:00",
          "precipitation": 0.5,
          "temp_max": 16.7,
          "temp_min": 11.7,
          "weather": "fog",
          "wind": 3.1
         },
         {
          "date": "2014-10-30T00:00:00",
          "precipitation": 25.4,
          "temp_max": 15.6,
          "temp_min": 11.1,
          "weather": "fog",
          "wind": 3.2
         },
         {
          "date": "2014-10-31T00:00:00",
          "precipitation": 17,
          "temp_max": 12.8,
          "temp_min": 8.3,
          "weather": "fog",
          "wind": 2
         },
         {
          "date": "2014-11-01T00:00:00",
          "precipitation": 0,
          "temp_max": 11.1,
          "temp_min": 7.2,
          "weather": "fog",
          "wind": 1.2
         },
         {
          "date": "2014-11-02T00:00:00",
          "precipitation": 1.8,
          "temp_max": 13.3,
          "temp_min": 7.2,
          "weather": "fog",
          "wind": 2.9
         },
         {
          "date": "2014-11-03T00:00:00",
          "precipitation": 10.9,
          "temp_max": 13.9,
          "temp_min": 11.1,
          "weather": "fog",
          "wind": 4.8
         },
         {
          "date": "2014-11-04T00:00:00",
          "precipitation": 4.1,
          "temp_max": 14.4,
          "temp_min": 10.6,
          "weather": "fog",
          "wind": 3.3
         },
         {
          "date": "2014-11-05T00:00:00",
          "precipitation": 4.8,
          "temp_max": 15,
          "temp_min": 10.6,
          "weather": "fog",
          "wind": 2.1
         },
         {
          "date": "2014-11-06T00:00:00",
          "precipitation": 4.1,
          "temp_max": 16.7,
          "temp_min": 10.6,
          "weather": "fog",
          "wind": 6.7
         },
         {
          "date": "2014-11-07T00:00:00",
          "precipitation": 0,
          "temp_max": 14.4,
          "temp_min": 7.2,
          "weather": "sun",
          "wind": 2.3
         },
         {
          "date": "2014-11-08T00:00:00",
          "precipitation": 0,
          "temp_max": 12.8,
          "temp_min": 3.9,
          "weather": "fog",
          "wind": 0.8
         },
         {
          "date": "2014-11-09T00:00:00",
          "precipitation": 5.1,
          "temp_max": 13.3,
          "temp_min": 7.8,
          "weather": "fog",
          "wind": 3
         },
         {
          "date": "2014-11-10T00:00:00",
          "precipitation": 0,
          "temp_max": 11.1,
          "temp_min": 5.6,
          "weather": "sun",
          "wind": 3.9
         },
         {
          "date": "2014-11-11T00:00:00",
          "precipitation": 0,
          "temp_max": 7.8,
          "temp_min": 1.1,
          "weather": "sun",
          "wind": 7.7
         },
         {
          "date": "2014-11-12T00:00:00",
          "precipitation": 0,
          "temp_max": 6.7,
          "temp_min": 0,
          "weather": "sun",
          "wind": 7.6
         },
         {
          "date": "2014-11-13T00:00:00",
          "precipitation": 0,
          "temp_max": 7.2,
          "temp_min": 0.6,
          "weather": "sun",
          "wind": 4.7
         },
         {
          "date": "2014-11-14T00:00:00",
          "precipitation": 0,
          "temp_max": 7.2,
          "temp_min": -2.1,
          "weather": "sun",
          "wind": 4.5
         },
         {
          "date": "2014-11-15T00:00:00",
          "precipitation": 0,
          "temp_max": 8.3,
          "temp_min": -1.6,
          "weather": "sun",
          "wind": 4.2
         },
         {
          "date": "2014-11-16T00:00:00",
          "precipitation": 0,
          "temp_max": 9.4,
          "temp_min": -2.1,
          "weather": "sun",
          "wind": 4.2
         },
         {
          "date": "2014-11-17T00:00:00",
          "precipitation": 0,
          "temp_max": 10.6,
          "temp_min": -2.1,
          "weather": "sun",
          "wind": 1.9
         },
         {
          "date": "2014-11-18T00:00:00",
          "precipitation": 0,
          "temp_max": 7.2,
          "temp_min": -0.5,
          "weather": "sun",
          "wind": 0.9
         },
         {
          "date": "2014-11-19T00:00:00",
          "precipitation": 0,
          "temp_max": 11.1,
          "temp_min": 2.2,
          "weather": "sun",
          "wind": 1.9
         },
         {
          "date": "2014-11-20T00:00:00",
          "precipitation": 3.6,
          "temp_max": 11.1,
          "temp_min": 5.6,
          "weather": "fog",
          "wind": 2.1
         },
         {
          "date": "2014-11-21T00:00:00",
          "precipitation": 15.2,
          "temp_max": 11.1,
          "temp_min": 8.3,
          "weather": "fog",
          "wind": 4.7
         },
         {
          "date": "2014-11-22T00:00:00",
          "precipitation": 0.5,
          "temp_max": 9.4,
          "temp_min": 6.7,
          "weather": "sun",
          "wind": 4.7
         },
         {
          "date": "2014-11-23T00:00:00",
          "precipitation": 11.9,
          "temp_max": 12.8,
          "temp_min": 5.6,
          "weather": "fog",
          "wind": 5.1
         },
         {
          "date": "2014-11-24T00:00:00",
          "precipitation": 1.3,
          "temp_max": 11.7,
          "temp_min": 4.4,
          "weather": "fog",
          "wind": 3.8
         },
         {
          "date": "2014-11-25T00:00:00",
          "precipitation": 18.3,
          "temp_max": 13.9,
          "temp_min": 9.4,
          "weather": "fog",
          "wind": 4.5
         },
         {
          "date": "2014-11-26T00:00:00",
          "precipitation": 0.3,
          "temp_max": 15,
          "temp_min": 12.2,
          "weather": "sun",
          "wind": 3.9
         },
         {
          "date": "2014-11-27T00:00:00",
          "precipitation": 3.3,
          "temp_max": 14.4,
          "temp_min": 11.7,
          "weather": "fog",
          "wind": 6.6
         },
         {
          "date": "2014-11-28T00:00:00",
          "precipitation": 34.3,
          "temp_max": 12.8,
          "temp_min": 3.3,
          "weather": "fog",
          "wind": 5.8
         },
         {
          "date": "2014-11-29T00:00:00",
          "precipitation": 3.6,
          "temp_max": 4.4,
          "temp_min": -4.3,
          "weather": "fog",
          "wind": 5.3
         },
         {
          "date": "2014-11-30T00:00:00",
          "precipitation": 0,
          "temp_max": 2.8,
          "temp_min": -4.9,
          "weather": "sun",
          "wind": 4.4
         },
         {
          "date": "2014-12-01T00:00:00",
          "precipitation": 0,
          "temp_max": 4.4,
          "temp_min": -3.2,
          "weather": "sun",
          "wind": 2.2
         },
         {
          "date": "2014-12-02T00:00:00",
          "precipitation": 0,
          "temp_max": 5.6,
          "temp_min": -3.2,
          "weather": "fog",
          "wind": 5.7
         },
         {
          "date": "2014-12-03T00:00:00",
          "precipitation": 0,
          "temp_max": 10,
          "temp_min": 0,
          "weather": "sun",
          "wind": 3.6
         },
         {
          "date": "2014-12-04T00:00:00",
          "precipitation": 0.8,
          "temp_max": 8.3,
          "temp_min": 3.9,
          "weather": "fog",
          "wind": 1.1
         },
         {
          "date": "2014-12-05T00:00:00",
          "precipitation": 3,
          "temp_max": 12.8,
          "temp_min": 6.7,
          "weather": "fog",
          "wind": 3.1
         },
         {
          "date": "2014-12-06T00:00:00",
          "precipitation": 7.4,
          "temp_max": 11.7,
          "temp_min": 7.8,
          "weather": "fog",
          "wind": 3.6
         },
         {
          "date": "2014-12-07T00:00:00",
          "precipitation": 0,
          "temp_max": 14.4,
          "temp_min": 6.1,
          "weather": "sun",
          "wind": 2.8
         },
         {
          "date": "2014-12-08T00:00:00",
          "precipitation": 9.1,
          "temp_max": 14.4,
          "temp_min": 8.9,
          "weather": "fog",
          "wind": 4.2
         },
         {
          "date": "2014-12-09T00:00:00",
          "precipitation": 9.9,
          "temp_max": 16.1,
          "temp_min": 10.6,
          "weather": "fog",
          "wind": 5.1
         },
         {
          "date": "2014-12-10T00:00:00",
          "precipitation": 13,
          "temp_max": 18.9,
          "temp_min": 10,
          "weather": "fog",
          "wind": 6.7
         },
         {
          "date": "2014-12-11T00:00:00",
          "precipitation": 6.9,
          "temp_max": 14.4,
          "temp_min": 8.3,
          "weather": "fog",
          "wind": 6.4
         },
         {
          "date": "2014-12-12T00:00:00",
          "precipitation": 0,
          "temp_max": 11.1,
          "temp_min": 7.2,
          "weather": "sun",
          "wind": 3.7
         },
         {
          "date": "2014-12-13T00:00:00",
          "precipitation": 0,
          "temp_max": 10,
          "temp_min": 3.9,
          "weather": "fog",
          "wind": 1.1
         },
         {
          "date": "2014-12-14T00:00:00",
          "precipitation": 0,
          "temp_max": 12.8,
          "temp_min": 1.7,
          "weather": "fog",
          "wind": 3.5
         },
         {
          "date": "2014-12-15T00:00:00",
          "precipitation": 0,
          "temp_max": 12.2,
          "temp_min": 6.7,
          "weather": "sun",
          "wind": 5.9
         },
         {
          "date": "2014-12-16T00:00:00",
          "precipitation": 0,
          "temp_max": 10,
          "temp_min": 8.3,
          "weather": "sun",
          "wind": 4
         },
         {
          "date": "2014-12-17T00:00:00",
          "precipitation": 2.8,
          "temp_max": 8.9,
          "temp_min": 6.1,
          "weather": "fog",
          "wind": 1.6
         },
         {
          "date": "2014-12-18T00:00:00",
          "precipitation": 13,
          "temp_max": 9.4,
          "temp_min": 6.7,
          "weather": "fog",
          "wind": 3.1
         },
         {
          "date": "2014-12-19T00:00:00",
          "precipitation": 3,
          "temp_max": 11.1,
          "temp_min": 7.2,
          "weather": "sun",
          "wind": 4.3
         },
         {
          "date": "2014-12-20T00:00:00",
          "precipitation": 19.6,
          "temp_max": 12.8,
          "temp_min": 6.7,
          "weather": "fog",
          "wind": 5.5
         },
         {
          "date": "2014-12-21T00:00:00",
          "precipitation": 0,
          "temp_max": 12.8,
          "temp_min": 10,
          "weather": "sun",
          "wind": 5.2
         },
         {
          "date": "2014-12-22T00:00:00",
          "precipitation": 0,
          "temp_max": 10.6,
          "temp_min": 6.1,
          "weather": "sun",
          "wind": 1.5
         },
         {
          "date": "2014-12-23T00:00:00",
          "precipitation": 20.6,
          "temp_max": 12.2,
          "temp_min": 5,
          "weather": "fog",
          "wind": 3.8
         },
         {
          "date": "2014-12-24T00:00:00",
          "precipitation": 5.3,
          "temp_max": 7.2,
          "temp_min": 3.9,
          "weather": "fog",
          "wind": 1.8
         },
         {
          "date": "2014-12-25T00:00:00",
          "precipitation": 0,
          "temp_max": 7.8,
          "temp_min": 2.8,
          "weather": "fog",
          "wind": 2.2
         },
         {
          "date": "2014-12-26T00:00:00",
          "precipitation": 0,
          "temp_max": 5.6,
          "temp_min": 1.7,
          "weather": "fog",
          "wind": 1.2
         },
         {
          "date": "2014-12-27T00:00:00",
          "precipitation": 3.3,
          "temp_max": 9.4,
          "temp_min": 4.4,
          "weather": "fog",
          "wind": 4.9
         },
         {
          "date": "2014-12-28T00:00:00",
          "precipitation": 4.1,
          "temp_max": 6.7,
          "temp_min": 2.8,
          "weather": "fog",
          "wind": 1.8
         },
         {
          "date": "2014-12-29T00:00:00",
          "precipitation": 0,
          "temp_max": 6.1,
          "temp_min": 0.6,
          "weather": "fog",
          "wind": 4.3
         },
         {
          "date": "2014-12-30T00:00:00",
          "precipitation": 0,
          "temp_max": 3.3,
          "temp_min": -2.1,
          "weather": "sun",
          "wind": 3.6
         },
         {
          "date": "2014-12-31T00:00:00",
          "precipitation": 0,
          "temp_max": 3.3,
          "temp_min": -2.7,
          "weather": "sun",
          "wind": 3
         },
         {
          "date": "2015-01-01T00:00:00",
          "precipitation": 0,
          "temp_max": 5.6,
          "temp_min": -3.2,
          "weather": "sun",
          "wind": 1.2
         },
         {
          "date": "2015-01-02T00:00:00",
          "precipitation": 1.5,
          "temp_max": 5.6,
          "temp_min": 0,
          "weather": "fog",
          "wind": 2.3
         },
         {
          "date": "2015-01-03T00:00:00",
          "precipitation": 0,
          "temp_max": 5,
          "temp_min": 1.7,
          "weather": "fog",
          "wind": 1.7
         },
         {
          "date": "2015-01-04T00:00:00",
          "precipitation": 10.2,
          "temp_max": 10.6,
          "temp_min": 3.3,
          "weather": "fog",
          "wind": 4.5
         },
         {
          "date": "2015-01-05T00:00:00",
          "precipitation": 8.1,
          "temp_max": 12.2,
          "temp_min": 9.4,
          "weather": "fog",
          "wind": 6.4
         },
         {
          "date": "2015-01-06T00:00:00",
          "precipitation": 0,
          "temp_max": 12.2,
          "temp_min": 6.1,
          "weather": "fog",
          "wind": 1.3
         },
         {
          "date": "2015-01-07T00:00:00",
          "precipitation": 0,
          "temp_max": 7.8,
          "temp_min": 5.6,
          "weather": "fog",
          "wind": 1.6
         },
         {
          "date": "2015-01-08T00:00:00",
          "precipitation": 0,
          "temp_max": 7.8,
          "temp_min": 1.7,
          "weather": "fog",
          "wind": 2.6
         },
         {
          "date": "2015-01-09T00:00:00",
          "precipitation": 0.3,
          "temp_max": 10,
          "temp_min": 3.3,
          "weather": "fog",
          "wind": 0.6
         },
         {
          "date": "2015-01-10T00:00:00",
          "precipitation": 5.8,
          "temp_max": 7.8,
          "temp_min": 6.1,
          "weather": "fog",
          "wind": 0.5
         },
         {
          "date": "2015-01-11T00:00:00",
          "precipitation": 1.5,
          "temp_max": 9.4,
          "temp_min": 7.2,
          "weather": "fog",
          "wind": 1.1
         },
         {
          "date": "2015-01-12T00:00:00",
          "precipitation": 0,
          "temp_max": 11.1,
          "temp_min": 4.4,
          "weather": "fog",
          "wind": 1.6
         },
         {
          "date": "2015-01-13T00:00:00",
          "precipitation": 0,
          "temp_max": 9.4,
          "temp_min": 2.8,
          "weather": "fog",
          "wind": 2.7
         },
         {
          "date": "2015-01-14T00:00:00",
          "precipitation": 0,
          "temp_max": 6.1,
          "temp_min": 0.6,
          "weather": "fog",
          "wind": 2.8
         },
         {
          "date": "2015-01-15T00:00:00",
          "precipitation": 9.7,
          "temp_max": 7.8,
          "temp_min": 1.1,
          "weather": "fog",
          "wind": 3.2
         },
         {
          "date": "2015-01-16T00:00:00",
          "precipitation": 0,
          "temp_max": 11.7,
          "temp_min": 5.6,
          "weather": "fog",
          "wind": 4.5
         },
         {
          "date": "2015-01-17T00:00:00",
          "precipitation": 26.2,
          "temp_max": 13.3,
          "temp_min": 3.3,
          "weather": "fog",
          "wind": 2.8
         },
         {
          "date": "2015-01-18T00:00:00",
          "precipitation": 21.3,
          "temp_max": 13.9,
          "temp_min": 7.2,
          "weather": "rain",
          "wind": 6.6
         },
         {
          "date": "2015-01-19T00:00:00",
          "precipitation": 0.5,
          "temp_max": 10,
          "temp_min": 6.1,
          "weather": "sun",
          "wind": 2.8
         },
         {
          "date": "2015-01-20T00:00:00",
          "precipitation": 0,
          "temp_max": 10,
          "temp_min": 3.3,
          "weather": "fog",
          "wind": 3
         },
         {
          "date": "2015-01-21T00:00:00",
          "precipitation": 0,
          "temp_max": 7.2,
          "temp_min": -0.5,
          "weather": "fog",
          "wind": 1.3
         },
         {
          "date": "2015-01-22T00:00:00",
          "precipitation": 0.8,
          "temp_max": 9.4,
          "temp_min": 6.1,
          "weather": "fog",
          "wind": 1.3
         },
         {
          "date": "2015-01-23T00:00:00",
          "precipitation": 5.8,
          "temp_max": 12.2,
          "temp_min": 8.3,
          "weather": "fog",
          "wind": 2.6
         },
         {
          "date": "2015-01-24T00:00:00",
          "precipitation": 0.5,
          "temp_max": 14.4,
          "temp_min": 11.1,
          "weather": "fog",
          "wind": 3.3
         },
         {
          "date": "2015-01-25T00:00:00",
          "precipitation": 0,
          "temp_max": 17.2,
          "temp_min": 7.2,
          "weather": "fog",
          "wind": 1.4
         },
         {
          "date": "2015-01-26T00:00:00",
          "precipitation": 0,
          "temp_max": 16.1,
          "temp_min": 6.1,
          "weather": "fog",
          "wind": 2.2
         },
         {
          "date": "2015-01-27T00:00:00",
          "precipitation": 0.8,
          "temp_max": 11.1,
          "temp_min": 8.3,
          "weather": "fog",
          "wind": 2
         },
         {
          "date": "2015-01-28T00:00:00",
          "precipitation": 0,
          "temp_max": 12.2,
          "temp_min": 5,
          "weather": "fog",
          "wind": 1.8
         },
         {
          "date": "2015-01-29T00:00:00",
          "precipitation": 0,
          "temp_max": 12.2,
          "temp_min": 3.3,
          "weather": "sun",
          "wind": 2.9
         },
         {
          "date": "2015-01-30T00:00:00",
          "precipitation": 0,
          "temp_max": 8.3,
          "temp_min": 1.1,
          "weather": "fog",
          "wind": 0.8
         },
         {
          "date": "2015-01-31T00:00:00",
          "precipitation": 0,
          "temp_max": 7.2,
          "temp_min": 3.3,
          "weather": "fog",
          "wind": 1.9
         },
         {
          "date": "2015-02-01T00:00:00",
          "precipitation": 1.5,
          "temp_max": 9.4,
          "temp_min": 4.4,
          "weather": "fog",
          "wind": 2.6
         },
         {
          "date": "2015-02-02T00:00:00",
          "precipitation": 7.4,
          "temp_max": 11.1,
          "temp_min": 5,
          "weather": "fog",
          "wind": 4
         },
         {
          "date": "2015-02-03T00:00:00",
          "precipitation": 1.3,
          "temp_max": 10,
          "temp_min": 5.6,
          "weather": "fog",
          "wind": 1.9
         },
         {
          "date": "2015-02-04T00:00:00",
          "precipitation": 8.4,
          "temp_max": 10.6,
          "temp_min": 4.4,
          "weather": "fog",
          "wind": 1.7
         },
         {
          "date": "2015-02-05T00:00:00",
          "precipitation": 26.2,
          "temp_max": 13.3,
          "temp_min": 8.3,
          "weather": "fog",
          "wind": 4.6
         },
         {
          "date": "2015-02-06T00:00:00",
          "precipitation": 17.3,
          "temp_max": 14.4,
          "temp_min": 10,
          "weather": "fog",
          "wind": 4.5
         },
         {
          "date": "2015-02-07T00:00:00",
          "precipitation": 23.6,
          "temp_max": 12.2,
          "temp_min": 9.4,
          "weather": "fog",
          "wind": 4.6
         },
         {
          "date": "2015-02-08T00:00:00",
          "precipitation": 3.6,
          "temp_max": 15,
          "temp_min": 8.3,
          "weather": "fog",
          "wind": 3.9
         },
         {
          "date": "2015-02-09T00:00:00",
          "precipitation": 6.1,
          "temp_max": 13.3,
          "temp_min": 8.3,
          "weather": "fog",
          "wind": 2.5
         },
         {
          "date": "2015-02-10T00:00:00",
          "precipitation": 0.3,
          "temp_max": 12.8,
          "temp_min": 8.3,
          "weather": "fog",
          "wind": 4
         },
         {
          "date": "2015-02-11T00:00:00",
          "precipitation": 0,
          "temp_max": 12.8,
          "temp_min": 5.6,
          "weather": "fog",
          "wind": 1
         },
         {
          "date": "2015-02-12T00:00:00",
          "precipitation": 1,
          "temp_max": 16.7,
          "temp_min": 9.4,
          "weather": "sun",
          "wind": 2.1
         },
         {
          "date": "2015-02-13T00:00:00",
          "precipitation": 0,
          "temp_max": 15.6,
          "temp_min": 6.7,
          "weather": "fog",
          "wind": 1.7
         },
         {
          "date": "2015-02-14T00:00:00",
          "precipitation": 0.3,
          "temp_max": 14.4,
          "temp_min": 6.7,
          "weather": "fog",
          "wind": 2.9
         },
         {
          "date": "2015-02-15T00:00:00",
          "precipitation": 0,
          "temp_max": 12.2,
          "temp_min": 3.9,
          "weather": "sun",
          "wind": 4.8
         },
         {
          "date": "2015-02-16T00:00:00",
          "precipitation": 0,
          "temp_max": 15,
          "temp_min": 5.6,
          "weather": "fog",
          "wind": 6.6
         },
         {
          "date": "2015-02-17T00:00:00",
          "precipitation": 0,
          "temp_max": 16.1,
          "temp_min": 4.4,
          "weather": "sun",
          "wind": 4
         },
         {
          "date": "2015-02-18T00:00:00",
          "precipitation": 0,
          "temp_max": 12.2,
          "temp_min": 4.4,
          "weather": "sun",
          "wind": 2.6
         },
         {
          "date": "2015-02-19T00:00:00",
          "precipitation": 4.6,
          "temp_max": 10.6,
          "temp_min": 8.3,
          "weather": "fog",
          "wind": 2.2
         },
         {
          "date": "2015-02-20T00:00:00",
          "precipitation": 0.8,
          "temp_max": 11.1,
          "temp_min": 7.2,
          "weather": "fog",
          "wind": 0.9
         },
         {
          "date": "2015-02-21T00:00:00",
          "precipitation": 0,
          "temp_max": 12.2,
          "temp_min": 5.6,
          "weather": "sun",
          "wind": 4.5
         },
         {
          "date": "2015-02-22T00:00:00",
          "precipitation": 0,
          "temp_max": 11.7,
          "temp_min": 3.3,
          "weather": "sun",
          "wind": 4.2
         },
         {
          "date": "2015-02-23T00:00:00",
          "precipitation": 0,
          "temp_max": 12.8,
          "temp_min": 0.6,
          "weather": "sun",
          "wind": 1.4
         },
         {
          "date": "2015-02-24T00:00:00",
          "precipitation": 0,
          "temp_max": 11.1,
          "temp_min": 2.2,
          "weather": "sun",
          "wind": 1.5
         },
         {
          "date": "2015-02-25T00:00:00",
          "precipitation": 4.1,
          "temp_max": 10,
          "temp_min": 6.7,
          "weather": "fog",
          "wind": 1
         },
         {
          "date": "2015-02-26T00:00:00",
          "precipitation": 9.4,
          "temp_max": 11.7,
          "temp_min": 7.8,
          "weather": "fog",
          "wind": 1.4
         },
         {
          "date": "2015-02-27T00:00:00",
          "precipitation": 18.3,
          "temp_max": 10,
          "temp_min": 6.7,
          "weather": "fog",
          "wind": 4
         },
         {
          "date": "2015-02-28T00:00:00",
          "precipitation": 0,
          "temp_max": 12.2,
          "temp_min": 3.3,
          "weather": "sun",
          "wind": 5.1
         },
         {
          "date": "2015-03-01T00:00:00",
          "precipitation": 0,
          "temp_max": 11.1,
          "temp_min": 1.1,
          "weather": "sun",
          "wind": 2.2
         },
         {
          "date": "2015-03-02T00:00:00",
          "precipitation": 0,
          "temp_max": 11.1,
          "temp_min": 4.4,
          "weather": "sun",
          "wind": 4.8
         },
         {
          "date": "2015-03-03T00:00:00",
          "precipitation": 0,
          "temp_max": 10.6,
          "temp_min": 0,
          "weather": "sun",
          "wind": 2.1
         },
         {
          "date": "2015-03-04T00:00:00",
          "precipitation": 0,
          "temp_max": 12.8,
          "temp_min": -0.5,
          "weather": "sun",
          "wind": 1.8
         },
         {
          "date": "2015-03-05T00:00:00",
          "precipitation": 0,
          "temp_max": 13.3,
          "temp_min": 2.8,
          "weather": "sun",
          "wind": 1.3
         },
         {
          "date": "2015-03-06T00:00:00",
          "precipitation": 0,
          "temp_max": 15,
          "temp_min": 3.3,
          "weather": "sun",
          "wind": 1.4
         },
         {
          "date": "2015-03-07T00:00:00",
          "precipitation": 0,
          "temp_max": 16.7,
          "temp_min": 3.9,
          "weather": "fog",
          "wind": 2.7
         },
         {
          "date": "2015-03-08T00:00:00",
          "precipitation": 0,
          "temp_max": 17.2,
          "temp_min": 3.9,
          "weather": "fog",
          "wind": 1.7
         },
         {
          "date": "2015-03-09T00:00:00",
          "precipitation": 0,
          "temp_max": 14.4,
          "temp_min": 4.4,
          "weather": "fog",
          "wind": 1.8
         },
         {
          "date": "2015-03-10T00:00:00",
          "precipitation": 0.8,
          "temp_max": 13.3,
          "temp_min": 5,
          "weather": "fog",
          "wind": 2.6
         },
         {
          "date": "2015-03-11T00:00:00",
          "precipitation": 2.5,
          "temp_max": 14.4,
          "temp_min": 8.9,
          "weather": "fog",
          "wind": 3.1
         },
         {
          "date": "2015-03-12T00:00:00",
          "precipitation": 0,
          "temp_max": 17.8,
          "temp_min": 9.4,
          "weather": "sun",
          "wind": 3.2
         },
         {
          "date": "2015-03-13T00:00:00",
          "precipitation": 2,
          "temp_max": 17.2,
          "temp_min": 7.8,
          "weather": "sun",
          "wind": 2.2
         },
         {
          "date": "2015-03-14T00:00:00",
          "precipitation": 17,
          "temp_max": 13.9,
          "temp_min": 9.4,
          "weather": "fog",
          "wind": 3.8
         },
         {
          "date": "2015-03-15T00:00:00",
          "precipitation": 55.9,
          "temp_max": 10.6,
          "temp_min": 6.1,
          "weather": "fog",
          "wind": 4.2
         },
         {
          "date": "2015-03-16T00:00:00",
          "precipitation": 1,
          "temp_max": 13.9,
          "temp_min": 6.1,
          "weather": "fog",
          "wind": 3
         },
         {
          "date": "2015-03-17T00:00:00",
          "precipitation": 0.8,
          "temp_max": 13.3,
          "temp_min": 4.4,
          "weather": "sun",
          "wind": 2.6
         },
         {
          "date": "2015-03-18T00:00:00",
          "precipitation": 0,
          "temp_max": 15.6,
          "temp_min": 7.2,
          "weather": "sun",
          "wind": 2.5
         },
         {
          "date": "2015-03-19T00:00:00",
          "precipitation": 0,
          "temp_max": 15.6,
          "temp_min": 8.3,
          "weather": "sun",
          "wind": 1.9
         },
         {
          "date": "2015-03-20T00:00:00",
          "precipitation": 4.1,
          "temp_max": 13.9,
          "temp_min": 8.9,
          "weather": "sun",
          "wind": 1.9
         },
         {
          "date": "2015-03-21T00:00:00",
          "precipitation": 3.8,
          "temp_max": 13.3,
          "temp_min": 8.3,
          "weather": "fog",
          "wind": 4.7
         },
         {
          "date": "2015-03-22T00:00:00",
          "precipitation": 1,
          "temp_max": 11.7,
          "temp_min": 6.1,
          "weather": "sun",
          "wind": 2.3
         },
         {
          "date": "2015-03-23T00:00:00",
          "precipitation": 8.1,
          "temp_max": 11.1,
          "temp_min": 5.6,
          "weather": "fog",
          "wind": 2.8
         },
         {
          "date": "2015-03-24T00:00:00",
          "precipitation": 7.6,
          "temp_max": 12.8,
          "temp_min": 6.1,
          "weather": "fog",
          "wind": 3.9
         },
         {
          "date": "2015-03-25T00:00:00",
          "precipitation": 5.1,
          "temp_max": 14.4,
          "temp_min": 7.2,
          "weather": "fog",
          "wind": 4.4
         },
         {
          "date": "2015-03-26T00:00:00",
          "precipitation": 0,
          "temp_max": 20.6,
          "temp_min": 10,
          "weather": "sun",
          "wind": 2.2
         },
         {
          "date": "2015-03-27T00:00:00",
          "precipitation": 1,
          "temp_max": 18.3,
          "temp_min": 8.9,
          "weather": "fog",
          "wind": 4
         },
         {
          "date": "2015-03-28T00:00:00",
          "precipitation": 0,
          "temp_max": 15.6,
          "temp_min": 9.4,
          "weather": "sun",
          "wind": 5.7
         },
         {
          "date": "2015-03-29T00:00:00",
          "precipitation": 0,
          "temp_max": 15.6,
          "temp_min": 8.9,
          "weather": "sun",
          "wind": 3
         },
         {
          "date": "2015-03-30T00:00:00",
          "precipitation": 1.8,
          "temp_max": 17.8,
          "temp_min": 10.6,
          "weather": "fog",
          "wind": 2.9
         },
         {
          "date": "2015-03-31T00:00:00",
          "precipitation": 1,
          "temp_max": 12.8,
          "temp_min": 6.1,
          "weather": "fog",
          "wind": 4.2
         },
         {
          "date": "2015-04-01T00:00:00",
          "precipitation": 5.1,
          "temp_max": 12.8,
          "temp_min": 5.6,
          "weather": "rain",
          "wind": 3.2
         },
         {
          "date": "2015-04-02T00:00:00",
          "precipitation": 0,
          "temp_max": 13.3,
          "temp_min": 5.6,
          "weather": "sun",
          "wind": 2.4
         },
         {
          "date": "2015-04-03T00:00:00",
          "precipitation": 1.5,
          "temp_max": 11.1,
          "temp_min": 5,
          "weather": "fog",
          "wind": 3.6
         },
         {
          "date": "2015-04-04T00:00:00",
          "precipitation": 0,
          "temp_max": 12.8,
          "temp_min": 3.9,
          "weather": "sun",
          "wind": 1.7
         },
         {
          "date": "2015-04-05T00:00:00",
          "precipitation": 0,
          "temp_max": 16.7,
          "temp_min": 2.8,
          "weather": "sun",
          "wind": 2.4
         },
         {
          "date": "2015-04-06T00:00:00",
          "precipitation": 1,
          "temp_max": 13.9,
          "temp_min": 6.7,
          "weather": "sun",
          "wind": 3.5
         },
         {
          "date": "2015-04-07T00:00:00",
          "precipitation": 0.5,
          "temp_max": 14.4,
          "temp_min": 6.7,
          "weather": "sun",
          "wind": 3.9
         },
         {
          "date": "2015-04-08T00:00:00",
          "precipitation": 0,
          "temp_max": 17.2,
          "temp_min": 6.1,
          "weather": "sun",
          "wind": 1.7
         },
         {
          "date": "2015-04-09T00:00:00",
          "precipitation": 0,
          "temp_max": 17.2,
          "temp_min": 6.1,
          "weather": "sun",
          "wind": 2.3
         },
         {
          "date": "2015-04-10T00:00:00",
          "precipitation": 10.9,
          "temp_max": 13.9,
          "temp_min": 7.8,
          "weather": "fog",
          "wind": 4.6
         },
         {
          "date": "2015-04-11T00:00:00",
          "precipitation": 0,
          "temp_max": 11.7,
          "temp_min": 5.6,
          "weather": "sun",
          "wind": 6.5
         },
         {
          "date": "2015-04-12T00:00:00",
          "precipitation": 0,
          "temp_max": 13.3,
          "temp_min": 5.6,
          "weather": "sun",
          "wind": 3.6
         },
         {
          "date": "2015-04-13T00:00:00",
          "precipitation": 14,
          "temp_max": 11.7,
          "temp_min": 3.9,
          "weather": "fog",
          "wind": 3.6
         },
         {
          "date": "2015-04-14T00:00:00",
          "precipitation": 3.3,
          "temp_max": 11.7,
          "temp_min": 2.8,
          "weather": "sun",
          "wind": 3.3
         },
         {
          "date": "2015-04-15T00:00:00",
          "precipitation": 0,
          "temp_max": 13.9,
          "temp_min": 3.3,
          "weather": "sun",
          "wind": 2.4
         },
         {
          "date": "2015-04-16T00:00:00",
          "precipitation": 0,
          "temp_max": 17.8,
          "temp_min": 3.9,
          "weather": "sun",
          "wind": 3.1
         },
         {
          "date": "2015-04-17T00:00:00",
          "precipitation": 0,
          "temp_max": 18.9,
          "temp_min": 6.1,
          "weather": "sun",
          "wind": 3.6
         },
         {
          "date": "2015-04-18T00:00:00",
          "precipitation": 0,
          "temp_max": 18.9,
          "temp_min": 8.3,
          "weather": "sun",
          "wind": 3.9
         },
         {
          "date": "2015-04-19T00:00:00",
          "precipitation": 0,
          "temp_max": 21.1,
          "temp_min": 8.3,
          "weather": "sun",
          "wind": 3.6
         },
         {
          "date": "2015-04-20T00:00:00",
          "precipitation": 0,
          "temp_max": 22.8,
          "temp_min": 7.8,
          "weather": "sun",
          "wind": 2.6
         },
         {
          "date": "2015-04-21T00:00:00",
          "precipitation": 5.6,
          "temp_max": 17.2,
          "temp_min": 6.7,
          "weather": "fog",
          "wind": 3.4
         },
         {
          "date": "2015-04-22T00:00:00",
          "precipitation": 0,
          "temp_max": 15.6,
          "temp_min": 5,
          "weather": "sun",
          "wind": 2.3
         },
         {
          "date": "2015-04-23T00:00:00",
          "precipitation": 3,
          "temp_max": 12.2,
          "temp_min": 6.7,
          "weather": "fog",
          "wind": 4.1
         },
         {
          "date": "2015-04-24T00:00:00",
          "precipitation": 3.3,
          "temp_max": 12.2,
          "temp_min": 6.1,
          "weather": "fog",
          "wind": 5
         },
         {
          "date": "2015-04-25T00:00:00",
          "precipitation": 1.3,
          "temp_max": 13.3,
          "temp_min": 5.6,
          "weather": "fog",
          "wind": 3
         },
         {
          "date": "2015-04-26T00:00:00",
          "precipitation": 0,
          "temp_max": 15.6,
          "temp_min": 4.4,
          "weather": "fog",
          "wind": 2.7
         },
         {
          "date": "2015-04-27T00:00:00",
          "precipitation": 0.3,
          "temp_max": 25,
          "temp_min": 10.6,
          "weather": "fog",
          "wind": 2.3
         },
         {
          "date": "2015-04-28T00:00:00",
          "precipitation": 1.8,
          "temp_max": 15.6,
          "temp_min": 8.9,
          "weather": "fog",
          "wind": 4.3
         },
         {
          "date": "2015-04-29T00:00:00",
          "precipitation": 0,
          "temp_max": 16.1,
          "temp_min": 7.2,
          "weather": "sun",
          "wind": 4.7
         },
         {
          "date": "2015-04-30T00:00:00",
          "precipitation": 0,
          "temp_max": 17.2,
          "temp_min": 7.8,
          "weather": "sun",
          "wind": 2.1
         },
         {
          "date": "2015-05-01T00:00:00",
          "precipitation": 0,
          "temp_max": 18.3,
          "temp_min": 8.9,
          "weather": "sun",
          "wind": 3.7
         },
         {
          "date": "2015-05-02T00:00:00",
          "precipitation": 0,
          "temp_max": 18.3,
          "temp_min": 7.8,
          "weather": "sun",
          "wind": 3.7
         },
         {
          "date": "2015-05-03T00:00:00",
          "precipitation": 0,
          "temp_max": 20.6,
          "temp_min": 7.8,
          "weather": "sun",
          "wind": 2.6
         },
         {
          "date": "2015-05-04T00:00:00",
          "precipitation": 0,
          "temp_max": 17.2,
          "temp_min": 7.2,
          "weather": "sun",
          "wind": 5.2
         },
         {
          "date": "2015-05-05T00:00:00",
          "precipitation": 6.1,
          "temp_max": 14.4,
          "temp_min": 7.2,
          "weather": "fog",
          "wind": 5.1
         },
         {
          "date": "2015-05-06T00:00:00",
          "precipitation": 0,
          "temp_max": 16.7,
          "temp_min": 7.2,
          "weather": "fog",
          "wind": 2.6
         },
         {
          "date": "2015-05-07T00:00:00",
          "precipitation": 0,
          "temp_max": 20.6,
          "temp_min": 6.1,
          "weather": "sun",
          "wind": 3
         },
         {
          "date": "2015-05-08T00:00:00",
          "precipitation": 0,
          "temp_max": 23.9,
          "temp_min": 8.3,
          "weather": "sun",
          "wind": 3
         },
         {
          "date": "2015-05-09T00:00:00",
          "precipitation": 0,
          "temp_max": 26.7,
          "temp_min": 9.4,
          "weather": "sun",
          "wind": 2.6
         },
         {
          "date": "2015-05-10T00:00:00",
          "precipitation": 0,
          "temp_max": 19.4,
          "temp_min": 11.1,
          "weather": "sun",
          "wind": 2.8
         },
         {
          "date": "2015-05-11T00:00:00",
          "precipitation": 0,
          "temp_max": 13.9,
          "temp_min": 10,
          "weather": "fog",
          "wind": 2.5
         },
         {
          "date": "2015-05-12T00:00:00",
          "precipitation": 4.3,
          "temp_max": 15.6,
          "temp_min": 10.6,
          "weather": "fog",
          "wind": 3.3
         },
         {
          "date": "2015-05-13T00:00:00",
          "precipitation": 4.1,
          "temp_max": 12.2,
          "temp_min": 10,
          "weather": "fog",
          "wind": 2.8
         },
         {
          "date": "2015-05-14T00:00:00",
          "precipitation": 0.3,
          "temp_max": 17.8,
          "temp_min": 9.4,
          "weather": "fog",
          "wind": 2
         },
         {
          "date": "2015-05-15T00:00:00",
          "precipitation": 0,
          "temp_max": 20,
          "temp_min": 9.4,
          "weather": "fog",
          "wind": 2.8
         },
         {
          "date": "2015-05-16T00:00:00",
          "precipitation": 0,
          "temp_max": 15.6,
          "temp_min": 11.1,
          "weather": "sun",
          "wind": 3
         },
         {
          "date": "2015-05-17T00:00:00",
          "precipitation": 0,
          "temp_max": 19.4,
          "temp_min": 10.6,
          "weather": "sun",
          "wind": 2.1
         },
         {
          "date": "2015-05-18T00:00:00",
          "precipitation": 0,
          "temp_max": 25.6,
          "temp_min": 12.2,
          "weather": "sun",
          "wind": 3
         },
         {
          "date": "2015-05-19T00:00:00",
          "precipitation": 0,
          "temp_max": 21.7,
          "temp_min": 11.7,
          "weather": "sun",
          "wind": 2.6
         },
         {
          "date": "2015-05-20T00:00:00",
          "precipitation": 0,
          "temp_max": 23.3,
          "temp_min": 10.6,
          "weather": "fog",
          "wind": 1.8
         },
         {
          "date": "2015-05-21T00:00:00",
          "precipitation": 0,
          "temp_max": 25.6,
          "temp_min": 11.7,
          "weather": "sun",
          "wind": 2.1
         },
         {
          "date": "2015-05-22T00:00:00",
          "precipitation": 0,
          "temp_max": 16.7,
          "temp_min": 11.7,
          "weather": "sun",
          "wind": 3.7
         },
         {
          "date": "2015-05-23T00:00:00",
          "precipitation": 0,
          "temp_max": 16.1,
          "temp_min": 11.7,
          "weather": "sun",
          "wind": 2.6
         },
         {
          "date": "2015-05-24T00:00:00",
          "precipitation": 0,
          "temp_max": 17.8,
          "temp_min": 11.1,
          "weather": "sun",
          "wind": 2.7
         },
         {
          "date": "2015-05-25T00:00:00",
          "precipitation": 0,
          "temp_max": 15.6,
          "temp_min": 11.1,
          "weather": "sun",
          "wind": 2.7
         },
         {
          "date": "2015-05-26T00:00:00",
          "precipitation": 0,
          "temp_max": 21.7,
          "temp_min": 11.7,
          "weather": "sun",
          "wind": 2.1
         },
         {
          "date": "2015-05-27T00:00:00",
          "precipitation": 0,
          "temp_max": 24.4,
          "temp_min": 11.7,
          "weather": "sun",
          "wind": 1.8
         },
         {
          "date": "2015-05-28T00:00:00",
          "precipitation": 0,
          "temp_max": 27.8,
          "temp_min": 12.2,
          "weather": "sun",
          "wind": 2.1
         },
         {
          "date": "2015-05-29T00:00:00",
          "precipitation": 0,
          "temp_max": 26.1,
          "temp_min": 12.8,
          "weather": "sun",
          "wind": 2.5
         },
         {
          "date": "2015-05-30T00:00:00",
          "precipitation": 0,
          "temp_max": 22.8,
          "temp_min": 10,
          "weather": "sun",
          "wind": 2.5
         },
         {
          "date": "2015-05-31T00:00:00",
          "precipitation": 0,
          "temp_max": 25,
          "temp_min": 11.7,
          "weather": "sun",
          "wind": 2.2
         },
         {
          "date": "2015-06-01T00:00:00",
          "precipitation": 4.6,
          "temp_max": 16.1,
          "temp_min": 11.7,
          "weather": "fog",
          "wind": 3.4
         },
         {
          "date": "2015-06-02T00:00:00",
          "precipitation": 0.5,
          "temp_max": 17.8,
          "temp_min": 12.8,
          "weather": "sun",
          "wind": 5
         },
         {
          "date": "2015-06-03T00:00:00",
          "precipitation": 0,
          "temp_max": 20,
          "temp_min": 11.7,
          "weather": "sun",
          "wind": 3
         },
         {
          "date": "2015-06-04T00:00:00",
          "precipitation": 0,
          "temp_max": 22.8,
          "temp_min": 11.7,
          "weather": "sun",
          "wind": 3.9
         },
         {
          "date": "2015-06-05T00:00:00",
          "precipitation": 0,
          "temp_max": 26.7,
          "temp_min": 12.8,
          "weather": "sun",
          "wind": 4.3
         },
         {
          "date": "2015-06-06T00:00:00",
          "precipitation": 0,
          "temp_max": 29.4,
          "temp_min": 13.3,
          "weather": "sun",
          "wind": 2.6
         },
         {
          "date": "2015-06-07T00:00:00",
          "precipitation": 0,
          "temp_max": 31.1,
          "temp_min": 15.6,
          "weather": "sun",
          "wind": 3.2
         },
         {
          "date": "2015-06-08T00:00:00",
          "precipitation": 0,
          "temp_max": 30.6,
          "temp_min": 14.4,
          "weather": "sun",
          "wind": 3.5
         },
         {
          "date": "2015-06-09T00:00:00",
          "precipitation": 0,
          "temp_max": 28.9,
          "temp_min": 14.4,
          "weather": "sun",
          "wind": 2.7
         },
         {
          "date": "2015-06-10T00:00:00",
          "precipitation": 0,
          "temp_max": 25.6,
          "temp_min": 11.1,
          "weather": "sun",
          "wind": 3
         },
         {
          "date": "2015-06-11T00:00:00",
          "precipitation": 0,
          "temp_max": 24.4,
          "temp_min": 11.1,
          "weather": "sun",
          "wind": 3.5
         },
         {
          "date": "2015-06-12T00:00:00",
          "precipitation": 0,
          "temp_max": 20,
          "temp_min": 11.7,
          "weather": "sun",
          "wind": 2.3
         },
         {
          "date": "2015-06-13T00:00:00",
          "precipitation": 0,
          "temp_max": 23.9,
          "temp_min": 9.4,
          "weather": "sun",
          "wind": 2.6
         },
         {
          "date": "2015-06-14T00:00:00",
          "precipitation": 0,
          "temp_max": 27.8,
          "temp_min": 11.7,
          "weather": "sun",
          "wind": 3.7
         },
         {
          "date": "2015-06-15T00:00:00",
          "precipitation": 0,
          "temp_max": 30,
          "temp_min": 16.1,
          "weather": "drizzle",
          "wind": 3.5
         },
         {
          "date": "2015-06-16T00:00:00",
          "precipitation": 0,
          "temp_max": 22.8,
          "temp_min": 11.1,
          "weather": "sun",
          "wind": 3
         },
         {
          "date": "2015-06-17T00:00:00",
          "precipitation": 0,
          "temp_max": 25,
          "temp_min": 11.1,
          "weather": "sun",
          "wind": 3.1
         },
         {
          "date": "2015-06-18T00:00:00",
          "precipitation": 0,
          "temp_max": 24.4,
          "temp_min": 13.9,
          "weather": "sun",
          "wind": 3
         },
         {
          "date": "2015-06-19T00:00:00",
          "precipitation": 0.5,
          "temp_max": 23.9,
          "temp_min": 13.3,
          "weather": "fog",
          "wind": 3.2
         },
         {
          "date": "2015-06-20T00:00:00",
          "precipitation": 0,
          "temp_max": 25,
          "temp_min": 12.8,
          "weather": "sun",
          "wind": 4.3
         },
         {
          "date": "2015-06-21T00:00:00",
          "precipitation": 0,
          "temp_max": 25.6,
          "temp_min": 13.9,
          "weather": "sun",
          "wind": 3.4
         },
         {
          "date": "2015-06-22T00:00:00",
          "precipitation": 0,
          "temp_max": 25,
          "temp_min": 12.8,
          "weather": "sun",
          "wind": 2.4
         },
         {
          "date": "2015-06-23T00:00:00",
          "precipitation": 0,
          "temp_max": 26.1,
          "temp_min": 11.7,
          "weather": "sun",
          "wind": 2.4
         },
         {
          "date": "2015-06-24T00:00:00",
          "precipitation": 0,
          "temp_max": 25.6,
          "temp_min": 16.1,
          "weather": "sun",
          "wind": 2.6
         },
         {
          "date": "2015-06-25T00:00:00",
          "precipitation": 0,
          "temp_max": 30.6,
          "temp_min": 15.6,
          "weather": "sun",
          "wind": 3
         },
         {
          "date": "2015-06-26T00:00:00",
          "precipitation": 0,
          "temp_max": 31.7,
          "temp_min": 17.8,
          "weather": "sun",
          "wind": 4.7
         },
         {
          "date": "2015-06-27T00:00:00",
          "precipitation": 0,
          "temp_max": 33.3,
          "temp_min": 17.2,
          "weather": "sun",
          "wind": 3.9
         },
         {
          "date": "2015-06-28T00:00:00",
          "precipitation": 0.3,
          "temp_max": 28.3,
          "temp_min": 18.3,
          "weather": "sun",
          "wind": 2.1
         },
         {
          "date": "2015-06-29T00:00:00",
          "precipitation": 0,
          "temp_max": 28.9,
          "temp_min": 17.2,
          "weather": "sun",
          "wind": 2.7
         },
         {
          "date": "2015-06-30T00:00:00",
          "precipitation": 0,
          "temp_max": 30.6,
          "temp_min": 15,
          "weather": "fog",
          "wind": 3.4
         },
         {
          "date": "2015-07-01T00:00:00",
          "precipitation": 0,
          "temp_max": 32.2,
          "temp_min": 17.2,
          "weather": "sun",
          "wind": 4.3
         },
         {
          "date": "2015-07-02T00:00:00",
          "precipitation": 0,
          "temp_max": 33.9,
          "temp_min": 17.8,
          "weather": "sun",
          "wind": 3.4
         },
         {
          "date": "2015-07-03T00:00:00",
          "precipitation": 0,
          "temp_max": 33.3,
          "temp_min": 17.8,
          "weather": "sun",
          "wind": 2.6
         },
         {
          "date": "2015-07-04T00:00:00",
          "precipitation": 0,
          "temp_max": 33.3,
          "temp_min": 15,
          "weather": "sun",
          "wind": 2.9
         },
         {
          "date": "2015-07-05T00:00:00",
          "precipitation": 0,
          "temp_max": 32.8,
          "temp_min": 16.7,
          "weather": "sun",
          "wind": 2.1
         },
         {
          "date": "2015-07-06T00:00:00",
          "precipitation": 0,
          "temp_max": 29.4,
          "temp_min": 15.6,
          "weather": "drizzle",
          "wind": 3.2
         },
         {
          "date": "2015-07-07T00:00:00",
          "precipitation": 0,
          "temp_max": 27.2,
          "temp_min": 13.9,
          "weather": "sun",
          "wind": 2.4
         },
         {
          "date": "2015-07-08T00:00:00",
          "precipitation": 0,
          "temp_max": 30,
          "temp_min": 14.4,
          "weather": "drizzle",
          "wind": 1.9
         },
         {
          "date": "2015-07-09T00:00:00",
          "precipitation": 0,
          "temp_max": 28.9,
          "temp_min": 14.4,
          "weather": "sun",
          "wind": 3.4
         },
         {
          "date": "2015-07-10T00:00:00",
          "precipitation": 0,
          "temp_max": 21.1,
          "temp_min": 16.7,
          "weather": "sun",
          "wind": 3.7
         },
         {
          "date": "2015-07-11T00:00:00",
          "precipitation": 0,
          "temp_max": 22.2,
          "temp_min": 16.7,
          "weather": "sun",
          "wind": 3
         },
         {
          "date": "2015-07-12T00:00:00",
          "precipitation": 0,
          "temp_max": 26.1,
          "temp_min": 16.7,
          "weather": "sun",
          "wind": 2.2
         },
         {
          "date": "2015-07-13T00:00:00",
          "precipitation": 0,
          "temp_max": 25.6,
          "temp_min": 16.1,
          "weather": "sun",
          "wind": 3.1
         },
         {
          "date": "2015-07-14T00:00:00",
          "precipitation": 0,
          "temp_max": 27.8,
          "temp_min": 16.1,
          "weather": "sun",
          "wind": 3.3
         },
         {
          "date": "2015-07-15T00:00:00",
          "precipitation": 0,
          "temp_max": 26.1,
          "temp_min": 14.4,
          "weather": "sun",
          "wind": 3.2
         },
         {
          "date": "2015-07-16T00:00:00",
          "precipitation": 0,
          "temp_max": 26.1,
          "temp_min": 15,
          "weather": "sun",
          "wind": 2.8
         },
         {
          "date": "2015-07-17T00:00:00",
          "precipitation": 0,
          "temp_max": 27.8,
          "temp_min": 13.9,
          "weather": "sun",
          "wind": 3.3
         },
         {
          "date": "2015-07-18T00:00:00",
          "precipitation": 0,
          "temp_max": 33.3,
          "temp_min": 17.8,
          "weather": "sun",
          "wind": 3.4
         },
         {
          "date": "2015-07-19T00:00:00",
          "precipitation": 0,
          "temp_max": 35,
          "temp_min": 17.2,
          "weather": "sun",
          "wind": 3.3
         },
         {
          "date": "2015-07-20T00:00:00",
          "precipitation": 0,
          "temp_max": 26.7,
          "temp_min": 16.7,
          "weather": "sun",
          "wind": 3.9
         },
         {
          "date": "2015-07-21T00:00:00",
          "precipitation": 0,
          "temp_max": 23.9,
          "temp_min": 15,
          "weather": "sun",
          "wind": 2.4
         },
         {
          "date": "2015-07-22T00:00:00",
          "precipitation": 0,
          "temp_max": 23.9,
          "temp_min": 13.9,
          "weather": "sun",
          "wind": 2.8
         },
         {
          "date": "2015-07-23T00:00:00",
          "precipitation": 0,
          "temp_max": 26.1,
          "temp_min": 14.4,
          "weather": "sun",
          "wind": 1.9
         },
         {
          "date": "2015-07-24T00:00:00",
          "precipitation": 0.3,
          "temp_max": 22.8,
          "temp_min": 13.3,
          "weather": "fog",
          "wind": 3.8
         },
         {
          "date": "2015-07-25T00:00:00",
          "precipitation": 0,
          "temp_max": 21.1,
          "temp_min": 14.4,
          "weather": "fog",
          "wind": 2.4
         },
         {
          "date": "2015-07-26T00:00:00",
          "precipitation": 2,
          "temp_max": 22.2,
          "temp_min": 13.9,
          "weather": "fog",
          "wind": 2.6
         },
         {
          "date": "2015-07-27T00:00:00",
          "precipitation": 0,
          "temp_max": 23.3,
          "temp_min": 12.2,
          "weather": "fog",
          "wind": 1.9
         },
         {
          "date": "2015-07-28T00:00:00",
          "precipitation": 0,
          "temp_max": 27.8,
          "temp_min": 13.9,
          "weather": "sun",
          "wind": 3.4
         },
         {
          "date": "2015-07-29T00:00:00",
          "precipitation": 0,
          "temp_max": 32.2,
          "temp_min": 14.4,
          "weather": "sun",
          "wind": 3.8
         },
         {
          "date": "2015-07-30T00:00:00",
          "precipitation": 0,
          "temp_max": 34.4,
          "temp_min": 17.2,
          "weather": "sun",
          "wind": 3.5
         },
         {
          "date": "2015-07-31T00:00:00",
          "precipitation": 0,
          "temp_max": 34.4,
          "temp_min": 17.8,
          "weather": "sun",
          "wind": 2.6
         },
         {
          "date": "2015-08-01T00:00:00",
          "precipitation": 0,
          "temp_max": 33.3,
          "temp_min": 15.6,
          "weather": "sun",
          "wind": 3.1
         },
         {
          "date": "2015-08-02T00:00:00",
          "precipitation": 0,
          "temp_max": 30.6,
          "temp_min": 16.1,
          "weather": "sun",
          "wind": 2
         },
         {
          "date": "2015-08-03T00:00:00",
          "precipitation": 0,
          "temp_max": 28.3,
          "temp_min": 17.2,
          "weather": "sun",
          "wind": 2.3
         },
         {
          "date": "2015-08-04T00:00:00",
          "precipitation": 0,
          "temp_max": 26.1,
          "temp_min": 14.4,
          "weather": "fog",
          "wind": 2.6
         },
         {
          "date": "2015-08-05T00:00:00",
          "precipitation": 0,
          "temp_max": 23.3,
          "temp_min": 12.2,
          "weather": "sun",
          "wind": 3.5
         },
         {
          "date": "2015-08-06T00:00:00",
          "precipitation": 0,
          "temp_max": 25,
          "temp_min": 15,
          "weather": "sun",
          "wind": 2.9
         },
         {
          "date": "2015-08-07T00:00:00",
          "precipitation": 0,
          "temp_max": 28.3,
          "temp_min": 15.6,
          "weather": "sun",
          "wind": 3.7
         },
         {
          "date": "2015-08-08T00:00:00",
          "precipitation": 0,
          "temp_max": 25,
          "temp_min": 15.6,
          "weather": "fog",
          "wind": 3.6
         },
         {
          "date": "2015-08-09T00:00:00",
          "precipitation": 0,
          "temp_max": 28.3,
          "temp_min": 15,
          "weather": "sun",
          "wind": 2.2
         },
         {
          "date": "2015-08-10T00:00:00",
          "precipitation": 0,
          "temp_max": 28.9,
          "temp_min": 16.1,
          "weather": "sun",
          "wind": 2.4
         },
         {
          "date": "2015-08-11T00:00:00",
          "precipitation": 0,
          "temp_max": 30,
          "temp_min": 16.7,
          "weather": "sun",
          "wind": 4.4
         },
         {
          "date": "2015-08-12T00:00:00",
          "precipitation": 7.6,
          "temp_max": 28.3,
          "temp_min": 16.7,
          "weather": "rain",
          "wind": 2.7
         },
         {
          "date": "2015-08-13T00:00:00",
          "precipitation": 0,
          "temp_max": 28.3,
          "temp_min": 15.6,
          "weather": "sun",
          "wind": 2.2
         },
         {
          "date": "2015-08-14T00:00:00",
          "precipitation": 30.5,
          "temp_max": 18.3,
          "temp_min": 15,
          "weather": "rain",
          "wind": 5.2
         },
         {
          "date": "2015-08-15T00:00:00",
          "precipitation": 0,
          "temp_max": 21.7,
          "temp_min": 13.9,
          "weather": "sun",
          "wind": 3.7
         },
         {
          "date": "2015-08-16T00:00:00",
          "precipitation": 0,
          "temp_max": 25,
          "temp_min": 14.4,
          "weather": "sun",
          "wind": 3.7
         },
         {
          "date": "2015-08-17T00:00:00",
          "precipitation": 0,
          "temp_max": 27.2,
          "temp_min": 13.9,
          "weather": "sun",
          "wind": 3
         },
         {
          "date": "2015-08-18T00:00:00",
          "precipitation": 0,
          "temp_max": 30,
          "temp_min": 15,
          "weather": "sun",
          "wind": 3
         },
         {
          "date": "2015-08-19T00:00:00",
          "precipitation": 0,
          "temp_max": 31.7,
          "temp_min": 16.1,
          "weather": "drizzle",
          "wind": 2.1
         },
         {
          "date": "2015-08-20T00:00:00",
          "precipitation": 2,
          "temp_max": 22.8,
          "temp_min": 14.4,
          "weather": "fog",
          "wind": 4.2
         },
         {
          "date": "2015-08-21T00:00:00",
          "precipitation": 0,
          "temp_max": 22.2,
          "temp_min": 14.4,
          "weather": "sun",
          "wind": 2.6
         },
         {
          "date": "2015-08-22T00:00:00",
          "precipitation": 0,
          "temp_max": 26.7,
          "temp_min": 12.2,
          "weather": "drizzle",
          "wind": 2.5
         },
         {
          "date": "2015-08-23T00:00:00",
          "precipitation": 0,
          "temp_max": 27.8,
          "temp_min": 13.9,
          "weather": "drizzle",
          "wind": 1.8
         },
         {
          "date": "2015-08-24T00:00:00",
          "precipitation": 0,
          "temp_max": 23.9,
          "temp_min": 12.2,
          "weather": "sun",
          "wind": 2.3
         },
         {
          "date": "2015-08-25T00:00:00",
          "precipitation": 0,
          "temp_max": 25.6,
          "temp_min": 12.2,
          "weather": "sun",
          "wind": 3.4
         },
         {
          "date": "2015-08-26T00:00:00",
          "precipitation": 0,
          "temp_max": 28.3,
          "temp_min": 13.9,
          "weather": "sun",
          "wind": 1.7
         },
         {
          "date": "2015-08-27T00:00:00",
          "precipitation": 0,
          "temp_max": 29.4,
          "temp_min": 14.4,
          "weather": "sun",
          "wind": 2.1
         },
         {
          "date": "2015-08-28T00:00:00",
          "precipitation": 0.5,
          "temp_max": 23.3,
          "temp_min": 15.6,
          "weather": "fog",
          "wind": 2.6
         },
         {
          "date": "2015-08-29T00:00:00",
          "precipitation": 32.5,
          "temp_max": 22.2,
          "temp_min": 13.3,
          "weather": "fog",
          "wind": 5.8
         },
         {
          "date": "2015-08-30T00:00:00",
          "precipitation": 10.2,
          "temp_max": 20,
          "temp_min": 12.8,
          "weather": "fog",
          "wind": 4.7
         },
         {
          "date": "2015-08-31T00:00:00",
          "precipitation": 0,
          "temp_max": 18.9,
          "temp_min": 16.1,
          "weather": "sun",
          "wind": 5.8
         },
         {
          "date": "2015-09-01T00:00:00",
          "precipitation": 5.8,
          "temp_max": 19.4,
          "temp_min": 13.9,
          "weather": "fog",
          "wind": 5
         },
         {
          "date": "2015-09-02T00:00:00",
          "precipitation": 0,
          "temp_max": 19.4,
          "temp_min": 11.1,
          "weather": "sun",
          "wind": 3.8
         },
         {
          "date": "2015-09-03T00:00:00",
          "precipitation": 0,
          "temp_max": 18.3,
          "temp_min": 10.6,
          "weather": "sun",
          "wind": 2.9
         },
         {
          "date": "2015-09-04T00:00:00",
          "precipitation": 0,
          "temp_max": 18.3,
          "temp_min": 10,
          "weather": "sun",
          "wind": 2.9
         },
         {
          "date": "2015-09-05T00:00:00",
          "precipitation": 0.3,
          "temp_max": 20.6,
          "temp_min": 8.9,
          "weather": "sun",
          "wind": 3.5
         },
         {
          "date": "2015-09-06T00:00:00",
          "precipitation": 5.3,
          "temp_max": 16.1,
          "temp_min": 11.7,
          "weather": "fog",
          "wind": 2.4
         },
         {
          "date": "2015-09-07T00:00:00",
          "precipitation": 0.3,
          "temp_max": 21.1,
          "temp_min": 13.3,
          "weather": "fog",
          "wind": 1.5
         },
         {
          "date": "2015-09-08T00:00:00",
          "precipitation": 0,
          "temp_max": 22.8,
          "temp_min": 13.3,
          "weather": "sun",
          "wind": 2.4
         },
         {
          "date": "2015-09-09T00:00:00",
          "precipitation": 0,
          "temp_max": 24.4,
          "temp_min": 13.9,
          "weather": "sun",
          "wind": 3.3
         },
         {
          "date": "2015-09-10T00:00:00",
          "precipitation": 0,
          "temp_max": 25,
          "temp_min": 14.4,
          "weather": "fog",
          "wind": 3.6
         },
         {
          "date": "2015-09-11T00:00:00",
          "precipitation": 0,
          "temp_max": 27.2,
          "temp_min": 15,
          "weather": "sun",
          "wind": 3.1
         },
         {
          "date": "2015-09-12T00:00:00",
          "precipitation": 0,
          "temp_max": 26.7,
          "temp_min": 14.4,
          "weather": "sun",
          "wind": 2.1
         },
         {
          "date": "2015-09-13T00:00:00",
          "precipitation": 0.5,
          "temp_max": 20.6,
          "temp_min": 12.8,
          "weather": "fog",
          "wind": 3
         },
         {
          "date": "2015-09-14T00:00:00",
          "precipitation": 0,
          "temp_max": 16.7,
          "temp_min": 10.6,
          "weather": "sun",
          "wind": 3.4
         },
         {
          "date": "2015-09-15T00:00:00",
          "precipitation": 0,
          "temp_max": 17.8,
          "temp_min": 10,
          "weather": "sun",
          "wind": 2.8
         },
         {
          "date": "2015-09-16T00:00:00",
          "precipitation": 1,
          "temp_max": 20,
          "temp_min": 10,
          "weather": "sun",
          "wind": 1.9
         },
         {
          "date": "2015-09-17T00:00:00",
          "precipitation": 1.8,
          "temp_max": 18.3,
          "temp_min": 12.8,
          "weather": "fog",
          "wind": 3.8
         },
         {
          "date": "2015-09-18T00:00:00",
          "precipitation": 0,
          "temp_max": 19.4,
          "temp_min": 12.8,
          "weather": "sun",
          "wind": 2.6
         },
         {
          "date": "2015-09-19T00:00:00",
          "precipitation": 0,
          "temp_max": 21.1,
          "temp_min": 14.4,
          "weather": "sun",
          "wind": 4.3
         },
         {
          "date": "2015-09-20T00:00:00",
          "precipitation": 4.1,
          "temp_max": 22.8,
          "temp_min": 12.2,
          "weather": "fog",
          "wind": 6.8
         },
         {
          "date": "2015-09-21T00:00:00",
          "precipitation": 0,
          "temp_max": 18.3,
          "temp_min": 9.4,
          "weather": "fog",
          "wind": 2.7
         },
         {
          "date": "2015-09-22T00:00:00",
          "precipitation": 0,
          "temp_max": 18.9,
          "temp_min": 7.8,
          "weather": "sun",
          "wind": 2
         },
         {
          "date": "2015-09-23T00:00:00",
          "precipitation": 0,
          "temp_max": 20.6,
          "temp_min": 8.3,
          "weather": "sun",
          "wind": 1.8
         },
         {
          "date": "2015-09-24T00:00:00",
          "precipitation": 0,
          "temp_max": 22.2,
          "temp_min": 11.1,
          "weather": "fog",
          "wind": 2.5
         },
         {
          "date": "2015-09-25T00:00:00",
          "precipitation": 2,
          "temp_max": 15.6,
          "temp_min": 12.8,
          "weather": "fog",
          "wind": 2.6
         },
         {
          "date": "2015-09-26T00:00:00",
          "precipitation": 0,
          "temp_max": 18.3,
          "temp_min": 10,
          "weather": "sun",
          "wind": 2.7
         },
         {
          "date": "2015-09-27T00:00:00",
          "precipitation": 0,
          "temp_max": 17.8,
          "temp_min": 7.2,
          "weather": "sun",
          "wind": 3.8
         },
         {
          "date": "2015-09-28T00:00:00",
          "precipitation": 0,
          "temp_max": 21.1,
          "temp_min": 9.4,
          "weather": "sun",
          "wind": 5.1
         },
         {
          "date": "2015-09-29T00:00:00",
          "precipitation": 0,
          "temp_max": 21.7,
          "temp_min": 8.9,
          "weather": "sun",
          "wind": 1.9
         },
         {
          "date": "2015-09-30T00:00:00",
          "precipitation": 0,
          "temp_max": 18.3,
          "temp_min": 10,
          "weather": "fog",
          "wind": 1.3
         },
         {
          "date": "2015-10-01T00:00:00",
          "precipitation": 0,
          "temp_max": 21.1,
          "temp_min": 9.4,
          "weather": "fog",
          "wind": 1.3
         },
         {
          "date": "2015-10-02T00:00:00",
          "precipitation": 0,
          "temp_max": 15.6,
          "temp_min": 10,
          "weather": "fog",
          "wind": 2.9
         },
         {
          "date": "2015-10-03T00:00:00",
          "precipitation": 0,
          "temp_max": 19.4,
          "temp_min": 11.1,
          "weather": "sun",
          "wind": 4.8
         },
         {
          "date": "2015-10-04T00:00:00",
          "precipitation": 0,
          "temp_max": 22.8,
          "temp_min": 10,
          "weather": "sun",
          "wind": 3.7
         },
         {
          "date": "2015-10-05T00:00:00",
          "precipitation": 0,
          "temp_max": 23.3,
          "temp_min": 9.4,
          "weather": "sun",
          "wind": 1.6
         },
         {
          "date": "2015-10-06T00:00:00",
          "precipitation": 0,
          "temp_max": 18.3,
          "temp_min": 10,
          "weather": "drizzle",
          "wind": 2.6
         },
         {
          "date": "2015-10-07T00:00:00",
          "precipitation": 9.9,
          "temp_max": 16.1,
          "temp_min": 13.9,
          "weather": "fog",
          "wind": 2.2
         },
         {
          "date": "2015-10-08T00:00:00",
          "precipitation": 0,
          "temp_max": 18.9,
          "temp_min": 13.3,
          "weather": "fog",
          "wind": 1.1
         },
         {
          "date": "2015-10-09T00:00:00",
          "precipitation": 0.3,
          "temp_max": 19.4,
          "temp_min": 12.2,
          "weather": "fog",
          "wind": 2.6
         },
         {
          "date": "2015-10-10T00:00:00",
          "precipitation": 28.7,
          "temp_max": 21.1,
          "temp_min": 13.3,
          "weather": "fog",
          "wind": 4.7
         },
         {
          "date": "2015-10-11T00:00:00",
          "precipitation": 0,
          "temp_max": 17.8,
          "temp_min": 10.6,
          "weather": "sun",
          "wind": 2.6
         },
         {
          "date": "2015-10-12T00:00:00",
          "precipitation": 4.6,
          "temp_max": 18.3,
          "temp_min": 10.6,
          "weather": "fog",
          "wind": 2.8
         },
         {
          "date": "2015-10-13T00:00:00",
          "precipitation": 1.3,
          "temp_max": 16.7,
          "temp_min": 9.4,
          "weather": "fog",
          "wind": 3.2
         },
         {
          "date": "2015-10-14T00:00:00",
          "precipitation": 0,
          "temp_max": 15,
          "temp_min": 10,
          "weather": "fog",
          "wind": 5
         },
         {
          "date": "2015-10-15T00:00:00",
          "precipitation": 0,
          "temp_max": 21.1,
          "temp_min": 9.4,
          "weather": "fog",
          "wind": 3.4
         },
         {
          "date": "2015-10-16T00:00:00",
          "precipitation": 0,
          "temp_max": 20,
          "temp_min": 8.9,
          "weather": "sun",
          "wind": 1.3
         },
         {
          "date": "2015-10-17T00:00:00",
          "precipitation": 0.3,
          "temp_max": 19.4,
          "temp_min": 11.7,
          "weather": "fog",
          "wind": 1.3
         },
         {
          "date": "2015-10-18T00:00:00",
          "precipitation": 3.8,
          "temp_max": 15,
          "temp_min": 12.8,
          "weather": "fog",
          "wind": 2
         },
         {
          "date": "2015-10-19T00:00:00",
          "precipitation": 0.3,
          "temp_max": 17.2,
          "temp_min": 12.2,
          "weather": "fog",
          "wind": 2.6
         },
         {
          "date": "2015-10-20T00:00:00",
          "precipitation": 0,
          "temp_max": 17.8,
          "temp_min": 10.6,
          "weather": "fog",
          "wind": 1.8
         },
         {
          "date": "2015-10-21T00:00:00",
          "precipitation": 0,
          "temp_max": 16.1,
          "temp_min": 8.3,
          "weather": "fog",
          "wind": 1.3
         },
         {
          "date": "2015-10-22T00:00:00",
          "precipitation": 0,
          "temp_max": 16.1,
          "temp_min": 8.9,
          "weather": "fog",
          "wind": 2.7
         },
         {
          "date": "2015-10-23T00:00:00",
          "precipitation": 0,
          "temp_max": 12.8,
          "temp_min": 7.2,
          "weather": "fog",
          "wind": 2.6
         },
         {
          "date": "2015-10-24T00:00:00",
          "precipitation": 0,
          "temp_max": 15,
          "temp_min": 8.9,
          "weather": "fog",
          "wind": 2.9
         },
         {
          "date": "2015-10-25T00:00:00",
          "precipitation": 8.9,
          "temp_max": 19.4,
          "temp_min": 8.9,
          "weather": "rain",
          "wind": 3.4
         },
         {
          "date": "2015-10-26T00:00:00",
          "precipitation": 6.9,
          "temp_max": 12.2,
          "temp_min": 10,
          "weather": "fog",
          "wind": 4.6
         },
         {
          "date": "2015-10-27T00:00:00",
          "precipitation": 0,
          "temp_max": 16.1,
          "temp_min": 7.8,
          "weather": "fog",
          "wind": 1.7
         },
         {
          "date": "2015-10-28T00:00:00",
          "precipitation": 3.3,
          "temp_max": 13.9,
          "temp_min": 11.1,
          "weather": "fog",
          "wind": 2.8
         },
         {
          "date": "2015-10-29T00:00:00",
          "precipitation": 1.8,
          "temp_max": 15,
          "temp_min": 12.2,
          "weather": "fog",
          "wind": 4.7
         },
         {
          "date": "2015-10-30T00:00:00",
          "precipitation": 19.3,
          "temp_max": 17.2,
          "temp_min": 11.7,
          "weather": "fog",
          "wind": 6.7
         },
         {
          "date": "2015-10-31T00:00:00",
          "precipitation": 33,
          "temp_max": 15.6,
          "temp_min": 11.7,
          "weather": "fog",
          "wind": 7.2
         },
         {
          "date": "2015-11-01T00:00:00",
          "precipitation": 26.2,
          "temp_max": 12.2,
          "temp_min": 8.9,
          "weather": "fog",
          "wind": 6
         },
         {
          "date": "2015-11-02T00:00:00",
          "precipitation": 0.3,
          "temp_max": 11.1,
          "temp_min": 7.2,
          "weather": "fog",
          "wind": 2.8
         },
         {
          "date": "2015-11-03T00:00:00",
          "precipitation": 0.8,
          "temp_max": 10.6,
          "temp_min": 5,
          "weather": "fog",
          "wind": 1.4
         },
         {
          "date": "2015-11-04T00:00:00",
          "precipitation": 0,
          "temp_max": 10,
          "temp_min": 3.3,
          "weather": "sun",
          "wind": 2.2
         },
         {
          "date": "2015-11-05T00:00:00",
          "precipitation": 1.3,
          "temp_max": 11.7,
          "temp_min": 7.8,
          "weather": "fog",
          "wind": 2.3
         },
         {
          "date": "2015-11-06T00:00:00",
          "precipitation": 0,
          "temp_max": 15.6,
          "temp_min": 8.3,
          "weather": "fog",
          "wind": 2.7
         },
         {
          "date": "2015-11-07T00:00:00",
          "precipitation": 12.7,
          "temp_max": 12.2,
          "temp_min": 9.4,
          "weather": "fog",
          "wind": 3
         },
         {
          "date": "2015-11-08T00:00:00",
          "precipitation": 6.6,
          "temp_max": 11.1,
          "temp_min": 7.8,
          "weather": "fog",
          "wind": 1.8
         },
         {
          "date": "2015-11-09T00:00:00",
          "precipitation": 3.3,
          "temp_max": 10,
          "temp_min": 5,
          "weather": "fog",
          "wind": 1.3
         },
         {
          "date": "2015-11-10T00:00:00",
          "precipitation": 1.3,
          "temp_max": 11.1,
          "temp_min": 3.9,
          "weather": "fog",
          "wind": 3.9
         },
         {
          "date": "2015-11-11T00:00:00",
          "precipitation": 1.5,
          "temp_max": 11.1,
          "temp_min": 6.1,
          "weather": "sun",
          "wind": 4.6
         },
         {
          "date": "2015-11-12T00:00:00",
          "precipitation": 9.9,
          "temp_max": 11.1,
          "temp_min": 5,
          "weather": "fog",
          "wind": 5.1
         },
         {
          "date": "2015-11-13T00:00:00",
          "precipitation": 33.5,
          "temp_max": 13.3,
          "temp_min": 9.4,
          "weather": "fog",
          "wind": 6.5
         },
         {
          "date": "2015-11-14T00:00:00",
          "precipitation": 47.2,
          "temp_max": 9.4,
          "temp_min": 6.1,
          "weather": "fog",
          "wind": 4.5
         },
         {
          "date": "2015-11-15T00:00:00",
          "precipitation": 22.4,
          "temp_max": 8.9,
          "temp_min": 2.2,
          "weather": "fog",
          "wind": 4.1
         },
         {
          "date": "2015-11-16T00:00:00",
          "precipitation": 2,
          "temp_max": 8.9,
          "temp_min": 1.7,
          "weather": "fog",
          "wind": 4
         },
         {
          "date": "2015-11-17T00:00:00",
          "precipitation": 29.5,
          "temp_max": 13.3,
          "temp_min": 6.7,
          "weather": "fog",
          "wind": 8
         },
         {
          "date": "2015-11-18T00:00:00",
          "precipitation": 1.5,
          "temp_max": 8.9,
          "temp_min": 3.3,
          "weather": "sun",
          "wind": 3.8
         },
         {
          "date": "2015-11-19T00:00:00",
          "precipitation": 2,
          "temp_max": 8.9,
          "temp_min": 2.8,
          "weather": "sun",
          "wind": 4.2
         },
         {
          "date": "2015-11-20T00:00:00",
          "precipitation": 0,
          "temp_max": 8.3,
          "temp_min": 0.6,
          "weather": "fog",
          "wind": 4
         },
         {
          "date": "2015-11-21T00:00:00",
          "precipitation": 0,
          "temp_max": 8.9,
          "temp_min": 0.6,
          "weather": "sun",
          "wind": 4.7
         },
         {
          "date": "2015-11-22T00:00:00",
          "precipitation": 0,
          "temp_max": 10,
          "temp_min": 1.7,
          "weather": "fog",
          "wind": 3.1
         },
         {
          "date": "2015-11-23T00:00:00",
          "precipitation": 3,
          "temp_max": 6.7,
          "temp_min": 0,
          "weather": "fog",
          "wind": 1.3
         },
         {
          "date": "2015-11-24T00:00:00",
          "precipitation": 7.1,
          "temp_max": 6.7,
          "temp_min": 2.8,
          "weather": "fog",
          "wind": 4.5
         },
         {
          "date": "2015-11-25T00:00:00",
          "precipitation": 0,
          "temp_max": 7.2,
          "temp_min": 0,
          "weather": "sun",
          "wind": 5.7
         },
         {
          "date": "2015-11-26T00:00:00",
          "precipitation": 0,
          "temp_max": 9.4,
          "temp_min": -1,
          "weather": "sun",
          "wind": 4.3
         },
         {
          "date": "2015-11-27T00:00:00",
          "precipitation": 0,
          "temp_max": 9.4,
          "temp_min": -1.6,
          "weather": "sun",
          "wind": 3
         },
         {
          "date": "2015-11-28T00:00:00",
          "precipitation": 0,
          "temp_max": 7.2,
          "temp_min": -2.7,
          "weather": "sun",
          "wind": 1
         },
         {
          "date": "2015-11-29T00:00:00",
          "precipitation": 0,
          "temp_max": 1.7,
          "temp_min": -2.1,
          "weather": "fog",
          "wind": 0.9
         },
         {
          "date": "2015-11-30T00:00:00",
          "precipitation": 0.5,
          "temp_max": 5.6,
          "temp_min": -3.8,
          "weather": "fog",
          "wind": 1.7
         },
         {
          "date": "2015-12-01T00:00:00",
          "precipitation": 12.2,
          "temp_max": 10,
          "temp_min": 3.9,
          "weather": "fog",
          "wind": 3.5
         },
         {
          "date": "2015-12-02T00:00:00",
          "precipitation": 2.5,
          "temp_max": 10.6,
          "temp_min": 4.4,
          "weather": "fog",
          "wind": 5
         },
         {
          "date": "2015-12-03T00:00:00",
          "precipitation": 12.7,
          "temp_max": 15.6,
          "temp_min": 7.8,
          "weather": "fog",
          "wind": 5.9
         },
         {
          "date": "2015-12-04T00:00:00",
          "precipitation": 2,
          "temp_max": 10.6,
          "temp_min": 6.1,
          "weather": "fog",
          "wind": 4.7
         },
         {
          "date": "2015-12-05T00:00:00",
          "precipitation": 15.7,
          "temp_max": 10,
          "temp_min": 6.1,
          "weather": "fog",
          "wind": 4
         },
         {
          "date": "2015-12-06T00:00:00",
          "precipitation": 11.2,
          "temp_max": 12.8,
          "temp_min": 7.2,
          "weather": "fog",
          "wind": 5.9
         },
         {
          "date": "2015-12-07T00:00:00",
          "precipitation": 27.4,
          "temp_max": 11.1,
          "temp_min": 8.3,
          "weather": "fog",
          "wind": 3.4
         },
         {
          "date": "2015-12-08T00:00:00",
          "precipitation": 54.1,
          "temp_max": 15.6,
          "temp_min": 10,
          "weather": "fog",
          "wind": 6.2
         },
         {
          "date": "2015-12-09T00:00:00",
          "precipitation": 13.5,
          "temp_max": 12.2,
          "temp_min": 7.8,
          "weather": "fog",
          "wind": 6.3
         },
         {
          "date": "2015-12-10T00:00:00",
          "precipitation": 9.4,
          "temp_max": 11.7,
          "temp_min": 6.1,
          "weather": "fog",
          "wind": 7.5
         },
         {
          "date": "2015-12-11T00:00:00",
          "precipitation": 0.3,
          "temp_max": 9.4,
          "temp_min": 4.4,
          "weather": "sun",
          "wind": 2.8
         },
         {
          "date": "2015-12-12T00:00:00",
          "precipitation": 16,
          "temp_max": 8.9,
          "temp_min": 5.6,
          "weather": "fog",
          "wind": 5.6
         },
         {
          "date": "2015-12-13T00:00:00",
          "precipitation": 1.3,
          "temp_max": 7.8,
          "temp_min": 6.1,
          "weather": "sun",
          "wind": 6.1
         },
         {
          "date": "2015-12-14T00:00:00",
          "precipitation": 0,
          "temp_max": 7.8,
          "temp_min": 1.7,
          "weather": "sun",
          "wind": 1.7
         },
         {
          "date": "2015-12-15T00:00:00",
          "precipitation": 1.5,
          "temp_max": 6.7,
          "temp_min": 1.1,
          "weather": "fog",
          "wind": 2.9
         },
         {
          "date": "2015-12-16T00:00:00",
          "precipitation": 3.6,
          "temp_max": 6.1,
          "temp_min": 2.8,
          "weather": "fog",
          "wind": 2.3
         },
         {
          "date": "2015-12-17T00:00:00",
          "precipitation": 21.8,
          "temp_max": 6.7,
          "temp_min": 3.9,
          "weather": "fog",
          "wind": 6
         },
         {
          "date": "2015-12-18T00:00:00",
          "precipitation": 18.5,
          "temp_max": 8.9,
          "temp_min": 4.4,
          "weather": "fog",
          "wind": 5.1
         },
         {
          "date": "2015-12-19T00:00:00",
          "precipitation": 0,
          "temp_max": 8.3,
          "temp_min": 2.8,
          "weather": "fog",
          "wind": 4.1
         },
         {
          "date": "2015-12-20T00:00:00",
          "precipitation": 4.3,
          "temp_max": 7.8,
          "temp_min": 4.4,
          "weather": "fog",
          "wind": 6.7
         },
         {
          "date": "2015-12-21T00:00:00",
          "precipitation": 27.4,
          "temp_max": 5.6,
          "temp_min": 2.8,
          "weather": "fog",
          "wind": 4.3
         },
         {
          "date": "2015-12-22T00:00:00",
          "precipitation": 4.6,
          "temp_max": 7.8,
          "temp_min": 2.8,
          "weather": "fog",
          "wind": 5
         },
         {
          "date": "2015-12-23T00:00:00",
          "precipitation": 6.1,
          "temp_max": 5,
          "temp_min": 2.8,
          "weather": "fog",
          "wind": 7.6
         },
         {
          "date": "2015-12-24T00:00:00",
          "precipitation": 2.5,
          "temp_max": 5.6,
          "temp_min": 2.2,
          "weather": "fog",
          "wind": 4.3
         },
         {
          "date": "2015-12-25T00:00:00",
          "precipitation": 5.8,
          "temp_max": 5,
          "temp_min": 2.2,
          "weather": "fog",
          "wind": 1.5
         },
         {
          "date": "2015-12-26T00:00:00",
          "precipitation": 0,
          "temp_max": 4.4,
          "temp_min": 0,
          "weather": "sun",
          "wind": 2.5
         },
         {
          "date": "2015-12-27T00:00:00",
          "precipitation": 8.6,
          "temp_max": 4.4,
          "temp_min": 1.7,
          "weather": "fog",
          "wind": 2.9
         },
         {
          "date": "2015-12-28T00:00:00",
          "precipitation": 1.5,
          "temp_max": 5,
          "temp_min": 1.7,
          "weather": "fog",
          "wind": 1.3
         },
         {
          "date": "2015-12-29T00:00:00",
          "precipitation": 0,
          "temp_max": 7.2,
          "temp_min": 0.6,
          "weather": "fog",
          "wind": 2.6
         },
         {
          "date": "2015-12-30T00:00:00",
          "precipitation": 0,
          "temp_max": 5.6,
          "temp_min": -1,
          "weather": "sun",
          "wind": 3.4
         },
         {
          "date": "2015-12-31T00:00:00",
          "precipitation": 0,
          "temp_max": 5.6,
          "temp_min": -2.1,
          "weather": "sun",
          "wind": 3.5
         }
        ]
       },
       "title": "Seattle Weather: 2012-2015",
       "vconcat": [
        {
         "encoding": {
          "color": {
           "condition": {
            "field": "weather",
            "scale": {
             "domain": [
              "sun",
              "fog",
              "drizzle",
              "rain",
              "snow"
             ],
             "range": [
              "#e7ba52",
              "#a7a7a7",
              "#aec7e8",
              "#1f77b4",
              "#9467bd"
             ]
            },
            "selection": "selector003",
            "type": "nominal"
           },
           "value": "lightgray"
          },
          "size": {
           "field": "precipitation",
           "scale": {
            "range": [
             5,
             200
            ]
           },
           "type": "quantitative"
          },
          "x": {
           "field": "date",
           "timeUnit": "monthdate",
           "title": "Date",
           "type": "temporal"
          },
          "y": {
           "field": "temp_max",
           "scale": {
            "domain": [
             -5,
             40
            ]
           },
           "title": "Maximum Daily Temperature (C)",
           "type": "quantitative"
          }
         },
         "height": 300,
         "mark": "point",
         "selection": {
          "selector003": {
           "encodings": [
            "x"
           ],
           "type": "interval"
          }
         },
         "transform": [
          {
           "filter": {
            "selection": "selector004"
           }
          }
         ],
         "width": 550
        },
        {
         "encoding": {
          "color": {
           "condition": {
            "field": "weather",
            "scale": {
             "domain": [
              "sun",
              "fog",
              "drizzle",
              "rain",
              "snow"
             ],
             "range": [
              "#e7ba52",
              "#a7a7a7",
              "#aec7e8",
              "#1f77b4",
              "#9467bd"
             ]
            },
            "selection": "selector004",
            "type": "nominal"
           },
           "value": "lightgray"
          },
          "x": {
           "aggregate": "count",
           "type": "quantitative"
          },
          "y": {
           "field": "weather",
           "type": "nominal"
          }
         },
         "mark": "bar",
         "selection": {
          "selector004": {
           "encodings": [
            "color"
           ],
           "type": "multi"
          }
         },
         "transform": [
          {
           "filter": {
            "selection": "selector003"
           }
          }
         ],
         "width": 550
        }
       ]
      },
      "image/png": "[encoded data removed]",
      "text/plain": [
       "<VegaLite 4 object>\n",
       "\n",
       "If you see this message, it means the renderer has not been properly enabled\n",
       "for the frontend that you are using. For more information, see\n",
       "https://altair-viz.github.io/user_guide/troubleshooting.html\n"
      ]
     },
     "execution_count": 8,
     "metadata": {},
     "output_type": "execute_result"
    }
   ],
   "source": [
    "# Bottom panel is a bar chart of weather type\n",
    "bars = alt.Chart().mark_bar().encode(\n",
    "    x='count()',\n",
    "    y='weather:N',\n",
    "    color=alt.condition(click, color, alt.value('lightgray')),\n",
    ").transform_filter(\n",
    "    brush\n",
    ").properties(\n",
    "    width=550,\n",
    ").add_selection(\n",
    "    click\n",
    ")\n",
    "\n",
    "alt.vconcat(\n",
    "    points,\n",
    "    bars,\n",
    "    data=source,\n",
    "    title=\"Seattle Weather: 2012-2015\"\n",
    ")"
   ]
  },
  {
   "cell_type": "code",
   "execution_count": null,
   "metadata": {},
   "outputs": [],
   "source": []
  }
 ],
 "metadata": {
  "kernelspec": {
   "display_name": "Python 3",
   "language": "python",
   "name": "python3"
  },
  "language_info": {
   "codemirror_mode": {
    "name": "ipython",
    "version": 3
   },
   "file_extension": ".py",
   "mimetype": "text/x-python",
   "name": "python",
   "nbconvert_exporter": "python",
   "pygments_lexer": "ipython3",
   "version": "3.7.7"
  }
 },
 "nbformat": 4,
 "nbformat_minor": 4
}
