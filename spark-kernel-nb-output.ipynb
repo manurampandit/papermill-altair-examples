{
 "cells": [
  {
   "cell_type": "code",
   "execution_count": 1,
   "id": "assumed-sister",
   "metadata": {
    "execution": {
     "iopub.execute_input": "2021-03-08T03:56:20.862545Z",
     "iopub.status.busy": "2021-03-08T03:56:20.861657Z",
     "iopub.status.idle": "2021-03-08T03:56:20.918140Z",
     "shell.execute_reply": "2021-03-08T03:56:20.918769Z"
    },
    "papermill": {
     "duration": 0.073357,
     "end_time": "2021-03-08T03:56:20.919214",
     "exception": false,
     "start_time": "2021-03-08T03:56:20.845857",
     "status": "completed"
    },
    "tags": [
     "injected-parameters"
    ]
   },
   "outputs": [
    {
     "name": "stderr",
     "output_type": "stream",
     "text": [
      "The code failed because of a fatal error:\n",
      "\tError sending http request and maximum retry encountered..\n",
      "\n",
      "Some things to try:\n",
      "a) Make sure Spark has enough available resources for Jupyter to create a Spark context.\n",
      "b) Contact your Jupyter administrator to make sure the Spark magics library is configured correctly.\n",
      "c) Restart the kernel.\n"
     ]
    }
   ],
   "source": [
    "// Parameters\n",
    "val a = 2\n",
    "val twice = 4\n"
   ]
  },
  {
   "cell_type": "code",
   "execution_count": 2,
   "id": "progressive-secondary",
   "metadata": {
    "execution": {
     "iopub.execute_input": "2021-03-08T03:56:20.944505Z",
     "iopub.status.busy": "2021-03-08T03:56:20.943723Z",
     "iopub.status.idle": "2021-03-08T03:56:21.092663Z",
     "shell.execute_reply": "2021-03-08T03:56:21.082693Z"
    },
    "papermill": {
     "duration": 0.162497,
     "end_time": "2021-03-08T03:56:21.092822",
     "exception": false,
     "start_time": "2021-03-08T03:56:20.930325",
     "status": "completed"
    },
    "tags": []
   },
   "outputs": [],
   "source": [
    "%reload_ext sparkmagic.magics"
   ]
  },
  {
   "cell_type": "code",
   "execution_count": 3,
   "id": "academic-moral",
   "metadata": {
    "execution": {
     "iopub.execute_input": "2021-03-08T03:56:21.121414Z",
     "iopub.status.busy": "2021-03-08T03:56:21.120388Z",
     "iopub.status.idle": "2021-03-08T03:56:21.125855Z",
     "shell.execute_reply": "2021-03-08T03:56:21.126337Z"
    },
    "papermill": {
     "duration": 0.026321,
     "end_time": "2021-03-08T03:56:21.126505",
     "exception": false,
     "start_time": "2021-03-08T03:56:21.100184",
     "status": "completed"
    },
    "tags": []
   },
   "outputs": [
    {
     "data": {
      "application/vnd.jupyter.widget-view+json": {
       "model_id": "56ad0a59b3fa4863bb6aaa134928968a",
       "version_major": 2,
       "version_minor": 0
      },
      "text/plain": [
       "MagicsControllerWidget(children=(Tab(children=(ManageSessionWidget(children=(HTML(value='<br/>'), HTML(value='…"
      ]
     },
     "metadata": {},
     "output_type": "display_data"
    }
   ],
   "source": [
    "%manage_spark"
   ]
  },
  {
   "cell_type": "code",
   "execution_count": 4,
   "id": "expensive-metro",
   "metadata": {
    "execution": {
     "iopub.execute_input": "2021-03-08T03:56:21.152615Z",
     "iopub.status.busy": "2021-03-08T03:56:21.151928Z",
     "iopub.status.idle": "2021-03-08T03:56:21.155100Z",
     "shell.execute_reply": "2021-03-08T03:56:21.155481Z"
    },
    "papermill": {
     "duration": 0.022736,
     "end_time": "2021-03-08T03:56:21.155640",
     "exception": false,
     "start_time": "2021-03-08T03:56:21.132904",
     "status": "completed"
    },
    "tags": []
   },
   "outputs": [
    {
     "data": {
      "application/vnd.jupyter.widget-view+json": {
       "model_id": "56ad0a59b3fa4863bb6aaa134928968a",
       "version_major": 2,
       "version_minor": 0
      },
      "text/plain": [
       "MagicsControllerWidget(children=(Tab(children=(ManageSessionWidget(children=(HTML(value='<br/>'), HTML(value='…"
      ]
     },
     "metadata": {},
     "output_type": "display_data"
    }
   ],
   "source": [
    "%manage_spark"
   ]
  },
  {
   "cell_type": "code",
   "execution_count": 5,
   "id": "laden-phoenix",
   "metadata": {
    "execution": {
     "iopub.execute_input": "2021-03-08T03:56:21.173850Z",
     "iopub.status.busy": "2021-03-08T03:56:21.173157Z",
     "iopub.status.idle": "2021-03-08T03:56:21.184765Z",
     "shell.execute_reply": "2021-03-08T03:56:21.185162Z"
    },
    "papermill": {
     "duration": 0.022892,
     "end_time": "2021-03-08T03:56:21.185344",
     "exception": false,
     "start_time": "2021-03-08T03:56:21.162452",
     "status": "completed"
    },
    "tags": []
   },
   "outputs": [
    {
     "name": "stderr",
     "output_type": "stream",
     "text": [
      "Cannot delete session -1 that is in state 'not_started'.\n"
     ]
    },
    {
     "name": "stderr",
     "output_type": "stream",
     "text": [
      "The code failed because of a fatal error:\n",
      "\tError sending http request and maximum retry encountered..\n",
      "\n",
      "Some things to try:\n",
      "a) Make sure Spark has enough available resources for Jupyter to create a Spark context.\n",
      "b) Contact your Jupyter administrator to make sure the Spark magics library is configured correctly.\n",
      "c) Restart the kernel.\n"
     ]
    },
    {
     "data": {
      "text/html": [
       "Current session configs: <tt>{'driverMemory': '4G', 'executorCores': 2, 'executorMemory': '2G', 'numExecutors': 1, 'queue': 'default', 'kind': 'spark'}</tt><br>"
      ],
      "text/plain": [
       "<IPython.core.display.HTML object>"
      ]
     },
     "metadata": {},
     "output_type": "display_data"
    },
    {
     "name": "stderr",
     "output_type": "stream",
     "text": [
      "An error was encountered:\n",
      "Error sending http request and maximum retry encountered.\n"
     ]
    }
   ],
   "source": [
    "%%configure -f\n",
    "{\n",
    "    \"driverMemory\": \"4G\",\n",
    "    \"executorCores\": 2,\n",
    "    \"executorMemory\": \"2G\",\n",
    "    \"numExecutors\": 1,\n",
    "    \"queue\": \"default\",\n",
    "    \"kind\": \"pyspark\"\n",
    "}"
   ]
  },
  {
   "cell_type": "code",
   "execution_count": 6,
   "id": "complimentary-throw",
   "metadata": {
    "execution": {
     "iopub.execute_input": "2021-03-08T03:56:21.204942Z",
     "iopub.status.busy": "2021-03-08T03:56:21.204323Z",
     "iopub.status.idle": "2021-03-08T03:56:21.342051Z",
     "shell.execute_reply": "2021-03-08T03:56:21.342574Z"
    },
    "papermill": {
     "duration": 0.148556,
     "end_time": "2021-03-08T03:56:21.342795",
     "exception": false,
     "start_time": "2021-03-08T03:56:21.194239",
     "status": "completed"
    },
    "tags": []
   },
   "outputs": [
    {
     "data": {
      "text/plain": [
       "<module 'altair' from '/Users/mpandit/Desktop/code/li-projects/darwin-tabular-analysis_trunk/3.7/lib/python3.7/site-packages/altair/__init__.py'>"
      ]
     },
     "execution_count": 6,
     "metadata": {},
     "output_type": "execute_result"
    }
   ],
   "source": [
    "%%local\n",
    "import altair as alt\n",
    "alt"
   ]
  },
  {
   "cell_type": "code",
   "execution_count": 7,
   "id": "eleven-evans",
   "metadata": {
    "execution": {
     "iopub.execute_input": "2021-03-08T03:56:21.368417Z",
     "iopub.status.busy": "2021-03-08T03:56:21.367707Z",
     "iopub.status.idle": "2021-03-08T03:56:21.370225Z",
     "shell.execute_reply": "2021-03-08T03:56:21.370654Z"
    },
    "papermill": {
     "duration": 0.016131,
     "end_time": "2021-03-08T03:56:21.370830",
     "exception": false,
     "start_time": "2021-03-08T03:56:21.354699",
     "status": "completed"
    },
    "tags": []
   },
   "outputs": [
    {
     "data": {
      "text/plain": [
       "'4.1.0'"
      ]
     },
     "execution_count": 7,
     "metadata": {},
     "output_type": "execute_result"
    }
   ],
   "source": [
    "%%local\n",
    "alt.__version__"
   ]
  },
  {
   "cell_type": "code",
   "execution_count": 8,
   "id": "combined-ballot",
   "metadata": {
    "execution": {
     "iopub.execute_input": "2021-03-08T03:56:21.393270Z",
     "iopub.status.busy": "2021-03-08T03:56:21.392646Z",
     "iopub.status.idle": "2021-03-08T03:56:21.402810Z",
     "shell.execute_reply": "2021-03-08T03:56:21.403200Z"
    },
    "papermill": {
     "duration": 0.022753,
     "end_time": "2021-03-08T03:56:21.403378",
     "exception": false,
     "start_time": "2021-03-08T03:56:21.380625",
     "status": "completed"
    },
    "tags": []
   },
   "outputs": [],
   "source": [
    "%%local\n",
    "from vega_datasets import data\n",
    "\n",
    "source = data.seattle_weather()"
   ]
  },
  {
   "cell_type": "code",
   "execution_count": 9,
   "id": "caroline-citizen",
   "metadata": {
    "execution": {
     "iopub.execute_input": "2021-03-08T03:56:21.448464Z",
     "iopub.status.busy": "2021-03-08T03:56:21.447925Z",
     "iopub.status.idle": "2021-03-08T03:56:21.449673Z",
     "shell.execute_reply": "2021-03-08T03:56:21.450040Z"
    },
    "papermill": {
     "duration": 0.037355,
     "end_time": "2021-03-08T03:56:21.450256",
     "exception": false,
     "start_time": "2021-03-08T03:56:21.412901",
     "status": "completed"
    },
    "tags": []
   },
   "outputs": [],
   "source": [
    "%%local\n",
    "alt.renderers.enable('jupyterlab')\n",
    "scale = alt.Scale(domain=['sun', 'fog', 'drizzle', 'rain', 'snow'],\n",
    "                  range=['#e7ba52', '#a7a7a7', '#aec7e8', '#1f77b4', '#9467bd'])\n",
    "color = alt.Color('weather:N', scale=scale)\n",
    "\n",
    "# We create two selections:\n",
    "# - a brush that is active on the top panel\n",
    "# - a multi-click that is active on the bottom panel\n",
    "brush = alt.selection_interval(encodings=['x'])\n",
    "click = alt.selection_multi(encodings=['color'])\n",
    "\n",
    "# Top panel is scatter plot of temperature vs time\n",
    "points = alt.Chart().mark_point().encode(\n",
    "    alt.X('monthdate(date):T', title='Date'),\n",
    "    alt.Y('temp_max:Q',\n",
    "        title='Maximum Daily Temperature (C)',\n",
    "        scale=alt.Scale(domain=[-5, 40])\n",
    "    ),\n",
    "    color=alt.condition(brush, color, alt.value('lightgray')),\n",
    "    size=alt.Size('precipitation:Q', scale=alt.Scale(range=[5, 200]))\n",
    ").properties(\n",
    "    width=550,\n",
    "    height=300\n",
    ").add_selection(\n",
    "    brush\n",
    ").transform_filter(\n",
    "    click\n",
    ")\n"
   ]
  },
  {
   "cell_type": "code",
   "execution_count": 10,
   "id": "supposed-camcorder",
   "metadata": {
    "execution": {
     "iopub.execute_input": "2021-03-08T03:56:21.501219Z",
     "iopub.status.busy": "2021-03-08T03:56:21.500627Z",
     "iopub.status.idle": "2021-03-08T03:56:21.603572Z",
     "shell.execute_reply": "2021-03-08T03:56:21.604017Z"
    },
    "papermill": {
     "duration": 0.144192,
     "end_time": "2021-03-08T03:56:21.604204",
     "exception": false,
     "start_time": "2021-03-08T03:56:21.460012",
     "status": "completed"
    },
    "tags": []
   },
   "outputs": [
    {
     "data": {
      "application/vnd.vegalite.v4+json": {
       "$schema": "https://vega.github.io/schema/vega-lite/v4.8.1.json",
       "config": {
        "view": {
         "continuousHeight": 300,
         "continuousWidth": 400
        }
       },
       "data": {
        "name": "data-830c39fec90146253fb06a06c26374ef"
       },
       "datasets": {
        "data-830c39fec90146253fb06a06c26374ef": [
         {
          "date": "2012-01-01T00:00:00",
          "precipitation": 0.0,
          "temp_max": 12.8,
          "temp_min": 5.0,
          "weather": "drizzle",
          "wind": 4.7
         },
         {
          "date": "2012-01-02T00:00:00",
          "precipitation": 10.9,
          "temp_max": 10.6,
          "temp_min": 2.8,
          "weather": "rain",
          "wind": 4.5
         },
         {
          "date": "2012-01-03T00:00:00",
          "precipitation": 0.8,
          "temp_max": 11.7,
          "temp_min": 7.2,
          "weather": "rain",
          "wind": 2.3
         },
         {
          "date": "2012-01-04T00:00:00",
          "precipitation": 20.3,
          "temp_max": 12.2,
          "temp_min": 5.6,
          "weather": "rain",
          "wind": 4.7
         },
         {
          "date": "2012-01-05T00:00:00",
          "precipitation": 1.3,
          "temp_max": 8.9,
          "temp_min": 2.8,
          "weather": "rain",
          "wind": 6.1
         },
         {
          "date": "2012-01-06T00:00:00",
          "precipitation": 2.5,
          "temp_max": 4.4,
          "temp_min": 2.2,
          "weather": "rain",
          "wind": 2.2
         },
         {
          "date": "2012-01-07T00:00:00",
          "precipitation": 0.0,
          "temp_max": 7.2,
          "temp_min": 2.8,
          "weather": "rain",
          "wind": 2.3
         },
         {
          "date": "2012-01-08T00:00:00",
          "precipitation": 0.0,
          "temp_max": 10.0,
          "temp_min": 2.8,
          "weather": "sun",
          "wind": 2.0
         },
         {
          "date": "2012-01-09T00:00:00",
          "precipitation": 4.3,
          "temp_max": 9.4,
          "temp_min": 5.0,
          "weather": "rain",
          "wind": 3.4
         },
         {
          "date": "2012-01-10T00:00:00",
          "precipitation": 1.0,
          "temp_max": 6.1,
          "temp_min": 0.6,
          "weather": "rain",
          "wind": 3.4
         },
         {
          "date": "2012-01-11T00:00:00",
          "precipitation": 0.0,
          "temp_max": 6.1,
          "temp_min": -1.1,
          "weather": "sun",
          "wind": 5.1
         },
         {
          "date": "2012-01-12T00:00:00",
          "precipitation": 0.0,
          "temp_max": 6.1,
          "temp_min": -1.7,
          "weather": "sun",
          "wind": 1.9
         },
         {
          "date": "2012-01-13T00:00:00",
          "precipitation": 0.0,
          "temp_max": 5.0,
          "temp_min": -2.8,
          "weather": "sun",
          "wind": 1.3
         },
         {
          "date": "2012-01-14T00:00:00",
          "precipitation": 4.1,
          "temp_max": 4.4,
          "temp_min": 0.6,
          "weather": "snow",
          "wind": 5.3
         },
         {
          "date": "2012-01-15T00:00:00",
          "precipitation": 5.3,
          "temp_max": 1.1,
          "temp_min": -3.3,
          "weather": "snow",
          "wind": 3.2
         },
         {
          "date": "2012-01-16T00:00:00",
          "precipitation": 2.5,
          "temp_max": 1.7,
          "temp_min": -2.8,
          "weather": "snow",
          "wind": 5.0
         },
         {
          "date": "2012-01-17T00:00:00",
          "precipitation": 8.1,
          "temp_max": 3.3,
          "temp_min": 0.0,
          "weather": "snow",
          "wind": 5.6
         },
         {
          "date": "2012-01-18T00:00:00",
          "precipitation": 19.8,
          "temp_max": 0.0,
          "temp_min": -2.8,
          "weather": "snow",
          "wind": 5.0
         },
         {
          "date": "2012-01-19T00:00:00",
          "precipitation": 15.2,
          "temp_max": -1.1,
          "temp_min": -2.8,
          "weather": "snow",
          "wind": 1.6
         },
         {
          "date": "2012-01-20T00:00:00",
          "precipitation": 13.5,
          "temp_max": 7.2,
          "temp_min": -1.1,
          "weather": "snow",
          "wind": 2.3
         },
         {
          "date": "2012-01-21T00:00:00",
          "precipitation": 3.0,
          "temp_max": 8.3,
          "temp_min": 3.3,
          "weather": "rain",
          "wind": 8.2
         },
         {
          "date": "2012-01-22T00:00:00",
          "precipitation": 6.1,
          "temp_max": 6.7,
          "temp_min": 2.2,
          "weather": "rain",
          "wind": 4.8
         },
         {
          "date": "2012-01-23T00:00:00",
          "precipitation": 0.0,
          "temp_max": 8.3,
          "temp_min": 1.1,
          "weather": "rain",
          "wind": 3.6
         },
         {
          "date": "2012-01-24T00:00:00",
          "precipitation": 8.6,
          "temp_max": 10.0,
          "temp_min": 2.2,
          "weather": "rain",
          "wind": 5.1
         },
         {
          "date": "2012-01-25T00:00:00",
          "precipitation": 8.1,
          "temp_max": 8.9,
          "temp_min": 4.4,
          "weather": "rain",
          "wind": 5.4
         },
         {
          "date": "2012-01-26T00:00:00",
          "precipitation": 4.8,
          "temp_max": 8.9,
          "temp_min": 1.1,
          "weather": "rain",
          "wind": 4.8
         },
         {
          "date": "2012-01-27T00:00:00",
          "precipitation": 0.0,
          "temp_max": 6.7,
          "temp_min": -2.2,
          "weather": "drizzle",
          "wind": 1.4
         },
         {
          "date": "2012-01-28T00:00:00",
          "precipitation": 0.0,
          "temp_max": 6.7,
          "temp_min": 0.6,
          "weather": "rain",
          "wind": 2.2
         },
         {
          "date": "2012-01-29T00:00:00",
          "precipitation": 27.7,
          "temp_max": 9.4,
          "temp_min": 3.9,
          "weather": "rain",
          "wind": 4.5
         },
         {
          "date": "2012-01-30T00:00:00",
          "precipitation": 3.6,
          "temp_max": 8.3,
          "temp_min": 6.1,
          "weather": "rain",
          "wind": 5.1
         },
         {
          "date": "2012-01-31T00:00:00",
          "precipitation": 1.8,
          "temp_max": 9.4,
          "temp_min": 6.1,
          "weather": "rain",
          "wind": 3.9
         },
         {
          "date": "2012-02-01T00:00:00",
          "precipitation": 13.5,
          "temp_max": 8.9,
          "temp_min": 3.3,
          "weather": "rain",
          "wind": 2.7
         },
         {
          "date": "2012-02-02T00:00:00",
          "precipitation": 0.0,
          "temp_max": 8.3,
          "temp_min": 1.7,
          "weather": "sun",
          "wind": 2.6
         },
         {
          "date": "2012-02-03T00:00:00",
          "precipitation": 0.0,
          "temp_max": 14.4,
          "temp_min": 2.2,
          "weather": "sun",
          "wind": 5.3
         },
         {
          "date": "2012-02-04T00:00:00",
          "precipitation": 0.0,
          "temp_max": 15.6,
          "temp_min": 5.0,
          "weather": "sun",
          "wind": 4.3
         },
         {
          "date": "2012-02-05T00:00:00",
          "precipitation": 0.0,
          "temp_max": 13.9,
          "temp_min": 1.7,
          "weather": "sun",
          "wind": 2.9
         },
         {
          "date": "2012-02-06T00:00:00",
          "precipitation": 0.0,
          "temp_max": 16.1,
          "temp_min": 1.7,
          "weather": "sun",
          "wind": 5.0
         },
         {
          "date": "2012-02-07T00:00:00",
          "precipitation": 0.3,
          "temp_max": 15.6,
          "temp_min": 7.8,
          "weather": "rain",
          "wind": 5.3
         },
         {
          "date": "2012-02-08T00:00:00",
          "precipitation": 2.8,
          "temp_max": 10.0,
          "temp_min": 5.0,
          "weather": "rain",
          "wind": 2.7
         },
         {
          "date": "2012-02-09T00:00:00",
          "precipitation": 2.5,
          "temp_max": 11.1,
          "temp_min": 7.8,
          "weather": "rain",
          "wind": 2.4
         },
         {
          "date": "2012-02-10T00:00:00",
          "precipitation": 2.5,
          "temp_max": 12.8,
          "temp_min": 6.7,
          "weather": "rain",
          "wind": 3.0
         },
         {
          "date": "2012-02-11T00:00:00",
          "precipitation": 0.8,
          "temp_max": 8.9,
          "temp_min": 5.6,
          "weather": "rain",
          "wind": 3.4
         },
         {
          "date": "2012-02-12T00:00:00",
          "precipitation": 1.0,
          "temp_max": 8.3,
          "temp_min": 5.0,
          "weather": "rain",
          "wind": 1.3
         },
         {
          "date": "2012-02-13T00:00:00",
          "precipitation": 11.4,
          "temp_max": 7.2,
          "temp_min": 4.4,
          "weather": "rain",
          "wind": 1.4
         },
         {
          "date": "2012-02-14T00:00:00",
          "precipitation": 2.5,
          "temp_max": 6.7,
          "temp_min": 1.1,
          "weather": "rain",
          "wind": 3.1
         },
         {
          "date": "2012-02-15T00:00:00",
          "precipitation": 0.0,
          "temp_max": 7.2,
          "temp_min": 0.6,
          "weather": "drizzle",
          "wind": 1.8
         },
         {
          "date": "2012-02-16T00:00:00",
          "precipitation": 1.8,
          "temp_max": 7.2,
          "temp_min": 3.3,
          "weather": "rain",
          "wind": 2.1
         },
         {
          "date": "2012-02-17T00:00:00",
          "precipitation": 17.3,
          "temp_max": 10.0,
          "temp_min": 4.4,
          "weather": "rain",
          "wind": 3.4
         },
         {
          "date": "2012-02-18T00:00:00",
          "precipitation": 6.4,
          "temp_max": 6.7,
          "temp_min": 3.9,
          "weather": "rain",
          "wind": 8.1
         },
         {
          "date": "2012-02-19T00:00:00",
          "precipitation": 0.0,
          "temp_max": 6.7,
          "temp_min": 2.2,
          "weather": "sun",
          "wind": 4.7
         },
         {
          "date": "2012-02-20T00:00:00",
          "precipitation": 3.0,
          "temp_max": 7.8,
          "temp_min": 1.7,
          "weather": "rain",
          "wind": 2.9
         },
         {
          "date": "2012-02-21T00:00:00",
          "precipitation": 0.8,
          "temp_max": 10.0,
          "temp_min": 7.8,
          "weather": "rain",
          "wind": 7.5
         },
         {
          "date": "2012-02-22T00:00:00",
          "precipitation": 8.6,
          "temp_max": 10.0,
          "temp_min": 2.8,
          "weather": "rain",
          "wind": 5.9
         },
         {
          "date": "2012-02-23T00:00:00",
          "precipitation": 0.0,
          "temp_max": 8.3,
          "temp_min": 2.8,
          "weather": "sun",
          "wind": 3.9
         },
         {
          "date": "2012-02-24T00:00:00",
          "precipitation": 11.4,
          "temp_max": 6.7,
          "temp_min": 4.4,
          "weather": "rain",
          "wind": 3.5
         },
         {
          "date": "2012-02-25T00:00:00",
          "precipitation": 0.0,
          "temp_max": 7.2,
          "temp_min": 2.8,
          "weather": "rain",
          "wind": 6.4
         },
         {
          "date": "2012-02-26T00:00:00",
          "precipitation": 1.3,
          "temp_max": 5.0,
          "temp_min": -1.1,
          "weather": "snow",
          "wind": 3.4
         },
         {
          "date": "2012-02-27T00:00:00",
          "precipitation": 0.0,
          "temp_max": 6.7,
          "temp_min": -2.2,
          "weather": "sun",
          "wind": 3.0
         },
         {
          "date": "2012-02-28T00:00:00",
          "precipitation": 3.6,
          "temp_max": 6.7,
          "temp_min": -0.6,
          "weather": "snow",
          "wind": 4.2
         },
         {
          "date": "2012-02-29T00:00:00",
          "precipitation": 0.8,
          "temp_max": 5.0,
          "temp_min": 1.1,
          "weather": "snow",
          "wind": 7.0
         },
         {
          "date": "2012-03-01T00:00:00",
          "precipitation": 0.0,
          "temp_max": 6.1,
          "temp_min": 1.1,
          "weather": "sun",
          "wind": 3.1
         },
         {
          "date": "2012-03-02T00:00:00",
          "precipitation": 2.0,
          "temp_max": 6.7,
          "temp_min": 3.9,
          "weather": "rain",
          "wind": 5.1
         },
         {
          "date": "2012-03-03T00:00:00",
          "precipitation": 0.0,
          "temp_max": 12.2,
          "temp_min": 6.7,
          "weather": "sun",
          "wind": 7.0
         },
         {
          "date": "2012-03-04T00:00:00",
          "precipitation": 0.0,
          "temp_max": 10.6,
          "temp_min": 6.7,
          "weather": "rain",
          "wind": 5.6
         },
         {
          "date": "2012-03-05T00:00:00",
          "precipitation": 6.9,
          "temp_max": 7.8,
          "temp_min": 1.1,
          "weather": "rain",
          "wind": 6.2
         },
         {
          "date": "2012-03-06T00:00:00",
          "precipitation": 0.5,
          "temp_max": 6.7,
          "temp_min": 0.0,
          "weather": "snow",
          "wind": 2.7
         },
         {
          "date": "2012-03-07T00:00:00",
          "precipitation": 0.0,
          "temp_max": 8.9,
          "temp_min": -1.7,
          "weather": "sun",
          "wind": 2.7
         },
         {
          "date": "2012-03-08T00:00:00",
          "precipitation": 0.0,
          "temp_max": 15.6,
          "temp_min": 0.6,
          "weather": "sun",
          "wind": 2.5
         },
         {
          "date": "2012-03-09T00:00:00",
          "precipitation": 3.6,
          "temp_max": 9.4,
          "temp_min": 5.0,
          "weather": "rain",
          "wind": 2.8
         },
         {
          "date": "2012-03-10T00:00:00",
          "precipitation": 10.4,
          "temp_max": 7.2,
          "temp_min": 6.1,
          "weather": "rain",
          "wind": 3.4
         },
         {
          "date": "2012-03-11T00:00:00",
          "precipitation": 13.7,
          "temp_max": 6.7,
          "temp_min": 2.8,
          "weather": "rain",
          "wind": 5.8
         },
         {
          "date": "2012-03-12T00:00:00",
          "precipitation": 19.3,
          "temp_max": 8.3,
          "temp_min": 0.6,
          "weather": "snow",
          "wind": 6.2
         },
         {
          "date": "2012-03-13T00:00:00",
          "precipitation": 9.4,
          "temp_max": 5.6,
          "temp_min": 0.6,
          "weather": "snow",
          "wind": 5.3
         },
         {
          "date": "2012-03-14T00:00:00",
          "precipitation": 8.6,
          "temp_max": 7.8,
          "temp_min": 1.1,
          "weather": "rain",
          "wind": 4.7
         },
         {
          "date": "2012-03-15T00:00:00",
          "precipitation": 23.9,
          "temp_max": 11.1,
          "temp_min": 5.6,
          "weather": "snow",
          "wind": 5.8
         },
         {
          "date": "2012-03-16T00:00:00",
          "precipitation": 8.4,
          "temp_max": 8.9,
          "temp_min": 3.9,
          "weather": "rain",
          "wind": 5.1
         },
         {
          "date": "2012-03-17T00:00:00",
          "precipitation": 9.4,
          "temp_max": 10.0,
          "temp_min": 0.6,
          "weather": "snow",
          "wind": 3.8
         },
         {
          "date": "2012-03-18T00:00:00",
          "precipitation": 3.6,
          "temp_max": 5.0,
          "temp_min": -0.6,
          "weather": "rain",
          "wind": 2.7
         },
         {
          "date": "2012-03-19T00:00:00",
          "precipitation": 2.0,
          "temp_max": 7.2,
          "temp_min": -1.1,
          "weather": "rain",
          "wind": 3.0
         },
         {
          "date": "2012-03-20T00:00:00",
          "precipitation": 3.6,
          "temp_max": 7.8,
          "temp_min": 2.2,
          "weather": "rain",
          "wind": 6.4
         },
         {
          "date": "2012-03-21T00:00:00",
          "precipitation": 1.3,
          "temp_max": 8.9,
          "temp_min": 1.1,
          "weather": "rain",
          "wind": 2.5
         },
         {
          "date": "2012-03-22T00:00:00",
          "precipitation": 4.1,
          "temp_max": 10.0,
          "temp_min": 1.7,
          "weather": "rain",
          "wind": 2.1
         },
         {
          "date": "2012-03-23T00:00:00",
          "precipitation": 0.0,
          "temp_max": 12.2,
          "temp_min": 0.6,
          "weather": "sun",
          "wind": 2.8
         },
         {
          "date": "2012-03-24T00:00:00",
          "precipitation": 0.0,
          "temp_max": 15.0,
          "temp_min": 3.3,
          "weather": "sun",
          "wind": 5.2
         },
         {
          "date": "2012-03-25T00:00:00",
          "precipitation": 0.0,
          "temp_max": 13.3,
          "temp_min": 2.2,
          "weather": "rain",
          "wind": 2.7
         },
         {
          "date": "2012-03-26T00:00:00",
          "precipitation": 0.0,
          "temp_max": 12.8,
          "temp_min": 6.1,
          "weather": "drizzle",
          "wind": 4.3
         },
         {
          "date": "2012-03-27T00:00:00",
          "precipitation": 4.8,
          "temp_max": 14.4,
          "temp_min": 6.7,
          "weather": "rain",
          "wind": 3.8
         },
         {
          "date": "2012-03-28T00:00:00",
          "precipitation": 1.3,
          "temp_max": 10.6,
          "temp_min": 7.2,
          "weather": "rain",
          "wind": 5.9
         },
         {
          "date": "2012-03-29T00:00:00",
          "precipitation": 27.4,
          "temp_max": 10.0,
          "temp_min": 6.1,
          "weather": "rain",
          "wind": 4.4
         },
         {
          "date": "2012-03-30T00:00:00",
          "precipitation": 5.6,
          "temp_max": 9.4,
          "temp_min": 5.0,
          "weather": "rain",
          "wind": 4.7
         },
         {
          "date": "2012-03-31T00:00:00",
          "precipitation": 13.2,
          "temp_max": 10.0,
          "temp_min": 2.8,
          "weather": "rain",
          "wind": 3.4
         },
         {
          "date": "2012-04-01T00:00:00",
          "precipitation": 1.5,
          "temp_max": 8.9,
          "temp_min": 4.4,
          "weather": "rain",
          "wind": 6.8
         },
         {
          "date": "2012-04-02T00:00:00",
          "precipitation": 0.0,
          "temp_max": 16.7,
          "temp_min": 4.4,
          "weather": "sun",
          "wind": 3.1
         },
         {
          "date": "2012-04-03T00:00:00",
          "precipitation": 1.5,
          "temp_max": 11.7,
          "temp_min": 3.3,
          "weather": "rain",
          "wind": 3.1
         },
         {
          "date": "2012-04-04T00:00:00",
          "precipitation": 0.0,
          "temp_max": 10.6,
          "temp_min": 2.8,
          "weather": "sun",
          "wind": 2.1
         },
         {
          "date": "2012-04-05T00:00:00",
          "precipitation": 4.6,
          "temp_max": 9.4,
          "temp_min": 2.8,
          "weather": "snow",
          "wind": 1.8
         },
         {
          "date": "2012-04-06T00:00:00",
          "precipitation": 0.3,
          "temp_max": 11.1,
          "temp_min": 3.3,
          "weather": "rain",
          "wind": 2.6
         },
         {
          "date": "2012-04-07T00:00:00",
          "precipitation": 0.0,
          "temp_max": 16.1,
          "temp_min": 1.7,
          "weather": "sun",
          "wind": 4.3
         },
         {
          "date": "2012-04-08T00:00:00",
          "precipitation": 0.0,
          "temp_max": 21.1,
          "temp_min": 7.2,
          "weather": "sun",
          "wind": 4.1
         },
         {
          "date": "2012-04-09T00:00:00",
          "precipitation": 0.0,
          "temp_max": 20.0,
          "temp_min": 6.1,
          "weather": "sun",
          "wind": 2.1
         },
         {
          "date": "2012-04-10T00:00:00",
          "precipitation": 0.0,
          "temp_max": 17.8,
          "temp_min": 8.9,
          "weather": "rain",
          "wind": 3.2
         },
         {
          "date": "2012-04-11T00:00:00",
          "precipitation": 2.3,
          "temp_max": 11.1,
          "temp_min": 7.2,
          "weather": "rain",
          "wind": 2.6
         },
         {
          "date": "2012-04-12T00:00:00",
          "precipitation": 0.5,
          "temp_max": 13.9,
          "temp_min": 5.6,
          "weather": "rain",
          "wind": 2.6
         },
         {
          "date": "2012-04-13T00:00:00",
          "precipitation": 0.0,
          "temp_max": 15.0,
          "temp_min": 3.9,
          "weather": "drizzle",
          "wind": 4.0
         },
         {
          "date": "2012-04-14T00:00:00",
          "precipitation": 0.0,
          "temp_max": 15.6,
          "temp_min": 3.3,
          "weather": "sun",
          "wind": 3.0
         },
         {
          "date": "2012-04-15T00:00:00",
          "precipitation": 0.0,
          "temp_max": 16.1,
          "temp_min": 7.2,
          "weather": "rain",
          "wind": 2.9
         },
         {
          "date": "2012-04-16T00:00:00",
          "precipitation": 8.1,
          "temp_max": 13.3,
          "temp_min": 6.7,
          "weather": "rain",
          "wind": 5.8
         },
         {
          "date": "2012-04-17T00:00:00",
          "precipitation": 1.8,
          "temp_max": 10.0,
          "temp_min": 4.4,
          "weather": "rain",
          "wind": 2.0
         },
         {
          "date": "2012-04-18T00:00:00",
          "precipitation": 1.8,
          "temp_max": 13.3,
          "temp_min": 7.2,
          "weather": "rain",
          "wind": 3.9
         },
         {
          "date": "2012-04-19T00:00:00",
          "precipitation": 10.9,
          "temp_max": 13.9,
          "temp_min": 5.0,
          "weather": "rain",
          "wind": 2.6
         },
         {
          "date": "2012-04-20T00:00:00",
          "precipitation": 6.6,
          "temp_max": 13.3,
          "temp_min": 6.7,
          "weather": "rain",
          "wind": 2.7
         },
         {
          "date": "2012-04-21T00:00:00",
          "precipitation": 0.0,
          "temp_max": 20.0,
          "temp_min": 4.4,
          "weather": "sun",
          "wind": 2.3
         },
         {
          "date": "2012-04-22T00:00:00",
          "precipitation": 0.0,
          "temp_max": 23.3,
          "temp_min": 8.3,
          "weather": "rain",
          "wind": 2.6
         },
         {
          "date": "2012-04-23T00:00:00",
          "precipitation": 0.0,
          "temp_max": 21.7,
          "temp_min": 8.9,
          "weather": "sun",
          "wind": 3.5
         },
         {
          "date": "2012-04-24T00:00:00",
          "precipitation": 4.3,
          "temp_max": 13.9,
          "temp_min": 10.0,
          "weather": "rain",
          "wind": 2.8
         },
         {
          "date": "2012-04-25T00:00:00",
          "precipitation": 10.7,
          "temp_max": 16.7,
          "temp_min": 8.9,
          "weather": "rain",
          "wind": 2.6
         },
         {
          "date": "2012-04-26T00:00:00",
          "precipitation": 3.8,
          "temp_max": 13.9,
          "temp_min": 6.7,
          "weather": "rain",
          "wind": 5.2
         },
         {
          "date": "2012-04-27T00:00:00",
          "precipitation": 0.8,
          "temp_max": 13.3,
          "temp_min": 6.1,
          "weather": "rain",
          "wind": 4.8
         },
         {
          "date": "2012-04-28T00:00:00",
          "precipitation": 0.0,
          "temp_max": 16.1,
          "temp_min": 8.3,
          "weather": "drizzle",
          "wind": 2.5
         },
         {
          "date": "2012-04-29T00:00:00",
          "precipitation": 4.3,
          "temp_max": 15.6,
          "temp_min": 8.9,
          "weather": "rain",
          "wind": 1.6
         },
         {
          "date": "2012-04-30T00:00:00",
          "precipitation": 4.3,
          "temp_max": 12.8,
          "temp_min": 7.2,
          "weather": "rain",
          "wind": 8.0
         },
         {
          "date": "2012-05-01T00:00:00",
          "precipitation": 0.5,
          "temp_max": 11.7,
          "temp_min": 6.1,
          "weather": "rain",
          "wind": 6.4
         },
         {
          "date": "2012-05-02T00:00:00",
          "precipitation": 0.5,
          "temp_max": 13.3,
          "temp_min": 5.6,
          "weather": "rain",
          "wind": 2.5
         },
         {
          "date": "2012-05-03T00:00:00",
          "precipitation": 18.5,
          "temp_max": 11.1,
          "temp_min": 7.2,
          "weather": "rain",
          "wind": 3.4
         },
         {
          "date": "2012-05-04T00:00:00",
          "precipitation": 1.8,
          "temp_max": 12.2,
          "temp_min": 6.1,
          "weather": "rain",
          "wind": 4.6
         },
         {
          "date": "2012-05-05T00:00:00",
          "precipitation": 0.0,
          "temp_max": 13.3,
          "temp_min": 5.0,
          "weather": "sun",
          "wind": 2.3
         },
         {
          "date": "2012-05-06T00:00:00",
          "precipitation": 0.0,
          "temp_max": 17.8,
          "temp_min": 5.0,
          "weather": "sun",
          "wind": 2.4
         },
         {
          "date": "2012-05-07T00:00:00",
          "precipitation": 0.0,
          "temp_max": 23.9,
          "temp_min": 6.1,
          "weather": "sun",
          "wind": 2.2
         },
         {
          "date": "2012-05-08T00:00:00",
          "precipitation": 0.0,
          "temp_max": 18.3,
          "temp_min": 9.4,
          "weather": "sun",
          "wind": 3.0
         },
         {
          "date": "2012-05-09T00:00:00",
          "precipitation": 0.0,
          "temp_max": 13.3,
          "temp_min": 6.7,
          "weather": "rain",
          "wind": 3.9
         },
         {
          "date": "2012-05-10T00:00:00",
          "precipitation": 0.0,
          "temp_max": 14.4,
          "temp_min": 3.9,
          "weather": "sun",
          "wind": 3.0
         },
         {
          "date": "2012-05-11T00:00:00",
          "precipitation": 0.0,
          "temp_max": 18.3,
          "temp_min": 4.4,
          "weather": "sun",
          "wind": 4.3
         },
         {
          "date": "2012-05-12T00:00:00",
          "precipitation": 0.0,
          "temp_max": 24.4,
          "temp_min": 6.7,
          "weather": "sun",
          "wind": 3.4
         },
         {
          "date": "2012-05-13T00:00:00",
          "precipitation": 0.0,
          "temp_max": 25.6,
          "temp_min": 9.4,
          "weather": "sun",
          "wind": 4.2
         },
         {
          "date": "2012-05-14T00:00:00",
          "precipitation": 0.0,
          "temp_max": 26.7,
          "temp_min": 12.8,
          "weather": "sun",
          "wind": 3.8
         },
         {
          "date": "2012-05-15T00:00:00",
          "precipitation": 0.0,
          "temp_max": 24.4,
          "temp_min": 9.4,
          "weather": "drizzle",
          "wind": 4.1
         },
         {
          "date": "2012-05-16T00:00:00",
          "precipitation": 0.0,
          "temp_max": 19.4,
          "temp_min": 9.4,
          "weather": "sun",
          "wind": 3.5
         },
         {
          "date": "2012-05-17T00:00:00",
          "precipitation": 0.0,
          "temp_max": 17.8,
          "temp_min": 6.7,
          "weather": "rain",
          "wind": 2.9
         },
         {
          "date": "2012-05-18T00:00:00",
          "precipitation": 0.0,
          "temp_max": 15.6,
          "temp_min": 7.8,
          "weather": "rain",
          "wind": 3.1
         },
         {
          "date": "2012-05-19T00:00:00",
          "precipitation": 0.0,
          "temp_max": 19.4,
          "temp_min": 7.2,
          "weather": "sun",
          "wind": 1.5
         },
         {
          "date": "2012-05-20T00:00:00",
          "precipitation": 6.4,
          "temp_max": 14.4,
          "temp_min": 11.7,
          "weather": "rain",
          "wind": 1.3
         },
         {
          "date": "2012-05-21T00:00:00",
          "precipitation": 14.0,
          "temp_max": 16.7,
          "temp_min": 10.0,
          "weather": "rain",
          "wind": 4.0
         },
         {
          "date": "2012-05-22T00:00:00",
          "precipitation": 6.1,
          "temp_max": 12.8,
          "temp_min": 8.9,
          "weather": "rain",
          "wind": 4.8
         },
         {
          "date": "2012-05-23T00:00:00",
          "precipitation": 0.3,
          "temp_max": 14.4,
          "temp_min": 8.9,
          "weather": "rain",
          "wind": 6.3
         },
         {
          "date": "2012-05-24T00:00:00",
          "precipitation": 0.0,
          "temp_max": 17.2,
          "temp_min": 8.9,
          "weather": "rain",
          "wind": 3.3
         },
         {
          "date": "2012-05-25T00:00:00",
          "precipitation": 0.0,
          "temp_max": 22.2,
          "temp_min": 8.9,
          "weather": "rain",
          "wind": 3.1
         },
         {
          "date": "2012-05-26T00:00:00",
          "precipitation": 0.0,
          "temp_max": 22.2,
          "temp_min": 8.9,
          "weather": "sun",
          "wind": 3.6
         },
         {
          "date": "2012-05-27T00:00:00",
          "precipitation": 0.0,
          "temp_max": 17.2,
          "temp_min": 11.7,
          "weather": "sun",
          "wind": 3.7
         },
         {
          "date": "2012-05-28T00:00:00",
          "precipitation": 0.0,
          "temp_max": 16.7,
          "temp_min": 10.0,
          "weather": "rain",
          "wind": 3.4
         },
         {
          "date": "2012-05-29T00:00:00",
          "precipitation": 0.0,
          "temp_max": 16.1,
          "temp_min": 7.8,
          "weather": "sun",
          "wind": 1.8
         },
         {
          "date": "2012-05-30T00:00:00",
          "precipitation": 0.3,
          "temp_max": 18.9,
          "temp_min": 11.1,
          "weather": "rain",
          "wind": 1.5
         },
         {
          "date": "2012-05-31T00:00:00",
          "precipitation": 3.8,
          "temp_max": 17.8,
          "temp_min": 12.2,
          "weather": "rain",
          "wind": 2.7
         },
         {
          "date": "2012-06-01T00:00:00",
          "precipitation": 6.6,
          "temp_max": 20.0,
          "temp_min": 12.8,
          "weather": "rain",
          "wind": 3.7
         },
         {
          "date": "2012-06-02T00:00:00",
          "precipitation": 0.3,
          "temp_max": 18.9,
          "temp_min": 10.6,
          "weather": "rain",
          "wind": 3.7
         },
         {
          "date": "2012-06-03T00:00:00",
          "precipitation": 0.0,
          "temp_max": 17.2,
          "temp_min": 9.4,
          "weather": "sun",
          "wind": 2.9
         },
         {
          "date": "2012-06-04T00:00:00",
          "precipitation": 1.3,
          "temp_max": 12.8,
          "temp_min": 8.9,
          "weather": "rain",
          "wind": 3.1
         },
         {
          "date": "2012-06-05T00:00:00",
          "precipitation": 16.0,
          "temp_max": 13.3,
          "temp_min": 8.3,
          "weather": "rain",
          "wind": 3.3
         },
         {
          "date": "2012-06-06T00:00:00",
          "precipitation": 0.0,
          "temp_max": 16.1,
          "temp_min": 6.1,
          "weather": "sun",
          "wind": 3.4
         },
         {
          "date": "2012-06-07T00:00:00",
          "precipitation": 16.5,
          "temp_max": 16.1,
          "temp_min": 8.9,
          "weather": "rain",
          "wind": 3.5
         },
         {
          "date": "2012-06-08T00:00:00",
          "precipitation": 1.5,
          "temp_max": 15.0,
          "temp_min": 8.3,
          "weather": "rain",
          "wind": 3.0
         },
         {
          "date": "2012-06-09T00:00:00",
          "precipitation": 0.0,
          "temp_max": 17.2,
          "temp_min": 8.3,
          "weather": "rain",
          "wind": 4.7
         },
         {
          "date": "2012-06-10T00:00:00",
          "precipitation": 0.0,
          "temp_max": 18.9,
          "temp_min": 10.0,
          "weather": "sun",
          "wind": 2.9
         },
         {
          "date": "2012-06-11T00:00:00",
          "precipitation": 0.0,
          "temp_max": 23.3,
          "temp_min": 10.0,
          "weather": "rain",
          "wind": 1.8
         },
         {
          "date": "2012-06-12T00:00:00",
          "precipitation": 0.8,
          "temp_max": 18.3,
          "temp_min": 12.8,
          "weather": "rain",
          "wind": 3.9
         },
         {
          "date": "2012-06-13T00:00:00",
          "precipitation": 0.0,
          "temp_max": 16.1,
          "temp_min": 11.1,
          "weather": "sun",
          "wind": 4.3
         },
         {
          "date": "2012-06-14T00:00:00",
          "precipitation": 0.0,
          "temp_max": 17.2,
          "temp_min": 10.0,
          "weather": "sun",
          "wind": 2.7
         },
         {
          "date": "2012-06-15T00:00:00",
          "precipitation": 0.0,
          "temp_max": 22.2,
          "temp_min": 9.4,
          "weather": "sun",
          "wind": 1.7
         },
         {
          "date": "2012-06-16T00:00:00",
          "precipitation": 0.0,
          "temp_max": 21.1,
          "temp_min": 15.0,
          "weather": "rain",
          "wind": 4.1
         },
         {
          "date": "2012-06-17T00:00:00",
          "precipitation": 0.0,
          "temp_max": 18.9,
          "temp_min": 11.7,
          "weather": "sun",
          "wind": 6.4
         },
         {
          "date": "2012-06-18T00:00:00",
          "precipitation": 3.0,
          "temp_max": 17.2,
          "temp_min": 10.0,
          "weather": "rain",
          "wind": 3.8
         },
         {
          "date": "2012-06-19T00:00:00",
          "precipitation": 1.0,
          "temp_max": 19.4,
          "temp_min": 10.0,
          "weather": "rain",
          "wind": 3.0
         },
         {
          "date": "2012-06-20T00:00:00",
          "precipitation": 0.0,
          "temp_max": 24.4,
          "temp_min": 10.0,
          "weather": "sun",
          "wind": 3.0
         },
         {
          "date": "2012-06-21T00:00:00",
          "precipitation": 0.0,
          "temp_max": 23.9,
          "temp_min": 11.7,
          "weather": "sun",
          "wind": 2.1
         },
         {
          "date": "2012-06-22T00:00:00",
          "precipitation": 15.7,
          "temp_max": 13.9,
          "temp_min": 11.7,
          "weather": "rain",
          "wind": 1.9
         },
         {
          "date": "2012-06-23T00:00:00",
          "precipitation": 8.6,
          "temp_max": 15.6,
          "temp_min": 9.4,
          "weather": "rain",
          "wind": 2.5
         },
         {
          "date": "2012-06-24T00:00:00",
          "precipitation": 0.0,
          "temp_max": 19.4,
          "temp_min": 9.4,
          "weather": "drizzle",
          "wind": 2.0
         },
         {
          "date": "2012-06-25T00:00:00",
          "precipitation": 0.5,
          "temp_max": 19.4,
          "temp_min": 11.1,
          "weather": "rain",
          "wind": 3.1
         },
         {
          "date": "2012-06-26T00:00:00",
          "precipitation": 0.0,
          "temp_max": 18.3,
          "temp_min": 10.6,
          "weather": "rain",
          "wind": 3.4
         },
         {
          "date": "2012-06-27T00:00:00",
          "precipitation": 0.0,
          "temp_max": 22.8,
          "temp_min": 8.9,
          "weather": "sun",
          "wind": 1.8
         },
         {
          "date": "2012-06-28T00:00:00",
          "precipitation": 0.0,
          "temp_max": 22.2,
          "temp_min": 11.7,
          "weather": "rain",
          "wind": 2.5
         },
         {
          "date": "2012-06-29T00:00:00",
          "precipitation": 0.3,
          "temp_max": 21.7,
          "temp_min": 15.0,
          "weather": "rain",
          "wind": 1.9
         },
         {
          "date": "2012-06-30T00:00:00",
          "precipitation": 3.0,
          "temp_max": 20.0,
          "temp_min": 13.3,
          "weather": "rain",
          "wind": 2.4
         },
         {
          "date": "2012-07-01T00:00:00",
          "precipitation": 0.0,
          "temp_max": 20.0,
          "temp_min": 12.2,
          "weather": "rain",
          "wind": 2.3
         },
         {
          "date": "2012-07-02T00:00:00",
          "precipitation": 2.0,
          "temp_max": 18.9,
          "temp_min": 11.7,
          "weather": "rain",
          "wind": 2.1
         },
         {
          "date": "2012-07-03T00:00:00",
          "precipitation": 5.8,
          "temp_max": 18.3,
          "temp_min": 10.6,
          "weather": "rain",
          "wind": 6.0
         },
         {
          "date": "2012-07-04T00:00:00",
          "precipitation": 0.0,
          "temp_max": 20.6,
          "temp_min": 9.4,
          "weather": "sun",
          "wind": 3.8
         },
         {
          "date": "2012-07-05T00:00:00",
          "precipitation": 0.0,
          "temp_max": 24.4,
          "temp_min": 10.6,
          "weather": "drizzle",
          "wind": 3.1
         },
         {
          "date": "2012-07-06T00:00:00",
          "precipitation": 0.0,
          "temp_max": 25.0,
          "temp_min": 11.1,
          "weather": "sun",
          "wind": 2.1
         },
         {
          "date": "2012-07-07T00:00:00",
          "precipitation": 0.0,
          "temp_max": 26.7,
          "temp_min": 12.8,
          "weather": "sun",
          "wind": 3.8
         },
         {
          "date": "2012-07-08T00:00:00",
          "precipitation": 0.0,
          "temp_max": 28.3,
          "temp_min": 14.4,
          "weather": "rain",
          "wind": 2.8
         },
         {
          "date": "2012-07-09T00:00:00",
          "precipitation": 1.5,
          "temp_max": 25.0,
          "temp_min": 12.8,
          "weather": "rain",
          "wind": 2.0
         },
         {
          "date": "2012-07-10T00:00:00",
          "precipitation": 0.0,
          "temp_max": 23.9,
          "temp_min": 11.1,
          "weather": "drizzle",
          "wind": 2.3
         },
         {
          "date": "2012-07-11T00:00:00",
          "precipitation": 0.0,
          "temp_max": 27.8,
          "temp_min": 13.3,
          "weather": "fog",
          "wind": 2.9
         },
         {
          "date": "2012-07-12T00:00:00",
          "precipitation": 0.0,
          "temp_max": 25.6,
          "temp_min": 13.3,
          "weather": "drizzle",
          "wind": 2.7
         },
         {
          "date": "2012-07-13T00:00:00",
          "precipitation": 0.5,
          "temp_max": 23.3,
          "temp_min": 13.9,
          "weather": "rain",
          "wind": 2.2
         },
         {
          "date": "2012-07-14T00:00:00",
          "precipitation": 0.0,
          "temp_max": 25.0,
          "temp_min": 15.0,
          "weather": "rain",
          "wind": 2.2
         },
         {
          "date": "2012-07-15T00:00:00",
          "precipitation": 0.0,
          "temp_max": 18.9,
          "temp_min": 13.3,
          "weather": "rain",
          "wind": 3.8
         },
         {
          "date": "2012-07-16T00:00:00",
          "precipitation": 0.3,
          "temp_max": 26.1,
          "temp_min": 13.3,
          "weather": "rain",
          "wind": 2.5
         },
         {
          "date": "2012-07-17T00:00:00",
          "precipitation": 0.0,
          "temp_max": 21.7,
          "temp_min": 15.0,
          "weather": "sun",
          "wind": 2.6
         },
         {
          "date": "2012-07-18T00:00:00",
          "precipitation": 0.0,
          "temp_max": 21.1,
          "temp_min": 14.4,
          "weather": "sun",
          "wind": 2.9
         },
         {
          "date": "2012-07-19T00:00:00",
          "precipitation": 0.0,
          "temp_max": 25.0,
          "temp_min": 14.4,
          "weather": "sun",
          "wind": 2.2
         },
         {
          "date": "2012-07-20T00:00:00",
          "precipitation": 15.2,
          "temp_max": 19.4,
          "temp_min": 13.9,
          "weather": "rain",
          "wind": 4.0
         },
         {
          "date": "2012-07-21T00:00:00",
          "precipitation": 0.0,
          "temp_max": 23.9,
          "temp_min": 13.9,
          "weather": "sun",
          "wind": 2.3
         },
         {
          "date": "2012-07-22T00:00:00",
          "precipitation": 1.0,
          "temp_max": 20.6,
          "temp_min": 12.2,
          "weather": "rain",
          "wind": 3.9
         },
         {
          "date": "2012-07-23T00:00:00",
          "precipitation": 0.0,
          "temp_max": 18.9,
          "temp_min": 11.1,
          "weather": "rain",
          "wind": 3.3
         },
         {
          "date": "2012-07-24T00:00:00",
          "precipitation": 0.0,
          "temp_max": 23.3,
          "temp_min": 12.2,
          "weather": "sun",
          "wind": 4.3
         },
         {
          "date": "2012-07-25T00:00:00",
          "precipitation": 0.0,
          "temp_max": 26.7,
          "temp_min": 12.8,
          "weather": "sun",
          "wind": 2.6
         },
         {
          "date": "2012-07-26T00:00:00",
          "precipitation": 0.0,
          "temp_max": 25.6,
          "temp_min": 12.8,
          "weather": "drizzle",
          "wind": 2.2
         },
         {
          "date": "2012-07-27T00:00:00",
          "precipitation": 0.0,
          "temp_max": 18.9,
          "temp_min": 13.9,
          "weather": "drizzle",
          "wind": 2.8
         },
         {
          "date": "2012-07-28T00:00:00",
          "precipitation": 0.0,
          "temp_max": 22.2,
          "temp_min": 13.3,
          "weather": "drizzle",
          "wind": 1.7
         },
         {
          "date": "2012-07-29T00:00:00",
          "precipitation": 0.0,
          "temp_max": 22.8,
          "temp_min": 15.0,
          "weather": "sun",
          "wind": 2.0
         },
         {
          "date": "2012-07-30T00:00:00",
          "precipitation": 0.0,
          "temp_max": 19.4,
          "temp_min": 13.3,
          "weather": "sun",
          "wind": 3.0
         },
         {
          "date": "2012-07-31T00:00:00",
          "precipitation": 0.0,
          "temp_max": 22.8,
          "temp_min": 13.9,
          "weather": "sun",
          "wind": 2.8
         },
         {
          "date": "2012-08-01T00:00:00",
          "precipitation": 0.0,
          "temp_max": 23.9,
          "temp_min": 13.3,
          "weather": "drizzle",
          "wind": 2.2
         },
         {
          "date": "2012-08-02T00:00:00",
          "precipitation": 0.0,
          "temp_max": 23.3,
          "temp_min": 12.2,
          "weather": "sun",
          "wind": 2.5
         },
         {
          "date": "2012-08-03T00:00:00",
          "precipitation": 0.0,
          "temp_max": 27.2,
          "temp_min": 12.8,
          "weather": "sun",
          "wind": 3.9
         },
         {
          "date": "2012-08-04T00:00:00",
          "precipitation": 0.0,
          "temp_max": 33.9,
          "temp_min": 16.7,
          "weather": "sun",
          "wind": 3.7
         },
         {
          "date": "2012-08-05T00:00:00",
          "precipitation": 0.0,
          "temp_max": 33.9,
          "temp_min": 17.8,
          "weather": "sun",
          "wind": 1.9
         },
         {
          "date": "2012-08-06T00:00:00",
          "precipitation": 0.0,
          "temp_max": 28.3,
          "temp_min": 15.6,
          "weather": "rain",
          "wind": 2.5
         },
         {
          "date": "2012-08-07T00:00:00",
          "precipitation": 0.0,
          "temp_max": 21.1,
          "temp_min": 15.0,
          "weather": "drizzle",
          "wind": 2.6
         },
         {
          "date": "2012-08-08T00:00:00",
          "precipitation": 0.0,
          "temp_max": 22.2,
          "temp_min": 15.0,
          "weather": "sun",
          "wind": 3.1
         },
         {
          "date": "2012-08-09T00:00:00",
          "precipitation": 0.0,
          "temp_max": 24.4,
          "temp_min": 14.4,
          "weather": "drizzle",
          "wind": 3.8
         },
         {
          "date": "2012-08-10T00:00:00",
          "precipitation": 0.0,
          "temp_max": 25.6,
          "temp_min": 12.2,
          "weather": "sun",
          "wind": 2.3
         },
         {
          "date": "2012-08-11T00:00:00",
          "precipitation": 0.0,
          "temp_max": 28.3,
          "temp_min": 13.3,
          "weather": "sun",
          "wind": 2.5
         },
         {
          "date": "2012-08-12T00:00:00",
          "precipitation": 0.0,
          "temp_max": 30.6,
          "temp_min": 15.0,
          "weather": "sun",
          "wind": 3.0
         },
         {
          "date": "2012-08-13T00:00:00",
          "precipitation": 0.0,
          "temp_max": 30.6,
          "temp_min": 15.0,
          "weather": "sun",
          "wind": 2.8
         },
         {
          "date": "2012-08-14T00:00:00",
          "precipitation": 0.0,
          "temp_max": 28.9,
          "temp_min": 13.9,
          "weather": "sun",
          "wind": 2.8
         },
         {
          "date": "2012-08-15T00:00:00",
          "precipitation": 0.0,
          "temp_max": 31.1,
          "temp_min": 16.7,
          "weather": "sun",
          "wind": 4.7
         },
         {
          "date": "2012-08-16T00:00:00",
          "precipitation": 0.0,
          "temp_max": 34.4,
          "temp_min": 18.3,
          "weather": "sun",
          "wind": 2.8
         },
         {
          "date": "2012-08-17T00:00:00",
          "precipitation": 0.0,
          "temp_max": 32.8,
          "temp_min": 16.1,
          "weather": "sun",
          "wind": 1.8
         },
         {
          "date": "2012-08-18T00:00:00",
          "precipitation": 0.0,
          "temp_max": 21.7,
          "temp_min": 14.4,
          "weather": "drizzle",
          "wind": 3.0
         },
         {
          "date": "2012-08-19T00:00:00",
          "precipitation": 0.0,
          "temp_max": 23.3,
          "temp_min": 15.0,
          "weather": "drizzle",
          "wind": 2.7
         },
         {
          "date": "2012-08-20T00:00:00",
          "precipitation": 0.0,
          "temp_max": 25.6,
          "temp_min": 15.0,
          "weather": "sun",
          "wind": 1.9
         },
         {
          "date": "2012-08-21T00:00:00",
          "precipitation": 0.0,
          "temp_max": 23.3,
          "temp_min": 13.3,
          "weather": "rain",
          "wind": 3.0
         },
         {
          "date": "2012-08-22T00:00:00",
          "precipitation": 0.0,
          "temp_max": 22.2,
          "temp_min": 13.3,
          "weather": "sun",
          "wind": 2.3
         },
         {
          "date": "2012-08-23T00:00:00",
          "precipitation": 0.0,
          "temp_max": 21.1,
          "temp_min": 13.9,
          "weather": "sun",
          "wind": 3.8
         },
         {
          "date": "2012-08-24T00:00:00",
          "precipitation": 0.0,
          "temp_max": 22.2,
          "temp_min": 10.0,
          "weather": "sun",
          "wind": 3.3
         },
         {
          "date": "2012-08-25T00:00:00",
          "precipitation": 0.0,
          "temp_max": 26.1,
          "temp_min": 11.7,
          "weather": "sun",
          "wind": 3.2
         },
         {
          "date": "2012-08-26T00:00:00",
          "precipitation": 0.0,
          "temp_max": 21.1,
          "temp_min": 12.2,
          "weather": "sun",
          "wind": 3.4
         },
         {
          "date": "2012-08-27T00:00:00",
          "precipitation": 0.0,
          "temp_max": 23.9,
          "temp_min": 13.3,
          "weather": "sun",
          "wind": 1.8
         },
         {
          "date": "2012-08-28T00:00:00",
          "precipitation": 0.0,
          "temp_max": 22.8,
          "temp_min": 12.2,
          "weather": "sun",
          "wind": 3.2
         },
         {
          "date": "2012-08-29T00:00:00",
          "precipitation": 0.0,
          "temp_max": 22.8,
          "temp_min": 13.3,
          "weather": "sun",
          "wind": 2.4
         },
         {
          "date": "2012-08-30T00:00:00",
          "precipitation": 0.0,
          "temp_max": 22.8,
          "temp_min": 12.8,
          "weather": "sun",
          "wind": 1.9
         },
         {
          "date": "2012-08-31T00:00:00",
          "precipitation": 0.0,
          "temp_max": 22.2,
          "temp_min": 10.6,
          "weather": "sun",
          "wind": 2.9
         },
         {
          "date": "2012-09-01T00:00:00",
          "precipitation": 0.0,
          "temp_max": 21.7,
          "temp_min": 10.6,
          "weather": "sun",
          "wind": 2.1
         },
         {
          "date": "2012-09-02T00:00:00",
          "precipitation": 0.0,
          "temp_max": 21.1,
          "temp_min": 10.0,
          "weather": "sun",
          "wind": 2.0
         },
         {
          "date": "2012-09-03T00:00:00",
          "precipitation": 0.0,
          "temp_max": 22.8,
          "temp_min": 12.8,
          "weather": "sun",
          "wind": 3.3
         },
         {
          "date": "2012-09-04T00:00:00",
          "precipitation": 0.0,
          "temp_max": 24.4,
          "temp_min": 11.1,
          "weather": "sun",
          "wind": 3.1
         },
         {
          "date": "2012-09-05T00:00:00",
          "precipitation": 0.0,
          "temp_max": 26.1,
          "temp_min": 11.7,
          "weather": "sun",
          "wind": 2.6
         },
         {
          "date": "2012-09-06T00:00:00",
          "precipitation": 0.0,
          "temp_max": 28.3,
          "temp_min": 14.4,
          "weather": "sun",
          "wind": 4.2
         },
         {
          "date": "2012-09-07T00:00:00",
          "precipitation": 0.0,
          "temp_max": 32.2,
          "temp_min": 13.3,
          "weather": "sun",
          "wind": 3.1
         },
         {
          "date": "2012-09-08T00:00:00",
          "precipitation": 0.0,
          "temp_max": 25.0,
          "temp_min": 13.3,
          "weather": "sun",
          "wind": 3.0
         },
         {
          "date": "2012-09-09T00:00:00",
          "precipitation": 0.3,
          "temp_max": 18.9,
          "temp_min": 13.9,
          "weather": "rain",
          "wind": 5.0
         },
         {
          "date": "2012-09-10T00:00:00",
          "precipitation": 0.3,
          "temp_max": 20.0,
          "temp_min": 11.7,
          "weather": "rain",
          "wind": 3.9
         },
         {
          "date": "2012-09-11T00:00:00",
          "precipitation": 0.0,
          "temp_max": 20.0,
          "temp_min": 8.9,
          "weather": "sun",
          "wind": 4.2
         },
         {
          "date": "2012-09-12T00:00:00",
          "precipitation": 0.0,
          "temp_max": 22.2,
          "temp_min": 10.0,
          "weather": "sun",
          "wind": 5.6
         },
         {
          "date": "2012-09-13T00:00:00",
          "precipitation": 0.0,
          "temp_max": 27.8,
          "temp_min": 11.7,
          "weather": "sun",
          "wind": 3.6
         },
         {
          "date": "2012-09-14T00:00:00",
          "precipitation": 0.0,
          "temp_max": 26.1,
          "temp_min": 11.1,
          "weather": "sun",
          "wind": 1.5
         },
         {
          "date": "2012-09-15T00:00:00",
          "precipitation": 0.0,
          "temp_max": 22.2,
          "temp_min": 11.1,
          "weather": "sun",
          "wind": 1.9
         },
         {
          "date": "2012-09-16T00:00:00",
          "precipitation": 0.0,
          "temp_max": 24.4,
          "temp_min": 9.4,
          "weather": "sun",
          "wind": 2.3
         },
         {
          "date": "2012-09-17T00:00:00",
          "precipitation": 0.0,
          "temp_max": 27.8,
          "temp_min": 11.7,
          "weather": "fog",
          "wind": 2.2
         },
         {
          "date": "2012-09-18T00:00:00",
          "precipitation": 0.0,
          "temp_max": 27.8,
          "temp_min": 11.7,
          "weather": "sun",
          "wind": 1.4
         },
         {
          "date": "2012-09-19T00:00:00",
          "precipitation": 0.0,
          "temp_max": 23.9,
          "temp_min": 11.7,
          "weather": "drizzle",
          "wind": 1.9
         },
         {
          "date": "2012-09-20T00:00:00",
          "precipitation": 0.0,
          "temp_max": 19.4,
          "temp_min": 10.0,
          "weather": "drizzle",
          "wind": 2.5
         },
         {
          "date": "2012-09-21T00:00:00",
          "precipitation": 0.0,
          "temp_max": 16.1,
          "temp_min": 12.8,
          "weather": "drizzle",
          "wind": 2.1
         },
         {
          "date": "2012-09-22T00:00:00",
          "precipitation": 0.3,
          "temp_max": 19.4,
          "temp_min": 11.7,
          "weather": "rain",
          "wind": 1.1
         },
         {
          "date": "2012-09-23T00:00:00",
          "precipitation": 0.0,
          "temp_max": 19.4,
          "temp_min": 10.0,
          "weather": "fog",
          "wind": 1.4
         },
         {
          "date": "2012-09-24T00:00:00",
          "precipitation": 0.0,
          "temp_max": 21.1,
          "temp_min": 10.0,
          "weather": "fog",
          "wind": 1.8
         },
         {
          "date": "2012-09-25T00:00:00",
          "precipitation": 0.0,
          "temp_max": 19.4,
          "temp_min": 11.1,
          "weather": "sun",
          "wind": 1.7
         },
         {
          "date": "2012-09-26T00:00:00",
          "precipitation": 0.0,
          "temp_max": 19.4,
          "temp_min": 9.4,
          "weather": "drizzle",
          "wind": 1.7
         },
         {
          "date": "2012-09-27T00:00:00",
          "precipitation": 0.0,
          "temp_max": 22.8,
          "temp_min": 10.0,
          "weather": "drizzle",
          "wind": 1.7
         },
         {
          "date": "2012-09-28T00:00:00",
          "precipitation": 0.0,
          "temp_max": 25.0,
          "temp_min": 12.2,
          "weather": "rain",
          "wind": 1.1
         },
         {
          "date": "2012-09-29T00:00:00",
          "precipitation": 0.0,
          "temp_max": 20.6,
          "temp_min": 12.2,
          "weather": "sun",
          "wind": 4.3
         },
         {
          "date": "2012-09-30T00:00:00",
          "precipitation": 0.0,
          "temp_max": 21.1,
          "temp_min": 7.8,
          "weather": "sun",
          "wind": 3.1
         },
         {
          "date": "2012-10-01T00:00:00",
          "precipitation": 0.0,
          "temp_max": 23.3,
          "temp_min": 8.9,
          "weather": "sun",
          "wind": 3.0
         },
         {
          "date": "2012-10-02T00:00:00",
          "precipitation": 0.0,
          "temp_max": 17.8,
          "temp_min": 10.0,
          "weather": "sun",
          "wind": 4.1
         },
         {
          "date": "2012-10-03T00:00:00",
          "precipitation": 0.0,
          "temp_max": 18.9,
          "temp_min": 7.8,
          "weather": "sun",
          "wind": 7.3
         },
         {
          "date": "2012-10-04T00:00:00",
          "precipitation": 0.0,
          "temp_max": 18.9,
          "temp_min": 8.3,
          "weather": "sun",
          "wind": 6.5
         },
         {
          "date": "2012-10-05T00:00:00",
          "precipitation": 0.0,
          "temp_max": 21.7,
          "temp_min": 8.9,
          "weather": "sun",
          "wind": 5.7
         },
         {
          "date": "2012-10-06T00:00:00",
          "precipitation": 0.0,
          "temp_max": 23.9,
          "temp_min": 7.8,
          "weather": "sun",
          "wind": 5.1
         },
         {
          "date": "2012-10-07T00:00:00",
          "precipitation": 0.0,
          "temp_max": 23.9,
          "temp_min": 7.8,
          "weather": "sun",
          "wind": 1.3
         },
         {
          "date": "2012-10-08T00:00:00",
          "precipitation": 0.0,
          "temp_max": 21.1,
          "temp_min": 7.8,
          "weather": "sun",
          "wind": 1.9
         },
         {
          "date": "2012-10-09T00:00:00",
          "precipitation": 0.0,
          "temp_max": 16.1,
          "temp_min": 8.9,
          "weather": "drizzle",
          "wind": 1.6
         },
         {
          "date": "2012-10-10T00:00:00",
          "precipitation": 0.0,
          "temp_max": 12.2,
          "temp_min": 8.3,
          "weather": "drizzle",
          "wind": 1.4
         },
         {
          "date": "2012-10-11T00:00:00",
          "precipitation": 0.0,
          "temp_max": 13.9,
          "temp_min": 7.2,
          "weather": "drizzle",
          "wind": 1.3
         },
         {
          "date": "2012-10-12T00:00:00",
          "precipitation": 2.0,
          "temp_max": 13.9,
          "temp_min": 8.9,
          "weather": "rain",
          "wind": 4.6
         },
         {
          "date": "2012-10-13T00:00:00",
          "precipitation": 4.8,
          "temp_max": 15.6,
          "temp_min": 12.2,
          "weather": "rain",
          "wind": 3.9
         },
         {
          "date": "2012-10-14T00:00:00",
          "precipitation": 16.5,
          "temp_max": 17.8,
          "temp_min": 13.3,
          "weather": "rain",
          "wind": 3.4
         },
         {
          "date": "2012-10-15T00:00:00",
          "precipitation": 7.9,
          "temp_max": 17.2,
          "temp_min": 11.1,
          "weather": "rain",
          "wind": 4.6
         },
         {
          "date": "2012-10-16T00:00:00",
          "precipitation": 0.0,
          "temp_max": 16.1,
          "temp_min": 8.3,
          "weather": "sun",
          "wind": 5.5
         },
         {
          "date": "2012-10-17T00:00:00",
          "precipitation": 0.0,
          "temp_max": 14.4,
          "temp_min": 6.1,
          "weather": "sun",
          "wind": 1.6
         },
         {
          "date": "2012-10-18T00:00:00",
          "precipitation": 20.8,
          "temp_max": 17.8,
          "temp_min": 6.7,
          "weather": "rain",
          "wind": 2.0
         },
         {
          "date": "2012-10-19T00:00:00",
          "precipitation": 4.8,
          "temp_max": 15.0,
          "temp_min": 9.4,
          "weather": "rain",
          "wind": 5.3
         },
         {
          "date": "2012-10-20T00:00:00",
          "precipitation": 0.5,
          "temp_max": 11.1,
          "temp_min": 6.1,
          "weather": "rain",
          "wind": 5.7
         },
         {
          "date": "2012-10-21T00:00:00",
          "precipitation": 6.4,
          "temp_max": 11.7,
          "temp_min": 4.4,
          "weather": "rain",
          "wind": 2.7
         },
         {
          "date": "2012-10-22T00:00:00",
          "precipitation": 8.9,
          "temp_max": 7.8,
          "temp_min": 3.3,
          "weather": "rain",
          "wind": 2.6
         },
         {
          "date": "2012-10-23T00:00:00",
          "precipitation": 0.0,
          "temp_max": 11.1,
          "temp_min": 5.6,
          "weather": "rain",
          "wind": 3.0
         },
         {
          "date": "2012-10-24T00:00:00",
          "precipitation": 7.1,
          "temp_max": 11.7,
          "temp_min": 6.1,
          "weather": "rain",
          "wind": 2.1
         },
         {
          "date": "2012-10-25T00:00:00",
          "precipitation": 0.0,
          "temp_max": 11.7,
          "temp_min": 6.7,
          "weather": "sun",
          "wind": 1.5
         },
         {
          "date": "2012-10-26T00:00:00",
          "precipitation": 1.5,
          "temp_max": 11.1,
          "temp_min": 7.2,
          "weather": "rain",
          "wind": 2.5
         },
         {
          "date": "2012-10-27T00:00:00",
          "precipitation": 23.1,
          "temp_max": 14.4,
          "temp_min": 9.4,
          "weather": "rain",
          "wind": 5.1
         },
         {
          "date": "2012-10-28T00:00:00",
          "precipitation": 6.1,
          "temp_max": 14.4,
          "temp_min": 10.0,
          "weather": "rain",
          "wind": 3.8
         },
         {
          "date": "2012-10-29T00:00:00",
          "precipitation": 10.9,
          "temp_max": 15.6,
          "temp_min": 10.0,
          "weather": "rain",
          "wind": 4.9
         },
         {
          "date": "2012-10-30T00:00:00",
          "precipitation": 34.5,
          "temp_max": 15.0,
          "temp_min": 12.2,
          "weather": "rain",
          "wind": 2.8
         },
         {
          "date": "2012-10-31T00:00:00",
          "precipitation": 14.5,
          "temp_max": 15.6,
          "temp_min": 11.1,
          "weather": "rain",
          "wind": 2.7
         },
         {
          "date": "2012-11-01T00:00:00",
          "precipitation": 9.7,
          "temp_max": 15.0,
          "temp_min": 10.6,
          "weather": "rain",
          "wind": 3.0
         },
         {
          "date": "2012-11-02T00:00:00",
          "precipitation": 5.6,
          "temp_max": 15.0,
          "temp_min": 10.6,
          "weather": "rain",
          "wind": 1.0
         },
         {
          "date": "2012-11-03T00:00:00",
          "precipitation": 0.5,
          "temp_max": 15.6,
          "temp_min": 11.1,
          "weather": "rain",
          "wind": 3.6
         },
         {
          "date": "2012-11-04T00:00:00",
          "precipitation": 8.1,
          "temp_max": 17.8,
          "temp_min": 12.8,
          "weather": "rain",
          "wind": 3.8
         },
         {
          "date": "2012-11-05T00:00:00",
          "precipitation": 0.8,
          "temp_max": 15.0,
          "temp_min": 7.8,
          "weather": "rain",
          "wind": 4.0
         },
         {
          "date": "2012-11-06T00:00:00",
          "precipitation": 0.3,
          "temp_max": 12.8,
          "temp_min": 6.7,
          "weather": "rain",
          "wind": 3.5
         },
         {
          "date": "2012-11-07T00:00:00",
          "precipitation": 0.0,
          "temp_max": 12.2,
          "temp_min": 3.9,
          "weather": "rain",
          "wind": 3.4
         },
         {
          "date": "2012-11-08T00:00:00",
          "precipitation": 0.0,
          "temp_max": 10.0,
          "temp_min": 1.1,
          "weather": "rain",
          "wind": 3.4
         },
         {
          "date": "2012-11-09T00:00:00",
          "precipitation": 0.0,
          "temp_max": 8.9,
          "temp_min": 1.1,
          "weather": "rain",
          "wind": 2.0
         },
         {
          "date": "2012-11-10T00:00:00",
          "precipitation": 0.0,
          "temp_max": 7.8,
          "temp_min": -0.6,
          "weather": "sun",
          "wind": 2.2
         },
         {
          "date": "2012-11-11T00:00:00",
          "precipitation": 15.2,
          "temp_max": 8.9,
          "temp_min": 1.1,
          "weather": "rain",
          "wind": 3.0
         },
         {
          "date": "2012-11-12T00:00:00",
          "precipitation": 3.6,
          "temp_max": 12.8,
          "temp_min": 6.1,
          "weather": "rain",
          "wind": 3.0
         },
         {
          "date": "2012-11-13T00:00:00",
          "precipitation": 5.3,
          "temp_max": 11.1,
          "temp_min": 7.8,
          "weather": "rain",
          "wind": 2.5
         },
         {
          "date": "2012-11-14T00:00:00",
          "precipitation": 0.8,
          "temp_max": 11.1,
          "temp_min": 5.0,
          "weather": "rain",
          "wind": 2.6
         },
         {
          "date": "2012-11-15T00:00:00",
          "precipitation": 0.0,
          "temp_max": 9.4,
          "temp_min": 2.8,
          "weather": "drizzle",
          "wind": 2.4
         },
         {
          "date": "2012-11-16T00:00:00",
          "precipitation": 5.6,
          "temp_max": 9.4,
          "temp_min": 2.2,
          "weather": "rain",
          "wind": 1.6
         },
         {
          "date": "2012-11-17T00:00:00",
          "precipitation": 6.1,
          "temp_max": 12.2,
          "temp_min": 6.1,
          "weather": "rain",
          "wind": 5.3
         },
         {
          "date": "2012-11-18T00:00:00",
          "precipitation": 7.9,
          "temp_max": 10.0,
          "temp_min": 6.1,
          "weather": "rain",
          "wind": 4.9
         },
         {
          "date": "2012-11-19T00:00:00",
          "precipitation": 54.1,
          "temp_max": 13.3,
          "temp_min": 8.3,
          "weather": "rain",
          "wind": 6.0
         },
         {
          "date": "2012-11-20T00:00:00",
          "precipitation": 3.8,
          "temp_max": 11.1,
          "temp_min": 7.2,
          "weather": "rain",
          "wind": 4.2
         },
         {
          "date": "2012-11-21T00:00:00",
          "precipitation": 11.2,
          "temp_max": 8.3,
          "temp_min": 3.9,
          "weather": "rain",
          "wind": 5.5
         },
         {
          "date": "2012-11-22T00:00:00",
          "precipitation": 0.0,
          "temp_max": 8.9,
          "temp_min": 2.8,
          "weather": "rain",
          "wind": 1.5
         },
         {
          "date": "2012-11-23T00:00:00",
          "precipitation": 32.0,
          "temp_max": 9.4,
          "temp_min": 6.1,
          "weather": "rain",
          "wind": 2.4
         },
         {
          "date": "2012-11-24T00:00:00",
          "precipitation": 0.0,
          "temp_max": 8.9,
          "temp_min": 3.9,
          "weather": "rain",
          "wind": 1.2
         },
         {
          "date": "2012-11-25T00:00:00",
          "precipitation": 0.0,
          "temp_max": 8.3,
          "temp_min": 1.1,
          "weather": "drizzle",
          "wind": 3.6
         },
         {
          "date": "2012-11-26T00:00:00",
          "precipitation": 0.0,
          "temp_max": 9.4,
          "temp_min": 1.7,
          "weather": "fog",
          "wind": 3.8
         },
         {
          "date": "2012-11-27T00:00:00",
          "precipitation": 0.0,
          "temp_max": 10.0,
          "temp_min": 1.7,
          "weather": "sun",
          "wind": 1.5
         },
         {
          "date": "2012-11-28T00:00:00",
          "precipitation": 2.8,
          "temp_max": 9.4,
          "temp_min": 2.2,
          "weather": "rain",
          "wind": 2.9
         },
         {
          "date": "2012-11-29T00:00:00",
          "precipitation": 1.5,
          "temp_max": 12.8,
          "temp_min": 7.8,
          "weather": "rain",
          "wind": 4.2
         },
         {
          "date": "2012-11-30T00:00:00",
          "precipitation": 35.6,
          "temp_max": 15.0,
          "temp_min": 7.8,
          "weather": "rain",
          "wind": 4.6
         },
         {
          "date": "2012-12-01T00:00:00",
          "precipitation": 4.1,
          "temp_max": 13.3,
          "temp_min": 8.3,
          "weather": "rain",
          "wind": 5.5
         },
         {
          "date": "2012-12-02T00:00:00",
          "precipitation": 19.6,
          "temp_max": 8.3,
          "temp_min": 7.2,
          "weather": "rain",
          "wind": 6.2
         },
         {
          "date": "2012-12-03T00:00:00",
          "precipitation": 13.0,
          "temp_max": 9.4,
          "temp_min": 7.2,
          "weather": "rain",
          "wind": 4.4
         },
         {
          "date": "2012-12-04T00:00:00",
          "precipitation": 14.2,
          "temp_max": 11.7,
          "temp_min": 7.2,
          "weather": "rain",
          "wind": 6.2
         },
         {
          "date": "2012-12-05T00:00:00",
          "precipitation": 1.5,
          "temp_max": 8.9,
          "temp_min": 4.4,
          "weather": "rain",
          "wind": 5.0
         },
         {
          "date": "2012-12-06T00:00:00",
          "precipitation": 1.5,
          "temp_max": 7.2,
          "temp_min": 6.1,
          "weather": "rain",
          "wind": 5.1
         },
         {
          "date": "2012-12-07T00:00:00",
          "precipitation": 1.0,
          "temp_max": 7.8,
          "temp_min": 3.3,
          "weather": "rain",
          "wind": 4.6
         },
         {
          "date": "2012-12-08T00:00:00",
          "precipitation": 0.0,
          "temp_max": 6.7,
          "temp_min": 3.3,
          "weather": "sun",
          "wind": 2.0
         },
         {
          "date": "2012-12-09T00:00:00",
          "precipitation": 1.5,
          "temp_max": 6.7,
          "temp_min": 2.8,
          "weather": "rain",
          "wind": 2.1
         },
         {
          "date": "2012-12-10T00:00:00",
          "precipitation": 0.5,
          "temp_max": 7.2,
          "temp_min": 5.6,
          "weather": "rain",
          "wind": 1.8
         },
         {
          "date": "2012-12-11T00:00:00",
          "precipitation": 3.0,
          "temp_max": 7.8,
          "temp_min": 5.6,
          "weather": "rain",
          "wind": 4.5
         },
         {
          "date": "2012-12-12T00:00:00",
          "precipitation": 8.1,
          "temp_max": 6.7,
          "temp_min": 4.4,
          "weather": "rain",
          "wind": 2.0
         },
         {
          "date": "2012-12-13T00:00:00",
          "precipitation": 2.3,
          "temp_max": 7.2,
          "temp_min": 3.3,
          "weather": "rain",
          "wind": 2.8
         },
         {
          "date": "2012-12-14T00:00:00",
          "precipitation": 7.9,
          "temp_max": 6.1,
          "temp_min": 1.1,
          "weather": "rain",
          "wind": 1.7
         },
         {
          "date": "2012-12-15T00:00:00",
          "precipitation": 5.3,
          "temp_max": 4.4,
          "temp_min": 0.6,
          "weather": "snow",
          "wind": 5.1
         },
         {
          "date": "2012-12-16T00:00:00",
          "precipitation": 22.6,
          "temp_max": 6.7,
          "temp_min": 3.3,
          "weather": "snow",
          "wind": 5.5
         },
         {
          "date": "2012-12-17T00:00:00",
          "precipitation": 2.0,
          "temp_max": 8.3,
          "temp_min": 1.7,
          "weather": "rain",
          "wind": 9.5
         },
         {
          "date": "2012-12-18T00:00:00",
          "precipitation": 3.3,
          "temp_max": 3.9,
          "temp_min": 0.6,
          "weather": "snow",
          "wind": 5.3
         },
         {
          "date": "2012-12-19T00:00:00",
          "precipitation": 13.7,
          "temp_max": 8.3,
          "temp_min": 1.7,
          "weather": "snow",
          "wind": 5.8
         },
         {
          "date": "2012-12-20T00:00:00",
          "precipitation": 13.2,
          "temp_max": 7.2,
          "temp_min": 0.6,
          "weather": "rain",
          "wind": 3.7
         },
         {
          "date": "2012-12-21T00:00:00",
          "precipitation": 1.8,
          "temp_max": 8.3,
          "temp_min": -1.7,
          "weather": "rain",
          "wind": 1.7
         },
         {
          "date": "2012-12-22T00:00:00",
          "precipitation": 3.3,
          "temp_max": 8.3,
          "temp_min": 3.9,
          "weather": "rain",
          "wind": 3.5
         },
         {
          "date": "2012-12-23T00:00:00",
          "precipitation": 6.6,
          "temp_max": 7.2,
          "temp_min": 3.3,
          "weather": "rain",
          "wind": 2.5
         },
         {
          "date": "2012-12-24T00:00:00",
          "precipitation": 0.3,
          "temp_max": 5.6,
          "temp_min": 2.8,
          "weather": "rain",
          "wind": 2.8
         },
         {
          "date": "2012-12-25T00:00:00",
          "precipitation": 13.5,
          "temp_max": 5.6,
          "temp_min": 2.8,
          "weather": "snow",
          "wind": 4.2
         },
         {
          "date": "2012-12-26T00:00:00",
          "precipitation": 4.6,
          "temp_max": 6.7,
          "temp_min": 3.3,
          "weather": "rain",
          "wind": 4.9
         },
         {
          "date": "2012-12-27T00:00:00",
          "precipitation": 4.1,
          "temp_max": 7.8,
          "temp_min": 3.3,
          "weather": "rain",
          "wind": 3.2
         },
         {
          "date": "2012-12-28T00:00:00",
          "precipitation": 0.0,
          "temp_max": 8.3,
          "temp_min": 3.9,
          "weather": "rain",
          "wind": 1.7
         },
         {
          "date": "2012-12-29T00:00:00",
          "precipitation": 1.5,
          "temp_max": 5.0,
          "temp_min": 3.3,
          "weather": "rain",
          "wind": 1.7
         },
         {
          "date": "2012-12-30T00:00:00",
          "precipitation": 0.0,
          "temp_max": 4.4,
          "temp_min": 0.0,
          "weather": "drizzle",
          "wind": 1.8
         },
         {
          "date": "2012-12-31T00:00:00",
          "precipitation": 0.0,
          "temp_max": 3.3,
          "temp_min": -1.1,
          "weather": "drizzle",
          "wind": 2.0
         },
         {
          "date": "2013-01-01T00:00:00",
          "precipitation": 0.0,
          "temp_max": 5.0,
          "temp_min": -2.8,
          "weather": "sun",
          "wind": 2.7
         },
         {
          "date": "2013-01-02T00:00:00",
          "precipitation": 0.0,
          "temp_max": 6.1,
          "temp_min": -1.1,
          "weather": "sun",
          "wind": 3.2
         },
         {
          "date": "2013-01-03T00:00:00",
          "precipitation": 4.1,
          "temp_max": 6.7,
          "temp_min": -1.7,
          "weather": "rain",
          "wind": 3.0
         },
         {
          "date": "2013-01-04T00:00:00",
          "precipitation": 2.5,
          "temp_max": 10.0,
          "temp_min": 2.2,
          "weather": "rain",
          "wind": 2.8
         },
         {
          "date": "2013-01-05T00:00:00",
          "precipitation": 3.0,
          "temp_max": 6.7,
          "temp_min": 4.4,
          "weather": "rain",
          "wind": 3.1
         },
         {
          "date": "2013-01-06T00:00:00",
          "precipitation": 2.0,
          "temp_max": 7.2,
          "temp_min": 2.8,
          "weather": "rain",
          "wind": 3.0
         },
         {
          "date": "2013-01-07T00:00:00",
          "precipitation": 2.3,
          "temp_max": 10.0,
          "temp_min": 4.4,
          "weather": "rain",
          "wind": 7.3
         },
         {
          "date": "2013-01-08T00:00:00",
          "precipitation": 16.3,
          "temp_max": 11.7,
          "temp_min": 5.6,
          "weather": "rain",
          "wind": 6.3
         },
         {
          "date": "2013-01-09T00:00:00",
          "precipitation": 38.4,
          "temp_max": 10.0,
          "temp_min": 1.7,
          "weather": "rain",
          "wind": 5.1
         },
         {
          "date": "2013-01-10T00:00:00",
          "precipitation": 0.3,
          "temp_max": 3.3,
          "temp_min": -0.6,
          "weather": "snow",
          "wind": 2.1
         },
         {
          "date": "2013-01-11T00:00:00",
          "precipitation": 0.0,
          "temp_max": 2.8,
          "temp_min": -2.8,
          "weather": "drizzle",
          "wind": 1.9
         },
         {
          "date": "2013-01-12T00:00:00",
          "precipitation": 0.0,
          "temp_max": 2.8,
          "temp_min": -3.9,
          "weather": "sun",
          "wind": 2.0
         },
         {
          "date": "2013-01-13T00:00:00",
          "precipitation": 0.0,
          "temp_max": 2.2,
          "temp_min": -4.4,
          "weather": "sun",
          "wind": 1.5
         },
         {
          "date": "2013-01-14T00:00:00",
          "precipitation": 0.0,
          "temp_max": 3.3,
          "temp_min": -2.2,
          "weather": "sun",
          "wind": 1.3
         },
         {
          "date": "2013-01-15T00:00:00",
          "precipitation": 0.0,
          "temp_max": 6.7,
          "temp_min": -0.6,
          "weather": "sun",
          "wind": 2.3
         },
         {
          "date": "2013-01-16T00:00:00",
          "precipitation": 0.0,
          "temp_max": 6.1,
          "temp_min": -3.9,
          "weather": "drizzle",
          "wind": 1.8
         },
         {
          "date": "2013-01-17T00:00:00",
          "precipitation": 0.0,
          "temp_max": 3.9,
          "temp_min": -2.8,
          "weather": "drizzle",
          "wind": 1.0
         },
         {
          "date": "2013-01-18T00:00:00",
          "precipitation": 0.0,
          "temp_max": 3.3,
          "temp_min": -1.1,
          "weather": "drizzle",
          "wind": 1.3
         },
         {
          "date": "2013-01-19T00:00:00",
          "precipitation": 0.0,
          "temp_max": 1.1,
          "temp_min": -0.6,
          "weather": "drizzle",
          "wind": 1.9
         },
         {
          "date": "2013-01-20T00:00:00",
          "precipitation": 0.0,
          "temp_max": 3.3,
          "temp_min": -0.6,
          "weather": "drizzle",
          "wind": 2.1
         },
         {
          "date": "2013-01-21T00:00:00",
          "precipitation": 0.0,
          "temp_max": 2.2,
          "temp_min": -1.7,
          "weather": "drizzle",
          "wind": 1.1
         },
         {
          "date": "2013-01-22T00:00:00",
          "precipitation": 0.0,
          "temp_max": 3.3,
          "temp_min": -1.7,
          "weather": "drizzle",
          "wind": 0.6
         },
         {
          "date": "2013-01-23T00:00:00",
          "precipitation": 5.1,
          "temp_max": 7.2,
          "temp_min": 2.2,
          "weather": "rain",
          "wind": 3.1
         },
         {
          "date": "2013-01-24T00:00:00",
          "precipitation": 5.8,
          "temp_max": 7.2,
          "temp_min": 1.1,
          "weather": "rain",
          "wind": 2.6
         },
         {
          "date": "2013-01-25T00:00:00",
          "precipitation": 3.0,
          "temp_max": 10.6,
          "temp_min": 2.8,
          "weather": "rain",
          "wind": 2.1
         },
         {
          "date": "2013-01-26T00:00:00",
          "precipitation": 2.3,
          "temp_max": 8.3,
          "temp_min": 3.9,
          "weather": "rain",
          "wind": 4.5
         },
         {
          "date": "2013-01-27T00:00:00",
          "precipitation": 1.8,
          "temp_max": 5.6,
          "temp_min": 3.9,
          "weather": "rain",
          "wind": 4.5
         },
         {
          "date": "2013-01-28T00:00:00",
          "precipitation": 7.9,
          "temp_max": 6.1,
          "temp_min": 3.3,
          "weather": "rain",
          "wind": 3.2
         },
         {
          "date": "2013-01-29T00:00:00",
          "precipitation": 4.3,
          "temp_max": 8.3,
          "temp_min": 5.0,
          "weather": "rain",
          "wind": 3.9
         },
         {
          "date": "2013-01-30T00:00:00",
          "precipitation": 3.6,
          "temp_max": 8.9,
          "temp_min": 6.7,
          "weather": "rain",
          "wind": 3.9
         },
         {
          "date": "2013-01-31T00:00:00",
          "precipitation": 3.0,
          "temp_max": 9.4,
          "temp_min": 7.2,
          "weather": "rain",
          "wind": 4.0
         },
         {
          "date": "2013-02-01T00:00:00",
          "precipitation": 0.3,
          "temp_max": 11.7,
          "temp_min": 5.0,
          "weather": "rain",
          "wind": 2.9
         },
         {
          "date": "2013-02-02T00:00:00",
          "precipitation": 0.0,
          "temp_max": 6.1,
          "temp_min": 2.8,
          "weather": "drizzle",
          "wind": 2.0
         },
         {
          "date": "2013-02-03T00:00:00",
          "precipitation": 2.3,
          "temp_max": 8.9,
          "temp_min": 2.8,
          "weather": "rain",
          "wind": 2.9
         },
         {
          "date": "2013-02-04T00:00:00",
          "precipitation": 0.0,
          "temp_max": 10.6,
          "temp_min": 6.7,
          "weather": "rain",
          "wind": 2.6
         },
         {
          "date": "2013-02-05T00:00:00",
          "precipitation": 3.3,
          "temp_max": 10.0,
          "temp_min": 6.7,
          "weather": "rain",
          "wind": 5.1
         },
         {
          "date": "2013-02-06T00:00:00",
          "precipitation": 1.0,
          "temp_max": 10.6,
          "temp_min": 6.1,
          "weather": "rain",
          "wind": 4.5
         },
         {
          "date": "2013-02-07T00:00:00",
          "precipitation": 1.3,
          "temp_max": 9.4,
          "temp_min": 3.3,
          "weather": "rain",
          "wind": 4.1
         },
         {
          "date": "2013-02-08T00:00:00",
          "precipitation": 0.0,
          "temp_max": 7.8,
          "temp_min": 2.2,
          "weather": "sun",
          "wind": 1.3
         },
         {
          "date": "2013-02-09T00:00:00",
          "precipitation": 0.3,
          "temp_max": 8.3,
          "temp_min": 4.4,
          "weather": "rain",
          "wind": 1.3
         },
         {
          "date": "2013-02-10T00:00:00",
          "precipitation": 0.0,
          "temp_max": 8.9,
          "temp_min": 1.7,
          "weather": "drizzle",
          "wind": 2.0
         },
         {
          "date": "2013-02-11T00:00:00",
          "precipitation": 0.3,
          "temp_max": 8.3,
          "temp_min": 4.4,
          "weather": "rain",
          "wind": 1.4
         },
         {
          "date": "2013-02-12T00:00:00",
          "precipitation": 1.0,
          "temp_max": 11.1,
          "temp_min": 7.2,
          "weather": "rain",
          "wind": 5.6
         },
         {
          "date": "2013-02-13T00:00:00",
          "precipitation": 2.3,
          "temp_max": 9.4,
          "temp_min": 7.2,
          "weather": "rain",
          "wind": 4.1
         },
         {
          "date": "2013-02-14T00:00:00",
          "precipitation": 1.0,
          "temp_max": 9.4,
          "temp_min": 5.6,
          "weather": "rain",
          "wind": 2.2
         },
         {
          "date": "2013-02-15T00:00:00",
          "precipitation": 0.0,
          "temp_max": 13.3,
          "temp_min": 5.0,
          "weather": "drizzle",
          "wind": 2.4
         },
         {
          "date": "2013-02-16T00:00:00",
          "precipitation": 0.0,
          "temp_max": 11.1,
          "temp_min": 3.9,
          "weather": "rain",
          "wind": 5.6
         },
         {
          "date": "2013-02-17T00:00:00",
          "precipitation": 0.0,
          "temp_max": 9.4,
          "temp_min": 4.4,
          "weather": "rain",
          "wind": 3.4
         },
         {
          "date": "2013-02-18T00:00:00",
          "precipitation": 0.0,
          "temp_max": 7.8,
          "temp_min": 3.9,
          "weather": "rain",
          "wind": 1.9
         },
         {
          "date": "2013-02-19T00:00:00",
          "precipitation": 0.0,
          "temp_max": 10.6,
          "temp_min": 1.7,
          "weather": "sun",
          "wind": 3.4
         },
         {
          "date": "2013-02-20T00:00:00",
          "precipitation": 1.5,
          "temp_max": 7.8,
          "temp_min": 1.1,
          "weather": "rain",
          "wind": 2.1
         },
         {
          "date": "2013-02-21T00:00:00",
          "precipitation": 0.5,
          "temp_max": 6.7,
          "temp_min": 3.9,
          "weather": "rain",
          "wind": 6.2
         },
         {
          "date": "2013-02-22T00:00:00",
          "precipitation": 9.4,
          "temp_max": 7.8,
          "temp_min": 3.9,
          "weather": "rain",
          "wind": 8.1
         },
         {
          "date": "2013-02-23T00:00:00",
          "precipitation": 0.3,
          "temp_max": 10.0,
          "temp_min": 3.9,
          "weather": "rain",
          "wind": 4.6
         },
         {
          "date": "2013-02-24T00:00:00",
          "precipitation": 0.0,
          "temp_max": 8.9,
          "temp_min": 5.0,
          "weather": "rain",
          "wind": 5.5
         },
         {
          "date": "2013-02-25T00:00:00",
          "precipitation": 2.3,
          "temp_max": 10.6,
          "temp_min": 3.3,
          "weather": "rain",
          "wind": 7.1
         },
         {
          "date": "2013-02-26T00:00:00",
          "precipitation": 0.5,
          "temp_max": 8.9,
          "temp_min": 3.9,
          "weather": "rain",
          "wind": 3.8
         },
         {
          "date": "2013-02-27T00:00:00",
          "precipitation": 4.6,
          "temp_max": 10.0,
          "temp_min": 4.4,
          "weather": "rain",
          "wind": 1.8
         },
         {
          "date": "2013-02-28T00:00:00",
          "precipitation": 8.1,
          "temp_max": 11.7,
          "temp_min": 6.7,
          "weather": "rain",
          "wind": 3.8
         },
         {
          "date": "2013-03-01T00:00:00",
          "precipitation": 4.1,
          "temp_max": 15.0,
          "temp_min": 11.1,
          "weather": "rain",
          "wind": 5.4
         },
         {
          "date": "2013-03-02T00:00:00",
          "precipitation": 0.8,
          "temp_max": 13.9,
          "temp_min": 5.0,
          "weather": "rain",
          "wind": 4.5
         },
         {
          "date": "2013-03-03T00:00:00",
          "precipitation": 0.0,
          "temp_max": 11.1,
          "temp_min": 2.2,
          "weather": "sun",
          "wind": 2.8
         },
         {
          "date": "2013-03-04T00:00:00",
          "precipitation": 0.0,
          "temp_max": 13.3,
          "temp_min": 0.0,
          "weather": "sun",
          "wind": 3.9
         },
         {
          "date": "2013-03-05T00:00:00",
          "precipitation": 0.0,
          "temp_max": 9.4,
          "temp_min": 6.1,
          "weather": "rain",
          "wind": 2.4
         },
         {
          "date": "2013-03-06T00:00:00",
          "precipitation": 11.9,
          "temp_max": 7.2,
          "temp_min": 5.0,
          "weather": "rain",
          "wind": 4.1
         },
         {
          "date": "2013-03-07T00:00:00",
          "precipitation": 7.4,
          "temp_max": 12.2,
          "temp_min": 5.0,
          "weather": "rain",
          "wind": 2.5
         },
         {
          "date": "2013-03-08T00:00:00",
          "precipitation": 0.0,
          "temp_max": 11.7,
          "temp_min": 2.2,
          "weather": "drizzle",
          "wind": 2.6
         },
         {
          "date": "2013-03-09T00:00:00",
          "precipitation": 0.0,
          "temp_max": 12.8,
          "temp_min": 1.1,
          "weather": "fog",
          "wind": 1.3
         },
         {
          "date": "2013-03-10T00:00:00",
          "precipitation": 0.8,
          "temp_max": 7.8,
          "temp_min": 3.9,
          "weather": "rain",
          "wind": 1.6
         },
         {
          "date": "2013-03-11T00:00:00",
          "precipitation": 1.3,
          "temp_max": 10.6,
          "temp_min": 6.1,
          "weather": "rain",
          "wind": 1.1
         },
         {
          "date": "2013-03-12T00:00:00",
          "precipitation": 2.0,
          "temp_max": 12.8,
          "temp_min": 10.0,
          "weather": "rain",
          "wind": 5.7
         },
         {
          "date": "2013-03-13T00:00:00",
          "precipitation": 2.3,
          "temp_max": 11.7,
          "temp_min": 9.4,
          "weather": "rain",
          "wind": 3.7
         },
         {
          "date": "2013-03-14T00:00:00",
          "precipitation": 2.8,
          "temp_max": 11.7,
          "temp_min": 9.4,
          "weather": "rain",
          "wind": 3.0
         },
         {
          "date": "2013-03-15T00:00:00",
          "precipitation": 0.0,
          "temp_max": 14.4,
          "temp_min": 8.9,
          "weather": "rain",
          "wind": 4.3
         },
         {
          "date": "2013-03-16T00:00:00",
          "precipitation": 4.3,
          "temp_max": 10.6,
          "temp_min": 4.4,
          "weather": "rain",
          "wind": 6.4
         },
         {
          "date": "2013-03-17T00:00:00",
          "precipitation": 0.0,
          "temp_max": 8.9,
          "temp_min": 3.9,
          "weather": "sun",
          "wind": 6.1
         },
         {
          "date": "2013-03-18T00:00:00",
          "precipitation": 0.0,
          "temp_max": 11.7,
          "temp_min": 3.9,
          "weather": "rain",
          "wind": 5.9
         },
         {
          "date": "2013-03-19T00:00:00",
          "precipitation": 11.7,
          "temp_max": 12.8,
          "temp_min": 1.7,
          "weather": "rain",
          "wind": 3.4
         },
         {
          "date": "2013-03-20T00:00:00",
          "precipitation": 9.9,
          "temp_max": 11.1,
          "temp_min": 4.4,
          "weather": "rain",
          "wind": 7.6
         },
         {
          "date": "2013-03-21T00:00:00",
          "precipitation": 8.1,
          "temp_max": 10.0,
          "temp_min": 2.2,
          "weather": "snow",
          "wind": 4.9
         },
         {
          "date": "2013-03-22T00:00:00",
          "precipitation": 0.0,
          "temp_max": 9.4,
          "temp_min": 0.6,
          "weather": "sun",
          "wind": 2.2
         },
         {
          "date": "2013-03-23T00:00:00",
          "precipitation": 0.0,
          "temp_max": 10.0,
          "temp_min": 1.1,
          "weather": "sun",
          "wind": 2.6
         },
         {
          "date": "2013-03-24T00:00:00",
          "precipitation": 0.0,
          "temp_max": 12.2,
          "temp_min": 0.6,
          "weather": "sun",
          "wind": 2.1
         },
         {
          "date": "2013-03-25T00:00:00",
          "precipitation": 0.0,
          "temp_max": 16.7,
          "temp_min": 4.4,
          "weather": "sun",
          "wind": 2.8
         },
         {
          "date": "2013-03-26T00:00:00",
          "precipitation": 0.0,
          "temp_max": 16.7,
          "temp_min": 6.1,
          "weather": "sun",
          "wind": 1.7
         },
         {
          "date": "2013-03-27T00:00:00",
          "precipitation": 0.3,
          "temp_max": 13.3,
          "temp_min": 7.2,
          "weather": "rain",
          "wind": 1.6
         },
         {
          "date": "2013-03-28T00:00:00",
          "precipitation": 2.0,
          "temp_max": 16.1,
          "temp_min": 8.3,
          "weather": "rain",
          "wind": 1.3
         },
         {
          "date": "2013-03-29T00:00:00",
          "precipitation": 0.0,
          "temp_max": 18.3,
          "temp_min": 7.8,
          "weather": "rain",
          "wind": 2.5
         },
         {
          "date": "2013-03-30T00:00:00",
          "precipitation": 0.0,
          "temp_max": 20.0,
          "temp_min": 5.6,
          "weather": "drizzle",
          "wind": 4.4
         },
         {
          "date": "2013-03-31T00:00:00",
          "precipitation": 0.0,
          "temp_max": 20.6,
          "temp_min": 6.7,
          "weather": "sun",
          "wind": 2.9
         },
         {
          "date": "2013-04-01T00:00:00",
          "precipitation": 0.0,
          "temp_max": 17.2,
          "temp_min": 8.3,
          "weather": "sun",
          "wind": 3.6
         },
         {
          "date": "2013-04-02T00:00:00",
          "precipitation": 0.0,
          "temp_max": 13.9,
          "temp_min": 8.9,
          "weather": "sun",
          "wind": 2.2
         },
         {
          "date": "2013-04-03T00:00:00",
          "precipitation": 0.0,
          "temp_max": 16.7,
          "temp_min": 7.8,
          "weather": "sun",
          "wind": 1.6
         },
         {
          "date": "2013-04-04T00:00:00",
          "precipitation": 8.4,
          "temp_max": 14.4,
          "temp_min": 10.0,
          "weather": "fog",
          "wind": 3.0
         },
         {
          "date": "2013-04-05T00:00:00",
          "precipitation": 18.5,
          "temp_max": 13.9,
          "temp_min": 10.0,
          "weather": "fog",
          "wind": 5.6
         },
         {
          "date": "2013-04-06T00:00:00",
          "precipitation": 12.7,
          "temp_max": 12.2,
          "temp_min": 7.2,
          "weather": "fog",
          "wind": 5.0
         },
         {
          "date": "2013-04-07T00:00:00",
          "precipitation": 39.1,
          "temp_max": 8.3,
          "temp_min": 5.0,
          "weather": "fog",
          "wind": 3.9
         },
         {
          "date": "2013-04-08T00:00:00",
          "precipitation": 0.8,
          "temp_max": 13.3,
          "temp_min": 6.1,
          "weather": "fog",
          "wind": 3.1
         },
         {
          "date": "2013-04-09T00:00:00",
          "precipitation": 0.0,
          "temp_max": 12.2,
          "temp_min": 6.1,
          "weather": "sun",
          "wind": 2.4
         },
         {
          "date": "2013-04-10T00:00:00",
          "precipitation": 9.4,
          "temp_max": 15.0,
          "temp_min": 8.9,
          "weather": "sun",
          "wind": 6.4
         },
         {
          "date": "2013-04-11T00:00:00",
          "precipitation": 1.5,
          "temp_max": 12.2,
          "temp_min": 6.7,
          "weather": "fog",
          "wind": 3.8
         },
         {
          "date": "2013-04-12T00:00:00",
          "precipitation": 9.7,
          "temp_max": 7.8,
          "temp_min": 4.4,
          "weather": "fog",
          "wind": 4.6
         },
         {
          "date": "2013-04-13T00:00:00",
          "precipitation": 9.4,
          "temp_max": 10.6,
          "temp_min": 3.3,
          "weather": "fog",
          "wind": 5.7
         },
         {
          "date": "2013-04-14T00:00:00",
          "precipitation": 5.8,
          "temp_max": 12.8,
          "temp_min": 4.4,
          "weather": "fog",
          "wind": 2.3
         },
         {
          "date": "2013-04-15T00:00:00",
          "precipitation": 0.0,
          "temp_max": 13.9,
          "temp_min": 4.4,
          "weather": "fog",
          "wind": 2.4
         },
         {
          "date": "2013-04-16T00:00:00",
          "precipitation": 0.3,
          "temp_max": 13.9,
          "temp_min": 3.3,
          "weather": "sun",
          "wind": 2.6
         },
         {
          "date": "2013-04-17T00:00:00",
          "precipitation": 0.0,
          "temp_max": 15.0,
          "temp_min": 3.9,
          "weather": "drizzle",
          "wind": 3.3
         },
         {
          "date": "2013-04-18T00:00:00",
          "precipitation": 5.3,
          "temp_max": 11.7,
          "temp_min": 6.7,
          "weather": "fog",
          "wind": 4.0
         },
         {
          "date": "2013-04-19T00:00:00",
          "precipitation": 20.6,
          "temp_max": 13.3,
          "temp_min": 9.4,
          "weather": "fog",
          "wind": 4.9
         },
         {
          "date": "2013-04-20T00:00:00",
          "precipitation": 0.0,
          "temp_max": 13.9,
          "temp_min": 8.3,
          "weather": "sun",
          "wind": 5.8
         },
         {
          "date": "2013-04-21T00:00:00",
          "precipitation": 3.3,
          "temp_max": 12.2,
          "temp_min": 6.7,
          "weather": "sun",
          "wind": 4.1
         },
         {
          "date": "2013-04-22T00:00:00",
          "precipitation": 0.0,
          "temp_max": 16.1,
          "temp_min": 5.0,
          "weather": "sun",
          "wind": 4.3
         },
         {
          "date": "2013-04-23T00:00:00",
          "precipitation": 0.0,
          "temp_max": 17.8,
          "temp_min": 3.9,
          "weather": "sun",
          "wind": 2.8
         },
         {
          "date": "2013-04-24T00:00:00",
          "precipitation": 0.0,
          "temp_max": 21.1,
          "temp_min": 6.1,
          "weather": "sun",
          "wind": 3.0
         },
         {
          "date": "2013-04-25T00:00:00",
          "precipitation": 0.0,
          "temp_max": 21.7,
          "temp_min": 6.7,
          "weather": "sun",
          "wind": 1.1
         },
         {
          "date": "2013-04-26T00:00:00",
          "precipitation": 0.0,
          "temp_max": 20.6,
          "temp_min": 8.3,
          "weather": "fog",
          "wind": 2.2
         },
         {
          "date": "2013-04-27T00:00:00",
          "precipitation": 0.0,
          "temp_max": 13.9,
          "temp_min": 10.6,
          "weather": "sun",
          "wind": 5.9
         },
         {
          "date": "2013-04-28T00:00:00",
          "precipitation": 1.0,
          "temp_max": 15.0,
          "temp_min": 9.4,
          "weather": "drizzle",
          "wind": 5.2
         },
         {
          "date": "2013-04-29T00:00:00",
          "precipitation": 3.8,
          "temp_max": 13.9,
          "temp_min": 6.7,
          "weather": "fog",
          "wind": 4.2
         },
         {
          "date": "2013-04-30T00:00:00",
          "precipitation": 0.0,
          "temp_max": 12.8,
          "temp_min": 4.4,
          "weather": "sun",
          "wind": 2.4
         },
         {
          "date": "2013-05-01T00:00:00",
          "precipitation": 0.0,
          "temp_max": 18.3,
          "temp_min": 3.3,
          "weather": "sun",
          "wind": 3.1
         },
         {
          "date": "2013-05-02T00:00:00",
          "precipitation": 0.0,
          "temp_max": 20.6,
          "temp_min": 6.7,
          "weather": "sun",
          "wind": 4.0
         },
         {
          "date": "2013-05-03T00:00:00",
          "precipitation": 0.0,
          "temp_max": 21.7,
          "temp_min": 9.4,
          "weather": "sun",
          "wind": 4.9
         },
         {
          "date": "2013-05-04T00:00:00",
          "precipitation": 0.0,
          "temp_max": 25.0,
          "temp_min": 11.1,
          "weather": "sun",
          "wind": 6.5
         },
         {
          "date": "2013-05-05T00:00:00",
          "precipitation": 0.0,
          "temp_max": 28.9,
          "temp_min": 11.7,
          "weather": "sun",
          "wind": 5.3
         },
         {
          "date": "2013-05-06T00:00:00",
          "precipitation": 0.0,
          "temp_max": 30.6,
          "temp_min": 12.2,
          "weather": "sun",
          "wind": 2.0
         },
         {
          "date": "2013-05-07T00:00:00",
          "precipitation": 0.0,
          "temp_max": 20.6,
          "temp_min": 11.1,
          "weather": "sun",
          "wind": 3.3
         },
         {
          "date": "2013-05-08T00:00:00",
          "precipitation": 0.0,
          "temp_max": 19.4,
          "temp_min": 11.1,
          "weather": "sun",
          "wind": 1.9
         },
         {
          "date": "2013-05-09T00:00:00",
          "precipitation": 0.0,
          "temp_max": 22.8,
          "temp_min": 10.0,
          "weather": "sun",
          "wind": 1.3
         },
         {
          "date": "2013-05-10T00:00:00",
          "precipitation": 0.0,
          "temp_max": 26.1,
          "temp_min": 9.4,
          "weather": "sun",
          "wind": 1.0
         },
         {
          "date": "2013-05-11T00:00:00",
          "precipitation": 0.0,
          "temp_max": 27.2,
          "temp_min": 12.2,
          "weather": "sun",
          "wind": 2.6
         },
         {
          "date": "2013-05-12T00:00:00",
          "precipitation": 6.6,
          "temp_max": 21.7,
          "temp_min": 13.9,
          "weather": "fog",
          "wind": 3.9
         },
         {
          "date": "2013-05-13T00:00:00",
          "precipitation": 3.3,
          "temp_max": 18.9,
          "temp_min": 9.4,
          "weather": "sun",
          "wind": 5.0
         },
         {
          "date": "2013-05-14T00:00:00",
          "precipitation": 0.0,
          "temp_max": 18.3,
          "temp_min": 7.8,
          "weather": "sun",
          "wind": 2.4
         },
         {
          "date": "2013-05-15T00:00:00",
          "precipitation": 1.0,
          "temp_max": 17.2,
          "temp_min": 8.9,
          "weather": "fog",
          "wind": 2.3
         },
         {
          "date": "2013-05-16T00:00:00",
          "precipitation": 0.0,
          "temp_max": 21.7,
          "temp_min": 12.2,
          "weather": "fog",
          "wind": 2.7
         },
         {
          "date": "2013-05-17T00:00:00",
          "precipitation": 0.5,
          "temp_max": 17.2,
          "temp_min": 11.7,
          "weather": "sun",
          "wind": 3.7
         },
         {
          "date": "2013-05-18T00:00:00",
          "precipitation": 0.0,
          "temp_max": 16.7,
          "temp_min": 11.1,
          "weather": "sun",
          "wind": 2.9
         },
         {
          "date": "2013-05-19T00:00:00",
          "precipitation": 0.0,
          "temp_max": 18.3,
          "temp_min": 10.6,
          "weather": "sun",
          "wind": 2.3
         },
         {
          "date": "2013-05-20T00:00:00",
          "precipitation": 0.0,
          "temp_max": 19.4,
          "temp_min": 9.4,
          "weather": "sun",
          "wind": 1.8
         },
         {
          "date": "2013-05-21T00:00:00",
          "precipitation": 13.7,
          "temp_max": 15.6,
          "temp_min": 8.3,
          "weather": "fog",
          "wind": 4.8
         },
         {
          "date": "2013-05-22T00:00:00",
          "precipitation": 13.7,
          "temp_max": 11.1,
          "temp_min": 7.2,
          "weather": "fog",
          "wind": 3.0
         },
         {
          "date": "2013-05-23T00:00:00",
          "precipitation": 4.1,
          "temp_max": 12.2,
          "temp_min": 6.7,
          "weather": "fog",
          "wind": 1.9
         },
         {
          "date": "2013-05-24T00:00:00",
          "precipitation": 0.3,
          "temp_max": 16.7,
          "temp_min": 8.9,
          "weather": "sun",
          "wind": 2.7
         },
         {
          "date": "2013-05-25T00:00:00",
          "precipitation": 0.0,
          "temp_max": 17.8,
          "temp_min": 10.0,
          "weather": "sun",
          "wind": 2.7
         },
         {
          "date": "2013-05-26T00:00:00",
          "precipitation": 1.5,
          "temp_max": 18.3,
          "temp_min": 10.6,
          "weather": "fog",
          "wind": 2.2
         },
         {
          "date": "2013-05-27T00:00:00",
          "precipitation": 9.7,
          "temp_max": 16.7,
          "temp_min": 11.1,
          "weather": "fog",
          "wind": 3.1
         },
         {
          "date": "2013-05-28T00:00:00",
          "precipitation": 0.5,
          "temp_max": 17.2,
          "temp_min": 11.7,
          "weather": "fog",
          "wind": 2.8
         },
         {
          "date": "2013-05-29T00:00:00",
          "precipitation": 5.6,
          "temp_max": 16.1,
          "temp_min": 9.4,
          "weather": "fog",
          "wind": 4.0
         },
         {
          "date": "2013-05-30T00:00:00",
          "precipitation": 0.0,
          "temp_max": 16.7,
          "temp_min": 9.4,
          "weather": "sun",
          "wind": 5.3
         },
         {
          "date": "2013-05-31T00:00:00",
          "precipitation": 0.0,
          "temp_max": 19.4,
          "temp_min": 11.1,
          "weather": "sun",
          "wind": 2.5
         },
         {
          "date": "2013-06-01T00:00:00",
          "precipitation": 0.0,
          "temp_max": 22.8,
          "temp_min": 12.2,
          "weather": "sun",
          "wind": 2.5
         },
         {
          "date": "2013-06-02T00:00:00",
          "precipitation": 1.0,
          "temp_max": 20.6,
          "temp_min": 12.2,
          "weather": "sun",
          "wind": 3.1
         },
         {
          "date": "2013-06-03T00:00:00",
          "precipitation": 0.0,
          "temp_max": 22.2,
          "temp_min": 11.1,
          "weather": "sun",
          "wind": 2.9
         },
         {
          "date": "2013-06-04T00:00:00",
          "precipitation": 0.0,
          "temp_max": 26.1,
          "temp_min": 12.2,
          "weather": "sun",
          "wind": 3.4
         },
         {
          "date": "2013-06-05T00:00:00",
          "precipitation": 0.0,
          "temp_max": 26.7,
          "temp_min": 14.4,
          "weather": "sun",
          "wind": 3.1
         },
         {
          "date": "2013-06-06T00:00:00",
          "precipitation": 0.0,
          "temp_max": 26.7,
          "temp_min": 12.2,
          "weather": "sun",
          "wind": 2.5
         },
         {
          "date": "2013-06-07T00:00:00",
          "precipitation": 0.0,
          "temp_max": 21.7,
          "temp_min": 13.3,
          "weather": "sun",
          "wind": 3.2
         },
         {
          "date": "2013-06-08T00:00:00",
          "precipitation": 0.0,
          "temp_max": 20.6,
          "temp_min": 12.8,
          "weather": "sun",
          "wind": 3.1
         },
         {
          "date": "2013-06-09T00:00:00",
          "precipitation": 0.0,
          "temp_max": 20.6,
          "temp_min": 11.1,
          "weather": "sun",
          "wind": 3.7
         },
         {
          "date": "2013-06-10T00:00:00",
          "precipitation": 0.0,
          "temp_max": 21.7,
          "temp_min": 11.7,
          "weather": "sun",
          "wind": 3.2
         },
         {
          "date": "2013-06-11T00:00:00",
          "precipitation": 0.0,
          "temp_max": 20.0,
          "temp_min": 10.0,
          "weather": "sun",
          "wind": 5.7
         },
         {
          "date": "2013-06-12T00:00:00",
          "precipitation": 0.3,
          "temp_max": 20.6,
          "temp_min": 11.7,
          "weather": "sun",
          "wind": 4.2
         },
         {
          "date": "2013-06-13T00:00:00",
          "precipitation": 0.0,
          "temp_max": 21.1,
          "temp_min": 11.7,
          "weather": "sun",
          "wind": 2.6
         },
         {
          "date": "2013-06-14T00:00:00",
          "precipitation": 0.0,
          "temp_max": 20.0,
          "temp_min": 12.2,
          "weather": "sun",
          "wind": 3.7
         },
         {
          "date": "2013-06-15T00:00:00",
          "precipitation": 0.0,
          "temp_max": 25.6,
          "temp_min": 10.0,
          "weather": "sun",
          "wind": 2.9
         },
         {
          "date": "2013-06-16T00:00:00",
          "precipitation": 0.0,
          "temp_max": 23.9,
          "temp_min": 12.8,
          "weather": "sun",
          "wind": 3.4
         },
         {
          "date": "2013-06-17T00:00:00",
          "precipitation": 0.0,
          "temp_max": 25.6,
          "temp_min": 13.9,
          "weather": "sun",
          "wind": 3.0
         },
         {
          "date": "2013-06-18T00:00:00",
          "precipitation": 0.3,
          "temp_max": 23.3,
          "temp_min": 13.3,
          "weather": "fog",
          "wind": 3.4
         },
         {
          "date": "2013-06-19T00:00:00",
          "precipitation": 0.0,
          "temp_max": 20.0,
          "temp_min": 12.8,
          "weather": "sun",
          "wind": 3.7
         },
         {
          "date": "2013-06-20T00:00:00",
          "precipitation": 3.0,
          "temp_max": 17.2,
          "temp_min": 12.8,
          "weather": "sun",
          "wind": 5.0
         },
         {
          "date": "2013-06-21T00:00:00",
          "precipitation": 0.3,
          "temp_max": 20.6,
          "temp_min": 12.2,
          "weather": "sun",
          "wind": 1.5
         },
         {
          "date": "2013-06-22T00:00:00",
          "precipitation": 0.0,
          "temp_max": 25.6,
          "temp_min": 11.7,
          "weather": "sun",
          "wind": 1.7
         },
         {
          "date": "2013-06-23T00:00:00",
          "precipitation": 7.9,
          "temp_max": 22.2,
          "temp_min": 15.0,
          "weather": "fog",
          "wind": 2.1
         },
         {
          "date": "2013-06-24T00:00:00",
          "precipitation": 4.8,
          "temp_max": 21.1,
          "temp_min": 13.9,
          "weather": "fog",
          "wind": 3.7
         },
         {
          "date": "2013-06-25T00:00:00",
          "precipitation": 9.9,
          "temp_max": 23.3,
          "temp_min": 14.4,
          "weather": "sun",
          "wind": 2.8
         },
         {
          "date": "2013-06-26T00:00:00",
          "precipitation": 2.0,
          "temp_max": 22.2,
          "temp_min": 15.0,
          "weather": "fog",
          "wind": 2.3
         },
         {
          "date": "2013-06-27T00:00:00",
          "precipitation": 3.6,
          "temp_max": 21.1,
          "temp_min": 16.7,
          "weather": "fog",
          "wind": 1.3
         },
         {
          "date": "2013-06-28T00:00:00",
          "precipitation": 0.0,
          "temp_max": 30.6,
          "temp_min": 16.1,
          "weather": "sun",
          "wind": 2.2
         },
         {
          "date": "2013-06-29T00:00:00",
          "precipitation": 0.0,
          "temp_max": 30.0,
          "temp_min": 18.3,
          "weather": "sun",
          "wind": 1.7
         },
         {
          "date": "2013-06-30T00:00:00",
          "precipitation": 0.0,
          "temp_max": 33.9,
          "temp_min": 17.2,
          "weather": "sun",
          "wind": 2.5
         },
         {
          "date": "2013-07-01T00:00:00",
          "precipitation": 0.0,
          "temp_max": 31.7,
          "temp_min": 18.3,
          "weather": "sun",
          "wind": 2.3
         },
         {
          "date": "2013-07-02T00:00:00",
          "precipitation": 0.0,
          "temp_max": 28.3,
          "temp_min": 15.6,
          "weather": "sun",
          "wind": 3.0
         },
         {
          "date": "2013-07-03T00:00:00",
          "precipitation": 0.0,
          "temp_max": 26.1,
          "temp_min": 16.7,
          "weather": "sun",
          "wind": 3.2
         },
         {
          "date": "2013-07-04T00:00:00",
          "precipitation": 0.0,
          "temp_max": 21.7,
          "temp_min": 13.9,
          "weather": "fog",
          "wind": 2.2
         },
         {
          "date": "2013-07-05T00:00:00",
          "precipitation": 0.0,
          "temp_max": 23.3,
          "temp_min": 13.9,
          "weather": "sun",
          "wind": 2.6
         },
         {
          "date": "2013-07-06T00:00:00",
          "precipitation": 0.0,
          "temp_max": 26.1,
          "temp_min": 13.3,
          "weather": "sun",
          "wind": 2.2
         },
         {
          "date": "2013-07-07T00:00:00",
          "precipitation": 0.0,
          "temp_max": 23.9,
          "temp_min": 13.9,
          "weather": "sun",
          "wind": 2.9
         },
         {
          "date": "2013-07-08T00:00:00",
          "precipitation": 0.0,
          "temp_max": 26.7,
          "temp_min": 13.3,
          "weather": "sun",
          "wind": 2.8
         },
         {
          "date": "2013-07-09T00:00:00",
          "precipitation": 0.0,
          "temp_max": 30.0,
          "temp_min": 15.0,
          "weather": "sun",
          "wind": 2.5
         },
         {
          "date": "2013-07-10T00:00:00",
          "precipitation": 0.0,
          "temp_max": 22.2,
          "temp_min": 13.9,
          "weather": "sun",
          "wind": 2.6
         },
         {
          "date": "2013-07-11T00:00:00",
          "precipitation": 0.0,
          "temp_max": 22.8,
          "temp_min": 12.2,
          "weather": "sun",
          "wind": 3.0
         },
         {
          "date": "2013-07-12T00:00:00",
          "precipitation": 0.0,
          "temp_max": 19.4,
          "temp_min": 13.3,
          "weather": "sun",
          "wind": 2.2
         },
         {
          "date": "2013-07-13T00:00:00",
          "precipitation": 0.0,
          "temp_max": 26.1,
          "temp_min": 11.1,
          "weather": "sun",
          "wind": 3.1
         },
         {
          "date": "2013-07-14T00:00:00",
          "precipitation": 0.0,
          "temp_max": 27.8,
          "temp_min": 12.8,
          "weather": "sun",
          "wind": 3.0
         },
         {
          "date": "2013-07-15T00:00:00",
          "precipitation": 0.0,
          "temp_max": 27.8,
          "temp_min": 14.4,
          "weather": "sun",
          "wind": 4.6
         },
         {
          "date": "2013-07-16T00:00:00",
          "precipitation": 0.0,
          "temp_max": 31.1,
          "temp_min": 18.3,
          "weather": "sun",
          "wind": 4.1
         },
         {
          "date": "2013-07-17T00:00:00",
          "precipitation": 0.0,
          "temp_max": 22.2,
          "temp_min": 15.0,
          "weather": "rain",
          "wind": 3.7
         },
         {
          "date": "2013-07-18T00:00:00",
          "precipitation": 0.0,
          "temp_max": 26.1,
          "temp_min": 13.9,
          "weather": "sun",
          "wind": 2.0
         },
         {
          "date": "2013-07-19T00:00:00",
          "precipitation": 0.0,
          "temp_max": 27.8,
          "temp_min": 13.3,
          "weather": "sun",
          "wind": 1.9
         },
         {
          "date": "2013-07-20T00:00:00",
          "precipitation": 0.0,
          "temp_max": 25.0,
          "temp_min": 13.3,
          "weather": "sun",
          "wind": 2.0
         },
         {
          "date": "2013-07-21T00:00:00",
          "precipitation": 0.0,
          "temp_max": 23.9,
          "temp_min": 12.8,
          "weather": "sun",
          "wind": 2.3
         },
         {
          "date": "2013-07-22T00:00:00",
          "precipitation": 0.0,
          "temp_max": 26.1,
          "temp_min": 13.3,
          "weather": "fog",
          "wind": 2.4
         },
         {
          "date": "2013-07-23T00:00:00",
          "precipitation": 0.0,
          "temp_max": 31.1,
          "temp_min": 13.9,
          "weather": "sun",
          "wind": 3.0
         },
         {
          "date": "2013-07-24T00:00:00",
          "precipitation": 0.0,
          "temp_max": 31.1,
          "temp_min": 14.4,
          "weather": "sun",
          "wind": 2.5
         },
         {
          "date": "2013-07-25T00:00:00",
          "precipitation": 0.0,
          "temp_max": 31.1,
          "temp_min": 12.8,
          "weather": "sun",
          "wind": 2.3
         },
         {
          "date": "2013-07-26T00:00:00",
          "precipitation": 0.0,
          "temp_max": 31.1,
          "temp_min": 14.4,
          "weather": "sun",
          "wind": 2.9
         },
         {
          "date": "2013-07-27T00:00:00",
          "precipitation": 0.0,
          "temp_max": 25.6,
          "temp_min": 12.8,
          "weather": "sun",
          "wind": 2.6
         },
         {
          "date": "2013-07-28T00:00:00",
          "precipitation": 0.0,
          "temp_max": 21.1,
          "temp_min": 12.2,
          "weather": "fog",
          "wind": 3.4
         },
         {
          "date": "2013-07-29T00:00:00",
          "precipitation": 0.0,
          "temp_max": 25.0,
          "temp_min": 13.3,
          "weather": "sun",
          "wind": 1.4
         },
         {
          "date": "2013-07-30T00:00:00",
          "precipitation": 0.0,
          "temp_max": 25.0,
          "temp_min": 13.3,
          "weather": "sun",
          "wind": 2.8
         },
         {
          "date": "2013-07-31T00:00:00",
          "precipitation": 0.0,
          "temp_max": 21.7,
          "temp_min": 13.3,
          "weather": "sun",
          "wind": 1.8
         },
         {
          "date": "2013-08-01T00:00:00",
          "precipitation": 0.0,
          "temp_max": 20.6,
          "temp_min": 13.3,
          "weather": "sun",
          "wind": 3.9
         },
         {
          "date": "2013-08-02T00:00:00",
          "precipitation": 2.0,
          "temp_max": 17.2,
          "temp_min": 15.0,
          "weather": "sun",
          "wind": 2.0
         },
         {
          "date": "2013-08-03T00:00:00",
          "precipitation": 0.0,
          "temp_max": 25.0,
          "temp_min": 15.6,
          "weather": "fog",
          "wind": 2.4
         },
         {
          "date": "2013-08-04T00:00:00",
          "precipitation": 0.0,
          "temp_max": 28.9,
          "temp_min": 15.0,
          "weather": "sun",
          "wind": 3.4
         },
         {
          "date": "2013-08-05T00:00:00",
          "precipitation": 0.0,
          "temp_max": 30.0,
          "temp_min": 15.0,
          "weather": "sun",
          "wind": 2.1
         },
         {
          "date": "2013-08-06T00:00:00",
          "precipitation": 0.0,
          "temp_max": 30.6,
          "temp_min": 13.9,
          "weather": "sun",
          "wind": 1.4
         },
         {
          "date": "2013-08-07T00:00:00",
          "precipitation": 0.0,
          "temp_max": 31.1,
          "temp_min": 13.9,
          "weather": "sun",
          "wind": 1.9
         },
         {
          "date": "2013-08-08T00:00:00",
          "precipitation": 0.0,
          "temp_max": 28.3,
          "temp_min": 14.4,
          "weather": "sun",
          "wind": 2.5
         },
         {
          "date": "2013-08-09T00:00:00",
          "precipitation": 0.0,
          "temp_max": 28.3,
          "temp_min": 14.4,
          "weather": "rain",
          "wind": 2.1
         },
         {
          "date": "2013-08-10T00:00:00",
          "precipitation": 2.3,
          "temp_max": 25.6,
          "temp_min": 15.0,
          "weather": "sun",
          "wind": 2.9
         },
         {
          "date": "2013-08-11T00:00:00",
          "precipitation": 0.0,
          "temp_max": 25.0,
          "temp_min": 14.4,
          "weather": "sun",
          "wind": 2.9
         },
         {
          "date": "2013-08-12T00:00:00",
          "precipitation": 0.0,
          "temp_max": 25.6,
          "temp_min": 16.1,
          "weather": "sun",
          "wind": 1.9
         },
         {
          "date": "2013-08-13T00:00:00",
          "precipitation": 0.0,
          "temp_max": 27.8,
          "temp_min": 15.0,
          "weather": "sun",
          "wind": 1.8
         },
         {
          "date": "2013-08-14T00:00:00",
          "precipitation": 0.8,
          "temp_max": 27.2,
          "temp_min": 15.0,
          "weather": "sun",
          "wind": 2.0
         },
         {
          "date": "2013-08-15T00:00:00",
          "precipitation": 1.8,
          "temp_max": 21.1,
          "temp_min": 17.2,
          "weather": "sun",
          "wind": 1.0
         },
         {
          "date": "2013-08-16T00:00:00",
          "precipitation": 0.0,
          "temp_max": 28.9,
          "temp_min": 16.1,
          "weather": "fog",
          "wind": 2.2
         },
         {
          "date": "2013-08-17T00:00:00",
          "precipitation": 0.0,
          "temp_max": 25.6,
          "temp_min": 17.2,
          "weather": "sun",
          "wind": 3.0
         },
         {
          "date": "2013-08-18T00:00:00",
          "precipitation": 0.0,
          "temp_max": 26.1,
          "temp_min": 15.6,
          "weather": "sun",
          "wind": 3.1
         },
         {
          "date": "2013-08-19T00:00:00",
          "precipitation": 0.0,
          "temp_max": 26.7,
          "temp_min": 15.6,
          "weather": "sun",
          "wind": 3.0
         },
         {
          "date": "2013-08-20T00:00:00",
          "precipitation": 0.0,
          "temp_max": 25.6,
          "temp_min": 16.1,
          "weather": "sun",
          "wind": 4.6
         },
         {
          "date": "2013-08-21T00:00:00",
          "precipitation": 0.0,
          "temp_max": 27.8,
          "temp_min": 15.0,
          "weather": "sun",
          "wind": 4.3
         },
         {
          "date": "2013-08-22T00:00:00",
          "precipitation": 0.0,
          "temp_max": 28.9,
          "temp_min": 15.0,
          "weather": "sun",
          "wind": 1.9
         },
         {
          "date": "2013-08-23T00:00:00",
          "precipitation": 0.0,
          "temp_max": 25.0,
          "temp_min": 16.1,
          "weather": "sun",
          "wind": 4.1
         },
         {
          "date": "2013-08-24T00:00:00",
          "precipitation": 0.0,
          "temp_max": 25.0,
          "temp_min": 16.7,
          "weather": "sun",
          "wind": 2.7
         },
         {
          "date": "2013-08-25T00:00:00",
          "precipitation": 0.3,
          "temp_max": 22.2,
          "temp_min": 16.1,
          "weather": "sun",
          "wind": 2.6
         },
         {
          "date": "2013-08-26T00:00:00",
          "precipitation": 1.0,
          "temp_max": 24.4,
          "temp_min": 16.1,
          "weather": "sun",
          "wind": 1.9
         },
         {
          "date": "2013-08-27T00:00:00",
          "precipitation": 1.3,
          "temp_max": 26.7,
          "temp_min": 17.2,
          "weather": "sun",
          "wind": 1.4
         },
         {
          "date": "2013-08-28T00:00:00",
          "precipitation": 5.6,
          "temp_max": 26.7,
          "temp_min": 15.6,
          "weather": "fog",
          "wind": 1.3
         },
         {
          "date": "2013-08-29T00:00:00",
          "precipitation": 19.3,
          "temp_max": 23.9,
          "temp_min": 18.3,
          "weather": "sun",
          "wind": 3.0
         },
         {
          "date": "2013-08-30T00:00:00",
          "precipitation": 0.0,
          "temp_max": 26.1,
          "temp_min": 16.1,
          "weather": "sun",
          "wind": 2.9
         },
         {
          "date": "2013-08-31T00:00:00",
          "precipitation": 0.0,
          "temp_max": 27.8,
          "temp_min": 13.9,
          "weather": "sun",
          "wind": 2.6
         },
         {
          "date": "2013-09-01T00:00:00",
          "precipitation": 0.0,
          "temp_max": 27.8,
          "temp_min": 15.6,
          "weather": "sun",
          "wind": 2.5
         },
         {
          "date": "2013-09-02T00:00:00",
          "precipitation": 0.0,
          "temp_max": 27.8,
          "temp_min": 17.2,
          "weather": "sun",
          "wind": 2.1
         },
         {
          "date": "2013-09-03T00:00:00",
          "precipitation": 2.3,
          "temp_max": 25.0,
          "temp_min": 16.7,
          "weather": "fog",
          "wind": 1.7
         },
         {
          "date": "2013-09-04T00:00:00",
          "precipitation": 0.3,
          "temp_max": 22.8,
          "temp_min": 16.1,
          "weather": "fog",
          "wind": 2.4
         },
         {
          "date": "2013-09-05T00:00:00",
          "precipitation": 27.7,
          "temp_max": 20.0,
          "temp_min": 15.6,
          "weather": "sun",
          "wind": 2.5
         },
         {
          "date": "2013-09-06T00:00:00",
          "precipitation": 21.3,
          "temp_max": 21.7,
          "temp_min": 16.1,
          "weather": "fog",
          "wind": 2.6
         },
         {
          "date": "2013-09-07T00:00:00",
          "precipitation": 0.0,
          "temp_max": 23.3,
          "temp_min": 17.2,
          "weather": "sun",
          "wind": 2.0
         },
         {
          "date": "2013-09-08T00:00:00",
          "precipitation": 0.0,
          "temp_max": 26.7,
          "temp_min": 14.4,
          "weather": "fog",
          "wind": 1.5
         },
         {
          "date": "2013-09-09T00:00:00",
          "precipitation": 0.0,
          "temp_max": 26.1,
          "temp_min": 13.9,
          "weather": "sun",
          "wind": 2.1
         },
         {
          "date": "2013-09-10T00:00:00",
          "precipitation": 0.0,
          "temp_max": 26.7,
          "temp_min": 15.0,
          "weather": "sun",
          "wind": 3.7
         },
         {
          "date": "2013-09-11T00:00:00",
          "precipitation": 0.0,
          "temp_max": 33.9,
          "temp_min": 16.1,
          "weather": "sun",
          "wind": 2.4
         },
         {
          "date": "2013-09-12T00:00:00",
          "precipitation": 0.0,
          "temp_max": 25.6,
          "temp_min": 15.0,
          "weather": "sun",
          "wind": 1.7
         },
         {
          "date": "2013-09-13T00:00:00",
          "precipitation": 0.0,
          "temp_max": 18.9,
          "temp_min": 15.6,
          "weather": "sun",
          "wind": 2.0
         },
         {
          "date": "2013-09-14T00:00:00",
          "precipitation": 0.0,
          "temp_max": 21.7,
          "temp_min": 15.6,
          "weather": "fog",
          "wind": 1.4
         },
         {
          "date": "2013-09-15T00:00:00",
          "precipitation": 3.3,
          "temp_max": 18.9,
          "temp_min": 14.4,
          "weather": "sun",
          "wind": 2.2
         },
         {
          "date": "2013-09-16T00:00:00",
          "precipitation": 0.3,
          "temp_max": 21.7,
          "temp_min": 15.0,
          "weather": "fog",
          "wind": 4.3
         },
         {
          "date": "2013-09-17T00:00:00",
          "precipitation": 0.0,
          "temp_max": 17.8,
          "temp_min": 13.9,
          "weather": "sun",
          "wind": 2.3
         },
         {
          "date": "2013-09-18T00:00:00",
          "precipitation": 0.0,
          "temp_max": 21.1,
          "temp_min": 13.3,
          "weather": "sun",
          "wind": 2.5
         },
         {
          "date": "2013-09-19T00:00:00",
          "precipitation": 0.0,
          "temp_max": 25.6,
          "temp_min": 10.0,
          "weather": "sun",
          "wind": 1.5
         },
         {
          "date": "2013-09-20T00:00:00",
          "precipitation": 3.6,
          "temp_max": 23.3,
          "temp_min": 13.3,
          "weather": "fog",
          "wind": 3.0
         },
         {
          "date": "2013-09-21T00:00:00",
          "precipitation": 0.0,
          "temp_max": 21.1,
          "temp_min": 13.3,
          "weather": "sun",
          "wind": 2.5
         },
         {
          "date": "2013-09-22T00:00:00",
          "precipitation": 13.5,
          "temp_max": 17.2,
          "temp_min": 13.3,
          "weather": "fog",
          "wind": 5.5
         },
         {
          "date": "2013-09-23T00:00:00",
          "precipitation": 2.8,
          "temp_max": 16.1,
          "temp_min": 11.1,
          "weather": "fog",
          "wind": 4.5
         },
         {
          "date": "2013-09-24T00:00:00",
          "precipitation": 0.0,
          "temp_max": 17.8,
          "temp_min": 10.0,
          "weather": "sun",
          "wind": 2.6
         },
         {
          "date": "2013-09-25T00:00:00",
          "precipitation": 2.0,
          "temp_max": 16.1,
          "temp_min": 9.4,
          "weather": "fog",
          "wind": 3.0
         },
         {
          "date": "2013-09-26T00:00:00",
          "precipitation": 0.0,
          "temp_max": 17.2,
          "temp_min": 7.2,
          "weather": "sun",
          "wind": 2.2
         },
         {
          "date": "2013-09-27T00:00:00",
          "precipitation": 1.0,
          "temp_max": 13.9,
          "temp_min": 10.6,
          "weather": "fog",
          "wind": 4.3
         },
         {
          "date": "2013-09-28T00:00:00",
          "precipitation": 43.4,
          "temp_max": 16.7,
          "temp_min": 11.7,
          "weather": "fog",
          "wind": 6.0
         },
         {
          "date": "2013-09-29T00:00:00",
          "precipitation": 16.8,
          "temp_max": 14.4,
          "temp_min": 11.1,
          "weather": "sun",
          "wind": 7.1
         },
         {
          "date": "2013-09-30T00:00:00",
          "precipitation": 18.5,
          "temp_max": 13.9,
          "temp_min": 10.0,
          "weather": "fog",
          "wind": 6.3
         },
         {
          "date": "2013-10-01T00:00:00",
          "precipitation": 7.9,
          "temp_max": 14.4,
          "temp_min": 8.9,
          "weather": "fog",
          "wind": 4.7
         },
         {
          "date": "2013-10-02T00:00:00",
          "precipitation": 5.3,
          "temp_max": 12.8,
          "temp_min": 9.4,
          "weather": "fog",
          "wind": 2.4
         },
         {
          "date": "2013-10-03T00:00:00",
          "precipitation": 0.8,
          "temp_max": 14.4,
          "temp_min": 8.9,
          "weather": "fog",
          "wind": 0.9
         },
         {
          "date": "2013-10-04T00:00:00",
          "precipitation": 0.0,
          "temp_max": 17.8,
          "temp_min": 5.6,
          "weather": "sun",
          "wind": 1.1
         },
         {
          "date": "2013-10-05T00:00:00",
          "precipitation": 0.0,
          "temp_max": 20.0,
          "temp_min": 8.3,
          "weather": "sun",
          "wind": 1.6
         },
         {
          "date": "2013-10-06T00:00:00",
          "precipitation": 4.1,
          "temp_max": 22.8,
          "temp_min": 7.8,
          "weather": "fog",
          "wind": 2.6
         },
         {
          "date": "2013-10-07T00:00:00",
          "precipitation": 0.5,
          "temp_max": 16.1,
          "temp_min": 11.7,
          "weather": "fog",
          "wind": 6.3
         },
         {
          "date": "2013-10-08T00:00:00",
          "precipitation": 6.9,
          "temp_max": 13.9,
          "temp_min": 7.8,
          "weather": "rain",
          "wind": 3.0
         },
         {
          "date": "2013-10-09T00:00:00",
          "precipitation": 0.0,
          "temp_max": 15.0,
          "temp_min": 5.6,
          "weather": "sun",
          "wind": 1.6
         },
         {
          "date": "2013-10-10T00:00:00",
          "precipitation": 1.0,
          "temp_max": 14.4,
          "temp_min": 8.3,
          "weather": "fog",
          "wind": 1.7
         },
         {
          "date": "2013-10-11T00:00:00",
          "precipitation": 9.1,
          "temp_max": 13.9,
          "temp_min": 10.6,
          "weather": "sun",
          "wind": 1.0
         },
         {
          "date": "2013-10-12T00:00:00",
          "precipitation": 1.0,
          "temp_max": 14.4,
          "temp_min": 8.9,
          "weather": "fog",
          "wind": 2.2
         },
         {
          "date": "2013-10-13T00:00:00",
          "precipitation": 0.0,
          "temp_max": 15.0,
          "temp_min": 6.7,
          "weather": "fog",
          "wind": 1.8
         },
         {
          "date": "2013-10-14T00:00:00",
          "precipitation": 0.0,
          "temp_max": 15.6,
          "temp_min": 3.9,
          "weather": "sun",
          "wind": 1.6
         },
         {
          "date": "2013-10-15T00:00:00",
          "precipitation": 0.0,
          "temp_max": 15.6,
          "temp_min": 5.0,
          "weather": "sun",
          "wind": 0.9
         },
         {
          "date": "2013-10-16T00:00:00",
          "precipitation": 0.0,
          "temp_max": 12.8,
          "temp_min": 8.9,
          "weather": "fog",
          "wind": 2.7
         },
         {
          "date": "2013-10-17T00:00:00",
          "precipitation": 0.0,
          "temp_max": 14.4,
          "temp_min": 8.9,
          "weather": "fog",
          "wind": 1.7
         },
         {
          "date": "2013-10-18T00:00:00",
          "precipitation": 0.0,
          "temp_max": 12.8,
          "temp_min": 7.2,
          "weather": "sun",
          "wind": 1.2
         },
         {
          "date": "2013-10-19T00:00:00",
          "precipitation": 0.0,
          "temp_max": 10.6,
          "temp_min": 7.8,
          "weather": "sun",
          "wind": 1.4
         },
         {
          "date": "2013-10-20T00:00:00",
          "precipitation": 0.0,
          "temp_max": 10.6,
          "temp_min": 7.8,
          "weather": "sun",
          "wind": 2.4
         },
         {
          "date": "2013-10-21T00:00:00",
          "precipitation": 0.0,
          "temp_max": 11.7,
          "temp_min": 8.3,
          "weather": "sun",
          "wind": 2.5
         },
         {
          "date": "2013-10-22T00:00:00",
          "precipitation": 0.0,
          "temp_max": 14.4,
          "temp_min": 7.2,
          "weather": "sun",
          "wind": 1.9
         },
         {
          "date": "2013-10-23T00:00:00",
          "precipitation": 0.0,
          "temp_max": 12.8,
          "temp_min": 6.1,
          "weather": "sun",
          "wind": 0.4
         },
         {
          "date": "2013-10-24T00:00:00",
          "precipitation": 0.0,
          "temp_max": 10.0,
          "temp_min": 6.1,
          "weather": "sun",
          "wind": 0.6
         },
         {
          "date": "2013-10-25T00:00:00",
          "precipitation": 0.0,
          "temp_max": 12.2,
          "temp_min": 7.8,
          "weather": "sun",
          "wind": 1.8
         },
         {
          "date": "2013-10-26T00:00:00",
          "precipitation": 0.0,
          "temp_max": 11.7,
          "temp_min": 8.3,
          "weather": "sun",
          "wind": 2.7
         },
         {
          "date": "2013-10-27T00:00:00",
          "precipitation": 1.8,
          "temp_max": 13.9,
          "temp_min": 8.3,
          "weather": "fog",
          "wind": 4.4
         },
         {
          "date": "2013-10-28T00:00:00",
          "precipitation": 0.0,
          "temp_max": 14.4,
          "temp_min": 7.2,
          "weather": "sun",
          "wind": 5.1
         },
         {
          "date": "2013-10-29T00:00:00",
          "precipitation": 0.0,
          "temp_max": 13.3,
          "temp_min": 3.3,
          "weather": "sun",
          "wind": 2.2
         },
         {
          "date": "2013-10-30T00:00:00",
          "precipitation": 0.5,
          "temp_max": 15.0,
          "temp_min": 5.6,
          "weather": "sun",
          "wind": 3.9
         },
         {
          "date": "2013-10-31T00:00:00",
          "precipitation": 0.3,
          "temp_max": 14.4,
          "temp_min": 10.6,
          "weather": "fog",
          "wind": 2.2
         },
         {
          "date": "2013-11-01T00:00:00",
          "precipitation": 1.3,
          "temp_max": 17.8,
          "temp_min": 11.7,
          "weather": "sun",
          "wind": 1.4
         },
         {
          "date": "2013-11-02T00:00:00",
          "precipitation": 12.7,
          "temp_max": 14.4,
          "temp_min": 8.3,
          "weather": "fog",
          "wind": 7.9
         },
         {
          "date": "2013-11-03T00:00:00",
          "precipitation": 0.5,
          "temp_max": 12.2,
          "temp_min": 4.4,
          "weather": "sun",
          "wind": 2.4
         },
         {
          "date": "2013-11-04T00:00:00",
          "precipitation": 0.0,
          "temp_max": 10.6,
          "temp_min": 3.9,
          "weather": "drizzle",
          "wind": 1.6
         },
         {
          "date": "2013-11-05T00:00:00",
          "precipitation": 2.5,
          "temp_max": 13.3,
          "temp_min": 7.2,
          "weather": "fog",
          "wind": 3.1
         },
         {
          "date": "2013-11-06T00:00:00",
          "precipitation": 3.8,
          "temp_max": 12.8,
          "temp_min": 7.8,
          "weather": "sun",
          "wind": 1.7
         },
         {
          "date": "2013-11-07T00:00:00",
          "precipitation": 30.0,
          "temp_max": 11.1,
          "temp_min": 10.0,
          "weather": "fog",
          "wind": 7.2
         },
         {
          "date": "2013-11-08T00:00:00",
          "precipitation": 0.0,
          "temp_max": 13.3,
          "temp_min": 7.2,
          "weather": "sun",
          "wind": 4.1
         },
         {
          "date": "2013-11-09T00:00:00",
          "precipitation": 1.8,
          "temp_max": 11.1,
          "temp_min": 5.0,
          "weather": "sun",
          "wind": 1.4
         },
         {
          "date": "2013-11-10T00:00:00",
          "precipitation": 0.0,
          "temp_max": 11.1,
          "temp_min": 8.3,
          "weather": "sun",
          "wind": 4.4
         },
         {
          "date": "2013-11-11T00:00:00",
          "precipitation": 0.0,
          "temp_max": 16.1,
          "temp_min": 6.1,
          "weather": "fog",
          "wind": 2.6
         },
         {
          "date": "2013-11-12T00:00:00",
          "precipitation": 4.1,
          "temp_max": 15.6,
          "temp_min": 8.9,
          "weather": "fog",
          "wind": 2.2
         },
         {
          "date": "2013-11-13T00:00:00",
          "precipitation": 0.0,
          "temp_max": 13.9,
          "temp_min": 10.6,
          "weather": "sun",
          "wind": 3.8
         },
         {
          "date": "2013-11-14T00:00:00",
          "precipitation": 1.3,
          "temp_max": 11.1,
          "temp_min": 6.1,
          "weather": "fog",
          "wind": 1.1
         },
         {
          "date": "2013-11-15T00:00:00",
          "precipitation": 3.0,
          "temp_max": 10.6,
          "temp_min": 7.2,
          "weather": "sun",
          "wind": 6.0
         },
         {
          "date": "2013-11-16T00:00:00",
          "precipitation": 0.0,
          "temp_max": 10.0,
          "temp_min": 5.0,
          "weather": "sun",
          "wind": 4.6
         },
         {
          "date": "2013-11-17T00:00:00",
          "precipitation": 5.3,
          "temp_max": 11.7,
          "temp_min": 7.2,
          "weather": "fog",
          "wind": 5.4
         },
         {
          "date": "2013-11-18T00:00:00",
          "precipitation": 26.2,
          "temp_max": 12.8,
          "temp_min": 9.4,
          "weather": "fog",
          "wind": 3.9
         },
         {
          "date": "2013-11-19T00:00:00",
          "precipitation": 1.0,
          "temp_max": 13.3,
          "temp_min": 4.4,
          "weather": "fog",
          "wind": 5.1
         },
         {
          "date": "2013-11-20T00:00:00",
          "precipitation": 0.0,
          "temp_max": 7.8,
          "temp_min": 1.7,
          "weather": "sun",
          "wind": 4.3
         },
         {
          "date": "2013-11-21T00:00:00",
          "precipitation": 0.0,
          "temp_max": 7.8,
          "temp_min": -0.5,
          "weather": "sun",
          "wind": 3.6
         },
         {
          "date": "2013-11-22T00:00:00",
          "precipitation": 0.0,
          "temp_max": 9.4,
          "temp_min": 0.0,
          "weather": "sun",
          "wind": 4.6
         },
         {
          "date": "2013-11-23T00:00:00",
          "precipitation": 0.0,
          "temp_max": 11.1,
          "temp_min": 1.1,
          "weather": "sun",
          "wind": 2.6
         },
         {
          "date": "2013-11-24T00:00:00",
          "precipitation": 0.0,
          "temp_max": 11.7,
          "temp_min": 0.6,
          "weather": "fog",
          "wind": 0.9
         },
         {
          "date": "2013-11-25T00:00:00",
          "precipitation": 0.0,
          "temp_max": 12.2,
          "temp_min": 2.2,
          "weather": "sun",
          "wind": 0.5
         },
         {
          "date": "2013-11-26T00:00:00",
          "precipitation": 0.0,
          "temp_max": 12.2,
          "temp_min": 2.8,
          "weather": "sun",
          "wind": 1.0
         },
         {
          "date": "2013-11-27T00:00:00",
          "precipitation": 0.0,
          "temp_max": 14.4,
          "temp_min": 5.6,
          "weather": "sun",
          "wind": 1.3
         },
         {
          "date": "2013-11-28T00:00:00",
          "precipitation": 0.0,
          "temp_max": 11.7,
          "temp_min": 3.3,
          "weather": "sun",
          "wind": 0.7
         },
         {
          "date": "2013-11-29T00:00:00",
          "precipitation": 0.5,
          "temp_max": 9.4,
          "temp_min": 5.0,
          "weather": "fog",
          "wind": 2.1
         },
         {
          "date": "2013-11-30T00:00:00",
          "precipitation": 2.3,
          "temp_max": 11.1,
          "temp_min": 7.2,
          "weather": "fog",
          "wind": 3.9
         },
         {
          "date": "2013-12-01T00:00:00",
          "precipitation": 3.0,
          "temp_max": 13.3,
          "temp_min": 7.8,
          "weather": "fog",
          "wind": 8.8
         },
         {
          "date": "2013-12-02T00:00:00",
          "precipitation": 4.6,
          "temp_max": 7.8,
          "temp_min": 1.7,
          "weather": "sun",
          "wind": 3.5
         },
         {
          "date": "2013-12-03T00:00:00",
          "precipitation": 0.0,
          "temp_max": 5.0,
          "temp_min": -0.5,
          "weather": "sun",
          "wind": 5.6
         },
         {
          "date": "2013-12-04T00:00:00",
          "precipitation": 0.0,
          "temp_max": 4.4,
          "temp_min": -2.1,
          "weather": "sun",
          "wind": 1.6
         },
         {
          "date": "2013-12-05T00:00:00",
          "precipitation": 0.0,
          "temp_max": 1.1,
          "temp_min": -4.9,
          "weather": "sun",
          "wind": 2.6
         },
         {
          "date": "2013-12-06T00:00:00",
          "precipitation": 0.0,
          "temp_max": 1.1,
          "temp_min": -4.3,
          "weather": "sun",
          "wind": 4.7
         },
         {
          "date": "2013-12-07T00:00:00",
          "precipitation": 0.0,
          "temp_max": 0.0,
          "temp_min": -7.1,
          "weather": "sun",
          "wind": 3.1
         },
         {
          "date": "2013-12-08T00:00:00",
          "precipitation": 0.0,
          "temp_max": 2.2,
          "temp_min": -6.6,
          "weather": "sun",
          "wind": 2.2
         },
         {
          "date": "2013-12-09T00:00:00",
          "precipitation": 0.0,
          "temp_max": 1.1,
          "temp_min": -4.9,
          "weather": "sun",
          "wind": 1.3
         },
         {
          "date": "2013-12-10T00:00:00",
          "precipitation": 0.0,
          "temp_max": 5.6,
          "temp_min": 0.6,
          "weather": "sun",
          "wind": 1.5
         },
         {
          "date": "2013-12-11T00:00:00",
          "precipitation": 0.0,
          "temp_max": 5.0,
          "temp_min": -1.6,
          "weather": "sun",
          "wind": 0.8
         },
         {
          "date": "2013-12-12T00:00:00",
          "precipitation": 6.9,
          "temp_max": 5.6,
          "temp_min": -0.5,
          "weather": "sun",
          "wind": 2.3
         },
         {
          "date": "2013-12-13T00:00:00",
          "precipitation": 0.5,
          "temp_max": 9.4,
          "temp_min": 5.6,
          "weather": "fog",
          "wind": 2.9
         },
         {
          "date": "2013-12-14T00:00:00",
          "precipitation": 0.0,
          "temp_max": 9.4,
          "temp_min": 6.1,
          "weather": "sun",
          "wind": 3.7
         },
         {
          "date": "2013-12-15T00:00:00",
          "precipitation": 1.3,
          "temp_max": 11.7,
          "temp_min": 8.3,
          "weather": "fog",
          "wind": 3.9
         },
         {
          "date": "2013-12-16T00:00:00",
          "precipitation": 0.3,
          "temp_max": 10.0,
          "temp_min": 4.4,
          "weather": "sun",
          "wind": 1.0
         },
         {
          "date": "2013-12-17T00:00:00",
          "precipitation": 0.0,
          "temp_max": 8.3,
          "temp_min": 4.4,
          "weather": "sun",
          "wind": 2.7
         },
         {
          "date": "2013-12-18T00:00:00",
          "precipitation": 1.3,
          "temp_max": 7.8,
          "temp_min": 2.2,
          "weather": "fog",
          "wind": 2.8
         },
         {
          "date": "2013-12-19T00:00:00",
          "precipitation": 0.0,
          "temp_max": 5.0,
          "temp_min": 0.0,
          "weather": "sun",
          "wind": 2.1
         },
         {
          "date": "2013-12-20T00:00:00",
          "precipitation": 5.6,
          "temp_max": 8.3,
          "temp_min": 0.6,
          "weather": "fog",
          "wind": 3.7
         },
         {
          "date": "2013-12-21T00:00:00",
          "precipitation": 5.6,
          "temp_max": 8.9,
          "temp_min": 5.6,
          "weather": "fog",
          "wind": 2.3
         },
         {
          "date": "2013-12-22T00:00:00",
          "precipitation": 10.7,
          "temp_max": 10.6,
          "temp_min": 8.3,
          "weather": "fog",
          "wind": 4.0
         },
         {
          "date": "2013-12-23T00:00:00",
          "precipitation": 1.5,
          "temp_max": 11.7,
          "temp_min": 6.1,
          "weather": "fog",
          "wind": 5.9
         },
         {
          "date": "2013-12-24T00:00:00",
          "precipitation": 0.0,
          "temp_max": 8.3,
          "temp_min": 2.8,
          "weather": "sun",
          "wind": 1.7
         },
         {
          "date": "2013-12-25T00:00:00",
          "precipitation": 0.0,
          "temp_max": 6.7,
          "temp_min": 1.7,
          "weather": "sun",
          "wind": 0.8
         },
         {
          "date": "2013-12-26T00:00:00",
          "precipitation": 0.0,
          "temp_max": 6.7,
          "temp_min": 0.6,
          "weather": "sun",
          "wind": 0.5
         },
         {
          "date": "2013-12-27T00:00:00",
          "precipitation": 0.3,
          "temp_max": 8.9,
          "temp_min": 0.0,
          "weather": "fog",
          "wind": 2.1
         },
         {
          "date": "2013-12-28T00:00:00",
          "precipitation": 0.0,
          "temp_max": 9.4,
          "temp_min": 3.3,
          "weather": "sun",
          "wind": 1.3
         },
         {
          "date": "2013-12-29T00:00:00",
          "precipitation": 0.0,
          "temp_max": 7.2,
          "temp_min": 1.7,
          "weather": "sun",
          "wind": 1.1
         },
         {
          "date": "2013-12-30T00:00:00",
          "precipitation": 0.3,
          "temp_max": 8.9,
          "temp_min": 4.4,
          "weather": "sun",
          "wind": 2.6
         },
         {
          "date": "2013-12-31T00:00:00",
          "precipitation": 0.5,
          "temp_max": 8.3,
          "temp_min": 5.0,
          "weather": "sun",
          "wind": 1.7
         },
         {
          "date": "2014-01-01T00:00:00",
          "precipitation": 0.0,
          "temp_max": 7.2,
          "temp_min": 3.3,
          "weather": "sun",
          "wind": 1.2
         },
         {
          "date": "2014-01-02T00:00:00",
          "precipitation": 4.1,
          "temp_max": 10.6,
          "temp_min": 6.1,
          "weather": "sun",
          "wind": 3.2
         },
         {
          "date": "2014-01-03T00:00:00",
          "precipitation": 1.5,
          "temp_max": 8.9,
          "temp_min": 2.8,
          "weather": "fog",
          "wind": 2.6
         },
         {
          "date": "2014-01-04T00:00:00",
          "precipitation": 0.0,
          "temp_max": 7.8,
          "temp_min": 0.6,
          "weather": "fog",
          "wind": 2.7
         },
         {
          "date": "2014-01-05T00:00:00",
          "precipitation": 0.0,
          "temp_max": 8.3,
          "temp_min": -0.5,
          "weather": "sun",
          "wind": 3.7
         },
         {
          "date": "2014-01-06T00:00:00",
          "precipitation": 0.3,
          "temp_max": 7.8,
          "temp_min": -0.5,
          "weather": "fog",
          "wind": 2.6
         },
         {
          "date": "2014-01-07T00:00:00",
          "precipitation": 12.2,
          "temp_max": 8.3,
          "temp_min": 5.0,
          "weather": "sun",
          "wind": 1.6
         },
         {
          "date": "2014-01-08T00:00:00",
          "precipitation": 9.7,
          "temp_max": 10.0,
          "temp_min": 7.2,
          "weather": "fog",
          "wind": 4.6
         },
         {
          "date": "2014-01-09T00:00:00",
          "precipitation": 5.8,
          "temp_max": 9.4,
          "temp_min": 5.6,
          "weather": "fog",
          "wind": 6.3
         },
         {
          "date": "2014-01-10T00:00:00",
          "precipitation": 4.3,
          "temp_max": 12.8,
          "temp_min": 8.3,
          "weather": "sun",
          "wind": 7.0
         },
         {
          "date": "2014-01-11T00:00:00",
          "precipitation": 21.3,
          "temp_max": 14.4,
          "temp_min": 7.2,
          "weather": "fog",
          "wind": 8.8
         },
         {
          "date": "2014-01-12T00:00:00",
          "precipitation": 1.5,
          "temp_max": 11.1,
          "temp_min": 5.6,
          "weather": "fog",
          "wind": 8.1
         },
         {
          "date": "2014-01-13T00:00:00",
          "precipitation": 0.0,
          "temp_max": 10.6,
          "temp_min": 10.0,
          "weather": "sun",
          "wind": 7.1
         },
         {
          "date": "2014-01-14T00:00:00",
          "precipitation": 0.0,
          "temp_max": 11.1,
          "temp_min": 7.2,
          "weather": "sun",
          "wind": 1.3
         },
         {
          "date": "2014-01-15T00:00:00",
          "precipitation": 0.0,
          "temp_max": 11.1,
          "temp_min": 5.6,
          "weather": "sun",
          "wind": 2.5
         },
         {
          "date": "2014-01-16T00:00:00",
          "precipitation": 0.0,
          "temp_max": 6.7,
          "temp_min": 4.4,
          "weather": "sun",
          "wind": 2.7
         },
         {
          "date": "2014-01-17T00:00:00",
          "precipitation": 0.0,
          "temp_max": 5.6,
          "temp_min": 2.8,
          "weather": "sun",
          "wind": 2.3
         },
         {
          "date": "2014-01-18T00:00:00",
          "precipitation": 0.0,
          "temp_max": 9.4,
          "temp_min": 0.6,
          "weather": "sun",
          "wind": 2.2
         },
         {
          "date": "2014-01-19T00:00:00",
          "precipitation": 0.0,
          "temp_max": 6.1,
          "temp_min": 3.3,
          "weather": "sun",
          "wind": 2.5
         },
         {
          "date": "2014-01-20T00:00:00",
          "precipitation": 0.0,
          "temp_max": 10.0,
          "temp_min": 2.8,
          "weather": "sun",
          "wind": 2.2
         },
         {
          "date": "2014-01-21T00:00:00",
          "precipitation": 0.0,
          "temp_max": 10.0,
          "temp_min": 1.7,
          "weather": "sun",
          "wind": 1.5
         },
         {
          "date": "2014-01-22T00:00:00",
          "precipitation": 0.5,
          "temp_max": 9.4,
          "temp_min": 5.6,
          "weather": "sun",
          "wind": 2.6
         },
         {
          "date": "2014-01-23T00:00:00",
          "precipitation": 0.0,
          "temp_max": 10.0,
          "temp_min": 2.8,
          "weather": "fog",
          "wind": 5.2
         },
         {
          "date": "2014-01-24T00:00:00",
          "precipitation": 0.0,
          "temp_max": 12.8,
          "temp_min": 1.1,
          "weather": "sun",
          "wind": 1.9
         },
         {
          "date": "2014-01-25T00:00:00",
          "precipitation": 0.0,
          "temp_max": 12.2,
          "temp_min": 1.1,
          "weather": "sun",
          "wind": 0.8
         },
         {
          "date": "2014-01-26T00:00:00",
          "precipitation": 0.0,
          "temp_max": 8.3,
          "temp_min": 0.6,
          "weather": "sun",
          "wind": 1.3
         },
         {
          "date": "2014-01-27T00:00:00",
          "precipitation": 0.0,
          "temp_max": 9.4,
          "temp_min": 1.7,
          "weather": "sun",
          "wind": 1.3
         },
         {
          "date": "2014-01-28T00:00:00",
          "precipitation": 8.9,
          "temp_max": 11.1,
          "temp_min": 6.1,
          "weather": "fog",
          "wind": 1.6
         },
         {
          "date": "2014-01-29T00:00:00",
          "precipitation": 21.6,
          "temp_max": 11.1,
          "temp_min": 7.2,
          "weather": "fog",
          "wind": 3.4
         },
         {
          "date": "2014-01-30T00:00:00",
          "precipitation": 0.0,
          "temp_max": 8.3,
          "temp_min": 6.1,
          "weather": "sun",
          "wind": 6.4
         },
         {
          "date": "2014-01-31T00:00:00",
          "precipitation": 2.3,
          "temp_max": 7.8,
          "temp_min": 5.6,
          "weather": "fog",
          "wind": 2.6
         },
         {
          "date": "2014-02-01T00:00:00",
          "precipitation": 2.0,
          "temp_max": 7.8,
          "temp_min": 2.8,
          "weather": "sun",
          "wind": 0.8
         },
         {
          "date": "2014-02-02T00:00:00",
          "precipitation": 0.0,
          "temp_max": 8.9,
          "temp_min": 1.1,
          "weather": "sun",
          "wind": 2.5
         },
         {
          "date": "2014-02-03T00:00:00",
          "precipitation": 0.0,
          "temp_max": 5.0,
          "temp_min": 0.0,
          "weather": "sun",
          "wind": 4.3
         },
         {
          "date": "2014-02-04T00:00:00",
          "precipitation": 0.0,
          "temp_max": 2.8,
          "temp_min": -2.1,
          "weather": "sun",
          "wind": 4.7
         },
         {
          "date": "2014-02-05T00:00:00",
          "precipitation": 0.0,
          "temp_max": -0.5,
          "temp_min": -5.5,
          "weather": "sun",
          "wind": 6.6
         },
         {
          "date": "2014-02-06T00:00:00",
          "precipitation": 0.0,
          "temp_max": -1.6,
          "temp_min": -6.0,
          "weather": "sun",
          "wind": 4.5
         },
         {
          "date": "2014-02-07T00:00:00",
          "precipitation": 0.0,
          "temp_max": 3.3,
          "temp_min": -4.9,
          "weather": "sun",
          "wind": 4.2
         },
         {
          "date": "2014-02-08T00:00:00",
          "precipitation": 5.1,
          "temp_max": 5.6,
          "temp_min": -0.5,
          "weather": "fog",
          "wind": 4.6
         },
         {
          "date": "2014-02-09T00:00:00",
          "precipitation": 0.5,
          "temp_max": 3.9,
          "temp_min": 0.0,
          "weather": "fog",
          "wind": 2.4
         },
         {
          "date": "2014-02-10T00:00:00",
          "precipitation": 18.3,
          "temp_max": 10.0,
          "temp_min": 2.2,
          "weather": "fog",
          "wind": 4.7
         },
         {
          "date": "2014-02-11T00:00:00",
          "precipitation": 17.0,
          "temp_max": 12.2,
          "temp_min": 5.6,
          "weather": "fog",
          "wind": 3.8
         },
         {
          "date": "2014-02-12T00:00:00",
          "precipitation": 4.6,
          "temp_max": 12.2,
          "temp_min": 7.2,
          "weather": "fog",
          "wind": 6.4
         },
         {
          "date": "2014-02-13T00:00:00",
          "precipitation": 1.8,
          "temp_max": 12.8,
          "temp_min": 7.8,
          "weather": "fog",
          "wind": 6.3
         },
         {
          "date": "2014-02-14T00:00:00",
          "precipitation": 9.4,
          "temp_max": 11.7,
          "temp_min": 6.1,
          "weather": "fog",
          "wind": 6.4
         },
         {
          "date": "2014-02-15T00:00:00",
          "precipitation": 11.7,
          "temp_max": 11.1,
          "temp_min": 5.0,
          "weather": "fog",
          "wind": 5.1
         },
         {
          "date": "2014-02-16T00:00:00",
          "precipitation": 26.4,
          "temp_max": 9.4,
          "temp_min": 3.9,
          "weather": "fog",
          "wind": 7.9
         },
         {
          "date": "2014-02-17T00:00:00",
          "precipitation": 14.5,
          "temp_max": 8.3,
          "temp_min": 4.4,
          "weather": "fog",
          "wind": 5.5
         },
         {
          "date": "2014-02-18T00:00:00",
          "precipitation": 15.2,
          "temp_max": 8.9,
          "temp_min": 5.0,
          "weather": "fog",
          "wind": 6.2
         },
         {
          "date": "2014-02-19T00:00:00",
          "precipitation": 1.0,
          "temp_max": 8.3,
          "temp_min": 3.9,
          "weather": "sun",
          "wind": 6.0
         },
         {
          "date": "2014-02-20T00:00:00",
          "precipitation": 3.0,
          "temp_max": 10.0,
          "temp_min": 5.6,
          "weather": "fog",
          "wind": 6.9
         },
         {
          "date": "2014-02-21T00:00:00",
          "precipitation": 2.8,
          "temp_max": 6.7,
          "temp_min": 3.9,
          "weather": "fog",
          "wind": 2.9
         },
         {
          "date": "2014-02-22T00:00:00",
          "precipitation": 2.5,
          "temp_max": 5.6,
          "temp_min": 2.8,
          "weather": "fog",
          "wind": 3.1
         },
         {
          "date": "2014-02-23T00:00:00",
          "precipitation": 6.1,
          "temp_max": 7.2,
          "temp_min": 3.9,
          "weather": "fog",
          "wind": 2.6
         },
         {
          "date": "2014-02-24T00:00:00",
          "precipitation": 13.0,
          "temp_max": 6.7,
          "temp_min": 3.3,
          "weather": "fog",
          "wind": 3.2
         },
         {
          "date": "2014-02-25T00:00:00",
          "precipitation": 0.3,
          "temp_max": 12.2,
          "temp_min": 3.9,
          "weather": "fog",
          "wind": 4.5
         },
         {
          "date": "2014-02-26T00:00:00",
          "precipitation": 0.0,
          "temp_max": 13.9,
          "temp_min": 5.6,
          "weather": "sun",
          "wind": 2.5
         },
         {
          "date": "2014-02-27T00:00:00",
          "precipitation": 0.0,
          "temp_max": 12.8,
          "temp_min": 4.4,
          "weather": "sun",
          "wind": 2.3
         },
         {
          "date": "2014-02-28T00:00:00",
          "precipitation": 0.0,
          "temp_max": 14.4,
          "temp_min": 4.4,
          "weather": "sun",
          "wind": 5.9
         },
         {
          "date": "2014-03-01T00:00:00",
          "precipitation": 0.5,
          "temp_max": 7.2,
          "temp_min": 4.4,
          "weather": "sun",
          "wind": 4.7
         },
         {
          "date": "2014-03-02T00:00:00",
          "precipitation": 19.1,
          "temp_max": 11.1,
          "temp_min": 2.8,
          "weather": "fog",
          "wind": 5.7
         },
         {
          "date": "2014-03-03T00:00:00",
          "precipitation": 10.7,
          "temp_max": 14.4,
          "temp_min": 8.9,
          "weather": "fog",
          "wind": 5.1
         },
         {
          "date": "2014-03-04T00:00:00",
          "precipitation": 16.5,
          "temp_max": 13.9,
          "temp_min": 7.8,
          "weather": "fog",
          "wind": 3.9
         },
         {
          "date": "2014-03-05T00:00:00",
          "precipitation": 46.7,
          "temp_max": 15.6,
          "temp_min": 10.6,
          "weather": "fog",
          "wind": 3.9
         },
         {
          "date": "2014-03-06T00:00:00",
          "precipitation": 3.0,
          "temp_max": 13.3,
          "temp_min": 10.0,
          "weather": "fog",
          "wind": 6.2
         },
         {
          "date": "2014-03-07T00:00:00",
          "precipitation": 0.0,
          "temp_max": 15.6,
          "temp_min": 8.9,
          "weather": "sun",
          "wind": 4.2
         },
         {
          "date": "2014-03-08T00:00:00",
          "precipitation": 32.3,
          "temp_max": 12.8,
          "temp_min": 6.7,
          "weather": "fog",
          "wind": 2.7
         },
         {
          "date": "2014-03-09T00:00:00",
          "precipitation": 4.3,
          "temp_max": 15.0,
          "temp_min": 9.4,
          "weather": "fog",
          "wind": 4.3
         },
         {
          "date": "2014-03-10T00:00:00",
          "precipitation": 18.8,
          "temp_max": 12.2,
          "temp_min": 6.1,
          "weather": "fog",
          "wind": 2.2
         },
         {
          "date": "2014-03-11T00:00:00",
          "precipitation": 0.0,
          "temp_max": 14.4,
          "temp_min": 4.4,
          "weather": "fog",
          "wind": 2.3
         },
         {
          "date": "2014-03-12T00:00:00",
          "precipitation": 0.0,
          "temp_max": 16.1,
          "temp_min": 3.3,
          "weather": "fog",
          "wind": 1.9
         },
         {
          "date": "2014-03-13T00:00:00",
          "precipitation": 0.5,
          "temp_max": 13.9,
          "temp_min": 5.0,
          "weather": "fog",
          "wind": 2.5
         },
         {
          "date": "2014-03-14T00:00:00",
          "precipitation": 6.9,
          "temp_max": 14.4,
          "temp_min": 8.3,
          "weather": "fog",
          "wind": 6.1
         },
         {
          "date": "2014-03-15T00:00:00",
          "precipitation": 8.1,
          "temp_max": 16.7,
          "temp_min": 4.4,
          "weather": "fog",
          "wind": 3.0
         },
         {
          "date": "2014-03-16T00:00:00",
          "precipitation": 27.7,
          "temp_max": 10.6,
          "temp_min": 4.4,
          "weather": "fog",
          "wind": 3.8
         },
         {
          "date": "2014-03-17T00:00:00",
          "precipitation": 0.3,
          "temp_max": 10.0,
          "temp_min": 2.8,
          "weather": "fog",
          "wind": 3.2
         },
         {
          "date": "2014-03-18T00:00:00",
          "precipitation": 0.0,
          "temp_max": 10.0,
          "temp_min": 3.3,
          "weather": "sun",
          "wind": 1.6
         },
         {
          "date": "2014-03-19T00:00:00",
          "precipitation": 0.5,
          "temp_max": 11.1,
          "temp_min": 3.3,
          "weather": "sun",
          "wind": 5.1
         },
         {
          "date": "2014-03-20T00:00:00",
          "precipitation": 0.0,
          "temp_max": 11.1,
          "temp_min": 1.7,
          "weather": "sun",
          "wind": 3.0
         },
         {
          "date": "2014-03-21T00:00:00",
          "precipitation": 0.0,
          "temp_max": 10.6,
          "temp_min": 2.8,
          "weather": "sun",
          "wind": 3.8
         },
         {
          "date": "2014-03-22T00:00:00",
          "precipitation": 0.0,
          "temp_max": 11.1,
          "temp_min": 1.1,
          "weather": "sun",
          "wind": 1.8
         },
         {
          "date": "2014-03-23T00:00:00",
          "precipitation": 0.0,
          "temp_max": 12.8,
          "temp_min": 4.4,
          "weather": "sun",
          "wind": 3.3
         },
         {
          "date": "2014-03-24T00:00:00",
          "precipitation": 0.0,
          "temp_max": 18.9,
          "temp_min": 2.8,
          "weather": "sun",
          "wind": 2.2
         },
         {
          "date": "2014-03-25T00:00:00",
          "precipitation": 4.1,
          "temp_max": 13.9,
          "temp_min": 6.7,
          "weather": "fog",
          "wind": 4.4
         },
         {
          "date": "2014-03-26T00:00:00",
          "precipitation": 3.6,
          "temp_max": 11.1,
          "temp_min": 5.6,
          "weather": "fog",
          "wind": 2.4
         },
         {
          "date": "2014-03-27T00:00:00",
          "precipitation": 0.3,
          "temp_max": 12.2,
          "temp_min": 6.7,
          "weather": "fog",
          "wind": 2.8
         },
         {
          "date": "2014-03-28T00:00:00",
          "precipitation": 22.1,
          "temp_max": 11.7,
          "temp_min": 7.2,
          "weather": "fog",
          "wind": 3.9
         },
         {
          "date": "2014-03-29T00:00:00",
          "precipitation": 14.0,
          "temp_max": 11.7,
          "temp_min": 7.2,
          "weather": "fog",
          "wind": 5.1
         },
         {
          "date": "2014-03-30T00:00:00",
          "precipitation": 0.0,
          "temp_max": 11.1,
          "temp_min": 5.0,
          "weather": "sun",
          "wind": 5.1
         },
         {
          "date": "2014-03-31T00:00:00",
          "precipitation": 0.0,
          "temp_max": 15.6,
          "temp_min": 2.2,
          "weather": "sun",
          "wind": 3.8
         },
         {
          "date": "2014-04-01T00:00:00",
          "precipitation": 0.0,
          "temp_max": 14.4,
          "temp_min": 6.7,
          "weather": "sun",
          "wind": 2.8
         },
         {
          "date": "2014-04-02T00:00:00",
          "precipitation": 0.0,
          "temp_max": 14.4,
          "temp_min": 5.6,
          "weather": "sun",
          "wind": 4.2
         },
         {
          "date": "2014-04-03T00:00:00",
          "precipitation": 2.5,
          "temp_max": 13.3,
          "temp_min": 6.1,
          "weather": "sun",
          "wind": 3.9
         },
         {
          "date": "2014-04-04T00:00:00",
          "precipitation": 0.0,
          "temp_max": 12.8,
          "temp_min": 6.1,
          "weather": "sun",
          "wind": 4.7
         },
         {
          "date": "2014-04-05T00:00:00",
          "precipitation": 4.6,
          "temp_max": 11.7,
          "temp_min": 7.8,
          "weather": "fog",
          "wind": 4.3
         },
         {
          "date": "2014-04-06T00:00:00",
          "precipitation": 0.0,
          "temp_max": 13.9,
          "temp_min": 8.3,
          "weather": "sun",
          "wind": 2.6
         },
         {
          "date": "2014-04-07T00:00:00",
          "precipitation": 0.0,
          "temp_max": 21.1,
          "temp_min": 9.4,
          "weather": "sun",
          "wind": 2.5
         },
         {
          "date": "2014-04-08T00:00:00",
          "precipitation": 4.6,
          "temp_max": 15.6,
          "temp_min": 8.3,
          "weather": "fog",
          "wind": 4.2
         },
         {
          "date": "2014-04-09T00:00:00",
          "precipitation": 0.0,
          "temp_max": 14.4,
          "temp_min": 6.7,
          "weather": "sun",
          "wind": 2.9
         },
         {
          "date": "2014-04-10T00:00:00",
          "precipitation": 0.0,
          "temp_max": 15.0,
          "temp_min": 6.7,
          "weather": "sun",
          "wind": 3.6
         },
         {
          "date": "2014-04-11T00:00:00",
          "precipitation": 0.0,
          "temp_max": 17.2,
          "temp_min": 5.0,
          "weather": "sun",
          "wind": 2.8
         },
         {
          "date": "2014-04-12T00:00:00",
          "precipitation": 0.0,
          "temp_max": 16.1,
          "temp_min": 7.8,
          "weather": "sun",
          "wind": 4.4
         },
         {
          "date": "2014-04-13T00:00:00",
          "precipitation": 0.0,
          "temp_max": 20.6,
          "temp_min": 5.6,
          "weather": "sun",
          "wind": 3.1
         },
         {
          "date": "2014-04-14T00:00:00",
          "precipitation": 0.0,
          "temp_max": 20.0,
          "temp_min": 5.6,
          "weather": "sun",
          "wind": 2.6
         },
         {
          "date": "2014-04-15T00:00:00",
          "precipitation": 0.5,
          "temp_max": 14.4,
          "temp_min": 7.8,
          "weather": "sun",
          "wind": 4.0
         },
         {
          "date": "2014-04-16T00:00:00",
          "precipitation": 10.9,
          "temp_max": 11.1,
          "temp_min": 8.9,
          "weather": "fog",
          "wind": 4.6
         },
         {
          "date": "2014-04-17T00:00:00",
          "precipitation": 18.5,
          "temp_max": 11.7,
          "temp_min": 7.2,
          "weather": "fog",
          "wind": 4.7
         },
         {
          "date": "2014-04-18T00:00:00",
          "precipitation": 0.0,
          "temp_max": 14.4,
          "temp_min": 5.6,
          "weather": "sun",
          "wind": 3.8
         },
         {
          "date": "2014-04-19T00:00:00",
          "precipitation": 13.7,
          "temp_max": 11.7,
          "temp_min": 5.6,
          "weather": "fog",
          "wind": 4.7
         },
         {
          "date": "2014-04-20T00:00:00",
          "precipitation": 0.0,
          "temp_max": 15.6,
          "temp_min": 5.6,
          "weather": "sun",
          "wind": 2.7
         },
         {
          "date": "2014-04-21T00:00:00",
          "precipitation": 5.1,
          "temp_max": 17.2,
          "temp_min": 7.8,
          "weather": "fog",
          "wind": 2.5
         },
         {
          "date": "2014-04-22T00:00:00",
          "precipitation": 14.2,
          "temp_max": 12.2,
          "temp_min": 5.0,
          "weather": "fog",
          "wind": 4.2
         },
         {
          "date": "2014-04-23T00:00:00",
          "precipitation": 8.9,
          "temp_max": 11.7,
          "temp_min": 6.1,
          "weather": "fog",
          "wind": 5.0
         },
         {
          "date": "2014-04-24T00:00:00",
          "precipitation": 12.4,
          "temp_max": 13.9,
          "temp_min": 6.1,
          "weather": "fog",
          "wind": 5.3
         },
         {
          "date": "2014-04-25T00:00:00",
          "precipitation": 0.0,
          "temp_max": 14.4,
          "temp_min": 5.6,
          "weather": "sun",
          "wind": 2.3
         },
         {
          "date": "2014-04-26T00:00:00",
          "precipitation": 3.3,
          "temp_max": 15.0,
          "temp_min": 5.6,
          "weather": "sun",
          "wind": 3.9
         },
         {
          "date": "2014-04-27T00:00:00",
          "precipitation": 6.9,
          "temp_max": 11.1,
          "temp_min": 6.1,
          "weather": "fog",
          "wind": 5.8
         },
         {
          "date": "2014-04-28T00:00:00",
          "precipitation": 0.0,
          "temp_max": 16.1,
          "temp_min": 4.4,
          "weather": "sun",
          "wind": 2.6
         },
         {
          "date": "2014-04-29T00:00:00",
          "precipitation": 0.0,
          "temp_max": 25.0,
          "temp_min": 9.4,
          "weather": "sun",
          "wind": 2.3
         },
         {
          "date": "2014-04-30T00:00:00",
          "precipitation": 0.0,
          "temp_max": 27.8,
          "temp_min": 9.4,
          "weather": "sun",
          "wind": 3.9
         },
         {
          "date": "2014-05-01T00:00:00",
          "precipitation": 0.0,
          "temp_max": 29.4,
          "temp_min": 11.1,
          "weather": "sun",
          "wind": 3.0
         },
         {
          "date": "2014-05-02T00:00:00",
          "precipitation": 0.0,
          "temp_max": 18.3,
          "temp_min": 10.6,
          "weather": "sun",
          "wind": 4.7
         },
         {
          "date": "2014-05-03T00:00:00",
          "precipitation": 33.3,
          "temp_max": 15.0,
          "temp_min": 8.9,
          "weather": "fog",
          "wind": 3.4
         },
         {
          "date": "2014-05-04T00:00:00",
          "precipitation": 16.0,
          "temp_max": 14.4,
          "temp_min": 8.9,
          "weather": "fog",
          "wind": 4.2
         },
         {
          "date": "2014-05-05T00:00:00",
          "precipitation": 5.1,
          "temp_max": 15.6,
          "temp_min": 9.4,
          "weather": "fog",
          "wind": 3.8
         },
         {
          "date": "2014-05-06T00:00:00",
          "precipitation": 0.0,
          "temp_max": 16.7,
          "temp_min": 8.3,
          "weather": "sun",
          "wind": 2.6
         },
         {
          "date": "2014-05-07T00:00:00",
          "precipitation": 0.0,
          "temp_max": 18.3,
          "temp_min": 7.2,
          "weather": "sun",
          "wind": 1.7
         },
         {
          "date": "2014-05-08T00:00:00",
          "precipitation": 13.7,
          "temp_max": 13.9,
          "temp_min": 9.4,
          "weather": "fog",
          "wind": 3.4
         },
         {
          "date": "2014-05-09T00:00:00",
          "precipitation": 2.0,
          "temp_max": 13.3,
          "temp_min": 7.2,
          "weather": "sun",
          "wind": 5.6
         },
         {
          "date": "2014-05-10T00:00:00",
          "precipitation": 0.5,
          "temp_max": 15.6,
          "temp_min": 7.2,
          "weather": "fog",
          "wind": 2.1
         },
         {
          "date": "2014-05-11T00:00:00",
          "precipitation": 0.0,
          "temp_max": 18.9,
          "temp_min": 8.3,
          "weather": "sun",
          "wind": 1.7
         },
         {
          "date": "2014-05-12T00:00:00",
          "precipitation": 0.0,
          "temp_max": 24.4,
          "temp_min": 9.4,
          "weather": "sun",
          "wind": 2.7
         },
         {
          "date": "2014-05-13T00:00:00",
          "precipitation": 0.0,
          "temp_max": 26.7,
          "temp_min": 12.8,
          "weather": "sun",
          "wind": 3.8
         },
         {
          "date": "2014-05-14T00:00:00",
          "precipitation": 0.0,
          "temp_max": 27.8,
          "temp_min": 13.3,
          "weather": "sun",
          "wind": 3.3
         },
         {
          "date": "2014-05-15T00:00:00",
          "precipitation": 0.0,
          "temp_max": 26.7,
          "temp_min": 12.8,
          "weather": "sun",
          "wind": 3.0
         },
         {
          "date": "2014-05-16T00:00:00",
          "precipitation": 0.0,
          "temp_max": 20.0,
          "temp_min": 11.7,
          "weather": "sun",
          "wind": 4.1
         },
         {
          "date": "2014-05-17T00:00:00",
          "precipitation": 0.0,
          "temp_max": 20.0,
          "temp_min": 11.7,
          "weather": "sun",
          "wind": 3.2
         },
         {
          "date": "2014-05-18T00:00:00",
          "precipitation": 0.0,
          "temp_max": 20.0,
          "temp_min": 10.6,
          "weather": "sun",
          "wind": 3.2
         },
         {
          "date": "2014-05-19T00:00:00",
          "precipitation": 0.0,
          "temp_max": 21.1,
          "temp_min": 10.0,
          "weather": "sun",
          "wind": 2.2
         },
         {
          "date": "2014-05-20T00:00:00",
          "precipitation": 0.0,
          "temp_max": 22.2,
          "temp_min": 10.0,
          "weather": "sun",
          "wind": 2.7
         },
         {
          "date": "2014-05-21T00:00:00",
          "precipitation": 0.0,
          "temp_max": 20.0,
          "temp_min": 10.6,
          "weather": "sun",
          "wind": 1.7
         },
         {
          "date": "2014-05-22T00:00:00",
          "precipitation": 0.0,
          "temp_max": 24.4,
          "temp_min": 11.7,
          "weather": "sun",
          "wind": 2.5
         },
         {
          "date": "2014-05-23T00:00:00",
          "precipitation": 3.8,
          "temp_max": 20.0,
          "temp_min": 12.8,
          "weather": "fog",
          "wind": 4.0
         },
         {
          "date": "2014-05-24T00:00:00",
          "precipitation": 0.0,
          "temp_max": 18.3,
          "temp_min": 11.1,
          "weather": "sun",
          "wind": 2.4
         },
         {
          "date": "2014-05-25T00:00:00",
          "precipitation": 5.6,
          "temp_max": 15.0,
          "temp_min": 10.6,
          "weather": "fog",
          "wind": 1.4
         },
         {
          "date": "2014-05-26T00:00:00",
          "precipitation": 0.0,
          "temp_max": 18.3,
          "temp_min": 11.1,
          "weather": "sun",
          "wind": 4.5
         },
         {
          "date": "2014-05-27T00:00:00",
          "precipitation": 0.0,
          "temp_max": 20.0,
          "temp_min": 10.0,
          "weather": "sun",
          "wind": 2.5
         },
         {
          "date": "2014-05-28T00:00:00",
          "precipitation": 0.0,
          "temp_max": 18.9,
          "temp_min": 10.0,
          "weather": "sun",
          "wind": 3.4
         },
         {
          "date": "2014-05-29T00:00:00",
          "precipitation": 0.0,
          "temp_max": 18.9,
          "temp_min": 11.1,
          "weather": "sun",
          "wind": 4.3
         },
         {
          "date": "2014-05-30T00:00:00",
          "precipitation": 0.0,
          "temp_max": 20.6,
          "temp_min": 8.9,
          "weather": "sun",
          "wind": 4.5
         },
         {
          "date": "2014-05-31T00:00:00",
          "precipitation": 0.0,
          "temp_max": 23.3,
          "temp_min": 10.0,
          "weather": "sun",
          "wind": 2.2
         },
         {
          "date": "2014-06-01T00:00:00",
          "precipitation": 0.0,
          "temp_max": 22.2,
          "temp_min": 10.6,
          "weather": "sun",
          "wind": 2.3
         },
         {
          "date": "2014-06-02T00:00:00",
          "precipitation": 0.0,
          "temp_max": 23.3,
          "temp_min": 11.1,
          "weather": "sun",
          "wind": 2.4
         },
         {
          "date": "2014-06-03T00:00:00",
          "precipitation": 0.0,
          "temp_max": 18.3,
          "temp_min": 11.1,
          "weather": "sun",
          "wind": 3.2
         },
         {
          "date": "2014-06-04T00:00:00",
          "precipitation": 0.0,
          "temp_max": 19.4,
          "temp_min": 10.0,
          "weather": "sun",
          "wind": 2.6
         },
         {
          "date": "2014-06-05T00:00:00",
          "precipitation": 0.0,
          "temp_max": 22.2,
          "temp_min": 10.0,
          "weather": "sun",
          "wind": 2.4
         },
         {
          "date": "2014-06-06T00:00:00",
          "precipitation": 0.0,
          "temp_max": 25.0,
          "temp_min": 10.6,
          "weather": "sun",
          "wind": 3.2
         },
         {
          "date": "2014-06-07T00:00:00",
          "precipitation": 0.0,
          "temp_max": 24.4,
          "temp_min": 13.3,
          "weather": "sun",
          "wind": 3.1
         },
         {
          "date": "2014-06-08T00:00:00",
          "precipitation": 0.0,
          "temp_max": 23.3,
          "temp_min": 12.2,
          "weather": "sun",
          "wind": 2.1
         },
         {
          "date": "2014-06-09T00:00:00",
          "precipitation": 0.0,
          "temp_max": 21.1,
          "temp_min": 13.3,
          "weather": "sun",
          "wind": 3.6
         },
         {
          "date": "2014-06-10T00:00:00",
          "precipitation": 0.0,
          "temp_max": 20.0,
          "temp_min": 12.2,
          "weather": "sun",
          "wind": 2.9
         },
         {
          "date": "2014-06-11T00:00:00",
          "precipitation": 0.0,
          "temp_max": 23.9,
          "temp_min": 11.1,
          "weather": "sun",
          "wind": 2.7
         },
         {
          "date": "2014-06-12T00:00:00",
          "precipitation": 1.8,
          "temp_max": 21.7,
          "temp_min": 12.2,
          "weather": "sun",
          "wind": 4.0
         },
         {
          "date": "2014-06-13T00:00:00",
          "precipitation": 6.4,
          "temp_max": 15.6,
          "temp_min": 11.1,
          "weather": "fog",
          "wind": 5.0
         },
         {
          "date": "2014-06-14T00:00:00",
          "precipitation": 0.0,
          "temp_max": 17.8,
          "temp_min": 11.7,
          "weather": "sun",
          "wind": 3.2
         },
         {
          "date": "2014-06-15T00:00:00",
          "precipitation": 0.5,
          "temp_max": 18.3,
          "temp_min": 10.0,
          "weather": "fog",
          "wind": 3.6
         },
         {
          "date": "2014-06-16T00:00:00",
          "precipitation": 3.6,
          "temp_max": 17.8,
          "temp_min": 8.9,
          "weather": "fog",
          "wind": 2.4
         },
         {
          "date": "2014-06-17T00:00:00",
          "precipitation": 1.3,
          "temp_max": 17.8,
          "temp_min": 10.0,
          "weather": "fog",
          "wind": 3.0
         },
         {
          "date": "2014-06-18T00:00:00",
          "precipitation": 0.0,
          "temp_max": 18.9,
          "temp_min": 11.1,
          "weather": "sun",
          "wind": 2.7
         },
         {
          "date": "2014-06-19T00:00:00",
          "precipitation": 0.8,
          "temp_max": 25.6,
          "temp_min": 11.7,
          "weather": "sun",
          "wind": 3.7
         },
         {
          "date": "2014-06-20T00:00:00",
          "precipitation": 0.3,
          "temp_max": 20.0,
          "temp_min": 10.0,
          "weather": "sun",
          "wind": 3.4
         },
         {
          "date": "2014-06-21T00:00:00",
          "precipitation": 0.0,
          "temp_max": 22.2,
          "temp_min": 10.6,
          "weather": "sun",
          "wind": 3.6
         },
         {
          "date": "2014-06-22T00:00:00",
          "precipitation": 0.0,
          "temp_max": 25.0,
          "temp_min": 11.1,
          "weather": "sun",
          "wind": 2.7
         },
         {
          "date": "2014-06-23T00:00:00",
          "precipitation": 0.0,
          "temp_max": 25.0,
          "temp_min": 13.3,
          "weather": "sun",
          "wind": 2.5
         },
         {
          "date": "2014-06-24T00:00:00",
          "precipitation": 0.0,
          "temp_max": 24.4,
          "temp_min": 14.4,
          "weather": "sun",
          "wind": 2.5
         },
         {
          "date": "2014-06-25T00:00:00",
          "precipitation": 0.0,
          "temp_max": 26.1,
          "temp_min": 13.9,
          "weather": "sun",
          "wind": 2.4
         },
         {
          "date": "2014-06-26T00:00:00",
          "precipitation": 0.0,
          "temp_max": 21.1,
          "temp_min": 14.4,
          "weather": "sun",
          "wind": 4.1
         },
         {
          "date": "2014-06-27T00:00:00",
          "precipitation": 1.8,
          "temp_max": 21.1,
          "temp_min": 13.9,
          "weather": "fog",
          "wind": 4.5
         },
         {
          "date": "2014-06-28T00:00:00",
          "precipitation": 2.3,
          "temp_max": 20.0,
          "temp_min": 13.3,
          "weather": "fog",
          "wind": 4.3
         },
         {
          "date": "2014-06-29T00:00:00",
          "precipitation": 0.0,
          "temp_max": 20.6,
          "temp_min": 12.8,
          "weather": "sun",
          "wind": 3.2
         },
         {
          "date": "2014-06-30T00:00:00",
          "precipitation": 0.0,
          "temp_max": 25.6,
          "temp_min": 12.8,
          "weather": "sun",
          "wind": 4.4
         },
         {
          "date": "2014-07-01T00:00:00",
          "precipitation": 0.0,
          "temp_max": 34.4,
          "temp_min": 15.6,
          "weather": "sun",
          "wind": 3.5
         },
         {
          "date": "2014-07-02T00:00:00",
          "precipitation": 0.0,
          "temp_max": 27.2,
          "temp_min": 14.4,
          "weather": "sun",
          "wind": 3.6
         },
         {
          "date": "2014-07-03T00:00:00",
          "precipitation": 0.0,
          "temp_max": 21.7,
          "temp_min": 13.9,
          "weather": "sun",
          "wind": 3.1
         },
         {
          "date": "2014-07-04T00:00:00",
          "precipitation": 0.0,
          "temp_max": 23.9,
          "temp_min": 13.9,
          "weather": "sun",
          "wind": 3.6
         },
         {
          "date": "2014-07-05T00:00:00",
          "precipitation": 0.0,
          "temp_max": 24.4,
          "temp_min": 13.3,
          "weather": "fog",
          "wind": 2.2
         },
         {
          "date": "2014-07-06T00:00:00",
          "precipitation": 0.0,
          "temp_max": 28.9,
          "temp_min": 15.0,
          "weather": "sun",
          "wind": 3.0
         },
         {
          "date": "2014-07-07T00:00:00",
          "precipitation": 0.0,
          "temp_max": 27.2,
          "temp_min": 17.8,
          "weather": "fog",
          "wind": 4.1
         },
         {
          "date": "2014-07-08T00:00:00",
          "precipitation": 0.0,
          "temp_max": 30.0,
          "temp_min": 15.6,
          "weather": "sun",
          "wind": 3.5
         },
         {
          "date": "2014-07-09T00:00:00",
          "precipitation": 0.0,
          "temp_max": 26.7,
          "temp_min": 13.9,
          "weather": "sun",
          "wind": 2.3
         },
         {
          "date": "2014-07-10T00:00:00",
          "precipitation": 0.0,
          "temp_max": 28.9,
          "temp_min": 12.8,
          "weather": "fog",
          "wind": 2.2
         },
         {
          "date": "2014-07-11T00:00:00",
          "precipitation": 0.0,
          "temp_max": 31.1,
          "temp_min": 15.0,
          "weather": "sun",
          "wind": 2.2
         },
         {
          "date": "2014-07-12T00:00:00",
          "precipitation": 0.0,
          "temp_max": 32.2,
          "temp_min": 16.7,
          "weather": "sun",
          "wind": 2.2
         },
         {
          "date": "2014-07-13T00:00:00",
          "precipitation": 0.0,
          "temp_max": 29.4,
          "temp_min": 15.0,
          "weather": "rain",
          "wind": 2.6
         },
         {
          "date": "2014-07-14T00:00:00",
          "precipitation": 0.0,
          "temp_max": 27.8,
          "temp_min": 15.0,
          "weather": "sun",
          "wind": 2.8
         },
         {
          "date": "2014-07-15T00:00:00",
          "precipitation": 0.0,
          "temp_max": 31.1,
          "temp_min": 13.9,
          "weather": "sun",
          "wind": 2.3
         },
         {
          "date": "2014-07-16T00:00:00",
          "precipitation": 0.0,
          "temp_max": 31.1,
          "temp_min": 14.4,
          "weather": "sun",
          "wind": 2.4
         },
         {
          "date": "2014-07-17T00:00:00",
          "precipitation": 0.0,
          "temp_max": 26.7,
          "temp_min": 13.9,
          "weather": "sun",
          "wind": 3.7
         },
         {
          "date": "2014-07-18T00:00:00",
          "precipitation": 0.0,
          "temp_max": 23.9,
          "temp_min": 11.7,
          "weather": "sun",
          "wind": 2.8
         },
         {
          "date": "2014-07-19T00:00:00",
          "precipitation": 0.0,
          "temp_max": 25.6,
          "temp_min": 15.0,
          "weather": "fog",
          "wind": 5.4
         },
         {
          "date": "2014-07-20T00:00:00",
          "precipitation": 0.0,
          "temp_max": 19.4,
          "temp_min": 14.4,
          "weather": "sun",
          "wind": 2.8
         },
         {
          "date": "2014-07-21T00:00:00",
          "precipitation": 0.0,
          "temp_max": 23.9,
          "temp_min": 13.3,
          "weather": "sun",
          "wind": 2.2
         },
         {
          "date": "2014-07-22T00:00:00",
          "precipitation": 0.3,
          "temp_max": 21.1,
          "temp_min": 13.3,
          "weather": "fog",
          "wind": 1.1
         },
         {
          "date": "2014-07-23T00:00:00",
          "precipitation": 19.3,
          "temp_max": 18.9,
          "temp_min": 13.3,
          "weather": "sun",
          "wind": 3.3
         },
         {
          "date": "2014-07-24T00:00:00",
          "precipitation": 0.0,
          "temp_max": 20.6,
          "temp_min": 12.8,
          "weather": "sun",
          "wind": 4.7
         },
         {
          "date": "2014-07-25T00:00:00",
          "precipitation": 0.0,
          "temp_max": 22.8,
          "temp_min": 12.2,
          "weather": "sun",
          "wind": 2.7
         },
         {
          "date": "2014-07-26T00:00:00",
          "precipitation": 0.0,
          "temp_max": 26.1,
          "temp_min": 13.3,
          "weather": "sun",
          "wind": 3.6
         },
         {
          "date": "2014-07-27T00:00:00",
          "precipitation": 0.0,
          "temp_max": 28.3,
          "temp_min": 15.0,
          "weather": "sun",
          "wind": 4.1
         },
         {
          "date": "2014-07-28T00:00:00",
          "precipitation": 0.0,
          "temp_max": 30.6,
          "temp_min": 15.0,
          "weather": "sun",
          "wind": 3.7
         },
         {
          "date": "2014-07-29T00:00:00",
          "precipitation": 0.0,
          "temp_max": 30.0,
          "temp_min": 15.6,
          "weather": "sun",
          "wind": 2.8
         },
         {
          "date": "2014-07-30T00:00:00",
          "precipitation": 0.0,
          "temp_max": 29.4,
          "temp_min": 14.4,
          "weather": "sun",
          "wind": 3.4
         },
         {
          "date": "2014-07-31T00:00:00",
          "precipitation": 0.0,
          "temp_max": 30.6,
          "temp_min": 17.8,
          "weather": "sun",
          "wind": 4.1
         },
         {
          "date": "2014-08-01T00:00:00",
          "precipitation": 0.0,
          "temp_max": 28.9,
          "temp_min": 15.0,
          "weather": "sun",
          "wind": 3.3
         },
         {
          "date": "2014-08-02T00:00:00",
          "precipitation": 0.5,
          "temp_max": 29.4,
          "temp_min": 15.6,
          "weather": "sun",
          "wind": 1.7
         },
         {
          "date": "2014-08-03T00:00:00",
          "precipitation": 0.0,
          "temp_max": 31.7,
          "temp_min": 14.4,
          "weather": "sun",
          "wind": 2.6
         },
         {
          "date": "2014-08-04T00:00:00",
          "precipitation": 0.0,
          "temp_max": 32.8,
          "temp_min": 16.1,
          "weather": "sun",
          "wind": 2.6
         },
         {
          "date": "2014-08-05T00:00:00",
          "precipitation": 0.0,
          "temp_max": 25.0,
          "temp_min": 13.9,
          "weather": "sun",
          "wind": 2.7
         },
         {
          "date": "2014-08-06T00:00:00",
          "precipitation": 0.0,
          "temp_max": 26.1,
          "temp_min": 15.0,
          "weather": "fog",
          "wind": 2.2
         },
         {
          "date": "2014-08-07T00:00:00",
          "precipitation": 0.0,
          "temp_max": 25.6,
          "temp_min": 13.3,
          "weather": "fog",
          "wind": 2.4
         },
         {
          "date": "2014-08-08T00:00:00",
          "precipitation": 0.0,
          "temp_max": 25.6,
          "temp_min": 13.3,
          "weather": "sun",
          "wind": 2.9
         },
         {
          "date": "2014-08-09T00:00:00",
          "precipitation": 0.0,
          "temp_max": 27.2,
          "temp_min": 15.6,
          "weather": "sun",
          "wind": 4.1
         },
         {
          "date": "2014-08-10T00:00:00",
          "precipitation": 0.0,
          "temp_max": 30.6,
          "temp_min": 13.9,
          "weather": "sun",
          "wind": 3.4
         },
         {
          "date": "2014-08-11T00:00:00",
          "precipitation": 0.5,
          "temp_max": 35.6,
          "temp_min": 17.8,
          "weather": "rain",
          "wind": 2.6
         },
         {
          "date": "2014-08-12T00:00:00",
          "precipitation": 12.7,
          "temp_max": 27.2,
          "temp_min": 17.2,
          "weather": "fog",
          "wind": 3.1
         },
         {
          "date": "2014-08-13T00:00:00",
          "precipitation": 21.6,
          "temp_max": 23.3,
          "temp_min": 15.0,
          "weather": "fog",
          "wind": 2.7
         },
         {
          "date": "2014-08-14T00:00:00",
          "precipitation": 0.0,
          "temp_max": 21.1,
          "temp_min": 17.2,
          "weather": "sun",
          "wind": 0.6
         },
         {
          "date": "2014-08-15T00:00:00",
          "precipitation": 1.0,
          "temp_max": 24.4,
          "temp_min": 16.7,
          "weather": "fog",
          "wind": 1.5
         },
         {
          "date": "2014-08-16T00:00:00",
          "precipitation": 0.0,
          "temp_max": 25.6,
          "temp_min": 15.6,
          "weather": "sun",
          "wind": 2.2
         },
         {
          "date": "2014-08-17T00:00:00",
          "precipitation": 0.0,
          "temp_max": 27.8,
          "temp_min": 15.0,
          "weather": "sun",
          "wind": 2.8
         },
         {
          "date": "2014-08-18T00:00:00",
          "precipitation": 0.0,
          "temp_max": 29.4,
          "temp_min": 15.6,
          "weather": "sun",
          "wind": 3.3
         },
         {
          "date": "2014-08-19T00:00:00",
          "precipitation": 0.0,
          "temp_max": 27.2,
          "temp_min": 15.6,
          "weather": "sun",
          "wind": 2.4
         },
         {
          "date": "2014-08-20T00:00:00",
          "precipitation": 0.0,
          "temp_max": 21.7,
          "temp_min": 13.9,
          "weather": "sun",
          "wind": 3.6
         },
         {
          "date": "2014-08-21T00:00:00",
          "precipitation": 0.0,
          "temp_max": 21.1,
          "temp_min": 11.1,
          "weather": "sun",
          "wind": 1.7
         },
         {
          "date": "2014-08-22T00:00:00",
          "precipitation": 0.0,
          "temp_max": 23.9,
          "temp_min": 13.3,
          "weather": "sun",
          "wind": 2.9
         },
         {
          "date": "2014-08-23T00:00:00",
          "precipitation": 0.0,
          "temp_max": 27.8,
          "temp_min": 13.9,
          "weather": "sun",
          "wind": 2.0
         },
         {
          "date": "2014-08-24T00:00:00",
          "precipitation": 0.0,
          "temp_max": 25.0,
          "temp_min": 13.3,
          "weather": "sun",
          "wind": 2.3
         },
         {
          "date": "2014-08-25T00:00:00",
          "precipitation": 0.0,
          "temp_max": 28.9,
          "temp_min": 14.4,
          "weather": "sun",
          "wind": 2.0
         },
         {
          "date": "2014-08-26T00:00:00",
          "precipitation": 0.0,
          "temp_max": 31.1,
          "temp_min": 15.6,
          "weather": "sun",
          "wind": 1.8
         },
         {
          "date": "2014-08-27T00:00:00",
          "precipitation": 0.0,
          "temp_max": 28.9,
          "temp_min": 16.1,
          "weather": "sun",
          "wind": 1.6
         },
         {
          "date": "2014-08-28T00:00:00",
          "precipitation": 0.0,
          "temp_max": 23.3,
          "temp_min": 14.4,
          "weather": "sun",
          "wind": 2.3
         },
         {
          "date": "2014-08-29T00:00:00",
          "precipitation": 0.0,
          "temp_max": 22.8,
          "temp_min": 15.0,
          "weather": "sun",
          "wind": 3.4
         },
         {
          "date": "2014-08-30T00:00:00",
          "precipitation": 8.4,
          "temp_max": 17.8,
          "temp_min": 15.0,
          "weather": "fog",
          "wind": 2.2
         },
         {
          "date": "2014-08-31T00:00:00",
          "precipitation": 1.3,
          "temp_max": 21.1,
          "temp_min": 13.9,
          "weather": "fog",
          "wind": 1.9
         },
         {
          "date": "2014-09-01T00:00:00",
          "precipitation": 0.0,
          "temp_max": 23.3,
          "temp_min": 12.8,
          "weather": "sun",
          "wind": 2.5
         },
         {
          "date": "2014-09-02T00:00:00",
          "precipitation": 3.0,
          "temp_max": 20.0,
          "temp_min": 13.9,
          "weather": "fog",
          "wind": 4.3
         },
         {
          "date": "2014-09-03T00:00:00",
          "precipitation": 0.0,
          "temp_max": 20.6,
          "temp_min": 12.8,
          "weather": "sun",
          "wind": 2.7
         },
         {
          "date": "2014-09-04T00:00:00",
          "precipitation": 0.0,
          "temp_max": 23.9,
          "temp_min": 11.1,
          "weather": "fog",
          "wind": 3.1
         },
         {
          "date": "2014-09-05T00:00:00",
          "precipitation": 0.0,
          "temp_max": 27.8,
          "temp_min": 13.9,
          "weather": "fog",
          "wind": 6.5
         },
         {
          "date": "2014-09-06T00:00:00",
          "precipitation": 0.0,
          "temp_max": 32.2,
          "temp_min": 15.0,
          "weather": "sun",
          "wind": 2.9
         },
         {
          "date": "2014-09-07T00:00:00",
          "precipitation": 0.0,
          "temp_max": 28.3,
          "temp_min": 13.3,
          "weather": "sun",
          "wind": 2.1
         },
         {
          "date": "2014-09-08T00:00:00",
          "precipitation": 0.0,
          "temp_max": 21.1,
          "temp_min": 13.3,
          "weather": "sun",
          "wind": 2.8
         },
         {
          "date": "2014-09-09T00:00:00",
          "precipitation": 0.0,
          "temp_max": 21.7,
          "temp_min": 13.3,
          "weather": "sun",
          "wind": 2.3
         },
         {
          "date": "2014-09-10T00:00:00",
          "precipitation": 0.0,
          "temp_max": 22.2,
          "temp_min": 12.2,
          "weather": "sun",
          "wind": 3.9
         },
         {
          "date": "2014-09-11T00:00:00",
          "precipitation": 0.0,
          "temp_max": 24.4,
          "temp_min": 12.8,
          "weather": "sun",
          "wind": 5.3
         },
         {
          "date": "2014-09-12T00:00:00",
          "precipitation": 0.0,
          "temp_max": 24.4,
          "temp_min": 12.8,
          "weather": "sun",
          "wind": 5.9
         },
         {
          "date": "2014-09-13T00:00:00",
          "precipitation": 0.0,
          "temp_max": 28.3,
          "temp_min": 10.0,
          "weather": "sun",
          "wind": 4.2
         },
         {
          "date": "2014-09-14T00:00:00",
          "precipitation": 0.0,
          "temp_max": 30.0,
          "temp_min": 11.7,
          "weather": "sun",
          "wind": 1.8
         },
         {
          "date": "2014-09-15T00:00:00",
          "precipitation": 0.0,
          "temp_max": 30.6,
          "temp_min": 12.2,
          "weather": "sun",
          "wind": 1.2
         },
         {
          "date": "2014-09-16T00:00:00",
          "precipitation": 0.0,
          "temp_max": 22.2,
          "temp_min": 13.9,
          "weather": "sun",
          "wind": 2.8
         },
         {
          "date": "2014-09-17T00:00:00",
          "precipitation": 0.5,
          "temp_max": 22.8,
          "temp_min": 14.4,
          "weather": "sun",
          "wind": 2.3
         },
         {
          "date": "2014-09-18T00:00:00",
          "precipitation": 0.3,
          "temp_max": 19.4,
          "temp_min": 15.0,
          "weather": "fog",
          "wind": 3.1
         },
         {
          "date": "2014-09-19T00:00:00",
          "precipitation": 0.0,
          "temp_max": 23.9,
          "temp_min": 16.1,
          "weather": "sun",
          "wind": 2.8
         },
         {
          "date": "2014-09-20T00:00:00",
          "precipitation": 0.0,
          "temp_max": 24.4,
          "temp_min": 14.4,
          "weather": "fog",
          "wind": 4.4
         },
         {
          "date": "2014-09-21T00:00:00",
          "precipitation": 0.0,
          "temp_max": 26.1,
          "temp_min": 12.8,
          "weather": "sun",
          "wind": 3.0
         },
         {
          "date": "2014-09-22T00:00:00",
          "precipitation": 0.3,
          "temp_max": 22.2,
          "temp_min": 15.0,
          "weather": "fog",
          "wind": 2.1
         },
         {
          "date": "2014-09-23T00:00:00",
          "precipitation": 18.3,
          "temp_max": 18.9,
          "temp_min": 14.4,
          "weather": "fog",
          "wind": 2.5
         },
         {
          "date": "2014-09-24T00:00:00",
          "precipitation": 20.3,
          "temp_max": 18.9,
          "temp_min": 14.4,
          "weather": "fog",
          "wind": 2.7
         },
         {
          "date": "2014-09-25T00:00:00",
          "precipitation": 4.3,
          "temp_max": 21.7,
          "temp_min": 14.4,
          "weather": "fog",
          "wind": 2.5
         },
         {
          "date": "2014-09-26T00:00:00",
          "precipitation": 8.9,
          "temp_max": 20.0,
          "temp_min": 13.9,
          "weather": "fog",
          "wind": 3.3
         },
         {
          "date": "2014-09-27T00:00:00",
          "precipitation": 0.0,
          "temp_max": 20.6,
          "temp_min": 11.7,
          "weather": "fog",
          "wind": 3.2
         },
         {
          "date": "2014-09-28T00:00:00",
          "precipitation": 0.0,
          "temp_max": 18.9,
          "temp_min": 12.2,
          "weather": "fog",
          "wind": 2.0
         },
         {
          "date": "2014-09-29T00:00:00",
          "precipitation": 0.8,
          "temp_max": 16.7,
          "temp_min": 11.1,
          "weather": "fog",
          "wind": 3.5
         },
         {
          "date": "2014-09-30T00:00:00",
          "precipitation": 0.0,
          "temp_max": 19.4,
          "temp_min": 12.2,
          "weather": "sun",
          "wind": 2.6
         },
         {
          "date": "2014-10-01T00:00:00",
          "precipitation": 0.0,
          "temp_max": 18.3,
          "temp_min": 11.1,
          "weather": "sun",
          "wind": 2.1
         },
         {
          "date": "2014-10-02T00:00:00",
          "precipitation": 0.0,
          "temp_max": 19.4,
          "temp_min": 10.0,
          "weather": "sun",
          "wind": 2.0
         },
         {
          "date": "2014-10-03T00:00:00",
          "precipitation": 0.0,
          "temp_max": 22.2,
          "temp_min": 8.9,
          "weather": "sun",
          "wind": 1.0
         },
         {
          "date": "2014-10-04T00:00:00",
          "precipitation": 0.0,
          "temp_max": 21.7,
          "temp_min": 12.2,
          "weather": "sun",
          "wind": 1.2
         },
         {
          "date": "2014-10-05T00:00:00",
          "precipitation": 0.0,
          "temp_max": 23.9,
          "temp_min": 11.7,
          "weather": "fog",
          "wind": 1.4
         },
         {
          "date": "2014-10-06T00:00:00",
          "precipitation": 0.0,
          "temp_max": 25.6,
          "temp_min": 13.3,
          "weather": "fog",
          "wind": 2.5
         },
         {
          "date": "2014-10-07T00:00:00",
          "precipitation": 0.0,
          "temp_max": 18.9,
          "temp_min": 13.9,
          "weather": "fog",
          "wind": 1.0
         },
         {
          "date": "2014-10-08T00:00:00",
          "precipitation": 0.0,
          "temp_max": 20.6,
          "temp_min": 12.8,
          "weather": "fog",
          "wind": 1.8
         },
         {
          "date": "2014-10-09T00:00:00",
          "precipitation": 0.0,
          "temp_max": 17.2,
          "temp_min": 11.1,
          "weather": "fog",
          "wind": 1.0
         },
         {
          "date": "2014-10-10T00:00:00",
          "precipitation": 0.3,
          "temp_max": 18.3,
          "temp_min": 10.0,
          "weather": "fog",
          "wind": 3.8
         },
         {
          "date": "2014-10-11T00:00:00",
          "precipitation": 7.4,
          "temp_max": 18.3,
          "temp_min": 11.7,
          "weather": "rain",
          "wind": 3.5
         },
         {
          "date": "2014-10-12T00:00:00",
          "precipitation": 0.0,
          "temp_max": 17.8,
          "temp_min": 11.7,
          "weather": "sun",
          "wind": 2.1
         },
         {
          "date": "2014-10-13T00:00:00",
          "precipitation": 7.6,
          "temp_max": 21.1,
          "temp_min": 10.0,
          "weather": "fog",
          "wind": 3.1
         },
         {
          "date": "2014-10-14T00:00:00",
          "precipitation": 7.1,
          "temp_max": 16.7,
          "temp_min": 11.7,
          "weather": "fog",
          "wind": 2.2
         },
         {
          "date": "2014-10-15T00:00:00",
          "precipitation": 8.6,
          "temp_max": 16.1,
          "temp_min": 11.7,
          "weather": "fog",
          "wind": 4.7
         },
         {
          "date": "2014-10-16T00:00:00",
          "precipitation": 0.0,
          "temp_max": 20.6,
          "temp_min": 11.1,
          "weather": "sun",
          "wind": 3.3
         },
         {
          "date": "2014-10-17T00:00:00",
          "precipitation": 3.3,
          "temp_max": 16.7,
          "temp_min": 11.7,
          "weather": "fog",
          "wind": 3.0
         },
         {
          "date": "2014-10-18T00:00:00",
          "precipitation": 15.0,
          "temp_max": 19.4,
          "temp_min": 13.9,
          "weather": "fog",
          "wind": 1.9
         },
         {
          "date": "2014-10-19T00:00:00",
          "precipitation": 0.0,
          "temp_max": 22.2,
          "temp_min": 12.8,
          "weather": "sun",
          "wind": 3.2
         },
         {
          "date": "2014-10-20T00:00:00",
          "precipitation": 11.7,
          "temp_max": 16.1,
          "temp_min": 12.2,
          "weather": "fog",
          "wind": 3.1
         },
         {
          "date": "2014-10-21T00:00:00",
          "precipitation": 1.0,
          "temp_max": 16.1,
          "temp_min": 11.7,
          "weather": "sun",
          "wind": 4.7
         },
         {
          "date": "2014-10-22T00:00:00",
          "precipitation": 32.0,
          "temp_max": 15.6,
          "temp_min": 11.7,
          "weather": "fog",
          "wind": 5.0
         },
         {
          "date": "2014-10-23T00:00:00",
          "precipitation": 9.4,
          "temp_max": 14.4,
          "temp_min": 8.3,
          "weather": "sun",
          "wind": 4.6
         },
         {
          "date": "2014-10-24T00:00:00",
          "precipitation": 4.1,
          "temp_max": 14.4,
          "temp_min": 8.9,
          "weather": "sun",
          "wind": 3.2
         },
         {
          "date": "2014-10-25T00:00:00",
          "precipitation": 6.1,
          "temp_max": 16.7,
          "temp_min": 8.3,
          "weather": "fog",
          "wind": 5.4
         },
         {
          "date": "2014-10-26T00:00:00",
          "precipitation": 1.5,
          "temp_max": 12.8,
          "temp_min": 7.8,
          "weather": "fog",
          "wind": 5.0
         },
         {
          "date": "2014-10-27T00:00:00",
          "precipitation": 0.8,
          "temp_max": 15.6,
          "temp_min": 6.7,
          "weather": "sun",
          "wind": 2.4
         },
         {
          "date": "2014-10-28T00:00:00",
          "precipitation": 12.7,
          "temp_max": 15.0,
          "temp_min": 9.4,
          "weather": "fog",
          "wind": 3.9
         },
         {
          "date": "2014-10-29T00:00:00",
          "precipitation": 0.5,
          "temp_max": 16.7,
          "temp_min": 11.7,
          "weather": "fog",
          "wind": 3.1
         },
         {
          "date": "2014-10-30T00:00:00",
          "precipitation": 25.4,
          "temp_max": 15.6,
          "temp_min": 11.1,
          "weather": "fog",
          "wind": 3.2
         },
         {
          "date": "2014-10-31T00:00:00",
          "precipitation": 17.0,
          "temp_max": 12.8,
          "temp_min": 8.3,
          "weather": "fog",
          "wind": 2.0
         },
         {
          "date": "2014-11-01T00:00:00",
          "precipitation": 0.0,
          "temp_max": 11.1,
          "temp_min": 7.2,
          "weather": "fog",
          "wind": 1.2
         },
         {
          "date": "2014-11-02T00:00:00",
          "precipitation": 1.8,
          "temp_max": 13.3,
          "temp_min": 7.2,
          "weather": "fog",
          "wind": 2.9
         },
         {
          "date": "2014-11-03T00:00:00",
          "precipitation": 10.9,
          "temp_max": 13.9,
          "temp_min": 11.1,
          "weather": "fog",
          "wind": 4.8
         },
         {
          "date": "2014-11-04T00:00:00",
          "precipitation": 4.1,
          "temp_max": 14.4,
          "temp_min": 10.6,
          "weather": "fog",
          "wind": 3.3
         },
         {
          "date": "2014-11-05T00:00:00",
          "precipitation": 4.8,
          "temp_max": 15.0,
          "temp_min": 10.6,
          "weather": "fog",
          "wind": 2.1
         },
         {
          "date": "2014-11-06T00:00:00",
          "precipitation": 4.1,
          "temp_max": 16.7,
          "temp_min": 10.6,
          "weather": "fog",
          "wind": 6.7
         },
         {
          "date": "2014-11-07T00:00:00",
          "precipitation": 0.0,
          "temp_max": 14.4,
          "temp_min": 7.2,
          "weather": "sun",
          "wind": 2.3
         },
         {
          "date": "2014-11-08T00:00:00",
          "precipitation": 0.0,
          "temp_max": 12.8,
          "temp_min": 3.9,
          "weather": "fog",
          "wind": 0.8
         },
         {
          "date": "2014-11-09T00:00:00",
          "precipitation": 5.1,
          "temp_max": 13.3,
          "temp_min": 7.8,
          "weather": "fog",
          "wind": 3.0
         },
         {
          "date": "2014-11-10T00:00:00",
          "precipitation": 0.0,
          "temp_max": 11.1,
          "temp_min": 5.6,
          "weather": "sun",
          "wind": 3.9
         },
         {
          "date": "2014-11-11T00:00:00",
          "precipitation": 0.0,
          "temp_max": 7.8,
          "temp_min": 1.1,
          "weather": "sun",
          "wind": 7.7
         },
         {
          "date": "2014-11-12T00:00:00",
          "precipitation": 0.0,
          "temp_max": 6.7,
          "temp_min": 0.0,
          "weather": "sun",
          "wind": 7.6
         },
         {
          "date": "2014-11-13T00:00:00",
          "precipitation": 0.0,
          "temp_max": 7.2,
          "temp_min": 0.6,
          "weather": "sun",
          "wind": 4.7
         },
         {
          "date": "2014-11-14T00:00:00",
          "precipitation": 0.0,
          "temp_max": 7.2,
          "temp_min": -2.1,
          "weather": "sun",
          "wind": 4.5
         },
         {
          "date": "2014-11-15T00:00:00",
          "precipitation": 0.0,
          "temp_max": 8.3,
          "temp_min": -1.6,
          "weather": "sun",
          "wind": 4.2
         },
         {
          "date": "2014-11-16T00:00:00",
          "precipitation": 0.0,
          "temp_max": 9.4,
          "temp_min": -2.1,
          "weather": "sun",
          "wind": 4.2
         },
         {
          "date": "2014-11-17T00:00:00",
          "precipitation": 0.0,
          "temp_max": 10.6,
          "temp_min": -2.1,
          "weather": "sun",
          "wind": 1.9
         },
         {
          "date": "2014-11-18T00:00:00",
          "precipitation": 0.0,
          "temp_max": 7.2,
          "temp_min": -0.5,
          "weather": "sun",
          "wind": 0.9
         },
         {
          "date": "2014-11-19T00:00:00",
          "precipitation": 0.0,
          "temp_max": 11.1,
          "temp_min": 2.2,
          "weather": "sun",
          "wind": 1.9
         },
         {
          "date": "2014-11-20T00:00:00",
          "precipitation": 3.6,
          "temp_max": 11.1,
          "temp_min": 5.6,
          "weather": "fog",
          "wind": 2.1
         },
         {
          "date": "2014-11-21T00:00:00",
          "precipitation": 15.2,
          "temp_max": 11.1,
          "temp_min": 8.3,
          "weather": "fog",
          "wind": 4.7
         },
         {
          "date": "2014-11-22T00:00:00",
          "precipitation": 0.5,
          "temp_max": 9.4,
          "temp_min": 6.7,
          "weather": "sun",
          "wind": 4.7
         },
         {
          "date": "2014-11-23T00:00:00",
          "precipitation": 11.9,
          "temp_max": 12.8,
          "temp_min": 5.6,
          "weather": "fog",
          "wind": 5.1
         },
         {
          "date": "2014-11-24T00:00:00",
          "precipitation": 1.3,
          "temp_max": 11.7,
          "temp_min": 4.4,
          "weather": "fog",
          "wind": 3.8
         },
         {
          "date": "2014-11-25T00:00:00",
          "precipitation": 18.3,
          "temp_max": 13.9,
          "temp_min": 9.4,
          "weather": "fog",
          "wind": 4.5
         },
         {
          "date": "2014-11-26T00:00:00",
          "precipitation": 0.3,
          "temp_max": 15.0,
          "temp_min": 12.2,
          "weather": "sun",
          "wind": 3.9
         },
         {
          "date": "2014-11-27T00:00:00",
          "precipitation": 3.3,
          "temp_max": 14.4,
          "temp_min": 11.7,
          "weather": "fog",
          "wind": 6.6
         },
         {
          "date": "2014-11-28T00:00:00",
          "precipitation": 34.3,
          "temp_max": 12.8,
          "temp_min": 3.3,
          "weather": "fog",
          "wind": 5.8
         },
         {
          "date": "2014-11-29T00:00:00",
          "precipitation": 3.6,
          "temp_max": 4.4,
          "temp_min": -4.3,
          "weather": "fog",
          "wind": 5.3
         },
         {
          "date": "2014-11-30T00:00:00",
          "precipitation": 0.0,
          "temp_max": 2.8,
          "temp_min": -4.9,
          "weather": "sun",
          "wind": 4.4
         },
         {
          "date": "2014-12-01T00:00:00",
          "precipitation": 0.0,
          "temp_max": 4.4,
          "temp_min": -3.2,
          "weather": "sun",
          "wind": 2.2
         },
         {
          "date": "2014-12-02T00:00:00",
          "precipitation": 0.0,
          "temp_max": 5.6,
          "temp_min": -3.2,
          "weather": "fog",
          "wind": 5.7
         },
         {
          "date": "2014-12-03T00:00:00",
          "precipitation": 0.0,
          "temp_max": 10.0,
          "temp_min": 0.0,
          "weather": "sun",
          "wind": 3.6
         },
         {
          "date": "2014-12-04T00:00:00",
          "precipitation": 0.8,
          "temp_max": 8.3,
          "temp_min": 3.9,
          "weather": "fog",
          "wind": 1.1
         },
         {
          "date": "2014-12-05T00:00:00",
          "precipitation": 3.0,
          "temp_max": 12.8,
          "temp_min": 6.7,
          "weather": "fog",
          "wind": 3.1
         },
         {
          "date": "2014-12-06T00:00:00",
          "precipitation": 7.4,
          "temp_max": 11.7,
          "temp_min": 7.8,
          "weather": "fog",
          "wind": 3.6
         },
         {
          "date": "2014-12-07T00:00:00",
          "precipitation": 0.0,
          "temp_max": 14.4,
          "temp_min": 6.1,
          "weather": "sun",
          "wind": 2.8
         },
         {
          "date": "2014-12-08T00:00:00",
          "precipitation": 9.1,
          "temp_max": 14.4,
          "temp_min": 8.9,
          "weather": "fog",
          "wind": 4.2
         },
         {
          "date": "2014-12-09T00:00:00",
          "precipitation": 9.9,
          "temp_max": 16.1,
          "temp_min": 10.6,
          "weather": "fog",
          "wind": 5.1
         },
         {
          "date": "2014-12-10T00:00:00",
          "precipitation": 13.0,
          "temp_max": 18.9,
          "temp_min": 10.0,
          "weather": "fog",
          "wind": 6.7
         },
         {
          "date": "2014-12-11T00:00:00",
          "precipitation": 6.9,
          "temp_max": 14.4,
          "temp_min": 8.3,
          "weather": "fog",
          "wind": 6.4
         },
         {
          "date": "2014-12-12T00:00:00",
          "precipitation": 0.0,
          "temp_max": 11.1,
          "temp_min": 7.2,
          "weather": "sun",
          "wind": 3.7
         },
         {
          "date": "2014-12-13T00:00:00",
          "precipitation": 0.0,
          "temp_max": 10.0,
          "temp_min": 3.9,
          "weather": "fog",
          "wind": 1.1
         },
         {
          "date": "2014-12-14T00:00:00",
          "precipitation": 0.0,
          "temp_max": 12.8,
          "temp_min": 1.7,
          "weather": "fog",
          "wind": 3.5
         },
         {
          "date": "2014-12-15T00:00:00",
          "precipitation": 0.0,
          "temp_max": 12.2,
          "temp_min": 6.7,
          "weather": "sun",
          "wind": 5.9
         },
         {
          "date": "2014-12-16T00:00:00",
          "precipitation": 0.0,
          "temp_max": 10.0,
          "temp_min": 8.3,
          "weather": "sun",
          "wind": 4.0
         },
         {
          "date": "2014-12-17T00:00:00",
          "precipitation": 2.8,
          "temp_max": 8.9,
          "temp_min": 6.1,
          "weather": "fog",
          "wind": 1.6
         },
         {
          "date": "2014-12-18T00:00:00",
          "precipitation": 13.0,
          "temp_max": 9.4,
          "temp_min": 6.7,
          "weather": "fog",
          "wind": 3.1
         },
         {
          "date": "2014-12-19T00:00:00",
          "precipitation": 3.0,
          "temp_max": 11.1,
          "temp_min": 7.2,
          "weather": "sun",
          "wind": 4.3
         },
         {
          "date": "2014-12-20T00:00:00",
          "precipitation": 19.6,
          "temp_max": 12.8,
          "temp_min": 6.7,
          "weather": "fog",
          "wind": 5.5
         },
         {
          "date": "2014-12-21T00:00:00",
          "precipitation": 0.0,
          "temp_max": 12.8,
          "temp_min": 10.0,
          "weather": "sun",
          "wind": 5.2
         },
         {
          "date": "2014-12-22T00:00:00",
          "precipitation": 0.0,
          "temp_max": 10.6,
          "temp_min": 6.1,
          "weather": "sun",
          "wind": 1.5
         },
         {
          "date": "2014-12-23T00:00:00",
          "precipitation": 20.6,
          "temp_max": 12.2,
          "temp_min": 5.0,
          "weather": "fog",
          "wind": 3.8
         },
         {
          "date": "2014-12-24T00:00:00",
          "precipitation": 5.3,
          "temp_max": 7.2,
          "temp_min": 3.9,
          "weather": "fog",
          "wind": 1.8
         },
         {
          "date": "2014-12-25T00:00:00",
          "precipitation": 0.0,
          "temp_max": 7.8,
          "temp_min": 2.8,
          "weather": "fog",
          "wind": 2.2
         },
         {
          "date": "2014-12-26T00:00:00",
          "precipitation": 0.0,
          "temp_max": 5.6,
          "temp_min": 1.7,
          "weather": "fog",
          "wind": 1.2
         },
         {
          "date": "2014-12-27T00:00:00",
          "precipitation": 3.3,
          "temp_max": 9.4,
          "temp_min": 4.4,
          "weather": "fog",
          "wind": 4.9
         },
         {
          "date": "2014-12-28T00:00:00",
          "precipitation": 4.1,
          "temp_max": 6.7,
          "temp_min": 2.8,
          "weather": "fog",
          "wind": 1.8
         },
         {
          "date": "2014-12-29T00:00:00",
          "precipitation": 0.0,
          "temp_max": 6.1,
          "temp_min": 0.6,
          "weather": "fog",
          "wind": 4.3
         },
         {
          "date": "2014-12-30T00:00:00",
          "precipitation": 0.0,
          "temp_max": 3.3,
          "temp_min": -2.1,
          "weather": "sun",
          "wind": 3.6
         },
         {
          "date": "2014-12-31T00:00:00",
          "precipitation": 0.0,
          "temp_max": 3.3,
          "temp_min": -2.7,
          "weather": "sun",
          "wind": 3.0
         },
         {
          "date": "2015-01-01T00:00:00",
          "precipitation": 0.0,
          "temp_max": 5.6,
          "temp_min": -3.2,
          "weather": "sun",
          "wind": 1.2
         },
         {
          "date": "2015-01-02T00:00:00",
          "precipitation": 1.5,
          "temp_max": 5.6,
          "temp_min": 0.0,
          "weather": "fog",
          "wind": 2.3
         },
         {
          "date": "2015-01-03T00:00:00",
          "precipitation": 0.0,
          "temp_max": 5.0,
          "temp_min": 1.7,
          "weather": "fog",
          "wind": 1.7
         },
         {
          "date": "2015-01-04T00:00:00",
          "precipitation": 10.2,
          "temp_max": 10.6,
          "temp_min": 3.3,
          "weather": "fog",
          "wind": 4.5
         },
         {
          "date": "2015-01-05T00:00:00",
          "precipitation": 8.1,
          "temp_max": 12.2,
          "temp_min": 9.4,
          "weather": "fog",
          "wind": 6.4
         },
         {
          "date": "2015-01-06T00:00:00",
          "precipitation": 0.0,
          "temp_max": 12.2,
          "temp_min": 6.1,
          "weather": "fog",
          "wind": 1.3
         },
         {
          "date": "2015-01-07T00:00:00",
          "precipitation": 0.0,
          "temp_max": 7.8,
          "temp_min": 5.6,
          "weather": "fog",
          "wind": 1.6
         },
         {
          "date": "2015-01-08T00:00:00",
          "precipitation": 0.0,
          "temp_max": 7.8,
          "temp_min": 1.7,
          "weather": "fog",
          "wind": 2.6
         },
         {
          "date": "2015-01-09T00:00:00",
          "precipitation": 0.3,
          "temp_max": 10.0,
          "temp_min": 3.3,
          "weather": "fog",
          "wind": 0.6
         },
         {
          "date": "2015-01-10T00:00:00",
          "precipitation": 5.8,
          "temp_max": 7.8,
          "temp_min": 6.1,
          "weather": "fog",
          "wind": 0.5
         },
         {
          "date": "2015-01-11T00:00:00",
          "precipitation": 1.5,
          "temp_max": 9.4,
          "temp_min": 7.2,
          "weather": "fog",
          "wind": 1.1
         },
         {
          "date": "2015-01-12T00:00:00",
          "precipitation": 0.0,
          "temp_max": 11.1,
          "temp_min": 4.4,
          "weather": "fog",
          "wind": 1.6
         },
         {
          "date": "2015-01-13T00:00:00",
          "precipitation": 0.0,
          "temp_max": 9.4,
          "temp_min": 2.8,
          "weather": "fog",
          "wind": 2.7
         },
         {
          "date": "2015-01-14T00:00:00",
          "precipitation": 0.0,
          "temp_max": 6.1,
          "temp_min": 0.6,
          "weather": "fog",
          "wind": 2.8
         },
         {
          "date": "2015-01-15T00:00:00",
          "precipitation": 9.7,
          "temp_max": 7.8,
          "temp_min": 1.1,
          "weather": "fog",
          "wind": 3.2
         },
         {
          "date": "2015-01-16T00:00:00",
          "precipitation": 0.0,
          "temp_max": 11.7,
          "temp_min": 5.6,
          "weather": "fog",
          "wind": 4.5
         },
         {
          "date": "2015-01-17T00:00:00",
          "precipitation": 26.2,
          "temp_max": 13.3,
          "temp_min": 3.3,
          "weather": "fog",
          "wind": 2.8
         },
         {
          "date": "2015-01-18T00:00:00",
          "precipitation": 21.3,
          "temp_max": 13.9,
          "temp_min": 7.2,
          "weather": "rain",
          "wind": 6.6
         },
         {
          "date": "2015-01-19T00:00:00",
          "precipitation": 0.5,
          "temp_max": 10.0,
          "temp_min": 6.1,
          "weather": "sun",
          "wind": 2.8
         },
         {
          "date": "2015-01-20T00:00:00",
          "precipitation": 0.0,
          "temp_max": 10.0,
          "temp_min": 3.3,
          "weather": "fog",
          "wind": 3.0
         },
         {
          "date": "2015-01-21T00:00:00",
          "precipitation": 0.0,
          "temp_max": 7.2,
          "temp_min": -0.5,
          "weather": "fog",
          "wind": 1.3
         },
         {
          "date": "2015-01-22T00:00:00",
          "precipitation": 0.8,
          "temp_max": 9.4,
          "temp_min": 6.1,
          "weather": "fog",
          "wind": 1.3
         },
         {
          "date": "2015-01-23T00:00:00",
          "precipitation": 5.8,
          "temp_max": 12.2,
          "temp_min": 8.3,
          "weather": "fog",
          "wind": 2.6
         },
         {
          "date": "2015-01-24T00:00:00",
          "precipitation": 0.5,
          "temp_max": 14.4,
          "temp_min": 11.1,
          "weather": "fog",
          "wind": 3.3
         },
         {
          "date": "2015-01-25T00:00:00",
          "precipitation": 0.0,
          "temp_max": 17.2,
          "temp_min": 7.2,
          "weather": "fog",
          "wind": 1.4
         },
         {
          "date": "2015-01-26T00:00:00",
          "precipitation": 0.0,
          "temp_max": 16.1,
          "temp_min": 6.1,
          "weather": "fog",
          "wind": 2.2
         },
         {
          "date": "2015-01-27T00:00:00",
          "precipitation": 0.8,
          "temp_max": 11.1,
          "temp_min": 8.3,
          "weather": "fog",
          "wind": 2.0
         },
         {
          "date": "2015-01-28T00:00:00",
          "precipitation": 0.0,
          "temp_max": 12.2,
          "temp_min": 5.0,
          "weather": "fog",
          "wind": 1.8
         },
         {
          "date": "2015-01-29T00:00:00",
          "precipitation": 0.0,
          "temp_max": 12.2,
          "temp_min": 3.3,
          "weather": "sun",
          "wind": 2.9
         },
         {
          "date": "2015-01-30T00:00:00",
          "precipitation": 0.0,
          "temp_max": 8.3,
          "temp_min": 1.1,
          "weather": "fog",
          "wind": 0.8
         },
         {
          "date": "2015-01-31T00:00:00",
          "precipitation": 0.0,
          "temp_max": 7.2,
          "temp_min": 3.3,
          "weather": "fog",
          "wind": 1.9
         },
         {
          "date": "2015-02-01T00:00:00",
          "precipitation": 1.5,
          "temp_max": 9.4,
          "temp_min": 4.4,
          "weather": "fog",
          "wind": 2.6
         },
         {
          "date": "2015-02-02T00:00:00",
          "precipitation": 7.4,
          "temp_max": 11.1,
          "temp_min": 5.0,
          "weather": "fog",
          "wind": 4.0
         },
         {
          "date": "2015-02-03T00:00:00",
          "precipitation": 1.3,
          "temp_max": 10.0,
          "temp_min": 5.6,
          "weather": "fog",
          "wind": 1.9
         },
         {
          "date": "2015-02-04T00:00:00",
          "precipitation": 8.4,
          "temp_max": 10.6,
          "temp_min": 4.4,
          "weather": "fog",
          "wind": 1.7
         },
         {
          "date": "2015-02-05T00:00:00",
          "precipitation": 26.2,
          "temp_max": 13.3,
          "temp_min": 8.3,
          "weather": "fog",
          "wind": 4.6
         },
         {
          "date": "2015-02-06T00:00:00",
          "precipitation": 17.3,
          "temp_max": 14.4,
          "temp_min": 10.0,
          "weather": "fog",
          "wind": 4.5
         },
         {
          "date": "2015-02-07T00:00:00",
          "precipitation": 23.6,
          "temp_max": 12.2,
          "temp_min": 9.4,
          "weather": "fog",
          "wind": 4.6
         },
         {
          "date": "2015-02-08T00:00:00",
          "precipitation": 3.6,
          "temp_max": 15.0,
          "temp_min": 8.3,
          "weather": "fog",
          "wind": 3.9
         },
         {
          "date": "2015-02-09T00:00:00",
          "precipitation": 6.1,
          "temp_max": 13.3,
          "temp_min": 8.3,
          "weather": "fog",
          "wind": 2.5
         },
         {
          "date": "2015-02-10T00:00:00",
          "precipitation": 0.3,
          "temp_max": 12.8,
          "temp_min": 8.3,
          "weather": "fog",
          "wind": 4.0
         },
         {
          "date": "2015-02-11T00:00:00",
          "precipitation": 0.0,
          "temp_max": 12.8,
          "temp_min": 5.6,
          "weather": "fog",
          "wind": 1.0
         },
         {
          "date": "2015-02-12T00:00:00",
          "precipitation": 1.0,
          "temp_max": 16.7,
          "temp_min": 9.4,
          "weather": "sun",
          "wind": 2.1
         },
         {
          "date": "2015-02-13T00:00:00",
          "precipitation": 0.0,
          "temp_max": 15.6,
          "temp_min": 6.7,
          "weather": "fog",
          "wind": 1.7
         },
         {
          "date": "2015-02-14T00:00:00",
          "precipitation": 0.3,
          "temp_max": 14.4,
          "temp_min": 6.7,
          "weather": "fog",
          "wind": 2.9
         },
         {
          "date": "2015-02-15T00:00:00",
          "precipitation": 0.0,
          "temp_max": 12.2,
          "temp_min": 3.9,
          "weather": "sun",
          "wind": 4.8
         },
         {
          "date": "2015-02-16T00:00:00",
          "precipitation": 0.0,
          "temp_max": 15.0,
          "temp_min": 5.6,
          "weather": "fog",
          "wind": 6.6
         },
         {
          "date": "2015-02-17T00:00:00",
          "precipitation": 0.0,
          "temp_max": 16.1,
          "temp_min": 4.4,
          "weather": "sun",
          "wind": 4.0
         },
         {
          "date": "2015-02-18T00:00:00",
          "precipitation": 0.0,
          "temp_max": 12.2,
          "temp_min": 4.4,
          "weather": "sun",
          "wind": 2.6
         },
         {
          "date": "2015-02-19T00:00:00",
          "precipitation": 4.6,
          "temp_max": 10.6,
          "temp_min": 8.3,
          "weather": "fog",
          "wind": 2.2
         },
         {
          "date": "2015-02-20T00:00:00",
          "precipitation": 0.8,
          "temp_max": 11.1,
          "temp_min": 7.2,
          "weather": "fog",
          "wind": 0.9
         },
         {
          "date": "2015-02-21T00:00:00",
          "precipitation": 0.0,
          "temp_max": 12.2,
          "temp_min": 5.6,
          "weather": "sun",
          "wind": 4.5
         },
         {
          "date": "2015-02-22T00:00:00",
          "precipitation": 0.0,
          "temp_max": 11.7,
          "temp_min": 3.3,
          "weather": "sun",
          "wind": 4.2
         },
         {
          "date": "2015-02-23T00:00:00",
          "precipitation": 0.0,
          "temp_max": 12.8,
          "temp_min": 0.6,
          "weather": "sun",
          "wind": 1.4
         },
         {
          "date": "2015-02-24T00:00:00",
          "precipitation": 0.0,
          "temp_max": 11.1,
          "temp_min": 2.2,
          "weather": "sun",
          "wind": 1.5
         },
         {
          "date": "2015-02-25T00:00:00",
          "precipitation": 4.1,
          "temp_max": 10.0,
          "temp_min": 6.7,
          "weather": "fog",
          "wind": 1.0
         },
         {
          "date": "2015-02-26T00:00:00",
          "precipitation": 9.4,
          "temp_max": 11.7,
          "temp_min": 7.8,
          "weather": "fog",
          "wind": 1.4
         },
         {
          "date": "2015-02-27T00:00:00",
          "precipitation": 18.3,
          "temp_max": 10.0,
          "temp_min": 6.7,
          "weather": "fog",
          "wind": 4.0
         },
         {
          "date": "2015-02-28T00:00:00",
          "precipitation": 0.0,
          "temp_max": 12.2,
          "temp_min": 3.3,
          "weather": "sun",
          "wind": 5.1
         },
         {
          "date": "2015-03-01T00:00:00",
          "precipitation": 0.0,
          "temp_max": 11.1,
          "temp_min": 1.1,
          "weather": "sun",
          "wind": 2.2
         },
         {
          "date": "2015-03-02T00:00:00",
          "precipitation": 0.0,
          "temp_max": 11.1,
          "temp_min": 4.4,
          "weather": "sun",
          "wind": 4.8
         },
         {
          "date": "2015-03-03T00:00:00",
          "precipitation": 0.0,
          "temp_max": 10.6,
          "temp_min": 0.0,
          "weather": "sun",
          "wind": 2.1
         },
         {
          "date": "2015-03-04T00:00:00",
          "precipitation": 0.0,
          "temp_max": 12.8,
          "temp_min": -0.5,
          "weather": "sun",
          "wind": 1.8
         },
         {
          "date": "2015-03-05T00:00:00",
          "precipitation": 0.0,
          "temp_max": 13.3,
          "temp_min": 2.8,
          "weather": "sun",
          "wind": 1.3
         },
         {
          "date": "2015-03-06T00:00:00",
          "precipitation": 0.0,
          "temp_max": 15.0,
          "temp_min": 3.3,
          "weather": "sun",
          "wind": 1.4
         },
         {
          "date": "2015-03-07T00:00:00",
          "precipitation": 0.0,
          "temp_max": 16.7,
          "temp_min": 3.9,
          "weather": "fog",
          "wind": 2.7
         },
         {
          "date": "2015-03-08T00:00:00",
          "precipitation": 0.0,
          "temp_max": 17.2,
          "temp_min": 3.9,
          "weather": "fog",
          "wind": 1.7
         },
         {
          "date": "2015-03-09T00:00:00",
          "precipitation": 0.0,
          "temp_max": 14.4,
          "temp_min": 4.4,
          "weather": "fog",
          "wind": 1.8
         },
         {
          "date": "2015-03-10T00:00:00",
          "precipitation": 0.8,
          "temp_max": 13.3,
          "temp_min": 5.0,
          "weather": "fog",
          "wind": 2.6
         },
         {
          "date": "2015-03-11T00:00:00",
          "precipitation": 2.5,
          "temp_max": 14.4,
          "temp_min": 8.9,
          "weather": "fog",
          "wind": 3.1
         },
         {
          "date": "2015-03-12T00:00:00",
          "precipitation": 0.0,
          "temp_max": 17.8,
          "temp_min": 9.4,
          "weather": "sun",
          "wind": 3.2
         },
         {
          "date": "2015-03-13T00:00:00",
          "precipitation": 2.0,
          "temp_max": 17.2,
          "temp_min": 7.8,
          "weather": "sun",
          "wind": 2.2
         },
         {
          "date": "2015-03-14T00:00:00",
          "precipitation": 17.0,
          "temp_max": 13.9,
          "temp_min": 9.4,
          "weather": "fog",
          "wind": 3.8
         },
         {
          "date": "2015-03-15T00:00:00",
          "precipitation": 55.9,
          "temp_max": 10.6,
          "temp_min": 6.1,
          "weather": "fog",
          "wind": 4.2
         },
         {
          "date": "2015-03-16T00:00:00",
          "precipitation": 1.0,
          "temp_max": 13.9,
          "temp_min": 6.1,
          "weather": "fog",
          "wind": 3.0
         },
         {
          "date": "2015-03-17T00:00:00",
          "precipitation": 0.8,
          "temp_max": 13.3,
          "temp_min": 4.4,
          "weather": "sun",
          "wind": 2.6
         },
         {
          "date": "2015-03-18T00:00:00",
          "precipitation": 0.0,
          "temp_max": 15.6,
          "temp_min": 7.2,
          "weather": "sun",
          "wind": 2.5
         },
         {
          "date": "2015-03-19T00:00:00",
          "precipitation": 0.0,
          "temp_max": 15.6,
          "temp_min": 8.3,
          "weather": "sun",
          "wind": 1.9
         },
         {
          "date": "2015-03-20T00:00:00",
          "precipitation": 4.1,
          "temp_max": 13.9,
          "temp_min": 8.9,
          "weather": "sun",
          "wind": 1.9
         },
         {
          "date": "2015-03-21T00:00:00",
          "precipitation": 3.8,
          "temp_max": 13.3,
          "temp_min": 8.3,
          "weather": "fog",
          "wind": 4.7
         },
         {
          "date": "2015-03-22T00:00:00",
          "precipitation": 1.0,
          "temp_max": 11.7,
          "temp_min": 6.1,
          "weather": "sun",
          "wind": 2.3
         },
         {
          "date": "2015-03-23T00:00:00",
          "precipitation": 8.1,
          "temp_max": 11.1,
          "temp_min": 5.6,
          "weather": "fog",
          "wind": 2.8
         },
         {
          "date": "2015-03-24T00:00:00",
          "precipitation": 7.6,
          "temp_max": 12.8,
          "temp_min": 6.1,
          "weather": "fog",
          "wind": 3.9
         },
         {
          "date": "2015-03-25T00:00:00",
          "precipitation": 5.1,
          "temp_max": 14.4,
          "temp_min": 7.2,
          "weather": "fog",
          "wind": 4.4
         },
         {
          "date": "2015-03-26T00:00:00",
          "precipitation": 0.0,
          "temp_max": 20.6,
          "temp_min": 10.0,
          "weather": "sun",
          "wind": 2.2
         },
         {
          "date": "2015-03-27T00:00:00",
          "precipitation": 1.0,
          "temp_max": 18.3,
          "temp_min": 8.9,
          "weather": "fog",
          "wind": 4.0
         },
         {
          "date": "2015-03-28T00:00:00",
          "precipitation": 0.0,
          "temp_max": 15.6,
          "temp_min": 9.4,
          "weather": "sun",
          "wind": 5.7
         },
         {
          "date": "2015-03-29T00:00:00",
          "precipitation": 0.0,
          "temp_max": 15.6,
          "temp_min": 8.9,
          "weather": "sun",
          "wind": 3.0
         },
         {
          "date": "2015-03-30T00:00:00",
          "precipitation": 1.8,
          "temp_max": 17.8,
          "temp_min": 10.6,
          "weather": "fog",
          "wind": 2.9
         },
         {
          "date": "2015-03-31T00:00:00",
          "precipitation": 1.0,
          "temp_max": 12.8,
          "temp_min": 6.1,
          "weather": "fog",
          "wind": 4.2
         },
         {
          "date": "2015-04-01T00:00:00",
          "precipitation": 5.1,
          "temp_max": 12.8,
          "temp_min": 5.6,
          "weather": "rain",
          "wind": 3.2
         },
         {
          "date": "2015-04-02T00:00:00",
          "precipitation": 0.0,
          "temp_max": 13.3,
          "temp_min": 5.6,
          "weather": "sun",
          "wind": 2.4
         },
         {
          "date": "2015-04-03T00:00:00",
          "precipitation": 1.5,
          "temp_max": 11.1,
          "temp_min": 5.0,
          "weather": "fog",
          "wind": 3.6
         },
         {
          "date": "2015-04-04T00:00:00",
          "precipitation": 0.0,
          "temp_max": 12.8,
          "temp_min": 3.9,
          "weather": "sun",
          "wind": 1.7
         },
         {
          "date": "2015-04-05T00:00:00",
          "precipitation": 0.0,
          "temp_max": 16.7,
          "temp_min": 2.8,
          "weather": "sun",
          "wind": 2.4
         },
         {
          "date": "2015-04-06T00:00:00",
          "precipitation": 1.0,
          "temp_max": 13.9,
          "temp_min": 6.7,
          "weather": "sun",
          "wind": 3.5
         },
         {
          "date": "2015-04-07T00:00:00",
          "precipitation": 0.5,
          "temp_max": 14.4,
          "temp_min": 6.7,
          "weather": "sun",
          "wind": 3.9
         },
         {
          "date": "2015-04-08T00:00:00",
          "precipitation": 0.0,
          "temp_max": 17.2,
          "temp_min": 6.1,
          "weather": "sun",
          "wind": 1.7
         },
         {
          "date": "2015-04-09T00:00:00",
          "precipitation": 0.0,
          "temp_max": 17.2,
          "temp_min": 6.1,
          "weather": "sun",
          "wind": 2.3
         },
         {
          "date": "2015-04-10T00:00:00",
          "precipitation": 10.9,
          "temp_max": 13.9,
          "temp_min": 7.8,
          "weather": "fog",
          "wind": 4.6
         },
         {
          "date": "2015-04-11T00:00:00",
          "precipitation": 0.0,
          "temp_max": 11.7,
          "temp_min": 5.6,
          "weather": "sun",
          "wind": 6.5
         },
         {
          "date": "2015-04-12T00:00:00",
          "precipitation": 0.0,
          "temp_max": 13.3,
          "temp_min": 5.6,
          "weather": "sun",
          "wind": 3.6
         },
         {
          "date": "2015-04-13T00:00:00",
          "precipitation": 14.0,
          "temp_max": 11.7,
          "temp_min": 3.9,
          "weather": "fog",
          "wind": 3.6
         },
         {
          "date": "2015-04-14T00:00:00",
          "precipitation": 3.3,
          "temp_max": 11.7,
          "temp_min": 2.8,
          "weather": "sun",
          "wind": 3.3
         },
         {
          "date": "2015-04-15T00:00:00",
          "precipitation": 0.0,
          "temp_max": 13.9,
          "temp_min": 3.3,
          "weather": "sun",
          "wind": 2.4
         },
         {
          "date": "2015-04-16T00:00:00",
          "precipitation": 0.0,
          "temp_max": 17.8,
          "temp_min": 3.9,
          "weather": "sun",
          "wind": 3.1
         },
         {
          "date": "2015-04-17T00:00:00",
          "precipitation": 0.0,
          "temp_max": 18.9,
          "temp_min": 6.1,
          "weather": "sun",
          "wind": 3.6
         },
         {
          "date": "2015-04-18T00:00:00",
          "precipitation": 0.0,
          "temp_max": 18.9,
          "temp_min": 8.3,
          "weather": "sun",
          "wind": 3.9
         },
         {
          "date": "2015-04-19T00:00:00",
          "precipitation": 0.0,
          "temp_max": 21.1,
          "temp_min": 8.3,
          "weather": "sun",
          "wind": 3.6
         },
         {
          "date": "2015-04-20T00:00:00",
          "precipitation": 0.0,
          "temp_max": 22.8,
          "temp_min": 7.8,
          "weather": "sun",
          "wind": 2.6
         },
         {
          "date": "2015-04-21T00:00:00",
          "precipitation": 5.6,
          "temp_max": 17.2,
          "temp_min": 6.7,
          "weather": "fog",
          "wind": 3.4
         },
         {
          "date": "2015-04-22T00:00:00",
          "precipitation": 0.0,
          "temp_max": 15.6,
          "temp_min": 5.0,
          "weather": "sun",
          "wind": 2.3
         },
         {
          "date": "2015-04-23T00:00:00",
          "precipitation": 3.0,
          "temp_max": 12.2,
          "temp_min": 6.7,
          "weather": "fog",
          "wind": 4.1
         },
         {
          "date": "2015-04-24T00:00:00",
          "precipitation": 3.3,
          "temp_max": 12.2,
          "temp_min": 6.1,
          "weather": "fog",
          "wind": 5.0
         },
         {
          "date": "2015-04-25T00:00:00",
          "precipitation": 1.3,
          "temp_max": 13.3,
          "temp_min": 5.6,
          "weather": "fog",
          "wind": 3.0
         },
         {
          "date": "2015-04-26T00:00:00",
          "precipitation": 0.0,
          "temp_max": 15.6,
          "temp_min": 4.4,
          "weather": "fog",
          "wind": 2.7
         },
         {
          "date": "2015-04-27T00:00:00",
          "precipitation": 0.3,
          "temp_max": 25.0,
          "temp_min": 10.6,
          "weather": "fog",
          "wind": 2.3
         },
         {
          "date": "2015-04-28T00:00:00",
          "precipitation": 1.8,
          "temp_max": 15.6,
          "temp_min": 8.9,
          "weather": "fog",
          "wind": 4.3
         },
         {
          "date": "2015-04-29T00:00:00",
          "precipitation": 0.0,
          "temp_max": 16.1,
          "temp_min": 7.2,
          "weather": "sun",
          "wind": 4.7
         },
         {
          "date": "2015-04-30T00:00:00",
          "precipitation": 0.0,
          "temp_max": 17.2,
          "temp_min": 7.8,
          "weather": "sun",
          "wind": 2.1
         },
         {
          "date": "2015-05-01T00:00:00",
          "precipitation": 0.0,
          "temp_max": 18.3,
          "temp_min": 8.9,
          "weather": "sun",
          "wind": 3.7
         },
         {
          "date": "2015-05-02T00:00:00",
          "precipitation": 0.0,
          "temp_max": 18.3,
          "temp_min": 7.8,
          "weather": "sun",
          "wind": 3.7
         },
         {
          "date": "2015-05-03T00:00:00",
          "precipitation": 0.0,
          "temp_max": 20.6,
          "temp_min": 7.8,
          "weather": "sun",
          "wind": 2.6
         },
         {
          "date": "2015-05-04T00:00:00",
          "precipitation": 0.0,
          "temp_max": 17.2,
          "temp_min": 7.2,
          "weather": "sun",
          "wind": 5.2
         },
         {
          "date": "2015-05-05T00:00:00",
          "precipitation": 6.1,
          "temp_max": 14.4,
          "temp_min": 7.2,
          "weather": "fog",
          "wind": 5.1
         },
         {
          "date": "2015-05-06T00:00:00",
          "precipitation": 0.0,
          "temp_max": 16.7,
          "temp_min": 7.2,
          "weather": "fog",
          "wind": 2.6
         },
         {
          "date": "2015-05-07T00:00:00",
          "precipitation": 0.0,
          "temp_max": 20.6,
          "temp_min": 6.1,
          "weather": "sun",
          "wind": 3.0
         },
         {
          "date": "2015-05-08T00:00:00",
          "precipitation": 0.0,
          "temp_max": 23.9,
          "temp_min": 8.3,
          "weather": "sun",
          "wind": 3.0
         },
         {
          "date": "2015-05-09T00:00:00",
          "precipitation": 0.0,
          "temp_max": 26.7,
          "temp_min": 9.4,
          "weather": "sun",
          "wind": 2.6
         },
         {
          "date": "2015-05-10T00:00:00",
          "precipitation": 0.0,
          "temp_max": 19.4,
          "temp_min": 11.1,
          "weather": "sun",
          "wind": 2.8
         },
         {
          "date": "2015-05-11T00:00:00",
          "precipitation": 0.0,
          "temp_max": 13.9,
          "temp_min": 10.0,
          "weather": "fog",
          "wind": 2.5
         },
         {
          "date": "2015-05-12T00:00:00",
          "precipitation": 4.3,
          "temp_max": 15.6,
          "temp_min": 10.6,
          "weather": "fog",
          "wind": 3.3
         },
         {
          "date": "2015-05-13T00:00:00",
          "precipitation": 4.1,
          "temp_max": 12.2,
          "temp_min": 10.0,
          "weather": "fog",
          "wind": 2.8
         },
         {
          "date": "2015-05-14T00:00:00",
          "precipitation": 0.3,
          "temp_max": 17.8,
          "temp_min": 9.4,
          "weather": "fog",
          "wind": 2.0
         },
         {
          "date": "2015-05-15T00:00:00",
          "precipitation": 0.0,
          "temp_max": 20.0,
          "temp_min": 9.4,
          "weather": "fog",
          "wind": 2.8
         },
         {
          "date": "2015-05-16T00:00:00",
          "precipitation": 0.0,
          "temp_max": 15.6,
          "temp_min": 11.1,
          "weather": "sun",
          "wind": 3.0
         },
         {
          "date": "2015-05-17T00:00:00",
          "precipitation": 0.0,
          "temp_max": 19.4,
          "temp_min": 10.6,
          "weather": "sun",
          "wind": 2.1
         },
         {
          "date": "2015-05-18T00:00:00",
          "precipitation": 0.0,
          "temp_max": 25.6,
          "temp_min": 12.2,
          "weather": "sun",
          "wind": 3.0
         },
         {
          "date": "2015-05-19T00:00:00",
          "precipitation": 0.0,
          "temp_max": 21.7,
          "temp_min": 11.7,
          "weather": "sun",
          "wind": 2.6
         },
         {
          "date": "2015-05-20T00:00:00",
          "precipitation": 0.0,
          "temp_max": 23.3,
          "temp_min": 10.6,
          "weather": "fog",
          "wind": 1.8
         },
         {
          "date": "2015-05-21T00:00:00",
          "precipitation": 0.0,
          "temp_max": 25.6,
          "temp_min": 11.7,
          "weather": "sun",
          "wind": 2.1
         },
         {
          "date": "2015-05-22T00:00:00",
          "precipitation": 0.0,
          "temp_max": 16.7,
          "temp_min": 11.7,
          "weather": "sun",
          "wind": 3.7
         },
         {
          "date": "2015-05-23T00:00:00",
          "precipitation": 0.0,
          "temp_max": 16.1,
          "temp_min": 11.7,
          "weather": "sun",
          "wind": 2.6
         },
         {
          "date": "2015-05-24T00:00:00",
          "precipitation": 0.0,
          "temp_max": 17.8,
          "temp_min": 11.1,
          "weather": "sun",
          "wind": 2.7
         },
         {
          "date": "2015-05-25T00:00:00",
          "precipitation": 0.0,
          "temp_max": 15.6,
          "temp_min": 11.1,
          "weather": "sun",
          "wind": 2.7
         },
         {
          "date": "2015-05-26T00:00:00",
          "precipitation": 0.0,
          "temp_max": 21.7,
          "temp_min": 11.7,
          "weather": "sun",
          "wind": 2.1
         },
         {
          "date": "2015-05-27T00:00:00",
          "precipitation": 0.0,
          "temp_max": 24.4,
          "temp_min": 11.7,
          "weather": "sun",
          "wind": 1.8
         },
         {
          "date": "2015-05-28T00:00:00",
          "precipitation": 0.0,
          "temp_max": 27.8,
          "temp_min": 12.2,
          "weather": "sun",
          "wind": 2.1
         },
         {
          "date": "2015-05-29T00:00:00",
          "precipitation": 0.0,
          "temp_max": 26.1,
          "temp_min": 12.8,
          "weather": "sun",
          "wind": 2.5
         },
         {
          "date": "2015-05-30T00:00:00",
          "precipitation": 0.0,
          "temp_max": 22.8,
          "temp_min": 10.0,
          "weather": "sun",
          "wind": 2.5
         },
         {
          "date": "2015-05-31T00:00:00",
          "precipitation": 0.0,
          "temp_max": 25.0,
          "temp_min": 11.7,
          "weather": "sun",
          "wind": 2.2
         },
         {
          "date": "2015-06-01T00:00:00",
          "precipitation": 4.6,
          "temp_max": 16.1,
          "temp_min": 11.7,
          "weather": "fog",
          "wind": 3.4
         },
         {
          "date": "2015-06-02T00:00:00",
          "precipitation": 0.5,
          "temp_max": 17.8,
          "temp_min": 12.8,
          "weather": "sun",
          "wind": 5.0
         },
         {
          "date": "2015-06-03T00:00:00",
          "precipitation": 0.0,
          "temp_max": 20.0,
          "temp_min": 11.7,
          "weather": "sun",
          "wind": 3.0
         },
         {
          "date": "2015-06-04T00:00:00",
          "precipitation": 0.0,
          "temp_max": 22.8,
          "temp_min": 11.7,
          "weather": "sun",
          "wind": 3.9
         },
         {
          "date": "2015-06-05T00:00:00",
          "precipitation": 0.0,
          "temp_max": 26.7,
          "temp_min": 12.8,
          "weather": "sun",
          "wind": 4.3
         },
         {
          "date": "2015-06-06T00:00:00",
          "precipitation": 0.0,
          "temp_max": 29.4,
          "temp_min": 13.3,
          "weather": "sun",
          "wind": 2.6
         },
         {
          "date": "2015-06-07T00:00:00",
          "precipitation": 0.0,
          "temp_max": 31.1,
          "temp_min": 15.6,
          "weather": "sun",
          "wind": 3.2
         },
         {
          "date": "2015-06-08T00:00:00",
          "precipitation": 0.0,
          "temp_max": 30.6,
          "temp_min": 14.4,
          "weather": "sun",
          "wind": 3.5
         },
         {
          "date": "2015-06-09T00:00:00",
          "precipitation": 0.0,
          "temp_max": 28.9,
          "temp_min": 14.4,
          "weather": "sun",
          "wind": 2.7
         },
         {
          "date": "2015-06-10T00:00:00",
          "precipitation": 0.0,
          "temp_max": 25.6,
          "temp_min": 11.1,
          "weather": "sun",
          "wind": 3.0
         },
         {
          "date": "2015-06-11T00:00:00",
          "precipitation": 0.0,
          "temp_max": 24.4,
          "temp_min": 11.1,
          "weather": "sun",
          "wind": 3.5
         },
         {
          "date": "2015-06-12T00:00:00",
          "precipitation": 0.0,
          "temp_max": 20.0,
          "temp_min": 11.7,
          "weather": "sun",
          "wind": 2.3
         },
         {
          "date": "2015-06-13T00:00:00",
          "precipitation": 0.0,
          "temp_max": 23.9,
          "temp_min": 9.4,
          "weather": "sun",
          "wind": 2.6
         },
         {
          "date": "2015-06-14T00:00:00",
          "precipitation": 0.0,
          "temp_max": 27.8,
          "temp_min": 11.7,
          "weather": "sun",
          "wind": 3.7
         },
         {
          "date": "2015-06-15T00:00:00",
          "precipitation": 0.0,
          "temp_max": 30.0,
          "temp_min": 16.1,
          "weather": "drizzle",
          "wind": 3.5
         },
         {
          "date": "2015-06-16T00:00:00",
          "precipitation": 0.0,
          "temp_max": 22.8,
          "temp_min": 11.1,
          "weather": "sun",
          "wind": 3.0
         },
         {
          "date": "2015-06-17T00:00:00",
          "precipitation": 0.0,
          "temp_max": 25.0,
          "temp_min": 11.1,
          "weather": "sun",
          "wind": 3.1
         },
         {
          "date": "2015-06-18T00:00:00",
          "precipitation": 0.0,
          "temp_max": 24.4,
          "temp_min": 13.9,
          "weather": "sun",
          "wind": 3.0
         },
         {
          "date": "2015-06-19T00:00:00",
          "precipitation": 0.5,
          "temp_max": 23.9,
          "temp_min": 13.3,
          "weather": "fog",
          "wind": 3.2
         },
         {
          "date": "2015-06-20T00:00:00",
          "precipitation": 0.0,
          "temp_max": 25.0,
          "temp_min": 12.8,
          "weather": "sun",
          "wind": 4.3
         },
         {
          "date": "2015-06-21T00:00:00",
          "precipitation": 0.0,
          "temp_max": 25.6,
          "temp_min": 13.9,
          "weather": "sun",
          "wind": 3.4
         },
         {
          "date": "2015-06-22T00:00:00",
          "precipitation": 0.0,
          "temp_max": 25.0,
          "temp_min": 12.8,
          "weather": "sun",
          "wind": 2.4
         },
         {
          "date": "2015-06-23T00:00:00",
          "precipitation": 0.0,
          "temp_max": 26.1,
          "temp_min": 11.7,
          "weather": "sun",
          "wind": 2.4
         },
         {
          "date": "2015-06-24T00:00:00",
          "precipitation": 0.0,
          "temp_max": 25.6,
          "temp_min": 16.1,
          "weather": "sun",
          "wind": 2.6
         },
         {
          "date": "2015-06-25T00:00:00",
          "precipitation": 0.0,
          "temp_max": 30.6,
          "temp_min": 15.6,
          "weather": "sun",
          "wind": 3.0
         },
         {
          "date": "2015-06-26T00:00:00",
          "precipitation": 0.0,
          "temp_max": 31.7,
          "temp_min": 17.8,
          "weather": "sun",
          "wind": 4.7
         },
         {
          "date": "2015-06-27T00:00:00",
          "precipitation": 0.0,
          "temp_max": 33.3,
          "temp_min": 17.2,
          "weather": "sun",
          "wind": 3.9
         },
         {
          "date": "2015-06-28T00:00:00",
          "precipitation": 0.3,
          "temp_max": 28.3,
          "temp_min": 18.3,
          "weather": "sun",
          "wind": 2.1
         },
         {
          "date": "2015-06-29T00:00:00",
          "precipitation": 0.0,
          "temp_max": 28.9,
          "temp_min": 17.2,
          "weather": "sun",
          "wind": 2.7
         },
         {
          "date": "2015-06-30T00:00:00",
          "precipitation": 0.0,
          "temp_max": 30.6,
          "temp_min": 15.0,
          "weather": "fog",
          "wind": 3.4
         },
         {
          "date": "2015-07-01T00:00:00",
          "precipitation": 0.0,
          "temp_max": 32.2,
          "temp_min": 17.2,
          "weather": "sun",
          "wind": 4.3
         },
         {
          "date": "2015-07-02T00:00:00",
          "precipitation": 0.0,
          "temp_max": 33.9,
          "temp_min": 17.8,
          "weather": "sun",
          "wind": 3.4
         },
         {
          "date": "2015-07-03T00:00:00",
          "precipitation": 0.0,
          "temp_max": 33.3,
          "temp_min": 17.8,
          "weather": "sun",
          "wind": 2.6
         },
         {
          "date": "2015-07-04T00:00:00",
          "precipitation": 0.0,
          "temp_max": 33.3,
          "temp_min": 15.0,
          "weather": "sun",
          "wind": 2.9
         },
         {
          "date": "2015-07-05T00:00:00",
          "precipitation": 0.0,
          "temp_max": 32.8,
          "temp_min": 16.7,
          "weather": "sun",
          "wind": 2.1
         },
         {
          "date": "2015-07-06T00:00:00",
          "precipitation": 0.0,
          "temp_max": 29.4,
          "temp_min": 15.6,
          "weather": "drizzle",
          "wind": 3.2
         },
         {
          "date": "2015-07-07T00:00:00",
          "precipitation": 0.0,
          "temp_max": 27.2,
          "temp_min": 13.9,
          "weather": "sun",
          "wind": 2.4
         },
         {
          "date": "2015-07-08T00:00:00",
          "precipitation": 0.0,
          "temp_max": 30.0,
          "temp_min": 14.4,
          "weather": "drizzle",
          "wind": 1.9
         },
         {
          "date": "2015-07-09T00:00:00",
          "precipitation": 0.0,
          "temp_max": 28.9,
          "temp_min": 14.4,
          "weather": "sun",
          "wind": 3.4
         },
         {
          "date": "2015-07-10T00:00:00",
          "precipitation": 0.0,
          "temp_max": 21.1,
          "temp_min": 16.7,
          "weather": "sun",
          "wind": 3.7
         },
         {
          "date": "2015-07-11T00:00:00",
          "precipitation": 0.0,
          "temp_max": 22.2,
          "temp_min": 16.7,
          "weather": "sun",
          "wind": 3.0
         },
         {
          "date": "2015-07-12T00:00:00",
          "precipitation": 0.0,
          "temp_max": 26.1,
          "temp_min": 16.7,
          "weather": "sun",
          "wind": 2.2
         },
         {
          "date": "2015-07-13T00:00:00",
          "precipitation": 0.0,
          "temp_max": 25.6,
          "temp_min": 16.1,
          "weather": "sun",
          "wind": 3.1
         },
         {
          "date": "2015-07-14T00:00:00",
          "precipitation": 0.0,
          "temp_max": 27.8,
          "temp_min": 16.1,
          "weather": "sun",
          "wind": 3.3
         },
         {
          "date": "2015-07-15T00:00:00",
          "precipitation": 0.0,
          "temp_max": 26.1,
          "temp_min": 14.4,
          "weather": "sun",
          "wind": 3.2
         },
         {
          "date": "2015-07-16T00:00:00",
          "precipitation": 0.0,
          "temp_max": 26.1,
          "temp_min": 15.0,
          "weather": "sun",
          "wind": 2.8
         },
         {
          "date": "2015-07-17T00:00:00",
          "precipitation": 0.0,
          "temp_max": 27.8,
          "temp_min": 13.9,
          "weather": "sun",
          "wind": 3.3
         },
         {
          "date": "2015-07-18T00:00:00",
          "precipitation": 0.0,
          "temp_max": 33.3,
          "temp_min": 17.8,
          "weather": "sun",
          "wind": 3.4
         },
         {
          "date": "2015-07-19T00:00:00",
          "precipitation": 0.0,
          "temp_max": 35.0,
          "temp_min": 17.2,
          "weather": "sun",
          "wind": 3.3
         },
         {
          "date": "2015-07-20T00:00:00",
          "precipitation": 0.0,
          "temp_max": 26.7,
          "temp_min": 16.7,
          "weather": "sun",
          "wind": 3.9
         },
         {
          "date": "2015-07-21T00:00:00",
          "precipitation": 0.0,
          "temp_max": 23.9,
          "temp_min": 15.0,
          "weather": "sun",
          "wind": 2.4
         },
         {
          "date": "2015-07-22T00:00:00",
          "precipitation": 0.0,
          "temp_max": 23.9,
          "temp_min": 13.9,
          "weather": "sun",
          "wind": 2.8
         },
         {
          "date": "2015-07-23T00:00:00",
          "precipitation": 0.0,
          "temp_max": 26.1,
          "temp_min": 14.4,
          "weather": "sun",
          "wind": 1.9
         },
         {
          "date": "2015-07-24T00:00:00",
          "precipitation": 0.3,
          "temp_max": 22.8,
          "temp_min": 13.3,
          "weather": "fog",
          "wind": 3.8
         },
         {
          "date": "2015-07-25T00:00:00",
          "precipitation": 0.0,
          "temp_max": 21.1,
          "temp_min": 14.4,
          "weather": "fog",
          "wind": 2.4
         },
         {
          "date": "2015-07-26T00:00:00",
          "precipitation": 2.0,
          "temp_max": 22.2,
          "temp_min": 13.9,
          "weather": "fog",
          "wind": 2.6
         },
         {
          "date": "2015-07-27T00:00:00",
          "precipitation": 0.0,
          "temp_max": 23.3,
          "temp_min": 12.2,
          "weather": "fog",
          "wind": 1.9
         },
         {
          "date": "2015-07-28T00:00:00",
          "precipitation": 0.0,
          "temp_max": 27.8,
          "temp_min": 13.9,
          "weather": "sun",
          "wind": 3.4
         },
         {
          "date": "2015-07-29T00:00:00",
          "precipitation": 0.0,
          "temp_max": 32.2,
          "temp_min": 14.4,
          "weather": "sun",
          "wind": 3.8
         },
         {
          "date": "2015-07-30T00:00:00",
          "precipitation": 0.0,
          "temp_max": 34.4,
          "temp_min": 17.2,
          "weather": "sun",
          "wind": 3.5
         },
         {
          "date": "2015-07-31T00:00:00",
          "precipitation": 0.0,
          "temp_max": 34.4,
          "temp_min": 17.8,
          "weather": "sun",
          "wind": 2.6
         },
         {
          "date": "2015-08-01T00:00:00",
          "precipitation": 0.0,
          "temp_max": 33.3,
          "temp_min": 15.6,
          "weather": "sun",
          "wind": 3.1
         },
         {
          "date": "2015-08-02T00:00:00",
          "precipitation": 0.0,
          "temp_max": 30.6,
          "temp_min": 16.1,
          "weather": "sun",
          "wind": 2.0
         },
         {
          "date": "2015-08-03T00:00:00",
          "precipitation": 0.0,
          "temp_max": 28.3,
          "temp_min": 17.2,
          "weather": "sun",
          "wind": 2.3
         },
         {
          "date": "2015-08-04T00:00:00",
          "precipitation": 0.0,
          "temp_max": 26.1,
          "temp_min": 14.4,
          "weather": "fog",
          "wind": 2.6
         },
         {
          "date": "2015-08-05T00:00:00",
          "precipitation": 0.0,
          "temp_max": 23.3,
          "temp_min": 12.2,
          "weather": "sun",
          "wind": 3.5
         },
         {
          "date": "2015-08-06T00:00:00",
          "precipitation": 0.0,
          "temp_max": 25.0,
          "temp_min": 15.0,
          "weather": "sun",
          "wind": 2.9
         },
         {
          "date": "2015-08-07T00:00:00",
          "precipitation": 0.0,
          "temp_max": 28.3,
          "temp_min": 15.6,
          "weather": "sun",
          "wind": 3.7
         },
         {
          "date": "2015-08-08T00:00:00",
          "precipitation": 0.0,
          "temp_max": 25.0,
          "temp_min": 15.6,
          "weather": "fog",
          "wind": 3.6
         },
         {
          "date": "2015-08-09T00:00:00",
          "precipitation": 0.0,
          "temp_max": 28.3,
          "temp_min": 15.0,
          "weather": "sun",
          "wind": 2.2
         },
         {
          "date": "2015-08-10T00:00:00",
          "precipitation": 0.0,
          "temp_max": 28.9,
          "temp_min": 16.1,
          "weather": "sun",
          "wind": 2.4
         },
         {
          "date": "2015-08-11T00:00:00",
          "precipitation": 0.0,
          "temp_max": 30.0,
          "temp_min": 16.7,
          "weather": "sun",
          "wind": 4.4
         },
         {
          "date": "2015-08-12T00:00:00",
          "precipitation": 7.6,
          "temp_max": 28.3,
          "temp_min": 16.7,
          "weather": "rain",
          "wind": 2.7
         },
         {
          "date": "2015-08-13T00:00:00",
          "precipitation": 0.0,
          "temp_max": 28.3,
          "temp_min": 15.6,
          "weather": "sun",
          "wind": 2.2
         },
         {
          "date": "2015-08-14T00:00:00",
          "precipitation": 30.5,
          "temp_max": 18.3,
          "temp_min": 15.0,
          "weather": "rain",
          "wind": 5.2
         },
         {
          "date": "2015-08-15T00:00:00",
          "precipitation": 0.0,
          "temp_max": 21.7,
          "temp_min": 13.9,
          "weather": "sun",
          "wind": 3.7
         },
         {
          "date": "2015-08-16T00:00:00",
          "precipitation": 0.0,
          "temp_max": 25.0,
          "temp_min": 14.4,
          "weather": "sun",
          "wind": 3.7
         },
         {
          "date": "2015-08-17T00:00:00",
          "precipitation": 0.0,
          "temp_max": 27.2,
          "temp_min": 13.9,
          "weather": "sun",
          "wind": 3.0
         },
         {
          "date": "2015-08-18T00:00:00",
          "precipitation": 0.0,
          "temp_max": 30.0,
          "temp_min": 15.0,
          "weather": "sun",
          "wind": 3.0
         },
         {
          "date": "2015-08-19T00:00:00",
          "precipitation": 0.0,
          "temp_max": 31.7,
          "temp_min": 16.1,
          "weather": "drizzle",
          "wind": 2.1
         },
         {
          "date": "2015-08-20T00:00:00",
          "precipitation": 2.0,
          "temp_max": 22.8,
          "temp_min": 14.4,
          "weather": "fog",
          "wind": 4.2
         },
         {
          "date": "2015-08-21T00:00:00",
          "precipitation": 0.0,
          "temp_max": 22.2,
          "temp_min": 14.4,
          "weather": "sun",
          "wind": 2.6
         },
         {
          "date": "2015-08-22T00:00:00",
          "precipitation": 0.0,
          "temp_max": 26.7,
          "temp_min": 12.2,
          "weather": "drizzle",
          "wind": 2.5
         },
         {
          "date": "2015-08-23T00:00:00",
          "precipitation": 0.0,
          "temp_max": 27.8,
          "temp_min": 13.9,
          "weather": "drizzle",
          "wind": 1.8
         },
         {
          "date": "2015-08-24T00:00:00",
          "precipitation": 0.0,
          "temp_max": 23.9,
          "temp_min": 12.2,
          "weather": "sun",
          "wind": 2.3
         },
         {
          "date": "2015-08-25T00:00:00",
          "precipitation": 0.0,
          "temp_max": 25.6,
          "temp_min": 12.2,
          "weather": "sun",
          "wind": 3.4
         },
         {
          "date": "2015-08-26T00:00:00",
          "precipitation": 0.0,
          "temp_max": 28.3,
          "temp_min": 13.9,
          "weather": "sun",
          "wind": 1.7
         },
         {
          "date": "2015-08-27T00:00:00",
          "precipitation": 0.0,
          "temp_max": 29.4,
          "temp_min": 14.4,
          "weather": "sun",
          "wind": 2.1
         },
         {
          "date": "2015-08-28T00:00:00",
          "precipitation": 0.5,
          "temp_max": 23.3,
          "temp_min": 15.6,
          "weather": "fog",
          "wind": 2.6
         },
         {
          "date": "2015-08-29T00:00:00",
          "precipitation": 32.5,
          "temp_max": 22.2,
          "temp_min": 13.3,
          "weather": "fog",
          "wind": 5.8
         },
         {
          "date": "2015-08-30T00:00:00",
          "precipitation": 10.2,
          "temp_max": 20.0,
          "temp_min": 12.8,
          "weather": "fog",
          "wind": 4.7
         },
         {
          "date": "2015-08-31T00:00:00",
          "precipitation": 0.0,
          "temp_max": 18.9,
          "temp_min": 16.1,
          "weather": "sun",
          "wind": 5.8
         },
         {
          "date": "2015-09-01T00:00:00",
          "precipitation": 5.8,
          "temp_max": 19.4,
          "temp_min": 13.9,
          "weather": "fog",
          "wind": 5.0
         },
         {
          "date": "2015-09-02T00:00:00",
          "precipitation": 0.0,
          "temp_max": 19.4,
          "temp_min": 11.1,
          "weather": "sun",
          "wind": 3.8
         },
         {
          "date": "2015-09-03T00:00:00",
          "precipitation": 0.0,
          "temp_max": 18.3,
          "temp_min": 10.6,
          "weather": "sun",
          "wind": 2.9
         },
         {
          "date": "2015-09-04T00:00:00",
          "precipitation": 0.0,
          "temp_max": 18.3,
          "temp_min": 10.0,
          "weather": "sun",
          "wind": 2.9
         },
         {
          "date": "2015-09-05T00:00:00",
          "precipitation": 0.3,
          "temp_max": 20.6,
          "temp_min": 8.9,
          "weather": "sun",
          "wind": 3.5
         },
         {
          "date": "2015-09-06T00:00:00",
          "precipitation": 5.3,
          "temp_max": 16.1,
          "temp_min": 11.7,
          "weather": "fog",
          "wind": 2.4
         },
         {
          "date": "2015-09-07T00:00:00",
          "precipitation": 0.3,
          "temp_max": 21.1,
          "temp_min": 13.3,
          "weather": "fog",
          "wind": 1.5
         },
         {
          "date": "2015-09-08T00:00:00",
          "precipitation": 0.0,
          "temp_max": 22.8,
          "temp_min": 13.3,
          "weather": "sun",
          "wind": 2.4
         },
         {
          "date": "2015-09-09T00:00:00",
          "precipitation": 0.0,
          "temp_max": 24.4,
          "temp_min": 13.9,
          "weather": "sun",
          "wind": 3.3
         },
         {
          "date": "2015-09-10T00:00:00",
          "precipitation": 0.0,
          "temp_max": 25.0,
          "temp_min": 14.4,
          "weather": "fog",
          "wind": 3.6
         },
         {
          "date": "2015-09-11T00:00:00",
          "precipitation": 0.0,
          "temp_max": 27.2,
          "temp_min": 15.0,
          "weather": "sun",
          "wind": 3.1
         },
         {
          "date": "2015-09-12T00:00:00",
          "precipitation": 0.0,
          "temp_max": 26.7,
          "temp_min": 14.4,
          "weather": "sun",
          "wind": 2.1
         },
         {
          "date": "2015-09-13T00:00:00",
          "precipitation": 0.5,
          "temp_max": 20.6,
          "temp_min": 12.8,
          "weather": "fog",
          "wind": 3.0
         },
         {
          "date": "2015-09-14T00:00:00",
          "precipitation": 0.0,
          "temp_max": 16.7,
          "temp_min": 10.6,
          "weather": "sun",
          "wind": 3.4
         },
         {
          "date": "2015-09-15T00:00:00",
          "precipitation": 0.0,
          "temp_max": 17.8,
          "temp_min": 10.0,
          "weather": "sun",
          "wind": 2.8
         },
         {
          "date": "2015-09-16T00:00:00",
          "precipitation": 1.0,
          "temp_max": 20.0,
          "temp_min": 10.0,
          "weather": "sun",
          "wind": 1.9
         },
         {
          "date": "2015-09-17T00:00:00",
          "precipitation": 1.8,
          "temp_max": 18.3,
          "temp_min": 12.8,
          "weather": "fog",
          "wind": 3.8
         },
         {
          "date": "2015-09-18T00:00:00",
          "precipitation": 0.0,
          "temp_max": 19.4,
          "temp_min": 12.8,
          "weather": "sun",
          "wind": 2.6
         },
         {
          "date": "2015-09-19T00:00:00",
          "precipitation": 0.0,
          "temp_max": 21.1,
          "temp_min": 14.4,
          "weather": "sun",
          "wind": 4.3
         },
         {
          "date": "2015-09-20T00:00:00",
          "precipitation": 4.1,
          "temp_max": 22.8,
          "temp_min": 12.2,
          "weather": "fog",
          "wind": 6.8
         },
         {
          "date": "2015-09-21T00:00:00",
          "precipitation": 0.0,
          "temp_max": 18.3,
          "temp_min": 9.4,
          "weather": "fog",
          "wind": 2.7
         },
         {
          "date": "2015-09-22T00:00:00",
          "precipitation": 0.0,
          "temp_max": 18.9,
          "temp_min": 7.8,
          "weather": "sun",
          "wind": 2.0
         },
         {
          "date": "2015-09-23T00:00:00",
          "precipitation": 0.0,
          "temp_max": 20.6,
          "temp_min": 8.3,
          "weather": "sun",
          "wind": 1.8
         },
         {
          "date": "2015-09-24T00:00:00",
          "precipitation": 0.0,
          "temp_max": 22.2,
          "temp_min": 11.1,
          "weather": "fog",
          "wind": 2.5
         },
         {
          "date": "2015-09-25T00:00:00",
          "precipitation": 2.0,
          "temp_max": 15.6,
          "temp_min": 12.8,
          "weather": "fog",
          "wind": 2.6
         },
         {
          "date": "2015-09-26T00:00:00",
          "precipitation": 0.0,
          "temp_max": 18.3,
          "temp_min": 10.0,
          "weather": "sun",
          "wind": 2.7
         },
         {
          "date": "2015-09-27T00:00:00",
          "precipitation": 0.0,
          "temp_max": 17.8,
          "temp_min": 7.2,
          "weather": "sun",
          "wind": 3.8
         },
         {
          "date": "2015-09-28T00:00:00",
          "precipitation": 0.0,
          "temp_max": 21.1,
          "temp_min": 9.4,
          "weather": "sun",
          "wind": 5.1
         },
         {
          "date": "2015-09-29T00:00:00",
          "precipitation": 0.0,
          "temp_max": 21.7,
          "temp_min": 8.9,
          "weather": "sun",
          "wind": 1.9
         },
         {
          "date": "2015-09-30T00:00:00",
          "precipitation": 0.0,
          "temp_max": 18.3,
          "temp_min": 10.0,
          "weather": "fog",
          "wind": 1.3
         },
         {
          "date": "2015-10-01T00:00:00",
          "precipitation": 0.0,
          "temp_max": 21.1,
          "temp_min": 9.4,
          "weather": "fog",
          "wind": 1.3
         },
         {
          "date": "2015-10-02T00:00:00",
          "precipitation": 0.0,
          "temp_max": 15.6,
          "temp_min": 10.0,
          "weather": "fog",
          "wind": 2.9
         },
         {
          "date": "2015-10-03T00:00:00",
          "precipitation": 0.0,
          "temp_max": 19.4,
          "temp_min": 11.1,
          "weather": "sun",
          "wind": 4.8
         },
         {
          "date": "2015-10-04T00:00:00",
          "precipitation": 0.0,
          "temp_max": 22.8,
          "temp_min": 10.0,
          "weather": "sun",
          "wind": 3.7
         },
         {
          "date": "2015-10-05T00:00:00",
          "precipitation": 0.0,
          "temp_max": 23.3,
          "temp_min": 9.4,
          "weather": "sun",
          "wind": 1.6
         },
         {
          "date": "2015-10-06T00:00:00",
          "precipitation": 0.0,
          "temp_max": 18.3,
          "temp_min": 10.0,
          "weather": "drizzle",
          "wind": 2.6
         },
         {
          "date": "2015-10-07T00:00:00",
          "precipitation": 9.9,
          "temp_max": 16.1,
          "temp_min": 13.9,
          "weather": "fog",
          "wind": 2.2
         },
         {
          "date": "2015-10-08T00:00:00",
          "precipitation": 0.0,
          "temp_max": 18.9,
          "temp_min": 13.3,
          "weather": "fog",
          "wind": 1.1
         },
         {
          "date": "2015-10-09T00:00:00",
          "precipitation": 0.3,
          "temp_max": 19.4,
          "temp_min": 12.2,
          "weather": "fog",
          "wind": 2.6
         },
         {
          "date": "2015-10-10T00:00:00",
          "precipitation": 28.7,
          "temp_max": 21.1,
          "temp_min": 13.3,
          "weather": "fog",
          "wind": 4.7
         },
         {
          "date": "2015-10-11T00:00:00",
          "precipitation": 0.0,
          "temp_max": 17.8,
          "temp_min": 10.6,
          "weather": "sun",
          "wind": 2.6
         },
         {
          "date": "2015-10-12T00:00:00",
          "precipitation": 4.6,
          "temp_max": 18.3,
          "temp_min": 10.6,
          "weather": "fog",
          "wind": 2.8
         },
         {
          "date": "2015-10-13T00:00:00",
          "precipitation": 1.3,
          "temp_max": 16.7,
          "temp_min": 9.4,
          "weather": "fog",
          "wind": 3.2
         },
         {
          "date": "2015-10-14T00:00:00",
          "precipitation": 0.0,
          "temp_max": 15.0,
          "temp_min": 10.0,
          "weather": "fog",
          "wind": 5.0
         },
         {
          "date": "2015-10-15T00:00:00",
          "precipitation": 0.0,
          "temp_max": 21.1,
          "temp_min": 9.4,
          "weather": "fog",
          "wind": 3.4
         },
         {
          "date": "2015-10-16T00:00:00",
          "precipitation": 0.0,
          "temp_max": 20.0,
          "temp_min": 8.9,
          "weather": "sun",
          "wind": 1.3
         },
         {
          "date": "2015-10-17T00:00:00",
          "precipitation": 0.3,
          "temp_max": 19.4,
          "temp_min": 11.7,
          "weather": "fog",
          "wind": 1.3
         },
         {
          "date": "2015-10-18T00:00:00",
          "precipitation": 3.8,
          "temp_max": 15.0,
          "temp_min": 12.8,
          "weather": "fog",
          "wind": 2.0
         },
         {
          "date": "2015-10-19T00:00:00",
          "precipitation": 0.3,
          "temp_max": 17.2,
          "temp_min": 12.2,
          "weather": "fog",
          "wind": 2.6
         },
         {
          "date": "2015-10-20T00:00:00",
          "precipitation": 0.0,
          "temp_max": 17.8,
          "temp_min": 10.6,
          "weather": "fog",
          "wind": 1.8
         },
         {
          "date": "2015-10-21T00:00:00",
          "precipitation": 0.0,
          "temp_max": 16.1,
          "temp_min": 8.3,
          "weather": "fog",
          "wind": 1.3
         },
         {
          "date": "2015-10-22T00:00:00",
          "precipitation": 0.0,
          "temp_max": 16.1,
          "temp_min": 8.9,
          "weather": "fog",
          "wind": 2.7
         },
         {
          "date": "2015-10-23T00:00:00",
          "precipitation": 0.0,
          "temp_max": 12.8,
          "temp_min": 7.2,
          "weather": "fog",
          "wind": 2.6
         },
         {
          "date": "2015-10-24T00:00:00",
          "precipitation": 0.0,
          "temp_max": 15.0,
          "temp_min": 8.9,
          "weather": "fog",
          "wind": 2.9
         },
         {
          "date": "2015-10-25T00:00:00",
          "precipitation": 8.9,
          "temp_max": 19.4,
          "temp_min": 8.9,
          "weather": "rain",
          "wind": 3.4
         },
         {
          "date": "2015-10-26T00:00:00",
          "precipitation": 6.9,
          "temp_max": 12.2,
          "temp_min": 10.0,
          "weather": "fog",
          "wind": 4.6
         },
         {
          "date": "2015-10-27T00:00:00",
          "precipitation": 0.0,
          "temp_max": 16.1,
          "temp_min": 7.8,
          "weather": "fog",
          "wind": 1.7
         },
         {
          "date": "2015-10-28T00:00:00",
          "precipitation": 3.3,
          "temp_max": 13.9,
          "temp_min": 11.1,
          "weather": "fog",
          "wind": 2.8
         },
         {
          "date": "2015-10-29T00:00:00",
          "precipitation": 1.8,
          "temp_max": 15.0,
          "temp_min": 12.2,
          "weather": "fog",
          "wind": 4.7
         },
         {
          "date": "2015-10-30T00:00:00",
          "precipitation": 19.3,
          "temp_max": 17.2,
          "temp_min": 11.7,
          "weather": "fog",
          "wind": 6.7
         },
         {
          "date": "2015-10-31T00:00:00",
          "precipitation": 33.0,
          "temp_max": 15.6,
          "temp_min": 11.7,
          "weather": "fog",
          "wind": 7.2
         },
         {
          "date": "2015-11-01T00:00:00",
          "precipitation": 26.2,
          "temp_max": 12.2,
          "temp_min": 8.9,
          "weather": "fog",
          "wind": 6.0
         },
         {
          "date": "2015-11-02T00:00:00",
          "precipitation": 0.3,
          "temp_max": 11.1,
          "temp_min": 7.2,
          "weather": "fog",
          "wind": 2.8
         },
         {
          "date": "2015-11-03T00:00:00",
          "precipitation": 0.8,
          "temp_max": 10.6,
          "temp_min": 5.0,
          "weather": "fog",
          "wind": 1.4
         },
         {
          "date": "2015-11-04T00:00:00",
          "precipitation": 0.0,
          "temp_max": 10.0,
          "temp_min": 3.3,
          "weather": "sun",
          "wind": 2.2
         },
         {
          "date": "2015-11-05T00:00:00",
          "precipitation": 1.3,
          "temp_max": 11.7,
          "temp_min": 7.8,
          "weather": "fog",
          "wind": 2.3
         },
         {
          "date": "2015-11-06T00:00:00",
          "precipitation": 0.0,
          "temp_max": 15.6,
          "temp_min": 8.3,
          "weather": "fog",
          "wind": 2.7
         },
         {
          "date": "2015-11-07T00:00:00",
          "precipitation": 12.7,
          "temp_max": 12.2,
          "temp_min": 9.4,
          "weather": "fog",
          "wind": 3.0
         },
         {
          "date": "2015-11-08T00:00:00",
          "precipitation": 6.6,
          "temp_max": 11.1,
          "temp_min": 7.8,
          "weather": "fog",
          "wind": 1.8
         },
         {
          "date": "2015-11-09T00:00:00",
          "precipitation": 3.3,
          "temp_max": 10.0,
          "temp_min": 5.0,
          "weather": "fog",
          "wind": 1.3
         },
         {
          "date": "2015-11-10T00:00:00",
          "precipitation": 1.3,
          "temp_max": 11.1,
          "temp_min": 3.9,
          "weather": "fog",
          "wind": 3.9
         },
         {
          "date": "2015-11-11T00:00:00",
          "precipitation": 1.5,
          "temp_max": 11.1,
          "temp_min": 6.1,
          "weather": "sun",
          "wind": 4.6
         },
         {
          "date": "2015-11-12T00:00:00",
          "precipitation": 9.9,
          "temp_max": 11.1,
          "temp_min": 5.0,
          "weather": "fog",
          "wind": 5.1
         },
         {
          "date": "2015-11-13T00:00:00",
          "precipitation": 33.5,
          "temp_max": 13.3,
          "temp_min": 9.4,
          "weather": "fog",
          "wind": 6.5
         },
         {
          "date": "2015-11-14T00:00:00",
          "precipitation": 47.2,
          "temp_max": 9.4,
          "temp_min": 6.1,
          "weather": "fog",
          "wind": 4.5
         },
         {
          "date": "2015-11-15T00:00:00",
          "precipitation": 22.4,
          "temp_max": 8.9,
          "temp_min": 2.2,
          "weather": "fog",
          "wind": 4.1
         },
         {
          "date": "2015-11-16T00:00:00",
          "precipitation": 2.0,
          "temp_max": 8.9,
          "temp_min": 1.7,
          "weather": "fog",
          "wind": 4.0
         },
         {
          "date": "2015-11-17T00:00:00",
          "precipitation": 29.5,
          "temp_max": 13.3,
          "temp_min": 6.7,
          "weather": "fog",
          "wind": 8.0
         },
         {
          "date": "2015-11-18T00:00:00",
          "precipitation": 1.5,
          "temp_max": 8.9,
          "temp_min": 3.3,
          "weather": "sun",
          "wind": 3.8
         },
         {
          "date": "2015-11-19T00:00:00",
          "precipitation": 2.0,
          "temp_max": 8.9,
          "temp_min": 2.8,
          "weather": "sun",
          "wind": 4.2
         },
         {
          "date": "2015-11-20T00:00:00",
          "precipitation": 0.0,
          "temp_max": 8.3,
          "temp_min": 0.6,
          "weather": "fog",
          "wind": 4.0
         },
         {
          "date": "2015-11-21T00:00:00",
          "precipitation": 0.0,
          "temp_max": 8.9,
          "temp_min": 0.6,
          "weather": "sun",
          "wind": 4.7
         },
         {
          "date": "2015-11-22T00:00:00",
          "precipitation": 0.0,
          "temp_max": 10.0,
          "temp_min": 1.7,
          "weather": "fog",
          "wind": 3.1
         },
         {
          "date": "2015-11-23T00:00:00",
          "precipitation": 3.0,
          "temp_max": 6.7,
          "temp_min": 0.0,
          "weather": "fog",
          "wind": 1.3
         },
         {
          "date": "2015-11-24T00:00:00",
          "precipitation": 7.1,
          "temp_max": 6.7,
          "temp_min": 2.8,
          "weather": "fog",
          "wind": 4.5
         },
         {
          "date": "2015-11-25T00:00:00",
          "precipitation": 0.0,
          "temp_max": 7.2,
          "temp_min": 0.0,
          "weather": "sun",
          "wind": 5.7
         },
         {
          "date": "2015-11-26T00:00:00",
          "precipitation": 0.0,
          "temp_max": 9.4,
          "temp_min": -1.0,
          "weather": "sun",
          "wind": 4.3
         },
         {
          "date": "2015-11-27T00:00:00",
          "precipitation": 0.0,
          "temp_max": 9.4,
          "temp_min": -1.6,
          "weather": "sun",
          "wind": 3.0
         },
         {
          "date": "2015-11-28T00:00:00",
          "precipitation": 0.0,
          "temp_max": 7.2,
          "temp_min": -2.7,
          "weather": "sun",
          "wind": 1.0
         },
         {
          "date": "2015-11-29T00:00:00",
          "precipitation": 0.0,
          "temp_max": 1.7,
          "temp_min": -2.1,
          "weather": "fog",
          "wind": 0.9
         },
         {
          "date": "2015-11-30T00:00:00",
          "precipitation": 0.5,
          "temp_max": 5.6,
          "temp_min": -3.8,
          "weather": "fog",
          "wind": 1.7
         },
         {
          "date": "2015-12-01T00:00:00",
          "precipitation": 12.2,
          "temp_max": 10.0,
          "temp_min": 3.9,
          "weather": "fog",
          "wind": 3.5
         },
         {
          "date": "2015-12-02T00:00:00",
          "precipitation": 2.5,
          "temp_max": 10.6,
          "temp_min": 4.4,
          "weather": "fog",
          "wind": 5.0
         },
         {
          "date": "2015-12-03T00:00:00",
          "precipitation": 12.7,
          "temp_max": 15.6,
          "temp_min": 7.8,
          "weather": "fog",
          "wind": 5.9
         },
         {
          "date": "2015-12-04T00:00:00",
          "precipitation": 2.0,
          "temp_max": 10.6,
          "temp_min": 6.1,
          "weather": "fog",
          "wind": 4.7
         },
         {
          "date": "2015-12-05T00:00:00",
          "precipitation": 15.7,
          "temp_max": 10.0,
          "temp_min": 6.1,
          "weather": "fog",
          "wind": 4.0
         },
         {
          "date": "2015-12-06T00:00:00",
          "precipitation": 11.2,
          "temp_max": 12.8,
          "temp_min": 7.2,
          "weather": "fog",
          "wind": 5.9
         },
         {
          "date": "2015-12-07T00:00:00",
          "precipitation": 27.4,
          "temp_max": 11.1,
          "temp_min": 8.3,
          "weather": "fog",
          "wind": 3.4
         },
         {
          "date": "2015-12-08T00:00:00",
          "precipitation": 54.1,
          "temp_max": 15.6,
          "temp_min": 10.0,
          "weather": "fog",
          "wind": 6.2
         },
         {
          "date": "2015-12-09T00:00:00",
          "precipitation": 13.5,
          "temp_max": 12.2,
          "temp_min": 7.8,
          "weather": "fog",
          "wind": 6.3
         },
         {
          "date": "2015-12-10T00:00:00",
          "precipitation": 9.4,
          "temp_max": 11.7,
          "temp_min": 6.1,
          "weather": "fog",
          "wind": 7.5
         },
         {
          "date": "2015-12-11T00:00:00",
          "precipitation": 0.3,
          "temp_max": 9.4,
          "temp_min": 4.4,
          "weather": "sun",
          "wind": 2.8
         },
         {
          "date": "2015-12-12T00:00:00",
          "precipitation": 16.0,
          "temp_max": 8.9,
          "temp_min": 5.6,
          "weather": "fog",
          "wind": 5.6
         },
         {
          "date": "2015-12-13T00:00:00",
          "precipitation": 1.3,
          "temp_max": 7.8,
          "temp_min": 6.1,
          "weather": "sun",
          "wind": 6.1
         },
         {
          "date": "2015-12-14T00:00:00",
          "precipitation": 0.0,
          "temp_max": 7.8,
          "temp_min": 1.7,
          "weather": "sun",
          "wind": 1.7
         },
         {
          "date": "2015-12-15T00:00:00",
          "precipitation": 1.5,
          "temp_max": 6.7,
          "temp_min": 1.1,
          "weather": "fog",
          "wind": 2.9
         },
         {
          "date": "2015-12-16T00:00:00",
          "precipitation": 3.6,
          "temp_max": 6.1,
          "temp_min": 2.8,
          "weather": "fog",
          "wind": 2.3
         },
         {
          "date": "2015-12-17T00:00:00",
          "precipitation": 21.8,
          "temp_max": 6.7,
          "temp_min": 3.9,
          "weather": "fog",
          "wind": 6.0
         },
         {
          "date": "2015-12-18T00:00:00",
          "precipitation": 18.5,
          "temp_max": 8.9,
          "temp_min": 4.4,
          "weather": "fog",
          "wind": 5.1
         },
         {
          "date": "2015-12-19T00:00:00",
          "precipitation": 0.0,
          "temp_max": 8.3,
          "temp_min": 2.8,
          "weather": "fog",
          "wind": 4.1
         },
         {
          "date": "2015-12-20T00:00:00",
          "precipitation": 4.3,
          "temp_max": 7.8,
          "temp_min": 4.4,
          "weather": "fog",
          "wind": 6.7
         },
         {
          "date": "2015-12-21T00:00:00",
          "precipitation": 27.4,
          "temp_max": 5.6,
          "temp_min": 2.8,
          "weather": "fog",
          "wind": 4.3
         },
         {
          "date": "2015-12-22T00:00:00",
          "precipitation": 4.6,
          "temp_max": 7.8,
          "temp_min": 2.8,
          "weather": "fog",
          "wind": 5.0
         },
         {
          "date": "2015-12-23T00:00:00",
          "precipitation": 6.1,
          "temp_max": 5.0,
          "temp_min": 2.8,
          "weather": "fog",
          "wind": 7.6
         },
         {
          "date": "2015-12-24T00:00:00",
          "precipitation": 2.5,
          "temp_max": 5.6,
          "temp_min": 2.2,
          "weather": "fog",
          "wind": 4.3
         },
         {
          "date": "2015-12-25T00:00:00",
          "precipitation": 5.8,
          "temp_max": 5.0,
          "temp_min": 2.2,
          "weather": "fog",
          "wind": 1.5
         },
         {
          "date": "2015-12-26T00:00:00",
          "precipitation": 0.0,
          "temp_max": 4.4,
          "temp_min": 0.0,
          "weather": "sun",
          "wind": 2.5
         },
         {
          "date": "2015-12-27T00:00:00",
          "precipitation": 8.6,
          "temp_max": 4.4,
          "temp_min": 1.7,
          "weather": "fog",
          "wind": 2.9
         },
         {
          "date": "2015-12-28T00:00:00",
          "precipitation": 1.5,
          "temp_max": 5.0,
          "temp_min": 1.7,
          "weather": "fog",
          "wind": 1.3
         },
         {
          "date": "2015-12-29T00:00:00",
          "precipitation": 0.0,
          "temp_max": 7.2,
          "temp_min": 0.6,
          "weather": "fog",
          "wind": 2.6
         },
         {
          "date": "2015-12-30T00:00:00",
          "precipitation": 0.0,
          "temp_max": 5.6,
          "temp_min": -1.0,
          "weather": "sun",
          "wind": 3.4
         },
         {
          "date": "2015-12-31T00:00:00",
          "precipitation": 0.0,
          "temp_max": 5.6,
          "temp_min": -2.1,
          "weather": "sun",
          "wind": 3.5
         }
        ]
       },
       "title": "Seattle Weather: 2012-2015",
       "vconcat": [
        {
         "encoding": {
          "color": {
           "condition": {
            "field": "weather",
            "scale": {
             "domain": [
              "sun",
              "fog",
              "drizzle",
              "rain",
              "snow"
             ],
             "range": [
              "#e7ba52",
              "#a7a7a7",
              "#aec7e8",
              "#1f77b4",
              "#9467bd"
             ]
            },
            "selection": "selector001",
            "type": "nominal"
           },
           "value": "lightgray"
          },
          "size": {
           "field": "precipitation",
           "scale": {
            "range": [
             5,
             200
            ]
           },
           "type": "quantitative"
          },
          "x": {
           "field": "date",
           "timeUnit": "monthdate",
           "title": "Date",
           "type": "temporal"
          },
          "y": {
           "field": "temp_max",
           "scale": {
            "domain": [
             -5,
             40
            ]
           },
           "title": "Maximum Daily Temperature (C)",
           "type": "quantitative"
          }
         },
         "height": 300,
         "mark": "point",
         "selection": {
          "selector001": {
           "encodings": [
            "x"
           ],
           "type": "interval"
          }
         },
         "transform": [
          {
           "filter": {
            "selection": "selector002"
           }
          }
         ],
         "width": 550
        },
        {
         "encoding": {
          "color": {
           "condition": {
            "field": "weather",
            "scale": {
             "domain": [
              "sun",
              "fog",
              "drizzle",
              "rain",
              "snow"
             ],
             "range": [
              "#e7ba52",
              "#a7a7a7",
              "#aec7e8",
              "#1f77b4",
              "#9467bd"
             ]
            },
            "selection": "selector002",
            "type": "nominal"
           },
           "value": "lightgray"
          },
          "x": {
           "aggregate": "count",
           "type": "quantitative"
          },
          "y": {
           "field": "weather",
           "type": "nominal"
          }
         },
         "mark": "bar",
         "selection": {
          "selector002": {
           "encodings": [
            "color"
           ],
           "type": "multi"
          }
         },
         "transform": [
          {
           "filter": {
            "selection": "selector001"
           }
          }
         ],
         "width": 550
        }
       ]
      },
      "text/plain": [
       "<VegaLite 4 object>\n",
       "\n",
       "If you see this message, it means the renderer has not been properly enabled\n",
       "for the frontend that you are using. For more information, see\n",
       "https://altair-viz.github.io/user_guide/troubleshooting.html\n"
      ]
     },
     "execution_count": 10,
     "metadata": {},
     "output_type": "execute_result"
    }
   ],
   "source": [
    "%%local\n",
    "# Bottom panel is a bar chart of weather type\n",
    "bars = alt.Chart().mark_bar().encode(\n",
    "    x='count()',\n",
    "    y='weather:N',\n",
    "    color=alt.condition(click, color, alt.value('lightgray')),\n",
    ").transform_filter(\n",
    "    brush\n",
    ").properties(\n",
    "    width=550,\n",
    ").add_selection(\n",
    "    click\n",
    ")\n",
    "\n",
    "alt.vconcat(\n",
    "    points,\n",
    "    bars,\n",
    "    data=source,\n",
    "    title=\"Seattle Weather: 2012-2015\"\n",
    ")"
   ]
  },
  {
   "cell_type": "code",
   "execution_count": null,
   "id": "unexpected-sunday",
   "metadata": {
    "papermill": {
     "duration": 0.067054,
     "end_time": "2021-03-08T03:56:21.764426",
     "exception": false,
     "start_time": "2021-03-08T03:56:21.697372",
     "status": "completed"
    },
    "tags": []
   },
   "outputs": [],
   "source": []
  },
  {
   "cell_type": "code",
   "execution_count": null,
   "id": "religious-drilling",
   "metadata": {
    "papermill": {
     "duration": 0.070061,
     "end_time": "2021-03-08T03:56:21.900160",
     "exception": false,
     "start_time": "2021-03-08T03:56:21.830099",
     "status": "completed"
    },
    "tags": []
   },
   "outputs": [],
   "source": []
  }
 ],
 "metadata": {
  "kernelspec": {
   "display_name": "Spark",
   "language": "",
   "name": "sparkkernel"
  },
  "language_info": {
   "codemirror_mode": "text/x-scala",
   "file_extension": ".sc",
   "mimetype": "text/x-scala",
   "name": "scala",
   "pygments_lexer": "scala"
  },
  "papermill": {
   "default_parameters": {},
   "duration": 2.913254,
   "end_time": "2021-03-08T03:56:22.277562",
   "environment_variables": {},
   "exception": null,
   "input_path": "spark-kernel-nb.ipynb",
   "output_path": "spark-kernel-nb-output.ipynb",
   "parameters": {
    "a": 2,
    "twice": 4
   },
   "start_time": "2021-03-08T03:56:19.364308",
   "version": "2.3.2"
  },
  "widgets": {
   "application/vnd.jupyter.widget-state+json": {
    "state": {
     "073d79fa4b6842afb87898341c61feae": {
      "model_module": "@jupyter-widgets/controls",
      "model_module_version": "1.5.0",
      "model_name": "BoxModel",
      "state": {
       "_dom_classes": [],
       "_model_module": "@jupyter-widgets/controls",
       "_model_module_version": "1.5.0",
       "_model_name": "BoxModel",
       "_view_count": null,
       "_view_module": "@jupyter-widgets/controls",
       "_view_module_version": "1.5.0",
       "_view_name": "BoxView",
       "box_style": "",
       "children": [
        "IPY_MODEL_1d4b5965700443638ee487b10f96875d",
        "IPY_MODEL_7601e90889ab47fab3f4cb5a2ab9e5a5"
       ],
       "layout": "IPY_MODEL_42ff8c08be634d1a835702df98e702ff"
      }
     },
     "161af45b18314b489ab2c7fd736e3189": {
      "model_module": "@jupyter-widgets/controls",
      "model_module_version": "1.5.0",
      "model_name": "HTMLModel",
      "state": {
       "_dom_classes": [],
       "_model_module": "@jupyter-widgets/controls",
       "_model_module_version": "1.5.0",
       "_model_name": "HTMLModel",
       "_view_count": null,
       "_view_module": "@jupyter-widgets/controls",
       "_view_module_version": "1.5.0",
       "_view_name": "HTMLView",
       "description": "",
       "description_tooltip": null,
       "layout": "IPY_MODEL_1cd26bdc9db14df9ab3ff93883eb7f35",
       "placeholder": "​",
       "style": "IPY_MODEL_885cd645e5d34dcb9abe28e00da156fe",
       "value": "<br/>"
      }
     },
     "182b0ede68e34687a8ad71f7f74d5a5f": {
      "model_module": "@jupyter-widgets/base",
      "model_module_version": "1.2.0",
      "model_name": "LayoutModel",
      "state": {
       "_model_module": "@jupyter-widgets/base",
       "_model_module_version": "1.2.0",
       "_model_name": "LayoutModel",
       "_view_count": null,
       "_view_module": "@jupyter-widgets/base",
       "_view_module_version": "1.2.0",
       "_view_name": "LayoutView",
       "align_content": null,
       "align_items": null,
       "align_self": null,
       "border": null,
       "bottom": null,
       "display": null,
       "flex": null,
       "flex_flow": null,
       "grid_area": null,
       "grid_auto_columns": null,
       "grid_auto_flow": null,
       "grid_auto_rows": null,
       "grid_column": null,
       "grid_gap": null,
       "grid_row": null,
       "grid_template_areas": null,
       "grid_template_columns": null,
       "grid_template_rows": null,
       "height": null,
       "justify_content": null,
       "justify_items": null,
       "left": null,
       "margin": null,
       "max_height": null,
       "max_width": null,
       "min_height": null,
       "min_width": null,
       "object_fit": null,
       "object_position": null,
       "order": null,
       "overflow": null,
       "overflow_x": null,
       "overflow_y": null,
       "padding": null,
       "right": null,
       "top": null,
       "visibility": null,
       "width": null
      }
     },
     "1cacb5a2ceed40e381ba15a59560da01": {
      "model_module": "@jupyter-widgets/controls",
      "model_module_version": "1.5.0",
      "model_name": "DescriptionStyleModel",
      "state": {
       "_model_module": "@jupyter-widgets/controls",
       "_model_module_version": "1.5.0",
       "_model_name": "DescriptionStyleModel",
       "_view_count": null,
       "_view_module": "@jupyter-widgets/base",
       "_view_module_version": "1.2.0",
       "_view_name": "StyleView",
       "description_width": ""
      }
     },
     "1cd26bdc9db14df9ab3ff93883eb7f35": {
      "model_module": "@jupyter-widgets/base",
      "model_module_version": "1.2.0",
      "model_name": "LayoutModel",
      "state": {
       "_model_module": "@jupyter-widgets/base",
       "_model_module_version": "1.2.0",
       "_model_name": "LayoutModel",
       "_view_count": null,
       "_view_module": "@jupyter-widgets/base",
       "_view_module_version": "1.2.0",
       "_view_name": "LayoutView",
       "align_content": null,
       "align_items": null,
       "align_self": null,
       "border": null,
       "bottom": null,
       "display": null,
       "flex": null,
       "flex_flow": null,
       "grid_area": null,
       "grid_auto_columns": null,
       "grid_auto_flow": null,
       "grid_auto_rows": null,
       "grid_column": null,
       "grid_gap": null,
       "grid_row": null,
       "grid_template_areas": null,
       "grid_template_columns": null,
       "grid_template_rows": null,
       "height": null,
       "justify_content": null,
       "justify_items": null,
       "left": null,
       "margin": null,
       "max_height": null,
       "max_width": null,
       "min_height": null,
       "min_width": null,
       "object_fit": null,
       "object_position": null,
       "order": null,
       "overflow": null,
       "overflow_x": null,
       "overflow_y": null,
       "padding": null,
       "right": null,
       "top": null,
       "visibility": null,
       "width": null
      }
     },
     "1d4b5965700443638ee487b10f96875d": {
      "model_module": "@jupyter-widgets/controls",
      "model_module_version": "1.5.0",
      "model_name": "HTMLModel",
      "state": {
       "_dom_classes": [],
       "_model_module": "@jupyter-widgets/controls",
       "_model_module_version": "1.5.0",
       "_model_name": "HTMLModel",
       "_view_count": null,
       "_view_module": "@jupyter-widgets/controls",
       "_view_module_version": "1.5.0",
       "_view_name": "HTMLView",
       "description": "",
       "description_tooltip": null,
       "layout": "IPY_MODEL_8747aff89968483a83bf328213c04bc7",
       "placeholder": "​",
       "style": "IPY_MODEL_86f5991c3abd4690b68c5d7b01b27a9f",
       "value": "<br/>"
      }
     },
     "20d4fb2362ae435998e91a4f28fe29ed": {
      "model_module": "@jupyter-widgets/base",
      "model_module_version": "1.2.0",
      "model_name": "LayoutModel",
      "state": {
       "_model_module": "@jupyter-widgets/base",
       "_model_module_version": "1.2.0",
       "_model_name": "LayoutModel",
       "_view_count": null,
       "_view_module": "@jupyter-widgets/base",
       "_view_module_version": "1.2.0",
       "_view_name": "LayoutView",
       "align_content": null,
       "align_items": null,
       "align_self": null,
       "border": null,
       "bottom": null,
       "display": null,
       "flex": null,
       "flex_flow": null,
       "grid_area": null,
       "grid_auto_columns": null,
       "grid_auto_flow": null,
       "grid_auto_rows": null,
       "grid_column": null,
       "grid_gap": null,
       "grid_row": null,
       "grid_template_areas": null,
       "grid_template_columns": null,
       "grid_template_rows": null,
       "height": null,
       "justify_content": null,
       "justify_items": null,
       "left": null,
       "margin": null,
       "max_height": null,
       "max_width": null,
       "min_height": null,
       "min_width": null,
       "object_fit": null,
       "object_position": null,
       "order": null,
       "overflow": null,
       "overflow_x": null,
       "overflow_y": null,
       "padding": null,
       "right": null,
       "top": null,
       "visibility": null,
       "width": null
      }
     },
     "22519ae49c7d4e1c9bdbb31131038be3": {
      "model_module": "@jupyter-widgets/base",
      "model_module_version": "1.2.0",
      "model_name": "LayoutModel",
      "state": {
       "_model_module": "@jupyter-widgets/base",
       "_model_module_version": "1.2.0",
       "_model_name": "LayoutModel",
       "_view_count": null,
       "_view_module": "@jupyter-widgets/base",
       "_view_module_version": "1.2.0",
       "_view_name": "LayoutView",
       "align_content": null,
       "align_items": null,
       "align_self": null,
       "border": null,
       "bottom": null,
       "display": null,
       "flex": null,
       "flex_flow": null,
       "grid_area": null,
       "grid_auto_columns": null,
       "grid_auto_flow": null,
       "grid_auto_rows": null,
       "grid_column": null,
       "grid_gap": null,
       "grid_row": null,
       "grid_template_areas": null,
       "grid_template_columns": null,
       "grid_template_rows": null,
       "height": null,
       "justify_content": null,
       "justify_items": null,
       "left": null,
       "margin": null,
       "max_height": null,
       "max_width": null,
       "min_height": null,
       "min_width": null,
       "object_fit": null,
       "object_position": null,
       "order": null,
       "overflow": null,
       "overflow_x": null,
       "overflow_y": null,
       "padding": null,
       "right": null,
       "top": null,
       "visibility": null,
       "width": null
      }
     },
     "23353df8af064b9e9e4a07fbde61bd51": {
      "model_module": "@jupyter-widgets/controls",
      "model_module_version": "1.5.0",
      "model_name": "DescriptionStyleModel",
      "state": {
       "_model_module": "@jupyter-widgets/controls",
       "_model_module_version": "1.5.0",
       "_model_name": "DescriptionStyleModel",
       "_view_count": null,
       "_view_module": "@jupyter-widgets/base",
       "_view_module_version": "1.2.0",
       "_view_name": "StyleView",
       "description_width": ""
      }
     },
     "2387ab7982da4093834a437dd631c11e": {
      "model_module": "@jupyter-widgets/base",
      "model_module_version": "1.2.0",
      "model_name": "LayoutModel",
      "state": {
       "_model_module": "@jupyter-widgets/base",
       "_model_module_version": "1.2.0",
       "_model_name": "LayoutModel",
       "_view_count": null,
       "_view_module": "@jupyter-widgets/base",
       "_view_module_version": "1.2.0",
       "_view_name": "LayoutView",
       "align_content": null,
       "align_items": null,
       "align_self": null,
       "border": null,
       "bottom": null,
       "display": null,
       "flex": null,
       "flex_flow": null,
       "grid_area": null,
       "grid_auto_columns": null,
       "grid_auto_flow": null,
       "grid_auto_rows": null,
       "grid_column": null,
       "grid_gap": null,
       "grid_row": null,
       "grid_template_areas": null,
       "grid_template_columns": null,
       "grid_template_rows": null,
       "height": null,
       "justify_content": null,
       "justify_items": null,
       "left": null,
       "margin": null,
       "max_height": null,
       "max_width": null,
       "min_height": null,
       "min_width": null,
       "object_fit": null,
       "object_position": null,
       "order": null,
       "overflow": null,
       "overflow_x": null,
       "overflow_y": null,
       "padding": null,
       "right": null,
       "top": null,
       "visibility": null,
       "width": null
      }
     },
     "2b58d78f1b4d4a2bbacfb84e8e42e2c7": {
      "model_module": "@jupyter-widgets/controls",
      "model_module_version": "1.5.0",
      "model_name": "DescriptionStyleModel",
      "state": {
       "_model_module": "@jupyter-widgets/controls",
       "_model_module_version": "1.5.0",
       "_model_name": "DescriptionStyleModel",
       "_view_count": null,
       "_view_module": "@jupyter-widgets/base",
       "_view_module_version": "1.2.0",
       "_view_name": "StyleView",
       "description_width": ""
      }
     },
     "2e9689ae22394d24b910faa19656e371": {
      "model_module": "@jupyter-widgets/base",
      "model_module_version": "1.2.0",
      "model_name": "LayoutModel",
      "state": {
       "_model_module": "@jupyter-widgets/base",
       "_model_module_version": "1.2.0",
       "_model_name": "LayoutModel",
       "_view_count": null,
       "_view_module": "@jupyter-widgets/base",
       "_view_module_version": "1.2.0",
       "_view_name": "LayoutView",
       "align_content": null,
       "align_items": null,
       "align_self": null,
       "border": null,
       "bottom": null,
       "display": null,
       "flex": null,
       "flex_flow": null,
       "grid_area": null,
       "grid_auto_columns": null,
       "grid_auto_flow": null,
       "grid_auto_rows": null,
       "grid_column": null,
       "grid_gap": null,
       "grid_row": null,
       "grid_template_areas": null,
       "grid_template_columns": null,
       "grid_template_rows": null,
       "height": null,
       "justify_content": null,
       "justify_items": null,
       "left": null,
       "margin": null,
       "max_height": null,
       "max_width": null,
       "min_height": null,
       "min_width": null,
       "object_fit": null,
       "object_position": null,
       "order": null,
       "overflow": null,
       "overflow_x": null,
       "overflow_y": null,
       "padding": null,
       "right": null,
       "top": null,
       "visibility": null,
       "width": null
      }
     },
     "2fe9a616b734425db00fd8368207471f": {
      "model_module": "@jupyter-widgets/base",
      "model_module_version": "1.2.0",
      "model_name": "LayoutModel",
      "state": {
       "_model_module": "@jupyter-widgets/base",
       "_model_module_version": "1.2.0",
       "_model_name": "LayoutModel",
       "_view_count": null,
       "_view_module": "@jupyter-widgets/base",
       "_view_module_version": "1.2.0",
       "_view_name": "LayoutView",
       "align_content": null,
       "align_items": null,
       "align_self": null,
       "border": null,
       "bottom": null,
       "display": null,
       "flex": null,
       "flex_flow": null,
       "grid_area": null,
       "grid_auto_columns": null,
       "grid_auto_flow": null,
       "grid_auto_rows": null,
       "grid_column": null,
       "grid_gap": null,
       "grid_row": null,
       "grid_template_areas": null,
       "grid_template_columns": null,
       "grid_template_rows": null,
       "height": null,
       "justify_content": null,
       "justify_items": null,
       "left": null,
       "margin": null,
       "max_height": null,
       "max_width": null,
       "min_height": null,
       "min_width": null,
       "object_fit": null,
       "object_position": null,
       "order": null,
       "overflow": null,
       "overflow_x": null,
       "overflow_y": null,
       "padding": null,
       "right": null,
       "top": null,
       "visibility": null,
       "width": null
      }
     },
     "3366aa9484bb417285c413e612889b32": {
      "model_module": "@jupyter-widgets/base",
      "model_module_version": "1.2.0",
      "model_name": "LayoutModel",
      "state": {
       "_model_module": "@jupyter-widgets/base",
       "_model_module_version": "1.2.0",
       "_model_name": "LayoutModel",
       "_view_count": null,
       "_view_module": "@jupyter-widgets/base",
       "_view_module_version": "1.2.0",
       "_view_name": "LayoutView",
       "align_content": null,
       "align_items": null,
       "align_self": null,
       "border": null,
       "bottom": null,
       "display": null,
       "flex": null,
       "flex_flow": null,
       "grid_area": null,
       "grid_auto_columns": null,
       "grid_auto_flow": null,
       "grid_auto_rows": null,
       "grid_column": null,
       "grid_gap": null,
       "grid_row": null,
       "grid_template_areas": null,
       "grid_template_columns": null,
       "grid_template_rows": null,
       "height": null,
       "justify_content": null,
       "justify_items": null,
       "left": null,
       "margin": null,
       "max_height": null,
       "max_width": null,
       "min_height": null,
       "min_width": null,
       "object_fit": null,
       "object_position": null,
       "order": null,
       "overflow": null,
       "overflow_x": null,
       "overflow_y": null,
       "padding": null,
       "right": null,
       "top": null,
       "visibility": null,
       "width": null
      }
     },
     "3790dac7c284401a9b0b8c6f5feacb48": {
      "model_module": "@jupyter-widgets/controls",
      "model_module_version": "1.5.0",
      "model_name": "HTMLModel",
      "state": {
       "_dom_classes": [],
       "_model_module": "@jupyter-widgets/controls",
       "_model_module_version": "1.5.0",
       "_model_name": "HTMLModel",
       "_view_count": null,
       "_view_module": "@jupyter-widgets/controls",
       "_view_module_version": "1.5.0",
       "_view_name": "HTMLView",
       "description": "",
       "description_tooltip": null,
       "layout": "IPY_MODEL_2387ab7982da4093834a437dd631c11e",
       "placeholder": "​",
       "style": "IPY_MODEL_1cacb5a2ceed40e381ba15a59560da01",
       "value": "<br/>"
      }
     },
     "3a8a301a3b1b4ee7857ad6ff4b53d6e1": {
      "model_module": "@jupyter-widgets/base",
      "model_module_version": "1.2.0",
      "model_name": "LayoutModel",
      "state": {
       "_model_module": "@jupyter-widgets/base",
       "_model_module_version": "1.2.0",
       "_model_name": "LayoutModel",
       "_view_count": null,
       "_view_module": "@jupyter-widgets/base",
       "_view_module_version": "1.2.0",
       "_view_name": "LayoutView",
       "align_content": null,
       "align_items": null,
       "align_self": null,
       "border": null,
       "bottom": null,
       "display": null,
       "flex": null,
       "flex_flow": null,
       "grid_area": null,
       "grid_auto_columns": null,
       "grid_auto_flow": null,
       "grid_auto_rows": null,
       "grid_column": null,
       "grid_gap": null,
       "grid_row": null,
       "grid_template_areas": null,
       "grid_template_columns": null,
       "grid_template_rows": null,
       "height": null,
       "justify_content": null,
       "justify_items": null,
       "left": null,
       "margin": null,
       "max_height": null,
       "max_width": null,
       "min_height": null,
       "min_width": null,
       "object_fit": null,
       "object_position": null,
       "order": null,
       "overflow": null,
       "overflow_x": null,
       "overflow_y": null,
       "padding": null,
       "right": null,
       "top": null,
       "visibility": null,
       "width": null
      }
     },
     "3b76f9a03c594ee6b63d2f570d2deed2": {
      "model_module": "@jupyter-widgets/base",
      "model_module_version": "1.2.0",
      "model_name": "LayoutModel",
      "state": {
       "_model_module": "@jupyter-widgets/base",
       "_model_module_version": "1.2.0",
       "_model_name": "LayoutModel",
       "_view_count": null,
       "_view_module": "@jupyter-widgets/base",
       "_view_module_version": "1.2.0",
       "_view_name": "LayoutView",
       "align_content": null,
       "align_items": null,
       "align_self": null,
       "border": null,
       "bottom": null,
       "display": null,
       "flex": null,
       "flex_flow": null,
       "grid_area": null,
       "grid_auto_columns": null,
       "grid_auto_flow": null,
       "grid_auto_rows": null,
       "grid_column": null,
       "grid_gap": null,
       "grid_row": null,
       "grid_template_areas": null,
       "grid_template_columns": null,
       "grid_template_rows": null,
       "height": null,
       "justify_content": null,
       "justify_items": null,
       "left": null,
       "margin": null,
       "max_height": null,
       "max_width": null,
       "min_height": null,
       "min_width": null,
       "object_fit": null,
       "object_position": null,
       "order": null,
       "overflow": null,
       "overflow_x": null,
       "overflow_y": null,
       "padding": null,
       "right": null,
       "top": null,
       "visibility": null,
       "width": null
      }
     },
     "3bded49a83c64b659bdfad5bbd49a4fc": {
      "model_module": "@jupyter-widgets/controls",
      "model_module_version": "1.5.0",
      "model_name": "DescriptionStyleModel",
      "state": {
       "_model_module": "@jupyter-widgets/controls",
       "_model_module_version": "1.5.0",
       "_model_name": "DescriptionStyleModel",
       "_view_count": null,
       "_view_module": "@jupyter-widgets/base",
       "_view_module_version": "1.2.0",
       "_view_name": "StyleView",
       "description_width": ""
      }
     },
     "3d667c5f6af74dea87256e1e40456a37": {
      "model_module": "@jupyter-widgets/controls",
      "model_module_version": "1.5.0",
      "model_name": "DescriptionStyleModel",
      "state": {
       "_model_module": "@jupyter-widgets/controls",
       "_model_module_version": "1.5.0",
       "_model_name": "DescriptionStyleModel",
       "_view_count": null,
       "_view_module": "@jupyter-widgets/base",
       "_view_module_version": "1.2.0",
       "_view_name": "StyleView",
       "description_width": ""
      }
     },
     "3f0c4783b7c24ddeb9e3260abe6bcfae": {
      "model_module": "@jupyter-widgets/controls",
      "model_module_version": "1.5.0",
      "model_name": "TextModel",
      "state": {
       "_dom_classes": [],
       "_model_module": "@jupyter-widgets/controls",
       "_model_module_version": "1.5.0",
       "_model_name": "TextModel",
       "_view_count": null,
       "_view_module": "@jupyter-widgets/controls",
       "_view_module_version": "1.5.0",
       "_view_name": "TextView",
       "continuous_update": true,
       "description": "Properties:",
       "description_tooltip": null,
       "disabled": false,
       "layout": "IPY_MODEL_fee05bbf978f4550bc070595272482f3",
       "placeholder": "​",
       "style": "IPY_MODEL_ea5662421bbd4b62bbec34315e919f01",
       "value": "{\"driverMemory\": \"1000M\", \"executorCores\": 1}"
      }
     },
     "42ff8c08be634d1a835702df98e702ff": {
      "model_module": "@jupyter-widgets/base",
      "model_module_version": "1.2.0",
      "model_name": "LayoutModel",
      "state": {
       "_model_module": "@jupyter-widgets/base",
       "_model_module_version": "1.2.0",
       "_model_name": "LayoutModel",
       "_view_count": null,
       "_view_module": "@jupyter-widgets/base",
       "_view_module_version": "1.2.0",
       "_view_name": "LayoutView",
       "align_content": null,
       "align_items": null,
       "align_self": null,
       "border": null,
       "bottom": null,
       "display": null,
       "flex": null,
       "flex_flow": null,
       "grid_area": null,
       "grid_auto_columns": null,
       "grid_auto_flow": null,
       "grid_auto_rows": null,
       "grid_column": null,
       "grid_gap": null,
       "grid_row": null,
       "grid_template_areas": null,
       "grid_template_columns": null,
       "grid_template_rows": null,
       "height": null,
       "justify_content": null,
       "justify_items": null,
       "left": null,
       "margin": null,
       "max_height": null,
       "max_width": null,
       "min_height": null,
       "min_width": null,
       "object_fit": null,
       "object_position": null,
       "order": null,
       "overflow": null,
       "overflow_x": null,
       "overflow_y": null,
       "padding": null,
       "right": null,
       "top": null,
       "visibility": null,
       "width": null
      }
     },
     "44308f46325245d289149e922ce1132e": {
      "model_module": "@jupyter-widgets/controls",
      "model_module_version": "1.5.0",
      "model_name": "DescriptionStyleModel",
      "state": {
       "_model_module": "@jupyter-widgets/controls",
       "_model_module_version": "1.5.0",
       "_model_name": "DescriptionStyleModel",
       "_view_count": null,
       "_view_module": "@jupyter-widgets/base",
       "_view_module_version": "1.2.0",
       "_view_name": "StyleView",
       "description_width": ""
      }
     },
     "45324ba8244f467c928492fe4933b451": {
      "model_module": "@jupyter-widgets/controls",
      "model_module_version": "1.5.0",
      "model_name": "TabModel",
      "state": {
       "_dom_classes": [],
       "_model_module": "@jupyter-widgets/controls",
       "_model_module_version": "1.5.0",
       "_model_name": "TabModel",
       "_titles": {
        "0": "Manage Sessions",
        "1": "Create Session",
        "2": "Add Endpoint",
        "3": "Manage Endpoints"
       },
       "_view_count": null,
       "_view_module": "@jupyter-widgets/controls",
       "_view_module_version": "1.5.0",
       "_view_name": "TabView",
       "box_style": "",
       "children": [
        "IPY_MODEL_073d79fa4b6842afb87898341c61feae",
        "IPY_MODEL_c30968a5b21647a7a6fb1812de1b254c",
        "IPY_MODEL_eac160dbd37f4818801a5f5d59abbe2a",
        "IPY_MODEL_e7fc13829ceb4b8dab52f9f02a9c725f"
       ],
       "layout": "IPY_MODEL_84498c45b4c14fad8cabda1b6e8d9a2a",
       "selected_index": 0
      }
     },
     "46b6bbc2d8cd4e4bac32f9f1009067c0": {
      "model_module": "@jupyter-widgets/controls",
      "model_module_version": "1.5.0",
      "model_name": "DescriptionStyleModel",
      "state": {
       "_model_module": "@jupyter-widgets/controls",
       "_model_module_version": "1.5.0",
       "_model_name": "DescriptionStyleModel",
       "_view_count": null,
       "_view_module": "@jupyter-widgets/base",
       "_view_module_version": "1.2.0",
       "_view_name": "StyleView",
       "description_width": ""
      }
     },
     "47e9b97184094ab2afc6ff02f187c68e": {
      "model_module": "@jupyter-widgets/controls",
      "model_module_version": "1.5.0",
      "model_name": "VBoxModel",
      "state": {
       "_dom_classes": [],
       "_model_module": "@jupyter-widgets/controls",
       "_model_module_version": "1.5.0",
       "_model_name": "VBoxModel",
       "_view_count": null,
       "_view_module": "@jupyter-widgets/controls",
       "_view_module_version": "1.5.0",
       "_view_name": "VBoxView",
       "box_style": "",
       "children": [],
       "layout": "IPY_MODEL_98edc2d977a8425ea13c34938c5f2d18"
      }
     },
     "47ef97396b5546bd9fcd0568b2780652": {
      "model_module": "@jupyter-widgets/base",
      "model_module_version": "1.2.0",
      "model_name": "LayoutModel",
      "state": {
       "_model_module": "@jupyter-widgets/base",
       "_model_module_version": "1.2.0",
       "_model_name": "LayoutModel",
       "_view_count": null,
       "_view_module": "@jupyter-widgets/base",
       "_view_module_version": "1.2.0",
       "_view_name": "LayoutView",
       "align_content": null,
       "align_items": null,
       "align_self": null,
       "border": null,
       "bottom": null,
       "display": "none",
       "flex": null,
       "flex_flow": null,
       "grid_area": null,
       "grid_auto_columns": null,
       "grid_auto_flow": null,
       "grid_auto_rows": null,
       "grid_column": null,
       "grid_gap": null,
       "grid_row": null,
       "grid_template_areas": null,
       "grid_template_columns": null,
       "grid_template_rows": null,
       "height": null,
       "justify_content": null,
       "justify_items": null,
       "left": null,
       "margin": null,
       "max_height": null,
       "max_width": null,
       "min_height": null,
       "min_width": null,
       "object_fit": null,
       "object_position": null,
       "order": null,
       "overflow": null,
       "overflow_x": null,
       "overflow_y": null,
       "padding": null,
       "right": null,
       "top": null,
       "visibility": null,
       "width": null
      }
     },
     "4df0e2ed6c42459e926d6f44b990e95d": {
      "model_module": "@jupyter-widgets/base",
      "model_module_version": "1.2.0",
      "model_name": "LayoutModel",
      "state": {
       "_model_module": "@jupyter-widgets/base",
       "_model_module_version": "1.2.0",
       "_model_name": "LayoutModel",
       "_view_count": null,
       "_view_module": "@jupyter-widgets/base",
       "_view_module_version": "1.2.0",
       "_view_name": "LayoutView",
       "align_content": null,
       "align_items": null,
       "align_self": null,
       "border": null,
       "bottom": null,
       "display": null,
       "flex": null,
       "flex_flow": null,
       "grid_area": null,
       "grid_auto_columns": null,
       "grid_auto_flow": null,
       "grid_auto_rows": null,
       "grid_column": null,
       "grid_gap": null,
       "grid_row": null,
       "grid_template_areas": null,
       "grid_template_columns": null,
       "grid_template_rows": null,
       "height": null,
       "justify_content": null,
       "justify_items": null,
       "left": null,
       "margin": null,
       "max_height": null,
       "max_width": null,
       "min_height": null,
       "min_width": null,
       "object_fit": null,
       "object_position": null,
       "order": null,
       "overflow": null,
       "overflow_x": null,
       "overflow_y": null,
       "padding": null,
       "right": null,
       "top": null,
       "visibility": null,
       "width": null
      }
     },
     "5583e92b7649438e917e78cdbf1da42a": {
      "model_module": "@jupyter-widgets/controls",
      "model_module_version": "1.5.0",
      "model_name": "TextModel",
      "state": {
       "_dom_classes": [],
       "_model_module": "@jupyter-widgets/controls",
       "_model_module_version": "1.5.0",
       "_model_name": "TextModel",
       "_view_count": null,
       "_view_module": "@jupyter-widgets/controls",
       "_view_module_version": "1.5.0",
       "_view_name": "TextView",
       "continuous_update": true,
       "description": "Address:",
       "description_tooltip": null,
       "disabled": false,
       "layout": "IPY_MODEL_9a3db3b2837046d6aa88505a2003ab09",
       "placeholder": "​",
       "style": "IPY_MODEL_590adf04d0fd410e8e9b7b35fe449e75",
       "value": "http://example.com/livy"
      }
     },
     "56ad0a59b3fa4863bb6aaa134928968a": {
      "model_module": "@jupyter-widgets/controls",
      "model_module_version": "1.5.0",
      "model_name": "BoxModel",
      "state": {
       "_dom_classes": [],
       "_model_module": "@jupyter-widgets/controls",
       "_model_module_version": "1.5.0",
       "_model_name": "BoxModel",
       "_view_count": null,
       "_view_module": "@jupyter-widgets/controls",
       "_view_module_version": "1.5.0",
       "_view_name": "BoxView",
       "box_style": "",
       "children": [
        "IPY_MODEL_45324ba8244f467c928492fe4933b451"
       ],
       "layout": "IPY_MODEL_c6dd240d21d34425bc9fbbc80faec2ef"
      }
     },
     "590adf04d0fd410e8e9b7b35fe449e75": {
      "model_module": "@jupyter-widgets/controls",
      "model_module_version": "1.5.0",
      "model_name": "DescriptionStyleModel",
      "state": {
       "_model_module": "@jupyter-widgets/controls",
       "_model_module_version": "1.5.0",
       "_model_name": "DescriptionStyleModel",
       "_view_count": null,
       "_view_module": "@jupyter-widgets/base",
       "_view_module_version": "1.2.0",
       "_view_name": "StyleView",
       "description_width": ""
      }
     },
     "59857b956cbc4a40aad23e91c35ac8ad": {
      "model_module": "@jupyter-widgets/controls",
      "model_module_version": "1.5.0",
      "model_name": "DescriptionStyleModel",
      "state": {
       "_model_module": "@jupyter-widgets/controls",
       "_model_module_version": "1.5.0",
       "_model_name": "DescriptionStyleModel",
       "_view_count": null,
       "_view_module": "@jupyter-widgets/base",
       "_view_module_version": "1.2.0",
       "_view_name": "StyleView",
       "description_width": ""
      }
     },
     "5b7ee3130b774333b7b46c392d8125c4": {
      "model_module": "@jupyter-widgets/controls",
      "model_module_version": "1.5.0",
      "model_name": "DropdownModel",
      "state": {
       "_dom_classes": [],
       "_model_module": "@jupyter-widgets/controls",
       "_model_module_version": "1.5.0",
       "_model_name": "DropdownModel",
       "_options_labels": [
        "Kerberos",
        "None",
        "Basic_Access"
       ],
       "_view_count": null,
       "_view_module": "@jupyter-widgets/controls",
       "_view_module_version": "1.5.0",
       "_view_name": "DropdownView",
       "description": "Auth type:",
       "description_tooltip": null,
       "disabled": false,
       "index": 0,
       "layout": "IPY_MODEL_b7ed0ca120304d76b6078e7c87f5a35d",
       "style": "IPY_MODEL_46b6bbc2d8cd4e4bac32f9f1009067c0"
      }
     },
     "6036d50f78c1403385f7576fd7e6d546": {
      "model_module": "@jupyter-widgets/controls",
      "model_module_version": "1.5.0",
      "model_name": "DescriptionStyleModel",
      "state": {
       "_model_module": "@jupyter-widgets/controls",
       "_model_module_version": "1.5.0",
       "_model_name": "DescriptionStyleModel",
       "_view_count": null,
       "_view_module": "@jupyter-widgets/base",
       "_view_module_version": "1.2.0",
       "_view_name": "StyleView",
       "description_width": ""
      }
     },
     "60a662847d8b403b89d3fdb72b885a06": {
      "model_module": "@jupyter-widgets/controls",
      "model_module_version": "1.5.0",
      "model_name": "TextModel",
      "state": {
       "_dom_classes": [],
       "_model_module": "@jupyter-widgets/controls",
       "_model_module_version": "1.5.0",
       "_model_name": "TextModel",
       "_view_count": null,
       "_view_module": "@jupyter-widgets/controls",
       "_view_module_version": "1.5.0",
       "_view_name": "TextView",
       "continuous_update": true,
       "description": "Username:",
       "description_tooltip": null,
       "disabled": false,
       "layout": "IPY_MODEL_986b028a8afb40fcaaf590576fd43910",
       "placeholder": "​",
       "style": "IPY_MODEL_44308f46325245d289149e922ce1132e",
       "value": "username"
      }
     },
     "62f15bf7f95f4fdfb610545079c45d97": {
      "model_module": "@jupyter-widgets/base",
      "model_module_version": "1.2.0",
      "model_name": "LayoutModel",
      "state": {
       "_model_module": "@jupyter-widgets/base",
       "_model_module_version": "1.2.0",
       "_model_name": "LayoutModel",
       "_view_count": null,
       "_view_module": "@jupyter-widgets/base",
       "_view_module_version": "1.2.0",
       "_view_name": "LayoutView",
       "align_content": null,
       "align_items": null,
       "align_self": null,
       "border": null,
       "bottom": null,
       "display": null,
       "flex": null,
       "flex_flow": null,
       "grid_area": null,
       "grid_auto_columns": null,
       "grid_auto_flow": null,
       "grid_auto_rows": null,
       "grid_column": null,
       "grid_gap": null,
       "grid_row": null,
       "grid_template_areas": null,
       "grid_template_columns": null,
       "grid_template_rows": null,
       "height": null,
       "justify_content": null,
       "justify_items": null,
       "left": null,
       "margin": null,
       "max_height": null,
       "max_width": null,
       "min_height": null,
       "min_width": null,
       "object_fit": null,
       "object_position": null,
       "order": null,
       "overflow": null,
       "overflow_x": null,
       "overflow_y": null,
       "padding": null,
       "right": null,
       "top": null,
       "visibility": null,
       "width": null
      }
     },
     "6406be612d6144059f5c11f43dc63ada": {
      "model_module": "@jupyter-widgets/controls",
      "model_module_version": "1.5.0",
      "model_name": "HTMLModel",
      "state": {
       "_dom_classes": [],
       "_model_module": "@jupyter-widgets/controls",
       "_model_module_version": "1.5.0",
       "_model_name": "HTMLModel",
       "_view_count": null,
       "_view_module": "@jupyter-widgets/controls",
       "_view_module_version": "1.5.0",
       "_view_name": "HTMLView",
       "description": "",
       "description_tooltip": null,
       "layout": "IPY_MODEL_3366aa9484bb417285c413e612889b32",
       "placeholder": "​",
       "style": "IPY_MODEL_2b58d78f1b4d4a2bbacfb84e8e42e2c7",
       "value": "<br/>"
      }
     },
     "6928dd04f55941cc81bdc65e7d0d22e9": {
      "model_module": "@jupyter-widgets/controls",
      "model_module_version": "1.5.0",
      "model_name": "HTMLModel",
      "state": {
       "_dom_classes": [],
       "_model_module": "@jupyter-widgets/controls",
       "_model_module_version": "1.5.0",
       "_model_name": "HTMLModel",
       "_view_count": null,
       "_view_module": "@jupyter-widgets/controls",
       "_view_module_version": "1.5.0",
       "_view_name": "HTMLView",
       "description": "",
       "description_tooltip": null,
       "layout": "IPY_MODEL_d24e7ff70b4d45e5955214ebd09cdddb",
       "placeholder": "​",
       "style": "IPY_MODEL_b77a34776e7a4e5fb3eee421aafff967",
       "value": "<br/>"
      }
     },
     "6aacfce79f04450e90e1befd8b20bf5a": {
      "model_module": "@jupyter-widgets/base",
      "model_module_version": "1.2.0",
      "model_name": "LayoutModel",
      "state": {
       "_model_module": "@jupyter-widgets/base",
       "_model_module_version": "1.2.0",
       "_model_name": "LayoutModel",
       "_view_count": null,
       "_view_module": "@jupyter-widgets/base",
       "_view_module_version": "1.2.0",
       "_view_name": "LayoutView",
       "align_content": null,
       "align_items": null,
       "align_self": null,
       "border": null,
       "bottom": null,
       "display": "none",
       "flex": null,
       "flex_flow": null,
       "grid_area": null,
       "grid_auto_columns": null,
       "grid_auto_flow": null,
       "grid_auto_rows": null,
       "grid_column": null,
       "grid_gap": null,
       "grid_row": null,
       "grid_template_areas": null,
       "grid_template_columns": null,
       "grid_template_rows": null,
       "height": null,
       "justify_content": null,
       "justify_items": null,
       "left": null,
       "margin": null,
       "max_height": null,
       "max_width": null,
       "min_height": null,
       "min_width": null,
       "object_fit": null,
       "object_position": null,
       "order": null,
       "overflow": null,
       "overflow_x": null,
       "overflow_y": null,
       "padding": null,
       "right": null,
       "top": null,
       "visibility": null,
       "width": null
      }
     },
     "7214c016e4874c1c90b5741f63916e02": {
      "model_module": "@jupyter-widgets/controls",
      "model_module_version": "1.5.0",
      "model_name": "HTMLModel",
      "state": {
       "_dom_classes": [],
       "_model_module": "@jupyter-widgets/controls",
       "_model_module_version": "1.5.0",
       "_model_name": "HTMLModel",
       "_view_count": null,
       "_view_module": "@jupyter-widgets/controls",
       "_view_module_version": "1.5.0",
       "_view_name": "HTMLView",
       "description": "",
       "description_tooltip": null,
       "layout": "IPY_MODEL_22519ae49c7d4e1c9bdbb31131038be3",
       "placeholder": "​",
       "style": "IPY_MODEL_6036d50f78c1403385f7576fd7e6d546",
       "value": "<br/>"
      }
     },
     "7256d71b6cb94637b766706c76a21d57": {
      "model_module": "@jupyter-widgets/controls",
      "model_module_version": "1.5.0",
      "model_name": "ToggleButtonsStyleModel",
      "state": {
       "_model_module": "@jupyter-widgets/controls",
       "_model_module_version": "1.5.0",
       "_model_name": "ToggleButtonsStyleModel",
       "_view_count": null,
       "_view_module": "@jupyter-widgets/base",
       "_view_module_version": "1.2.0",
       "_view_name": "StyleView",
       "button_width": "",
       "description_width": "",
       "font_weight": ""
      }
     },
     "7601e90889ab47fab3f4cb5a2ab9e5a5": {
      "model_module": "@jupyter-widgets/controls",
      "model_module_version": "1.5.0",
      "model_name": "HTMLModel",
      "state": {
       "_dom_classes": [],
       "_model_module": "@jupyter-widgets/controls",
       "_model_module_version": "1.5.0",
       "_model_name": "HTMLModel",
       "_view_count": null,
       "_view_module": "@jupyter-widgets/controls",
       "_view_module_version": "1.5.0",
       "_view_name": "HTMLView",
       "description": "",
       "description_tooltip": null,
       "layout": "IPY_MODEL_7ffac0c2277f4209a19d44aab8886d58",
       "placeholder": "​",
       "style": "IPY_MODEL_9cd1eb7adeab4dcd80ef25942022a055",
       "value": "No sessions yet."
      }
     },
     "7ffac0c2277f4209a19d44aab8886d58": {
      "model_module": "@jupyter-widgets/base",
      "model_module_version": "1.2.0",
      "model_name": "LayoutModel",
      "state": {
       "_model_module": "@jupyter-widgets/base",
       "_model_module_version": "1.2.0",
       "_model_name": "LayoutModel",
       "_view_count": null,
       "_view_module": "@jupyter-widgets/base",
       "_view_module_version": "1.2.0",
       "_view_name": "LayoutView",
       "align_content": null,
       "align_items": null,
       "align_self": null,
       "border": null,
       "bottom": null,
       "display": null,
       "flex": null,
       "flex_flow": null,
       "grid_area": null,
       "grid_auto_columns": null,
       "grid_auto_flow": null,
       "grid_auto_rows": null,
       "grid_column": null,
       "grid_gap": null,
       "grid_row": null,
       "grid_template_areas": null,
       "grid_template_columns": null,
       "grid_template_rows": null,
       "height": null,
       "justify_content": null,
       "justify_items": null,
       "left": null,
       "margin": null,
       "max_height": null,
       "max_width": null,
       "min_height": null,
       "min_width": null,
       "object_fit": null,
       "object_position": null,
       "order": null,
       "overflow": null,
       "overflow_x": null,
       "overflow_y": null,
       "padding": null,
       "right": null,
       "top": null,
       "visibility": null,
       "width": null
      }
     },
     "84498c45b4c14fad8cabda1b6e8d9a2a": {
      "model_module": "@jupyter-widgets/base",
      "model_module_version": "1.2.0",
      "model_name": "LayoutModel",
      "state": {
       "_model_module": "@jupyter-widgets/base",
       "_model_module_version": "1.2.0",
       "_model_name": "LayoutModel",
       "_view_count": null,
       "_view_module": "@jupyter-widgets/base",
       "_view_module_version": "1.2.0",
       "_view_name": "LayoutView",
       "align_content": null,
       "align_items": null,
       "align_self": null,
       "border": null,
       "bottom": null,
       "display": null,
       "flex": null,
       "flex_flow": null,
       "grid_area": null,
       "grid_auto_columns": null,
       "grid_auto_flow": null,
       "grid_auto_rows": null,
       "grid_column": null,
       "grid_gap": null,
       "grid_row": null,
       "grid_template_areas": null,
       "grid_template_columns": null,
       "grid_template_rows": null,
       "height": null,
       "justify_content": null,
       "justify_items": null,
       "left": null,
       "margin": null,
       "max_height": null,
       "max_width": null,
       "min_height": null,
       "min_width": null,
       "object_fit": null,
       "object_position": null,
       "order": null,
       "overflow": null,
       "overflow_x": null,
       "overflow_y": null,
       "padding": null,
       "right": null,
       "top": null,
       "visibility": null,
       "width": null
      }
     },
     "86f5991c3abd4690b68c5d7b01b27a9f": {
      "model_module": "@jupyter-widgets/controls",
      "model_module_version": "1.5.0",
      "model_name": "DescriptionStyleModel",
      "state": {
       "_model_module": "@jupyter-widgets/controls",
       "_model_module_version": "1.5.0",
       "_model_name": "DescriptionStyleModel",
       "_view_count": null,
       "_view_module": "@jupyter-widgets/base",
       "_view_module_version": "1.2.0",
       "_view_name": "StyleView",
       "description_width": ""
      }
     },
     "8747aff89968483a83bf328213c04bc7": {
      "model_module": "@jupyter-widgets/base",
      "model_module_version": "1.2.0",
      "model_name": "LayoutModel",
      "state": {
       "_model_module": "@jupyter-widgets/base",
       "_model_module_version": "1.2.0",
       "_model_name": "LayoutModel",
       "_view_count": null,
       "_view_module": "@jupyter-widgets/base",
       "_view_module_version": "1.2.0",
       "_view_name": "LayoutView",
       "align_content": null,
       "align_items": null,
       "align_self": null,
       "border": null,
       "bottom": null,
       "display": null,
       "flex": null,
       "flex_flow": null,
       "grid_area": null,
       "grid_auto_columns": null,
       "grid_auto_flow": null,
       "grid_auto_rows": null,
       "grid_column": null,
       "grid_gap": null,
       "grid_row": null,
       "grid_template_areas": null,
       "grid_template_columns": null,
       "grid_template_rows": null,
       "height": null,
       "justify_content": null,
       "justify_items": null,
       "left": null,
       "margin": null,
       "max_height": null,
       "max_width": null,
       "min_height": null,
       "min_width": null,
       "object_fit": null,
       "object_position": null,
       "order": null,
       "overflow": null,
       "overflow_x": null,
       "overflow_y": null,
       "padding": null,
       "right": null,
       "top": null,
       "visibility": null,
       "width": null
      }
     },
     "885cd645e5d34dcb9abe28e00da156fe": {
      "model_module": "@jupyter-widgets/controls",
      "model_module_version": "1.5.0",
      "model_name": "DescriptionStyleModel",
      "state": {
       "_model_module": "@jupyter-widgets/controls",
       "_model_module_version": "1.5.0",
       "_model_name": "DescriptionStyleModel",
       "_view_count": null,
       "_view_module": "@jupyter-widgets/base",
       "_view_module_version": "1.2.0",
       "_view_name": "StyleView",
       "description_width": ""
      }
     },
     "8cfc234552b943f2931bc113e2dfbf65": {
      "model_module": "@jupyter-widgets/controls",
      "model_module_version": "1.5.0",
      "model_name": "DropdownModel",
      "state": {
       "_dom_classes": [],
       "_model_module": "@jupyter-widgets/controls",
       "_model_module_version": "1.5.0",
       "_model_name": "DropdownModel",
       "_options_labels": [
        "http://localhost:8990"
       ],
       "_view_count": null,
       "_view_module": "@jupyter-widgets/controls",
       "_view_module_version": "1.5.0",
       "_view_name": "DropdownView",
       "description": "Endpoint:",
       "description_tooltip": null,
       "disabled": false,
       "index": 0,
       "layout": "IPY_MODEL_fa561940a4f246a8a0d1b6bea8844ad0",
       "style": "IPY_MODEL_db5c69ee82624fb2b79a1a900d5a17cf"
      }
     },
     "8e8887f26e5d4812ab89cb9d7ce94d66": {
      "model_module": "@jupyter-widgets/controls",
      "model_module_version": "1.5.0",
      "model_name": "ButtonModel",
      "state": {
       "_dom_classes": [],
       "_model_module": "@jupyter-widgets/controls",
       "_model_module_version": "1.5.0",
       "_model_name": "ButtonModel",
       "_view_count": null,
       "_view_module": "@jupyter-widgets/controls",
       "_view_module_version": "1.5.0",
       "_view_name": "ButtonView",
       "button_style": "",
       "description": "Create Session",
       "disabled": false,
       "icon": "",
       "layout": "IPY_MODEL_3b76f9a03c594ee6b63d2f570d2deed2",
       "style": "IPY_MODEL_a291b043cadf4296a0d9f2b44359bbc7",
       "tooltip": ""
      }
     },
     "93224d46b16a498fb787d87ef1699a19": {
      "model_module": "@jupyter-widgets/controls",
      "model_module_version": "1.5.0",
      "model_name": "DescriptionStyleModel",
      "state": {
       "_model_module": "@jupyter-widgets/controls",
       "_model_module_version": "1.5.0",
       "_model_name": "DescriptionStyleModel",
       "_view_count": null,
       "_view_module": "@jupyter-widgets/base",
       "_view_module_version": "1.2.0",
       "_view_name": "StyleView",
       "description_width": ""
      }
     },
     "93e6b5daad3342f08151b643ec5fbc1f": {
      "model_module": "@jupyter-widgets/controls",
      "model_module_version": "1.5.0",
      "model_name": "TextModel",
      "state": {
       "_dom_classes": [],
       "_model_module": "@jupyter-widgets/controls",
       "_model_module_version": "1.5.0",
       "_model_name": "TextModel",
       "_view_count": null,
       "_view_module": "@jupyter-widgets/controls",
       "_view_module_version": "1.5.0",
       "_view_name": "TextView",
       "continuous_update": true,
       "description": "Address:",
       "description_tooltip": null,
       "disabled": false,
       "layout": "IPY_MODEL_dafb77a262b54012b9a1f706dde2165d",
       "placeholder": "​",
       "style": "IPY_MODEL_59857b956cbc4a40aad23e91c35ac8ad",
       "value": "http://example.com/livy"
      }
     },
     "97cb9e356ee140de8d6adfcdb87d4991": {
      "model_module": "@jupyter-widgets/controls",
      "model_module_version": "1.5.0",
      "model_name": "HTMLModel",
      "state": {
       "_dom_classes": [],
       "_model_module": "@jupyter-widgets/controls",
       "_model_module_version": "1.5.0",
       "_model_name": "HTMLModel",
       "_view_count": null,
       "_view_module": "@jupyter-widgets/controls",
       "_view_module_version": "1.5.0",
       "_view_name": "HTMLView",
       "description": "",
       "description_tooltip": null,
       "layout": "IPY_MODEL_fe36ffe203c148448a0beb7456086775",
       "placeholder": "​",
       "style": "IPY_MODEL_23353df8af064b9e9e4a07fbde61bd51",
       "value": "<hr/>"
      }
     },
     "986b028a8afb40fcaaf590576fd43910": {
      "model_module": "@jupyter-widgets/base",
      "model_module_version": "1.2.0",
      "model_name": "LayoutModel",
      "state": {
       "_model_module": "@jupyter-widgets/base",
       "_model_module_version": "1.2.0",
       "_model_name": "LayoutModel",
       "_view_count": null,
       "_view_module": "@jupyter-widgets/base",
       "_view_module_version": "1.2.0",
       "_view_name": "LayoutView",
       "align_content": null,
       "align_items": null,
       "align_self": null,
       "border": null,
       "bottom": null,
       "display": "none",
       "flex": null,
       "flex_flow": null,
       "grid_area": null,
       "grid_auto_columns": null,
       "grid_auto_flow": null,
       "grid_auto_rows": null,
       "grid_column": null,
       "grid_gap": null,
       "grid_row": null,
       "grid_template_areas": null,
       "grid_template_columns": null,
       "grid_template_rows": null,
       "height": null,
       "justify_content": null,
       "justify_items": null,
       "left": null,
       "margin": null,
       "max_height": null,
       "max_width": null,
       "min_height": null,
       "min_width": null,
       "object_fit": null,
       "object_position": null,
       "order": null,
       "overflow": null,
       "overflow_x": null,
       "overflow_y": null,
       "padding": null,
       "right": null,
       "top": null,
       "visibility": null,
       "width": null
      }
     },
     "98edc2d977a8425ea13c34938c5f2d18": {
      "model_module": "@jupyter-widgets/base",
      "model_module_version": "1.2.0",
      "model_name": "LayoutModel",
      "state": {
       "_model_module": "@jupyter-widgets/base",
       "_model_module_version": "1.2.0",
       "_model_name": "LayoutModel",
       "_view_count": null,
       "_view_module": "@jupyter-widgets/base",
       "_view_module_version": "1.2.0",
       "_view_name": "LayoutView",
       "align_content": null,
       "align_items": null,
       "align_self": null,
       "border": null,
       "bottom": null,
       "display": null,
       "flex": null,
       "flex_flow": null,
       "grid_area": null,
       "grid_auto_columns": null,
       "grid_auto_flow": null,
       "grid_auto_rows": null,
       "grid_column": null,
       "grid_gap": null,
       "grid_row": null,
       "grid_template_areas": null,
       "grid_template_columns": null,
       "grid_template_rows": null,
       "height": null,
       "justify_content": null,
       "justify_items": null,
       "left": null,
       "margin": null,
       "max_height": null,
       "max_width": null,
       "min_height": null,
       "min_width": null,
       "object_fit": null,
       "object_position": null,
       "order": null,
       "overflow": null,
       "overflow_x": null,
       "overflow_y": null,
       "padding": null,
       "right": null,
       "top": null,
       "visibility": null,
       "width": null
      }
     },
     "9a3db3b2837046d6aa88505a2003ab09": {
      "model_module": "@jupyter-widgets/base",
      "model_module_version": "1.2.0",
      "model_name": "LayoutModel",
      "state": {
       "_model_module": "@jupyter-widgets/base",
       "_model_module_version": "1.2.0",
       "_model_name": "LayoutModel",
       "_view_count": null,
       "_view_module": "@jupyter-widgets/base",
       "_view_module_version": "1.2.0",
       "_view_name": "LayoutView",
       "align_content": null,
       "align_items": null,
       "align_self": null,
       "border": null,
       "bottom": null,
       "display": "none",
       "flex": null,
       "flex_flow": null,
       "grid_area": null,
       "grid_auto_columns": null,
       "grid_auto_flow": null,
       "grid_auto_rows": null,
       "grid_column": null,
       "grid_gap": null,
       "grid_row": null,
       "grid_template_areas": null,
       "grid_template_columns": null,
       "grid_template_rows": null,
       "height": null,
       "justify_content": null,
       "justify_items": null,
       "left": null,
       "margin": null,
       "max_height": null,
       "max_width": null,
       "min_height": null,
       "min_width": null,
       "object_fit": null,
       "object_position": null,
       "order": null,
       "overflow": null,
       "overflow_x": null,
       "overflow_y": null,
       "padding": null,
       "right": null,
       "top": null,
       "visibility": null,
       "width": null
      }
     },
     "9cd1eb7adeab4dcd80ef25942022a055": {
      "model_module": "@jupyter-widgets/controls",
      "model_module_version": "1.5.0",
      "model_name": "DescriptionStyleModel",
      "state": {
       "_model_module": "@jupyter-widgets/controls",
       "_model_module_version": "1.5.0",
       "_model_name": "DescriptionStyleModel",
       "_view_count": null,
       "_view_module": "@jupyter-widgets/base",
       "_view_module_version": "1.2.0",
       "_view_name": "StyleView",
       "description_width": ""
      }
     },
     "a245bfa0864441ac9bbb10b6d3556509": {
      "model_module": "@jupyter-widgets/controls",
      "model_module_version": "1.5.0",
      "model_name": "HTMLModel",
      "state": {
       "_dom_classes": [],
       "_model_module": "@jupyter-widgets/controls",
       "_model_module_version": "1.5.0",
       "_model_name": "HTMLModel",
       "_view_count": null,
       "_view_module": "@jupyter-widgets/controls",
       "_view_module_version": "1.5.0",
       "_view_name": "HTMLView",
       "description": "",
       "description_tooltip": null,
       "layout": "IPY_MODEL_2fe9a616b734425db00fd8368207471f",
       "placeholder": "​",
       "style": "IPY_MODEL_3bded49a83c64b659bdfad5bbd49a4fc",
       "value": "<br/>"
      }
     },
     "a291b043cadf4296a0d9f2b44359bbc7": {
      "model_module": "@jupyter-widgets/controls",
      "model_module_version": "1.5.0",
      "model_name": "ButtonStyleModel",
      "state": {
       "_model_module": "@jupyter-widgets/controls",
       "_model_module_version": "1.5.0",
       "_model_name": "ButtonStyleModel",
       "_view_count": null,
       "_view_module": "@jupyter-widgets/base",
       "_view_module_version": "1.2.0",
       "_view_name": "StyleView",
       "button_color": null,
       "font_weight": ""
      }
     },
     "b77a34776e7a4e5fb3eee421aafff967": {
      "model_module": "@jupyter-widgets/controls",
      "model_module_version": "1.5.0",
      "model_name": "DescriptionStyleModel",
      "state": {
       "_model_module": "@jupyter-widgets/controls",
       "_model_module_version": "1.5.0",
       "_model_name": "DescriptionStyleModel",
       "_view_count": null,
       "_view_module": "@jupyter-widgets/base",
       "_view_module_version": "1.2.0",
       "_view_name": "StyleView",
       "description_width": ""
      }
     },
     "b7ed0ca120304d76b6078e7c87f5a35d": {
      "model_module": "@jupyter-widgets/base",
      "model_module_version": "1.2.0",
      "model_name": "LayoutModel",
      "state": {
       "_model_module": "@jupyter-widgets/base",
       "_model_module_version": "1.2.0",
       "_model_name": "LayoutModel",
       "_view_count": null,
       "_view_module": "@jupyter-widgets/base",
       "_view_module_version": "1.2.0",
       "_view_name": "LayoutView",
       "align_content": null,
       "align_items": null,
       "align_self": null,
       "border": null,
       "bottom": null,
       "display": null,
       "flex": null,
       "flex_flow": null,
       "grid_area": null,
       "grid_auto_columns": null,
       "grid_auto_flow": null,
       "grid_auto_rows": null,
       "grid_column": null,
       "grid_gap": null,
       "grid_row": null,
       "grid_template_areas": null,
       "grid_template_columns": null,
       "grid_template_rows": null,
       "height": null,
       "justify_content": null,
       "justify_items": null,
       "left": null,
       "margin": null,
       "max_height": null,
       "max_width": null,
       "min_height": null,
       "min_width": null,
       "object_fit": null,
       "object_position": null,
       "order": null,
       "overflow": null,
       "overflow_x": null,
       "overflow_y": null,
       "padding": null,
       "right": null,
       "top": null,
       "visibility": null,
       "width": null
      }
     },
     "c0e124813a3c49a680a7413085e23380": {
      "model_module": "@jupyter-widgets/controls",
      "model_module_version": "1.5.0",
      "model_name": "DescriptionStyleModel",
      "state": {
       "_model_module": "@jupyter-widgets/controls",
       "_model_module_version": "1.5.0",
       "_model_name": "DescriptionStyleModel",
       "_view_count": null,
       "_view_module": "@jupyter-widgets/base",
       "_view_module_version": "1.2.0",
       "_view_name": "StyleView",
       "description_width": ""
      }
     },
     "c30968a5b21647a7a6fb1812de1b254c": {
      "model_module": "@jupyter-widgets/controls",
      "model_module_version": "1.5.0",
      "model_name": "BoxModel",
      "state": {
       "_dom_classes": [],
       "_model_module": "@jupyter-widgets/controls",
       "_model_module_version": "1.5.0",
       "_model_name": "BoxModel",
       "_view_count": null,
       "_view_module": "@jupyter-widgets/controls",
       "_view_module_version": "1.5.0",
       "_view_name": "BoxView",
       "box_style": "",
       "children": [
        "IPY_MODEL_a245bfa0864441ac9bbb10b6d3556509",
        "IPY_MODEL_8cfc234552b943f2931bc113e2dfbf65",
        "IPY_MODEL_eab933c4bc4b4d40b4f469c99120e166",
        "IPY_MODEL_f09a706f47f344fa8ad28d544c4c53b2",
        "IPY_MODEL_3f0c4783b7c24ddeb9e3260abe6bcfae",
        "IPY_MODEL_6406be612d6144059f5c11f43dc63ada",
        "IPY_MODEL_8e8887f26e5d4812ab89cb9d7ce94d66"
       ],
       "layout": "IPY_MODEL_62f15bf7f95f4fdfb610545079c45d97"
      }
     },
     "c6dd240d21d34425bc9fbbc80faec2ef": {
      "model_module": "@jupyter-widgets/base",
      "model_module_version": "1.2.0",
      "model_name": "LayoutModel",
      "state": {
       "_model_module": "@jupyter-widgets/base",
       "_model_module_version": "1.2.0",
       "_model_name": "LayoutModel",
       "_view_count": null,
       "_view_module": "@jupyter-widgets/base",
       "_view_module_version": "1.2.0",
       "_view_name": "LayoutView",
       "align_content": null,
       "align_items": null,
       "align_self": null,
       "border": null,
       "bottom": null,
       "display": null,
       "flex": null,
       "flex_flow": null,
       "grid_area": null,
       "grid_auto_columns": null,
       "grid_auto_flow": null,
       "grid_auto_rows": null,
       "grid_column": null,
       "grid_gap": null,
       "grid_row": null,
       "grid_template_areas": null,
       "grid_template_columns": null,
       "grid_template_rows": null,
       "height": null,
       "justify_content": null,
       "justify_items": null,
       "left": null,
       "margin": null,
       "max_height": null,
       "max_width": null,
       "min_height": null,
       "min_width": null,
       "object_fit": null,
       "object_position": null,
       "order": null,
       "overflow": null,
       "overflow_x": null,
       "overflow_y": null,
       "padding": null,
       "right": null,
       "top": null,
       "visibility": null,
       "width": null
      }
     },
     "c766ea36132e4c389fc10181e15f0675": {
      "model_module": "@jupyter-widgets/base",
      "model_module_version": "1.2.0",
      "model_name": "LayoutModel",
      "state": {
       "_model_module": "@jupyter-widgets/base",
       "_model_module_version": "1.2.0",
       "_model_name": "LayoutModel",
       "_view_count": null,
       "_view_module": "@jupyter-widgets/base",
       "_view_module_version": "1.2.0",
       "_view_name": "LayoutView",
       "align_content": null,
       "align_items": null,
       "align_self": null,
       "border": null,
       "bottom": null,
       "display": null,
       "flex": null,
       "flex_flow": null,
       "grid_area": null,
       "grid_auto_columns": null,
       "grid_auto_flow": null,
       "grid_auto_rows": null,
       "grid_column": null,
       "grid_gap": null,
       "grid_row": null,
       "grid_template_areas": null,
       "grid_template_columns": null,
       "grid_template_rows": null,
       "height": null,
       "justify_content": null,
       "justify_items": null,
       "left": null,
       "margin": null,
       "max_height": null,
       "max_width": null,
       "min_height": null,
       "min_width": null,
       "object_fit": null,
       "object_position": null,
       "order": null,
       "overflow": null,
       "overflow_x": null,
       "overflow_y": null,
       "padding": null,
       "right": null,
       "top": null,
       "visibility": null,
       "width": null
      }
     },
     "c86b1eb00a3b4d049baaa49edc3a0c18": {
      "model_module": "@jupyter-widgets/controls",
      "model_module_version": "1.5.0",
      "model_name": "TextModel",
      "state": {
       "_dom_classes": [],
       "_model_module": "@jupyter-widgets/controls",
       "_model_module_version": "1.5.0",
       "_model_name": "TextModel",
       "_view_count": null,
       "_view_module": "@jupyter-widgets/controls",
       "_view_module_version": "1.5.0",
       "_view_name": "TextView",
       "continuous_update": true,
       "description": "Address:",
       "description_tooltip": null,
       "disabled": false,
       "layout": "IPY_MODEL_6aacfce79f04450e90e1befd8b20bf5a",
       "placeholder": "​",
       "style": "IPY_MODEL_3d667c5f6af74dea87256e1e40456a37",
       "value": "http://example.com/livy"
      }
     },
     "cbba68b063c3429698f159688e6b1547": {
      "model_module": "@jupyter-widgets/base",
      "model_module_version": "1.2.0",
      "model_name": "LayoutModel",
      "state": {
       "_model_module": "@jupyter-widgets/base",
       "_model_module_version": "1.2.0",
       "_model_name": "LayoutModel",
       "_view_count": null,
       "_view_module": "@jupyter-widgets/base",
       "_view_module_version": "1.2.0",
       "_view_name": "LayoutView",
       "align_content": null,
       "align_items": null,
       "align_self": null,
       "border": null,
       "bottom": null,
       "display": null,
       "flex": null,
       "flex_flow": null,
       "grid_area": null,
       "grid_auto_columns": null,
       "grid_auto_flow": null,
       "grid_auto_rows": null,
       "grid_column": null,
       "grid_gap": null,
       "grid_row": null,
       "grid_template_areas": null,
       "grid_template_columns": null,
       "grid_template_rows": null,
       "height": null,
       "justify_content": null,
       "justify_items": null,
       "left": null,
       "margin": null,
       "max_height": null,
       "max_width": null,
       "min_height": null,
       "min_width": null,
       "object_fit": null,
       "object_position": null,
       "order": null,
       "overflow": null,
       "overflow_x": null,
       "overflow_y": null,
       "padding": null,
       "right": null,
       "top": null,
       "visibility": null,
       "width": null
      }
     },
     "cd0f74cdd52446978cba45d38099f325": {
      "model_module": "@jupyter-widgets/controls",
      "model_module_version": "1.5.0",
      "model_name": "HTMLModel",
      "state": {
       "_dom_classes": [],
       "_model_module": "@jupyter-widgets/controls",
       "_model_module_version": "1.5.0",
       "_model_name": "HTMLModel",
       "_view_count": null,
       "_view_module": "@jupyter-widgets/controls",
       "_view_module_version": "1.5.0",
       "_view_name": "HTMLView",
       "description": "",
       "description_tooltip": null,
       "layout": "IPY_MODEL_c766ea36132e4c389fc10181e15f0675",
       "placeholder": "​",
       "style": "IPY_MODEL_e8442fa39a23436c97fdedfdb48edc82",
       "value": "Endpoint"
      }
     },
     "d07feedbde7042b8bfd1069f1afe7c0c": {
      "model_module": "@jupyter-widgets/controls",
      "model_module_version": "1.5.0",
      "model_name": "ButtonStyleModel",
      "state": {
       "_model_module": "@jupyter-widgets/controls",
       "_model_module_version": "1.5.0",
       "_model_name": "ButtonStyleModel",
       "_view_count": null,
       "_view_module": "@jupyter-widgets/base",
       "_view_module_version": "1.2.0",
       "_view_name": "StyleView",
       "button_color": null,
       "font_weight": ""
      }
     },
     "d24e7ff70b4d45e5955214ebd09cdddb": {
      "model_module": "@jupyter-widgets/base",
      "model_module_version": "1.2.0",
      "model_name": "LayoutModel",
      "state": {
       "_model_module": "@jupyter-widgets/base",
       "_model_module_version": "1.2.0",
       "_model_name": "LayoutModel",
       "_view_count": null,
       "_view_module": "@jupyter-widgets/base",
       "_view_module_version": "1.2.0",
       "_view_name": "LayoutView",
       "align_content": null,
       "align_items": null,
       "align_self": null,
       "border": null,
       "bottom": null,
       "display": null,
       "flex": null,
       "flex_flow": null,
       "grid_area": null,
       "grid_auto_columns": null,
       "grid_auto_flow": null,
       "grid_auto_rows": null,
       "grid_column": null,
       "grid_gap": null,
       "grid_row": null,
       "grid_template_areas": null,
       "grid_template_columns": null,
       "grid_template_rows": null,
       "height": null,
       "justify_content": null,
       "justify_items": null,
       "left": null,
       "margin": null,
       "max_height": null,
       "max_width": null,
       "min_height": null,
       "min_width": null,
       "object_fit": null,
       "object_position": null,
       "order": null,
       "overflow": null,
       "overflow_x": null,
       "overflow_y": null,
       "padding": null,
       "right": null,
       "top": null,
       "visibility": null,
       "width": null
      }
     },
     "d4c53540294448b4b516c3ad1e6b1e73": {
      "model_module": "@jupyter-widgets/controls",
      "model_module_version": "1.5.0",
      "model_name": "ButtonModel",
      "state": {
       "_dom_classes": [],
       "_model_module": "@jupyter-widgets/controls",
       "_model_module_version": "1.5.0",
       "_model_name": "ButtonModel",
       "_view_count": null,
       "_view_module": "@jupyter-widgets/controls",
       "_view_module_version": "1.5.0",
       "_view_name": "ButtonView",
       "button_style": "",
       "description": "Add endpoint",
       "disabled": false,
       "icon": "",
       "layout": "IPY_MODEL_3a8a301a3b1b4ee7857ad6ff4b53d6e1",
       "style": "IPY_MODEL_d07feedbde7042b8bfd1069f1afe7c0c",
       "tooltip": ""
      }
     },
     "dafb77a262b54012b9a1f706dde2165d": {
      "model_module": "@jupyter-widgets/base",
      "model_module_version": "1.2.0",
      "model_name": "LayoutModel",
      "state": {
       "_model_module": "@jupyter-widgets/base",
       "_model_module_version": "1.2.0",
       "_model_name": "LayoutModel",
       "_view_count": null,
       "_view_module": "@jupyter-widgets/base",
       "_view_module_version": "1.2.0",
       "_view_name": "LayoutView",
       "align_content": null,
       "align_items": null,
       "align_self": null,
       "border": null,
       "bottom": null,
       "display": "flex",
       "flex": null,
       "flex_flow": null,
       "grid_area": null,
       "grid_auto_columns": null,
       "grid_auto_flow": null,
       "grid_auto_rows": null,
       "grid_column": null,
       "grid_gap": null,
       "grid_row": null,
       "grid_template_areas": null,
       "grid_template_columns": null,
       "grid_template_rows": null,
       "height": null,
       "justify_content": null,
       "justify_items": null,
       "left": null,
       "margin": null,
       "max_height": null,
       "max_width": null,
       "min_height": null,
       "min_width": null,
       "object_fit": null,
       "object_position": null,
       "order": null,
       "overflow": null,
       "overflow_x": null,
       "overflow_y": null,
       "padding": null,
       "right": null,
       "top": null,
       "visibility": null,
       "width": null
      }
     },
     "db5c69ee82624fb2b79a1a900d5a17cf": {
      "model_module": "@jupyter-widgets/controls",
      "model_module_version": "1.5.0",
      "model_name": "DescriptionStyleModel",
      "state": {
       "_model_module": "@jupyter-widgets/controls",
       "_model_module_version": "1.5.0",
       "_model_name": "DescriptionStyleModel",
       "_view_count": null,
       "_view_module": "@jupyter-widgets/base",
       "_view_module_version": "1.2.0",
       "_view_name": "StyleView",
       "description_width": ""
      }
     },
     "e7fc13829ceb4b8dab52f9f02a9c725f": {
      "model_module": "@jupyter-widgets/controls",
      "model_module_version": "1.5.0",
      "model_name": "BoxModel",
      "state": {
       "_dom_classes": [],
       "_model_module": "@jupyter-widgets/controls",
       "_model_module_version": "1.5.0",
       "_model_name": "BoxModel",
       "_view_count": null,
       "_view_module": "@jupyter-widgets/controls",
       "_view_module_version": "1.5.0",
       "_view_name": "BoxView",
       "box_style": "",
       "children": [
        "IPY_MODEL_161af45b18314b489ab2c7fd736e3189",
        "IPY_MODEL_cd0f74cdd52446978cba45d38099f325",
        "IPY_MODEL_3790dac7c284401a9b0b8c6f5feacb48"
       ],
       "layout": "IPY_MODEL_182b0ede68e34687a8ad71f7f74d5a5f"
      }
     },
     "e8442fa39a23436c97fdedfdb48edc82": {
      "model_module": "@jupyter-widgets/controls",
      "model_module_version": "1.5.0",
      "model_name": "DescriptionStyleModel",
      "state": {
       "_model_module": "@jupyter-widgets/controls",
       "_model_module_version": "1.5.0",
       "_model_name": "DescriptionStyleModel",
       "_view_count": null,
       "_view_module": "@jupyter-widgets/base",
       "_view_module_version": "1.2.0",
       "_view_name": "StyleView",
       "description_width": ""
      }
     },
     "ea5662421bbd4b62bbec34315e919f01": {
      "model_module": "@jupyter-widgets/controls",
      "model_module_version": "1.5.0",
      "model_name": "DescriptionStyleModel",
      "state": {
       "_model_module": "@jupyter-widgets/controls",
       "_model_module_version": "1.5.0",
       "_model_name": "DescriptionStyleModel",
       "_view_count": null,
       "_view_module": "@jupyter-widgets/base",
       "_view_module_version": "1.2.0",
       "_view_name": "StyleView",
       "description_width": ""
      }
     },
     "eab933c4bc4b4d40b4f469c99120e166": {
      "model_module": "@jupyter-widgets/controls",
      "model_module_version": "1.5.0",
      "model_name": "TextModel",
      "state": {
       "_dom_classes": [],
       "_model_module": "@jupyter-widgets/controls",
       "_model_module_version": "1.5.0",
       "_model_name": "TextModel",
       "_view_count": null,
       "_view_module": "@jupyter-widgets/controls",
       "_view_module_version": "1.5.0",
       "_view_name": "TextView",
       "continuous_update": true,
       "description": "Name:",
       "description_tooltip": null,
       "disabled": false,
       "layout": "IPY_MODEL_4df0e2ed6c42459e926d6f44b990e95d",
       "placeholder": "​",
       "style": "IPY_MODEL_93224d46b16a498fb787d87ef1699a19",
       "value": "session-name"
      }
     },
     "eac160dbd37f4818801a5f5d59abbe2a": {
      "model_module": "@jupyter-widgets/controls",
      "model_module_version": "1.5.0",
      "model_name": "BoxModel",
      "state": {
       "_dom_classes": [],
       "_model_module": "@jupyter-widgets/controls",
       "_model_module_version": "1.5.0",
       "_model_name": "BoxModel",
       "_view_count": null,
       "_view_module": "@jupyter-widgets/controls",
       "_view_module_version": "1.5.0",
       "_view_name": "BoxView",
       "box_style": "",
       "children": [
        "IPY_MODEL_6928dd04f55941cc81bdc65e7d0d22e9",
        "IPY_MODEL_5b7ee3130b774333b7b46c392d8125c4",
        "IPY_MODEL_93e6b5daad3342f08151b643ec5fbc1f",
        "IPY_MODEL_c86b1eb00a3b4d049baaa49edc3a0c18",
        "IPY_MODEL_5583e92b7649438e917e78cdbf1da42a",
        "IPY_MODEL_60a662847d8b403b89d3fdb72b885a06",
        "IPY_MODEL_fd8db7fd0a2041458d0032a76209d28c",
        "IPY_MODEL_7214c016e4874c1c90b5741f63916e02",
        "IPY_MODEL_d4c53540294448b4b516c3ad1e6b1e73"
       ],
       "layout": "IPY_MODEL_20d4fb2362ae435998e91a4f28fe29ed"
      }
     },
     "f09a706f47f344fa8ad28d544c4c53b2": {
      "model_module": "@jupyter-widgets/controls",
      "model_module_version": "1.5.0",
      "model_name": "ToggleButtonsModel",
      "state": {
       "_dom_classes": [],
       "_model_module": "@jupyter-widgets/controls",
       "_model_module_version": "1.5.0",
       "_model_name": "ToggleButtonsModel",
       "_options_labels": [
        "scala",
        "python"
       ],
       "_view_count": null,
       "_view_module": "@jupyter-widgets/controls",
       "_view_module_version": "1.5.0",
       "_view_name": "ToggleButtonsView",
       "button_style": "",
       "description": "Language:",
       "description_tooltip": null,
       "disabled": false,
       "icons": [],
       "index": 0,
       "layout": "IPY_MODEL_cbba68b063c3429698f159688e6b1547",
       "style": "IPY_MODEL_7256d71b6cb94637b766706c76a21d57",
       "tooltips": []
      }
     },
     "fa561940a4f246a8a0d1b6bea8844ad0": {
      "model_module": "@jupyter-widgets/base",
      "model_module_version": "1.2.0",
      "model_name": "LayoutModel",
      "state": {
       "_model_module": "@jupyter-widgets/base",
       "_model_module_version": "1.2.0",
       "_model_name": "LayoutModel",
       "_view_count": null,
       "_view_module": "@jupyter-widgets/base",
       "_view_module_version": "1.2.0",
       "_view_name": "LayoutView",
       "align_content": null,
       "align_items": null,
       "align_self": null,
       "border": null,
       "bottom": null,
       "display": null,
       "flex": null,
       "flex_flow": null,
       "grid_area": null,
       "grid_auto_columns": null,
       "grid_auto_flow": null,
       "grid_auto_rows": null,
       "grid_column": null,
       "grid_gap": null,
       "grid_row": null,
       "grid_template_areas": null,
       "grid_template_columns": null,
       "grid_template_rows": null,
       "height": null,
       "justify_content": null,
       "justify_items": null,
       "left": null,
       "margin": null,
       "max_height": null,
       "max_width": null,
       "min_height": null,
       "min_width": null,
       "object_fit": null,
       "object_position": null,
       "order": null,
       "overflow": null,
       "overflow_x": null,
       "overflow_y": null,
       "padding": null,
       "right": null,
       "top": null,
       "visibility": null,
       "width": null
      }
     },
     "fb333e9760944c109a6518c9e6dabdb0": {
      "model_module": "@jupyter-widgets/controls",
      "model_module_version": "1.5.0",
      "model_name": "HBoxModel",
      "state": {
       "_dom_classes": [],
       "_model_module": "@jupyter-widgets/controls",
       "_model_module_version": "1.5.0",
       "_model_name": "HBoxModel",
       "_view_count": null,
       "_view_module": "@jupyter-widgets/controls",
       "_view_module_version": "1.5.0",
       "_view_name": "HBoxView",
       "box_style": "",
       "children": [],
       "layout": "IPY_MODEL_2e9689ae22394d24b910faa19656e371"
      }
     },
     "fd8db7fd0a2041458d0032a76209d28c": {
      "model_module": "@jupyter-widgets/controls",
      "model_module_version": "1.5.0",
      "model_name": "TextModel",
      "state": {
       "_dom_classes": [],
       "_model_module": "@jupyter-widgets/controls",
       "_model_module_version": "1.5.0",
       "_model_name": "TextModel",
       "_view_count": null,
       "_view_module": "@jupyter-widgets/controls",
       "_view_module_version": "1.5.0",
       "_view_name": "TextView",
       "continuous_update": true,
       "description": "Password:",
       "description_tooltip": null,
       "disabled": false,
       "layout": "IPY_MODEL_47ef97396b5546bd9fcd0568b2780652",
       "placeholder": "​",
       "style": "IPY_MODEL_c0e124813a3c49a680a7413085e23380",
       "value": "password"
      }
     },
     "fe36ffe203c148448a0beb7456086775": {
      "model_module": "@jupyter-widgets/base",
      "model_module_version": "1.2.0",
      "model_name": "LayoutModel",
      "state": {
       "_model_module": "@jupyter-widgets/base",
       "_model_module_version": "1.2.0",
       "_model_name": "LayoutModel",
       "_view_count": null,
       "_view_module": "@jupyter-widgets/base",
       "_view_module_version": "1.2.0",
       "_view_name": "LayoutView",
       "align_content": null,
       "align_items": null,
       "align_self": null,
       "border": null,
       "bottom": null,
       "display": null,
       "flex": null,
       "flex_flow": null,
       "grid_area": null,
       "grid_auto_columns": null,
       "grid_auto_flow": null,
       "grid_auto_rows": null,
       "grid_column": null,
       "grid_gap": null,
       "grid_row": null,
       "grid_template_areas": null,
       "grid_template_columns": null,
       "grid_template_rows": null,
       "height": null,
       "justify_content": null,
       "justify_items": null,
       "left": null,
       "margin": null,
       "max_height": null,
       "max_width": null,
       "min_height": null,
       "min_width": null,
       "object_fit": null,
       "object_position": null,
       "order": null,
       "overflow": null,
       "overflow_x": null,
       "overflow_y": null,
       "padding": null,
       "right": null,
       "top": null,
       "visibility": null,
       "width": null
      }
     },
     "fee05bbf978f4550bc070595272482f3": {
      "model_module": "@jupyter-widgets/base",
      "model_module_version": "1.2.0",
      "model_name": "LayoutModel",
      "state": {
       "_model_module": "@jupyter-widgets/base",
       "_model_module_version": "1.2.0",
       "_model_name": "LayoutModel",
       "_view_count": null,
       "_view_module": "@jupyter-widgets/base",
       "_view_module_version": "1.2.0",
       "_view_name": "LayoutView",
       "align_content": null,
       "align_items": null,
       "align_self": null,
       "border": null,
       "bottom": null,
       "display": null,
       "flex": null,
       "flex_flow": null,
       "grid_area": null,
       "grid_auto_columns": null,
       "grid_auto_flow": null,
       "grid_auto_rows": null,
       "grid_column": null,
       "grid_gap": null,
       "grid_row": null,
       "grid_template_areas": null,
       "grid_template_columns": null,
       "grid_template_rows": null,
       "height": null,
       "justify_content": null,
       "justify_items": null,
       "left": null,
       "margin": null,
       "max_height": null,
       "max_width": null,
       "min_height": null,
       "min_width": null,
       "object_fit": null,
       "object_position": null,
       "order": null,
       "overflow": null,
       "overflow_x": null,
       "overflow_y": null,
       "padding": null,
       "right": null,
       "top": null,
       "visibility": null,
       "width": null
      }
     }
    },
    "version_major": 2,
    "version_minor": 0
   }
  }
 },
 "nbformat": 4,
 "nbformat_minor": 5
}